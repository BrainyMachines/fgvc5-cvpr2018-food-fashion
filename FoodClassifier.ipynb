{
 "cells": [
  {
   "cell_type": "markdown",
   "metadata": {
    "colab_type": "text",
    "id": "4OGEu9nITbnO"
   },
   "source": [
    "# Install Torch"
   ]
  },
  {
   "cell_type": "code",
   "execution_count": 1,
   "metadata": {
    "colab": {
     "autoexec": {
      "startup": false,
      "wait_interval": 0
     }
    },
    "colab_type": "code",
    "id": "uX687hj69g9g"
   },
   "outputs": [],
   "source": [
    "torchver = \"0.4.0\""
   ]
  },
  {
   "cell_type": "code",
   "execution_count": 2,
   "metadata": {
    "colab": {
     "autoexec": {
      "startup": false,
      "wait_interval": 0
     },
     "base_uri": "https://localhost:8080/",
     "height": 306
    },
    "colab_type": "code",
    "executionInfo": {
     "elapsed": 1967,
     "status": "ok",
     "timestamp": 1527015382182,
     "user": {
      "displayName": "Sourabh Daptardar",
      "photoUrl": "//lh4.googleusercontent.com/-onn5Q0_MiKQ/AAAAAAAAAAI/AAAAAAAACDI/iOxkSEz16nA/s50-c-k-no/photo.jpg",
      "userId": "115812262388010820083"
     },
     "user_tz": -330
    },
    "id": "_gX52NUpzIYC",
    "outputId": "311649d4-8385-4c39-b984-1846818c2388",
    "scrolled": true
   },
   "outputs": [
    {
     "name": "stdout",
     "output_type": "stream",
     "text": [
      "/bin/sh: 1: /opt/bin/nvidia-smi: not found\n",
      "Wed Jun 13 04:13:58 2018       \n",
      "+-----------------------------------------------------------------------------+\n",
      "| NVIDIA-SMI 396.26                 Driver Version: 396.26                    |\n",
      "|-------------------------------+----------------------+----------------------+\n",
      "| GPU  Name        Persistence-M| Bus-Id        Disp.A | Volatile Uncorr. ECC |\n",
      "| Fan  Temp  Perf  Pwr:Usage/Cap|         Memory-Usage | GPU-Util  Compute M. |\n",
      "|===============================+======================+======================|\n",
      "|   0  Tesla V100-SXM2...  Off  | 00000000:00:04.0 Off |                    0 |\n",
      "| N/A   32C    P0    37W / 300W |     80MiB / 16160MiB |      0%      Default |\n",
      "+-------------------------------+----------------------+----------------------+\n",
      "|   1  Tesla V100-SXM2...  Off  | 00000000:00:05.0 Off |                    0 |\n",
      "| N/A   34C    P0    37W / 300W |      0MiB / 16160MiB |      0%      Default |\n",
      "+-------------------------------+----------------------+----------------------+\n",
      "|   2  Tesla V100-SXM2...  Off  | 00000000:00:06.0 Off |                    0 |\n",
      "| N/A   35C    P0    36W / 300W |      0MiB / 16160MiB |      0%      Default |\n",
      "+-------------------------------+----------------------+----------------------+\n",
      "|   3  Tesla V100-SXM2...  Off  | 00000000:00:07.0 Off |                    0 |\n",
      "| N/A   34C    P0    37W / 300W |      0MiB / 16160MiB |      0%      Default |\n",
      "+-------------------------------+----------------------+----------------------+\n",
      "|   4  Tesla V100-SXM2...  Off  | 00000000:00:08.0 Off |                    0 |\n",
      "| N/A   34C    P0    36W / 300W |      0MiB / 16160MiB |      0%      Default |\n",
      "+-------------------------------+----------------------+----------------------+\n",
      "|   5  Tesla V100-SXM2...  Off  | 00000000:00:09.0 Off |                    0 |\n",
      "| N/A   34C    P0    37W / 300W |      0MiB / 16160MiB |      0%      Default |\n",
      "+-------------------------------+----------------------+----------------------+\n",
      "|   6  Tesla V100-SXM2...  Off  | 00000000:00:0A.0 Off |                    0 |\n",
      "| N/A   34C    P0    36W / 300W |      0MiB / 16160MiB |      0%      Default |\n",
      "+-------------------------------+----------------------+----------------------+\n",
      "|   7  Tesla V100-SXM2...  Off  | 00000000:00:0B.0 Off |                    0 |\n",
      "| N/A   35C    P0    38W / 300W |      0MiB / 16160MiB |      0%      Default |\n",
      "+-------------------------------+----------------------+----------------------+\n",
      "                                                                               \n",
      "+-----------------------------------------------------------------------------+\n",
      "| Processes:                                                       GPU Memory |\n",
      "|  GPU       PID   Type   Process name                             Usage      |\n",
      "|=============================================================================|\n",
      "|    0      1710      G   /usr/lib/xorg/Xorg                            80MiB |\n",
      "+-----------------------------------------------------------------------------+\n"
     ]
    }
   ],
   "source": [
    "!/opt/bin/nvidia-smi || /usr/bin/nvidia-smi"
   ]
  },
  {
   "cell_type": "code",
   "execution_count": 3,
   "metadata": {
    "colab": {
     "autoexec": {
      "startup": false,
      "wait_interval": 0
     },
     "base_uri": "https://localhost:8080/",
     "height": 34
    },
    "colab_type": "code",
    "executionInfo": {
     "elapsed": 2121,
     "status": "ok",
     "timestamp": 1527015386438,
     "user": {
      "displayName": "Sourabh Daptardar",
      "photoUrl": "//lh4.googleusercontent.com/-onn5Q0_MiKQ/AAAAAAAAAAI/AAAAAAAACDI/iOxkSEz16nA/s50-c-k-no/photo.jpg",
      "userId": "115812262388010820083"
     },
     "user_tz": -330
    },
    "id": "G4WvjiCDzWPR",
    "outputId": "708f088a-9f78-4a08-9811-145b8874105b"
   },
   "outputs": [
    {
     "name": "stdout",
     "output_type": "stream",
     "text": [
      "Python 3.6.5 :: Anaconda, Inc.\r\n"
     ]
    }
   ],
   "source": [
    "!python --version"
   ]
  },
  {
   "cell_type": "code",
   "execution_count": 4,
   "metadata": {
    "colab": {
     "autoexec": {
      "startup": false,
      "wait_interval": 0
     },
     "base_uri": "https://localhost:8080/",
     "height": 187
    },
    "colab_type": "code",
    "executionInfo": {
     "elapsed": 5041,
     "status": "ok",
     "timestamp": 1527015392777,
     "user": {
      "displayName": "Sourabh Daptardar",
      "photoUrl": "//lh4.googleusercontent.com/-onn5Q0_MiKQ/AAAAAAAAAAI/AAAAAAAACDI/iOxkSEz16nA/s50-c-k-no/photo.jpg",
      "userId": "115812262388010820083"
     },
     "user_tz": -330
    },
    "id": "z85P4eDZNSdu",
    "outputId": "26542569-3f96-4bc5-de5b-3d8c51c98f75"
   },
   "outputs": [
    {
     "name": "stdout",
     "output_type": "stream",
     "text": [
      "\u001b[33mSkipping pillow as it is not installed.\u001b[0m\n",
      "Collecting pillow-simd\n",
      "\u001b[31mtorchvision 0.2.1 requires pillow>=4.1.1, which is not installed.\u001b[0m\n",
      "Installing collected packages: pillow-simd\n",
      "  Found existing installation: Pillow-SIMD 5.1.1.post0\n",
      "    Uninstalling Pillow-SIMD-5.1.1.post0:\n",
      "      Successfully uninstalled Pillow-SIMD-5.1.1.post0\n",
      "Successfully installed pillow-simd-5.1.1.post0\n"
     ]
    }
   ],
   "source": [
    "!pip3 uninstall -y pillow\n",
    "!CC=\"cc -mavx2\" pip3 install -U --force-reinstall pillow-simd\n"
   ]
  },
  {
   "cell_type": "code",
   "execution_count": 5,
   "metadata": {
    "colab": {
     "autoexec": {
      "startup": false,
      "wait_interval": 0
     },
     "base_uri": "https://localhost:8080/",
     "height": 272
    },
    "colab_type": "code",
    "executionInfo": {
     "elapsed": 6145,
     "status": "ok",
     "timestamp": 1527015402414,
     "user": {
      "displayName": "Sourabh Daptardar",
      "photoUrl": "//lh4.googleusercontent.com/-onn5Q0_MiKQ/AAAAAAAAAAI/AAAAAAAACDI/iOxkSEz16nA/s50-c-k-no/photo.jpg",
      "userId": "115812262388010820083"
     },
     "user_tz": -330
    },
    "id": "TAP3KzaO_3mr",
    "outputId": "d48fd867-01ff-479d-a37e-82c0ac00ce44"
   },
   "outputs": [
    {
     "name": "stdout",
     "output_type": "stream",
     "text": [
      "36\n",
      "PIL\n"
     ]
    }
   ],
   "source": [
    "\n",
    "from os import path\n",
    "from wheel.pep425tags import get_abbr_impl, get_impl_ver, get_abi_tag\n",
    "platform = '{}{}-{}'.format(get_abbr_impl(), get_impl_ver(), get_abi_tag())\n",
    "\n",
    "pver = !python --version |& awk '{print $2 }' | awk -F. '{ print $1$2}'\n",
    "pyver = pver[0]\n",
    "print(pyver)\n",
    "\n",
    "# cver = !echo \"cu`nvcc --version | sed \"s/ /\\n/g\" | grep -i release -A 1 | tail -n 1 | tr -d [\\.,]`\"\n",
    "# cudaver = cver[0]\n",
    "cudaver = 'cu91'\n",
    "\n",
    "# accelerator =  cudaver if path.exists('/opt/bin/nvidia-smi') or path.exists('/usr/bin/nvidia-smi') else 'cpu'\n",
    "# print(accelerator)\n",
    "\n",
    "# torchurl = \"http://download.pytorch.org/whl/{0}/torch-{1}-cp{2}-cp{2}m-linux_x86_64.whl\".format(accelerator, torchver, pyver)\n",
    "# print(torchurl)\n",
    "\n",
    "# !pip3 install http://download.pytorch.org/whl/cu91/torch-0.4.0-cp36-cp36m-linux_x86_64.whl \n",
    "# !pip3 install torchvision\n",
    "\n",
    "import torch\n",
    "import torchvision\n",
    "print(torchvision.get_image_backend())"
   ]
  },
  {
   "cell_type": "markdown",
   "metadata": {
    "colab_type": "text",
    "id": "GZt8MRT5RfK6"
   },
   "source": [
    "# Imports"
   ]
  },
  {
   "cell_type": "code",
   "execution_count": 6,
   "metadata": {
    "colab": {
     "autoexec": {
      "startup": false,
      "wait_interval": 0
     }
    },
    "colab_type": "code",
    "id": "ZptSyG9oSN1c"
   },
   "outputs": [
    {
     "name": "stdout",
     "output_type": "stream",
     "text": [
      "(1024, 1048576)\n",
      "(1024, 1048576)\n"
     ]
    }
   ],
   "source": [
    "import resource\n",
    "rlimit = resource.getrlimit(resource.RLIMIT_NOFILE)\n",
    "print(rlimit)\n",
    "resource.setrlimit(resource.RLIMIT_NOFILE, (1048576, rlimit[1]))\n",
    "print(rlimit)\n",
    "import numpy as np\n",
    "import os\n",
    "import sys\n",
    "import logging\n",
    "import io\n",
    "import time\n",
    "import shutil\n",
    "from tqdm import tqdm\n",
    "from matplotlib.pyplot import imshow\n",
    "import numpy as np\n",
    "import torch\n",
    "import torch.multiprocessing as multiprocessing\n",
    "import torch.nn as nn\n",
    "import torch.nn.parallel\n",
    "import torch.backends.cudnn as cudnn\n",
    "import torch.distributed as dist\n",
    "import torch.optim as optim\n",
    "import torch.optim.lr_scheduler as lr_scheduler\n",
    "import torch.utils.data\n",
    "import torch.utils.data.distributed\n",
    "import torchvision.transforms as transforms\n",
    "import torchvision.datasets as datasets\n",
    "import torchvision.models as models\n",
    "from argparse import Namespace\n",
    "from collections import OrderedDict\n",
    "from scipy.sparse import coo_matrix\n",
    "import socket\n",
    "from datetime import datetime\n",
    "import json\n",
    "import re\n",
    "import hashlib\n",
    "import subprocess\n",
    "from copy import deepcopy, copy\n",
    "from pprint import pprint\n",
    "import torch.utils.data as data\n",
    "from copy import copy\n",
    "import json\n",
    "from collections import namedtuple\n",
    "from PIL import Image \n",
    "from torchvision import get_image_backend\n",
    "from torch.utils.data.distributed import DistributedSampler\n",
    "import torch.nn.init as weight_init\n",
    "import csv\n",
    "import PIL\n",
    "import ipdb"
   ]
  },
  {
   "cell_type": "code",
   "execution_count": 7,
   "metadata": {
    "colab": {
     "autoexec": {
      "startup": false,
      "wait_interval": 0
     }
    },
    "colab_type": "code",
    "id": "IEEo0VYsZhvO"
   },
   "outputs": [],
   "source": [
    "%matplotlib inline"
   ]
  },
  {
   "cell_type": "markdown",
   "metadata": {
    "colab_type": "text",
    "id": "N1BQLwQTWcKU"
   },
   "source": [
    "# Parameters"
   ]
  },
  {
   "cell_type": "code",
   "execution_count": 8,
   "metadata": {},
   "outputs": [],
   "source": [
    "def get_hostname_timestamp_id():\n",
    "    return socket.gethostname() + '_' + re.sub(r'\\W+', '', str(datetime.now()))"
   ]
  },
  {
   "cell_type": "code",
   "execution_count": 9,
   "metadata": {},
   "outputs": [],
   "source": [
    "def get_output_fname():\n",
    "    return \"%s_%s_%s\" % (args.author, args.arch, get_hostname_timestamp_id())"
   ]
  },
  {
   "cell_type": "code",
   "execution_count": 10,
   "metadata": {
    "colab": {
     "autoexec": {
      "startup": false,
      "wait_interval": 0
     }
    },
    "colab_type": "code",
    "id": "eM2a7qmqWh3Q"
   },
   "outputs": [],
   "source": [
    "args = Namespace()\n",
    "args.perm_dir = '/mnt/disks/imaterialist_fashion'\n",
    "args.base_dir = '/mnt/ram-disk/imaterialist_fashion'\n",
    "args.data_dir = args.base_dir + os.sep + 'data_ifood'\n",
    "args.input_dir = args.data_dir + os.sep + 'input'\n",
    "args.output_dir = args.data_dir + os.sep + 'output'\n",
    "args.train_dir = args.input_dir + os.sep + 'train_set'\n",
    "args.val_dir = args.input_dir + os.sep + 'val_set'\n",
    "args.test_dir = args.input_dir + os.sep + 'test_set'\n",
    "args.train_labels_csv = args.input_dir + os.sep + 'train_info.csv'\n",
    "# args.train_labels_csv = args.input_dir + os.sep + 'train_small_info.csv' \n",
    "# args.train_labels_csv = args.input_dir + os.sep + 'train_tiny_info.csv' \n",
    "args.val_labels_csv = args.input_dir + os.sep + 'val_info.csv'\n",
    "args.test_labels_csv = args.input_dir + os.sep + 'test_info.csv'\n",
    "args.debug_weights = False\n",
    "args.test_overfit = False\n",
    "args.num_labels = 211\n",
    "# args.batch_size = 16\n",
    "# args.batch_size = 64\n",
    "args.batch_size = 512\n",
    "args.image_min_size = 256\n",
    "args.nw_input_size = 224\n",
    "args.num_workers = 32\n",
    "args.imagenet_mean = [0.485, 0.456, 0.406]\n",
    "args.imagenet_std = [0.229, 0.224, 0.225]\n",
    "args.pretrain_dset_mean = args.imagenet_mean\n",
    "args.pretrain_dset_std = args.imagenet_std\n",
    "args.world_size = 1\n",
    "args.dist_url = 'file://' + args.output_dir + os.sep + 'dfile'\n",
    "args.dist_backend = 'gloo'\n",
    "args.distributed = args.world_size > 1\n",
    "# args.arch = 'resnet101'\n",
    "args.arch = 'resnet152'\n",
    "args.fv_size = 2048\n",
    "args.pretrained = True\n",
    "args.resume = False\n",
    "args.start_epoch = 0\n",
    "args.small=1e-12                         # small value used for avoiding div by zero\n",
    "# args.optimizer_learning_rate = 1e-4      # Adam optimizer initial learning rate\n",
    "args.optimizer_learning_rate = 1e-3      # Adam optimizer initial learning rate\n",
    "args.scheduler_patience = 1              # Number of epochs with no improvement after which learning rate will be reduced\n",
    "args.scheduler_threshold = 1e-6          # learning rate scheduler threshold for measuring the new optimum, to only focus on significant changes\n",
    "args.scheduler_factor = 0.1        # learning rate scheduler factor by which the learning rate will be reduced. new_lr = lr * factor\n",
    "args.earlystopping_patience = 1          # early stopping patience is the number of epochs with no improvement after which training will be stopped\n",
    "args.earlystopping_min_delta = 1e-5      # minimum change in the monitored quantity to qualify as an improvement, i.e. an absolute change of less than min_delta, will count as no improvement\n",
    "args.evaluate = False\n",
    "args.epochs = 50\n",
    "args.print_details = False\n",
    "args.print_freq = args.batch_size\n",
    "args.ckpt_dir = args.output_dir + os.sep + 'ckpt'\n",
    "args.ckpt = args.ckpt_dir + os.sep + 'ckpt_%s.pth.tar' % (args.arch,)\n",
    "args.best = args.ckpt_dir + os.sep + 'best_%s.pth.tar' % (args.arch,)\n",
    "args.num_output_labels = 3\n",
    "args.sub_dir = args.output_dir + os.sep + 'submissions'\n",
    "args.author = 'deccanlearners'\n",
    "args.output_id = get_output_fname()\n",
    "args.output_file = args.sub_dir + os.sep + 'output_%s.csv' %  args.output_id\n",
    "args.params_file = args.sub_dir + os.sep + 'params_%s.json' % args.output_id\n",
    "args.min_img_bytes = 4792"
   ]
  },
  {
   "cell_type": "code",
   "execution_count": 11,
   "metadata": {
    "colab": {
     "autoexec": {
      "startup": false,
      "wait_interval": 0
     },
     "base_uri": "https://localhost:8080/",
     "height": 928
    },
    "colab_type": "code",
    "executionInfo": {
     "elapsed": 1332,
     "status": "error",
     "timestamp": 1527015425722,
     "user": {
      "displayName": "Sourabh Daptardar",
      "photoUrl": "//lh4.googleusercontent.com/-onn5Q0_MiKQ/AAAAAAAAAAI/AAAAAAAACDI/iOxkSEz16nA/s50-c-k-no/photo.jpg",
      "userId": "115812262388010820083"
     },
     "user_tz": -330
    },
    "id": "90hY9m66UYPd",
    "outputId": "de44a4f5-386e-4243-b3bb-2da97134ce99"
   },
   "outputs": [
    {
     "name": "stdout",
     "output_type": "stream",
     "text": [
      "7102\n",
      "True\n",
      "Tesla V100-SXM2-16GB\n",
      "{'file_descriptor', 'file_system'}\n",
      "file_descriptor\n",
      "file_system\n"
     ]
    }
   ],
   "source": [
    "print(torch.backends.cudnn.version())\n",
    "print(torch.cuda.is_available())\n",
    "print(torch.cuda.get_device_name(0))\n",
    "print(torch.multiprocessing.get_all_sharing_strategies())\n",
    "print(torch.multiprocessing.get_sharing_strategy())\n",
    "torch.multiprocessing.set_sharing_strategy('file_system')\n",
    "print(torch.multiprocessing.get_sharing_strategy())"
   ]
  },
  {
   "cell_type": "code",
   "execution_count": 12,
   "metadata": {
    "colab": {
     "autoexec": {
      "startup": false,
      "wait_interval": 0
     }
    },
    "colab_type": "code",
    "id": "Kc-OLRcoHDBl"
   },
   "outputs": [],
   "source": [
    "cudnn.benchmark = True"
   ]
  },
  {
   "cell_type": "code",
   "execution_count": 13,
   "metadata": {},
   "outputs": [],
   "source": [
    "def mkdir_p(d):\n",
    "    os.makedirs(d, exist_ok=True)\n",
    "\n",
    "def sha1_hash(fname, blocksize=4096):\n",
    "    \"\"\" compute sha1hash of a file \"\"\"\n",
    "    hash = ''\n",
    "    if not os.path.exists(fname):\n",
    "        errmsg = \"File %s does not exist\" % (fname)\n",
    "        print(errmsg)\n",
    "        return ''\n",
    "    try:\n",
    "        hasher = hashlib.sha1()\n",
    "        with open(fname, 'rb') as f:\n",
    "            buf = f.read(blocksize)\n",
    "            while len(buf) > 0:\n",
    "                hasher.update(buf)\n",
    "                buf = f.read(blocksize)\n",
    "        hash = hasher.hexdigest()\n",
    "    except:\n",
    "        print(\"Exception in hashing file\")\n",
    "        raise\n",
    "    return hash\n",
    "\n",
    "\n",
    "def rsync_and_verify(src, dst, verify=False, max_attempts=1):\n",
    "    \"\"\"Rsync src to dst and verify if copy is done\"\"\"\n",
    "\n",
    "    print('Rsync %s to %s on %s\\n' % (src,\n",
    "                                      dst,\n",
    "                                      socket.gethostname()))\n",
    "    sys.stdout.flush()\n",
    "    src_ = deepcopy(src)\n",
    "    dst_ = deepcopy(dst)\n",
    "    src_cred = ''\n",
    "    src_path = ''\n",
    "    dst_cred = ''\n",
    "    dst_path = ''\n",
    "    rsync_path = ''\n",
    "\n",
    "    if ':' in src:\n",
    "        src_cred, src_path = src.split(':')\n",
    "    else:\n",
    "        src_cred = ''\n",
    "        src_path = src\n",
    "\n",
    "    if ':' in dst:\n",
    "        dst_cred, dst_path = dst.split(':')\n",
    "    else:\n",
    "        dst_cred = ''\n",
    "        dst_path = dst\n",
    "\n",
    "    if src_cred == '':\n",
    "        mkdir_p(src_path)\n",
    "    else:\n",
    "        rsync_path = '--rsync-path=' + '\"' + 'mkdir -p' + ' ' + src_path + ' ' + '&&' + ' ' + 'rsync --copy-links' + '\"'\n",
    "    \n",
    "    if dst_cred == '':\n",
    "        mkdir_p(dst_path)\n",
    "    else:\n",
    "        rsync_path = '--rsync-path=' + '\"' + 'mkdir -p' + ' ' + src_path + ' ' + '&&' + ' ' + 'rsync --copy-links' + '\"'\n",
    "\n",
    "    if src_[-1] != os.sep:\n",
    "        src_ = src_ + os.sep\n",
    "    \n",
    "    if dst_[-1] != os.sep:\n",
    "        dst_ = dst_ + os.sep\n",
    "\n",
    "    for attempt in range(max_attempts):\n",
    "        print('attempt %d' % attempt)\n",
    "        try:\n",
    "            copycmd = 'rsync -a --copy-links' + ' ' + rsync_path + ' ' + src_ + ' ' + dst_ \n",
    "            pprint(copycmd)\n",
    "            sys.stdout.flush()\n",
    "            output = subprocess.check_output(copycmd,\n",
    "                                             shell=True)\n",
    "            pprint(output)\n",
    "            sys.stdout.flush()\n",
    "\n",
    "            if verify:\n",
    "                # Verify if the copying is done correctly\n",
    "                if os.path.isdir(src):\n",
    "                    for fl in os.listdir(src):\n",
    "                        sfile = src + os.sep + fl\n",
    "                        dfile = dst + os.sep + fl\n",
    "                        shash = sha1_hash(sfile)\n",
    "                        dhash = sha1_hash(dfile)\n",
    "                        if shash != dhash:\n",
    "                            print('Hashes of files %s and %s do not match.' % (sfile, dfile))\n",
    "                            print('Error in copying. Quitting ...\\n')\n",
    "                            sys.stdout.flush()\n",
    "                            raise Exception('hash mismatch')\n",
    "                        print('.', end='')\n",
    "                        sys.stdout.flush()\n",
    "                else:\n",
    "                    shash = sha1_hash(src)\n",
    "                    dhash = sha1_hash(dst)\n",
    "                    if shash != dhash:\n",
    "                        print('Hashes of files %s and %s do not match.' % (src, dst))\n",
    "                        print('Error in copying. Quitting ...\\n')\n",
    "                        sys.stdout.flush()\n",
    "                        raise Exception('hash mismatch')\n",
    "                print('Hash check passed')\n",
    "                sys.stdout.flush()\n",
    "\n",
    "            break    # break if successful\n",
    "        # except Exception, arg:\n",
    "        except:\n",
    "            # print('Error:', arg)\n",
    "            print('Error in rsync')\n",
    "            pass     # else retry\n"
   ]
  },
  {
   "cell_type": "code",
   "execution_count": 14,
   "metadata": {
    "colab": {
     "autoexec": {
      "startup": false,
      "wait_interval": 0
     }
    },
    "colab_type": "code",
    "id": "jB9hgpyUfbqG"
   },
   "outputs": [],
   "source": [
    "os.makedirs(args.base_dir, exist_ok=True)\n",
    "os.makedirs(args.data_dir, exist_ok=True)\n",
    "os.makedirs(args.input_dir, exist_ok=True)\n",
    "os.makedirs(args.output_dir, exist_ok=True)\n",
    "os.makedirs(args.ckpt_dir, exist_ok=True)\n",
    "os.makedirs(args.sub_dir, exist_ok=True)"
   ]
  },
  {
   "cell_type": "code",
   "execution_count": 15,
   "metadata": {},
   "outputs": [
    {
     "name": "stdout",
     "output_type": "stream",
     "text": [
      "Rsync /mnt/disks/imaterialist_fashion to /mnt/ram-disk/imaterialist_fashion on gpu-vm\n",
      "\n",
      "attempt 0\n",
      "('rsync -a --copy-links  /mnt/disks/imaterialist_fashion/ '\n",
      " '/mnt/ram-disk/imaterialist_fashion/')\n",
      "b''\n"
     ]
    }
   ],
   "source": [
    "rsync_and_verify(args.perm_dir, args.base_dir)"
   ]
  },
  {
   "cell_type": "markdown",
   "metadata": {
    "colab_type": "text",
    "id": "c6LY5l-SRtWw"
   },
   "source": [
    "# Dataset"
   ]
  },
  {
   "cell_type": "code",
   "execution_count": 16,
   "metadata": {
    "colab": {
     "autoexec": {
      "startup": false,
      "wait_interval": 0
     }
    },
    "colab_type": "code",
    "id": "VMcIw45smeZE"
   },
   "outputs": [],
   "source": [
    "import torch.utils.data as data\n",
    "from copy import copy\n",
    "import numpy as np\n",
    "\n",
    "\n",
    "def parse_info(infofile, indir, istest=False, num_labels=211):\n",
    "  with open(infofile) as f:\n",
    "    dr = csv.DictReader(f, fieldnames=['fname']) if istest else csv.DictReader(f, fieldnames=['fname', 'labelId'])\n",
    "    I = OrderedDict()\n",
    "    L = None if istest else OrderedDict()\n",
    "    for d in dr:\n",
    "        fname = d['fname']\n",
    "        imageid = int(fname.split('_')[-1].split('.')[0])\n",
    "        I[imageid] = copy(os.path.join(indir, fname))\n",
    "        if not istest:\n",
    "            L[imageid] = np.zeros((num_labels,), dtype=np.float32)\n",
    "            L[imageid][int(d['labelId'])] = 1.0  # single label dataset\n",
    "    return (I, L)\n",
    "\n",
    "def get_labelinfo(labels):\n",
    "  from collections import namedtuple\n",
    "  labelinfo = namedtuple('labelinfo', \"set min max count\")\n",
    "  labelinfo.set = set()\n",
    "  for k, v in labels.items():\n",
    "    labelinfo.set.update([v])\n",
    "  labelinfo.min = min(labelinfo.set)\n",
    "  labelinfo.max = max(labelinfo.set)\n",
    "  labelinfo.count = len(labelinfo.set)\n",
    "  return labelinfo\n",
    "\n",
    "def has_file_allowed_extension(filename, extensions):\n",
    "    \"\"\"Checks if a file is an allowed extension.\n",
    "    Args:\n",
    "        filename (string): path to a file\n",
    "    Returns:\n",
    "        bool: True if the filename ends with a known image extension\n",
    "    \"\"\"\n",
    "    filename_lower = filename.lower()\n",
    "    return any(filename_lower.endswith(ext) for ext in extensions)\n",
    "\n",
    "\n",
    "def pil_loader(path):\n",
    "    from PIL import Image \n",
    "    # open path as file to avoid ResourceWarning (https://github.com/python-pillow/Pillow/issues/835)\n",
    "    with open(path, 'rb') as f:\n",
    "        img = Image.open(f)\n",
    "        return img.convert('RGB')\n",
    "\n",
    "\n",
    "def accimage_loader(path):\n",
    "    import accimage\n",
    "    try:\n",
    "        return accimage.Image(path)\n",
    "    except IOError:\n",
    "        # Potentially a decoding problem, fall back to PIL.Image\n",
    "        return pil_loader(path)\n",
    "\n",
    "\n",
    "def default_loader(path):\n",
    "    from torchvision import get_image_backend\n",
    "    if get_image_backend() == 'accimage':\n",
    "        return accimage_loader(path)\n",
    "    else:\n",
    "        return pil_loader(path)\n",
    "\n",
    "      \n",
    "class FoodDataset(data.Dataset):\n",
    "  \"\"\"Food dataset CVPR challenge.\n",
    "     Adapted from torchvision ImageFolder.\n",
    "     Similar to ImageFolder with the following differences:\n",
    "     1. Multilabel\n",
    "     2. Directory structure where all images are directly in the root folder\n",
    "     3. Labels are read from json file\n",
    "   \n",
    "  Args:\n",
    "        root (string): Root directory path.\n",
    "        loader (callable): A function to load a sample given its path.\n",
    "        extensions (list[string]): A list of allowed extensions.\n",
    "        transform (callable, optional): A function/transform that takes in\n",
    "            a sample and returns a transformed version.\n",
    "            E.g, ``transforms.RandomCrop`` for images.\n",
    "        target_transform (callable, optional): A function/transform that takes\n",
    "            in the target and transforms it.\n",
    "    \n",
    "  \"\"\"\n",
    "\n",
    "  def __init__(self, root, metadata_file, num_labels=211, transform=None, target_transform=None,\n",
    "               loader=default_loader, test=False, min_img_bytes=4792):\n",
    "    sys.stdout.flush()\n",
    "    extensions = ['.jpg', '.jpeg', '.png', '.ppm', '.bmp', '.pgm', '.tif']\n",
    "    self.test = test\n",
    "    self.root = root\n",
    "    self.num_labels = num_labels\n",
    "    self.images_ = OrderedDict()\n",
    "    self.images = OrderedDict()\n",
    "    self.labels_ = OrderedDict()\n",
    "    self.labels = OrderedDict()\n",
    "    \n",
    "    self.metadata_file = metadata_file\n",
    "    self.images_, self.labels_ = parse_info(self.metadata_file, root, istest=self.test, num_labels=args.num_labels)\n",
    "    self.transform = transform\n",
    "    self.target_transform = target_transform\n",
    "    self.loader = loader\n",
    "    self.corrupt = 0\n",
    "    self.corrupt_ids = set()\n",
    "     \n",
    "    # Remove corrupt image files\n",
    "    ids = self.images_.keys()\n",
    "#     for i in tqdm(ids):\n",
    "#         ## Correct but slow\n",
    "#         try:\n",
    "#             img = self.loader(self.images_[i])\n",
    "#             img.close()\n",
    "#         except:\n",
    "#             self.corrupt += 1\n",
    "#             self.corrupt_ids.add(i)\n",
    "        ## Optimistic \n",
    "#         if os.path.getsize(self.images_[i]) < min_img_bytes:\n",
    "#             self.corrupt += 1\n",
    "#             self.corrupt_ids.add(i)\n",
    "#        pass\n",
    "\n",
    "    for i in ids:\n",
    "        if i not in self.corrupt_ids:\n",
    "            self.images[i] = copy(self.images_[i])\n",
    "            if not self.test:\n",
    "                self.labels[i] = copy(self.labels_[i])\n",
    "    self.image_ids = list(self.images.keys())\n",
    "    \n",
    "#     if not self.test:\n",
    "#         self.labelinfo = get_labelinfo(self.labels)\n",
    "    \n",
    "  def __getitem__(self, index):\n",
    "        \"\"\"\n",
    "        Args:\n",
    "            index (int): Index\n",
    "        Returns:\n",
    "            tuple: (sample, target) where target is class_index of the target class.\n",
    "        \"\"\"\n",
    "        if not self.test:\n",
    "            path, target = self.images[self.image_ids[index]], self.labels[self.image_ids[index]]\n",
    "        else:\n",
    "            path = self.images[self.image_ids[index]]\n",
    "        sample = self.loader(path)\n",
    "        if self.transform is not None:\n",
    "            sample = self.transform(sample)\n",
    "        if not self.test:\n",
    "            if self.target_transform is not None:\n",
    "                target = self.target_transform(target)\n",
    "        \n",
    "        if self.test:\n",
    "            return sample\n",
    "        else:\n",
    "            return sample, target\n",
    "\n",
    "  def __len__(self):\n",
    "    return len(self.images)\n",
    "  \n",
    "  def __repr__(self):\n",
    "    fmt_str = 'Dataset ' + self.__class__.__name__ + '\\n'\n",
    "    fmt_str += '    Number of datapoints: {}\\n'.format(self.__len__())\n",
    "    fmt_str += '    Number of corrupt datapoints discarded: {}\\n'.format(self.corrupt)\n",
    "#     if not self.test:\n",
    "#         fmt_str += '    Number of labels: {}\\n'.format(self.labelinfo.count)\n",
    "    fmt_str += '    Root Location: {}\\n'.format(self.root)\n",
    "    fmt_str += '    Metadata file: {}\\n'.format(self.metadata_file)\n",
    "    tmp = '    Transforms (if any): '\n",
    "    fmt_str += '{0}{1}\\n'.format(tmp, self.transform.__repr__().replace('\\n', '\\n' + ' ' * len(tmp)))\n",
    "    if not self.test:\n",
    "        tmp = '    Target Transforms (if any): '\n",
    "        fmt_str += '{0}{1}'.format(tmp, self.target_transform.__repr__().replace('\\n', '\\n' + ' ' * len(tmp)))\n",
    "    tmp = '    Loader: '\n",
    "    fmt_str += '\\n{0}{1}'.format(tmp, self.loader.__name__)\n",
    "    return fmt_str\n",
    "\n",
    "  "
   ]
  },
  {
   "cell_type": "code",
   "execution_count": 17,
   "metadata": {
    "colab": {
     "autoexec": {
      "startup": false,
      "wait_interval": 0
     }
    },
    "colab_type": "code",
    "id": "BuB8IhRXrZzK"
   },
   "outputs": [],
   "source": [
    "import torchvision.transforms as transforms\n",
    "\n",
    "def create_transforms(args):\n",
    "    train_tform = None\n",
    "    if args.test_overfit:\n",
    "        train_tform = transforms.Compose([transforms.Resize(args.image_min_size),\n",
    "                                          transforms.CenterCrop(args.nw_input_size),\n",
    "                                          transforms.ToTensor(),\n",
    "                                          transforms.Normalize(mean=args.pretrain_dset_mean,\n",
    "                                                               std=args.pretrain_dset_std)\n",
    "                                         ])\n",
    "    else:\n",
    "#         train_tform = transforms.Compose([transforms.RandomResizedCrop(args.image_min_size,\n",
    "#                                                                        scale=(1.0, 1.0),\n",
    "#                                                                        scale=(0.8, 1.2),\n",
    "#                                                                        scale=(0.08, 1.0),\n",
    "#                                                                        ratio=(3. / 4., 4. / 3.),\n",
    "#                                                                        ratio=(float(args.nw_input_size) / float(args.image_min_size),\n",
    "#                                                                               float(args.image_min_size) / float(args.nw_input_size)\n",
    "#                                                                              ),\n",
    "#                                                                        ratio=(1.0, 1.0),\n",
    "#                                                                        interpolation=Image.BILINEAR\n",
    "#                                                                       ),\n",
    "#         train_tform = transforms.Compose([transforms.RandomAffine(0,\n",
    "#                                                                   translate=(0., 0.),\n",
    "#                                                                   translate=(0.25, 0.25),\n",
    "# #                                                                   scale=(3. /4., 4. / 3.),\n",
    "#                                                                   scale=(1., 1.),\n",
    "#                                                                   shear=0,\n",
    "#                                                                   shear=20,\n",
    "#                                                                   resample=PIL.Image.BILINEAR,\n",
    "#                                                                   fillcolor=0),\n",
    "        train_tform = transforms.Compose([transforms.Resize(args.image_min_size),\n",
    "                                          transforms.RandomHorizontalFlip(),\n",
    "                                          transforms.TenCrop(args.nw_input_size),\n",
    "                                          transforms.Lambda(lambda crops: crops[np.random.randint(len(crops))]),\n",
    "                                          transforms.ToTensor(),\n",
    "                                          transforms.Normalize(mean=args.pretrain_dset_mean,\n",
    "                                                               std=args.pretrain_dset_std)\n",
    "                                         ])\n",
    "\n",
    "    val_tform = transforms.Compose([transforms.Resize(args.image_min_size),\n",
    "                                    transforms.CenterCrop(args.nw_input_size),\n",
    "                                    transforms.ToTensor(),\n",
    "                                    transforms.Normalize(mean=args.pretrain_dset_mean,\n",
    "                                                         std=args.pretrain_dset_std)\n",
    "                                   ])\n",
    "    return (train_tform, val_tform)"
   ]
  },
  {
   "cell_type": "code",
   "execution_count": 18,
   "metadata": {},
   "outputs": [
    {
     "name": "stdout",
     "output_type": "stream",
     "text": [
      "Compose(\n",
      "    Resize(size=256, interpolation=PIL.Image.BILINEAR)\n",
      "    RandomHorizontalFlip(p=0.5)\n",
      "    TenCrop(size=(224, 224), vertical_flip=False)\n",
      "    Lambda()\n",
      "    ToTensor()\n",
      "    Normalize(mean=[0.485, 0.456, 0.406], std=[0.229, 0.224, 0.225])\n",
      ")\n",
      "Compose(\n",
      "    Resize(size=256, interpolation=PIL.Image.BILINEAR)\n",
      "    CenterCrop(size=(224, 224))\n",
      "    ToTensor()\n",
      "    Normalize(mean=[0.485, 0.456, 0.406], std=[0.229, 0.224, 0.225])\n",
      ")\n"
     ]
    }
   ],
   "source": [
    "train_tform, val_tform = create_transforms(args)\n",
    "print(train_tform)\n",
    "print(val_tform)"
   ]
  },
  {
   "cell_type": "code",
   "execution_count": 19,
   "metadata": {
    "colab": {
     "autoexec": {
      "startup": false,
      "wait_interval": 0
     },
     "base_uri": "https://localhost:8080/",
     "height": 459
    },
    "colab_type": "code",
    "executionInfo": {
     "elapsed": 981,
     "status": "ok",
     "timestamp": 1527001551536,
     "user": {
      "displayName": "Sourabh Daptardar",
      "photoUrl": "//lh4.googleusercontent.com/-onn5Q0_MiKQ/AAAAAAAAAAI/AAAAAAAACDI/iOxkSEz16nA/s50-c-k-no/photo.jpg",
      "userId": "115812262388010820083"
     },
     "user_tz": -330
    },
    "id": "b7JjnbO4a1bU",
    "outputId": "d20390c8-2b46-4399-bd70-7486521b4976",
    "scrolled": true
   },
   "outputs": [
    {
     "name": "stdout",
     "output_type": "stream",
     "text": [
      "Dataset FoodDataset\n",
      "    Number of datapoints: 101733\n",
      "    Number of corrupt datapoints discarded: 0\n",
      "    Root Location: /mnt/ram-disk/imaterialist_fashion/data_ifood/input/train_set\n",
      "    Metadata file: /mnt/ram-disk/imaterialist_fashion/data_ifood/input/train_info.csv\n",
      "    Transforms (if any): Compose(\n",
      "                             Resize(size=256, interpolation=PIL.Image.BILINEAR)\n",
      "                             RandomHorizontalFlip(p=0.5)\n",
      "                             TenCrop(size=(224, 224), vertical_flip=False)\n",
      "                             Lambda()\n",
      "                             ToTensor()\n",
      "                             Normalize(mean=[0.485, 0.456, 0.406], std=[0.229, 0.224, 0.225])\n",
      "                         )\n",
      "    Target Transforms (if any): None\n",
      "    Loader: default_loader\n",
      "Dataset FoodDataset\n",
      "    Number of datapoints: 10323\n",
      "    Number of corrupt datapoints discarded: 0\n",
      "    Root Location: /mnt/ram-disk/imaterialist_fashion/data_ifood/input/val_set\n",
      "    Metadata file: /mnt/ram-disk/imaterialist_fashion/data_ifood/input/val_info.csv\n",
      "    Transforms (if any): Compose(\n",
      "                             Resize(size=256, interpolation=PIL.Image.BILINEAR)\n",
      "                             CenterCrop(size=(224, 224))\n",
      "                             ToTensor()\n",
      "                             Normalize(mean=[0.485, 0.456, 0.406], std=[0.229, 0.224, 0.225])\n",
      "                         )\n",
      "    Target Transforms (if any): None\n",
      "    Loader: default_loader\n",
      "Dataset FoodDataset\n",
      "    Number of datapoints: 24088\n",
      "    Number of corrupt datapoints discarded: 0\n",
      "    Root Location: /mnt/ram-disk/imaterialist_fashion/data_ifood/input/test_set\n",
      "    Metadata file: /mnt/ram-disk/imaterialist_fashion/data_ifood/input/test_info.csv\n",
      "    Transforms (if any): Compose(\n",
      "                             Resize(size=256, interpolation=PIL.Image.BILINEAR)\n",
      "                             CenterCrop(size=(224, 224))\n",
      "                             ToTensor()\n",
      "                             Normalize(mean=[0.485, 0.456, 0.406], std=[0.229, 0.224, 0.225])\n",
      "                         )\n",
      "\n",
      "    Loader: default_loader\n"
     ]
    }
   ],
   "source": [
    "train_dset = FoodDataset(args.train_dir, args.train_labels_csv, args.num_labels, transform=train_tform, min_img_bytes=args.min_img_bytes)\n",
    "val_dset = FoodDataset(args.val_dir, args.val_labels_csv, args.num_labels, transform=val_tform, min_img_bytes=args.min_img_bytes)\n",
    "test_dset = FoodDataset(args.test_dir, args.test_labels_csv, args.num_labels, transform=val_tform, test=True, min_img_bytes=args.min_img_bytes) # same transform as validation\n",
    "\n",
    "\n",
    "print(train_dset)\n",
    "print(val_dset)\n",
    "print(test_dset)"
   ]
  },
  {
   "cell_type": "code",
   "execution_count": 20,
   "metadata": {
    "colab": {
     "autoexec": {
      "startup": false,
      "wait_interval": 0
     }
    },
    "colab_type": "code",
    "id": "-EoLW0no-em7"
   },
   "outputs": [],
   "source": [
    "def tensor_to_numpy(t, avg, std):\n",
    "  return (255.0 * (np.transpose(np.asarray(t), (1, 2, 0)) * std + avg)).astype(np.uint8)\n",
    "  "
   ]
  },
  {
   "cell_type": "code",
   "execution_count": 21,
   "metadata": {
    "colab": {
     "autoexec": {
      "startup": false,
      "wait_interval": 0
     },
     "base_uri": "https://localhost:8080/",
     "height": 439
    },
    "colab_type": "code",
    "executionInfo": {
     "elapsed": 1703,
     "status": "ok",
     "timestamp": 1527001554370,
     "user": {
      "displayName": "Sourabh Daptardar",
      "photoUrl": "//lh4.googleusercontent.com/-onn5Q0_MiKQ/AAAAAAAAAAI/AAAAAAAACDI/iOxkSEz16nA/s50-c-k-no/photo.jpg",
      "userId": "115812262388010820083"
     },
     "user_tz": -330
    },
    "id": "L8qbOaD8HvYi",
    "outputId": "4e64893b-2094-4f5f-c9cd-6469eb2eaa8e"
   },
   "outputs": [
    {
     "name": "stdout",
     "output_type": "stream",
     "text": [
      "[0. 0. 0. 0. 0. 0. 0. 0. 0. 0. 0. 0. 0. 0. 0. 0. 0. 0. 0. 0. 0. 0. 0. 0.\n",
      " 0. 0. 0. 0. 0. 0. 0. 0. 0. 0. 0. 0. 0. 0. 0. 0. 0. 0. 0. 0. 0. 0. 0. 0.\n",
      " 0. 0. 0. 0. 0. 0. 0. 0. 0. 0. 0. 0. 0. 0. 0. 0. 0. 0. 0. 0. 0. 0. 0. 0.\n",
      " 0. 0. 0. 0. 0. 0. 0. 0. 0. 0. 0. 0. 0. 0. 0. 0. 0. 0. 0. 0. 0. 0. 0. 0.\n",
      " 0. 0. 0. 0. 0. 0. 0. 0. 0. 0. 0. 0. 1. 0. 0. 0. 0. 0. 0. 0. 0. 0. 0. 0.\n",
      " 0. 0. 0. 0. 0. 0. 0. 0. 0. 0. 0. 0. 0. 0. 0. 0. 0. 0. 0. 0. 0. 0. 0. 0.\n",
      " 0. 0. 0. 0. 0. 0. 0. 0. 0. 0. 0. 0. 0. 0. 0. 0. 0. 0. 0. 0. 0. 0. 0. 0.\n",
      " 0. 0. 0. 0. 0. 0. 0. 0. 0. 0. 0. 0. 0. 0. 0. 0. 0. 0. 0. 0. 0. 0. 0. 0.\n",
      " 0. 0. 0. 0. 0. 0. 0. 0. 0. 0. 0. 0. 0. 0. 0. 0. 0. 0. 0.]\n"
     ]
    },
    {
     "data": {
      "image/png": "[encoded data removed]",
      "text/plain": [
       "<Figure size 432x288 with 1 Axes>"
      ]
     },
     "metadata": {},
     "output_type": "display_data"
    }
   ],
   "source": [
    "rnd1 = np.random.randint(len(train_dset))\n",
    "im1, lbl1 = train_dset[rnd1]\n",
    "imshow(tensor_to_numpy(im1, args.pretrain_dset_mean, args.pretrain_dset_std))\n",
    "print(lbl1)"
   ]
  },
  {
   "cell_type": "code",
   "execution_count": 22,
   "metadata": {
    "colab": {
     "autoexec": {
      "startup": false,
      "wait_interval": 0
     },
     "base_uri": "https://localhost:8080/",
     "height": 439
    },
    "colab_type": "code",
    "executionInfo": {
     "elapsed": 1502,
     "status": "ok",
     "timestamp": 1527001555965,
     "user": {
      "displayName": "Sourabh Daptardar",
      "photoUrl": "//lh4.googleusercontent.com/-onn5Q0_MiKQ/AAAAAAAAAAI/AAAAAAAACDI/iOxkSEz16nA/s50-c-k-no/photo.jpg",
      "userId": "115812262388010820083"
     },
     "user_tz": -330
    },
    "id": "3h5_M6G0QBYZ",
    "outputId": "01e18eb7-caf7-4bcb-82b1-b296b9784185"
   },
   "outputs": [
    {
     "name": "stdout",
     "output_type": "stream",
     "text": [
      "[0. 0. 0. 0. 0. 0. 0. 0. 0. 0. 0. 0. 0. 0. 0. 0. 0. 0. 0. 0. 0. 0. 0. 0.\n",
      " 0. 0. 0. 0. 0. 0. 0. 0. 0. 0. 0. 0. 0. 0. 0. 0. 0. 0. 0. 0. 0. 0. 0. 0.\n",
      " 0. 0. 0. 0. 0. 0. 0. 0. 0. 0. 0. 0. 0. 0. 0. 0. 0. 0. 0. 0. 0. 0. 0. 0.\n",
      " 0. 0. 0. 0. 0. 0. 0. 0. 0. 0. 0. 0. 0. 0. 0. 0. 0. 0. 0. 0. 0. 0. 0. 0.\n",
      " 0. 0. 0. 0. 0. 0. 0. 0. 0. 0. 0. 0. 0. 0. 0. 0. 0. 0. 0. 0. 0. 0. 0. 0.\n",
      " 0. 0. 0. 0. 0. 0. 0. 0. 0. 0. 0. 0. 0. 0. 0. 0. 0. 0. 0. 0. 0. 0. 0. 0.\n",
      " 0. 0. 0. 0. 0. 0. 0. 0. 0. 1. 0. 0. 0. 0. 0. 0. 0. 0. 0. 0. 0. 0. 0. 0.\n",
      " 0. 0. 0. 0. 0. 0. 0. 0. 0. 0. 0. 0. 0. 0. 0. 0. 0. 0. 0. 0. 0. 0. 0. 0.\n",
      " 0. 0. 0. 0. 0. 0. 0. 0. 0. 0. 0. 0. 0. 0. 0. 0. 0. 0. 0.]\n"
     ]
    },
    {
     "data": {
      "image/png": "[encoded data removed]",
      "text/plain": [
       "<Figure size 432x288 with 1 Axes>"
      ]
     },
     "metadata": {},
     "output_type": "display_data"
    }
   ],
   "source": [
    "rnd2 = np.random.randint(len(val_dset))\n",
    "im2, lbl2 = val_dset[rnd2]\n",
    "imshow(tensor_to_numpy(im2, args.pretrain_dset_mean, args.pretrain_dset_std))\n",
    "print(lbl2)"
   ]
  },
  {
   "cell_type": "code",
   "execution_count": 23,
   "metadata": {},
   "outputs": [
    {
     "data": {
      "text/plain": [
       "<matplotlib.image.AxesImage at 0x7f4d58598e10>"
      ]
     },
     "execution_count": 23,
     "metadata": {},
     "output_type": "execute_result"
    },
    {
     "data": {
      "image/png": "[encoded data removed]",
      "text/plain": [
       "<Figure size 432x288 with 1 Axes>"
      ]
     },
     "metadata": {},
     "output_type": "display_data"
    }
   ],
   "source": [
    "rnd3 = np.random.randint(len(test_dset))\n",
    "im3 = test_dset[rnd3]\n",
    "imshow(tensor_to_numpy(im3, args.pretrain_dset_mean, args.pretrain_dset_std))\n"
   ]
  },
  {
   "cell_type": "markdown",
   "metadata": {
    "colab_type": "text",
    "id": "iU_VDQm2Rtro"
   },
   "source": [
    "# DataLoader"
   ]
  },
  {
   "cell_type": "code",
   "execution_count": 24,
   "metadata": {
    "colab": {
     "autoexec": {
      "startup": false,
      "wait_interval": 0
     }
    },
    "colab_type": "code",
    "id": "4KcwWuuHoxoo"
   },
   "outputs": [],
   "source": [
    "if args.distributed:\n",
    "    dist.init_process_group(backend=args.dist_backend,\n",
    "                            init_method=args.dist_url,\n",
    "                            world_size=args.world_size)\n"
   ]
  },
  {
   "cell_type": "code",
   "execution_count": 25,
   "metadata": {
    "colab": {
     "autoexec": {
      "startup": false,
      "wait_interval": 0
     }
    },
    "colab_type": "code",
    "id": "EjMlN6vqHtsE"
   },
   "outputs": [],
   "source": [
    "from torch.utils.data.distributed import DistributedSampler \n",
    "\n",
    "\n",
    "if args.distributed:\n",
    "  train_sampler = DistributedSampler(train_dset)\n",
    "else:\n",
    "  train_sampler = None\n",
    "\n",
    "train_loader = torch.utils.data.DataLoader(train_dset,\n",
    "                                           batch_size=args.batch_size,\n",
    "                                           shuffle=(train_sampler is None),\n",
    "                                           num_workers=args.num_workers,\n",
    "                                           pin_memory=True,\n",
    "                                           sampler=train_sampler\n",
    "                                          )\n",
    "\n",
    "val_loader = torch.utils.data.DataLoader(val_dset,\n",
    "                                         batch_size=args.batch_size,\n",
    "                                         shuffle=False,\n",
    "                                         num_workers=args.num_workers,\n",
    "                                         pin_memory=True\n",
    "                                        )\n",
    "\n",
    "test_loader = torch.utils.data.DataLoader(test_dset,\n",
    "                                         batch_size=args.batch_size,\n",
    "                                         shuffle=False,\n",
    "                                         num_workers=args.num_workers,\n",
    "                                         pin_memory=True\n",
    "                                        )\n",
    "\n"
   ]
  },
  {
   "cell_type": "code",
   "execution_count": 26,
   "metadata": {
    "colab": {
     "autoexec": {
      "startup": false,
      "wait_interval": 0
     }
    },
    "colab_type": "code",
    "id": "uzNG4-7x6Ovt"
   },
   "outputs": [],
   "source": [
    "# train_images, train_labels = next(iter(train_loader))"
   ]
  },
  {
   "cell_type": "code",
   "execution_count": 27,
   "metadata": {
    "colab": {
     "autoexec": {
      "startup": false,
      "wait_interval": 0
     },
     "base_uri": "https://localhost:8080/",
     "height": 731
    },
    "colab_type": "code",
    "executionInfo": {
     "elapsed": 1409,
     "status": "ok",
     "timestamp": 1527001561251,
     "user": {
      "displayName": "Sourabh Daptardar",
      "photoUrl": "//lh4.googleusercontent.com/-onn5Q0_MiKQ/AAAAAAAAAAI/AAAAAAAACDI/iOxkSEz16nA/s50-c-k-no/photo.jpg",
      "userId": "115812262388010820083"
     },
     "user_tz": -330
    },
    "id": "CDOOVYOHbcbl",
    "outputId": "46f258e9-ee85-4435-8df8-57b8912d5ced"
   },
   "outputs": [],
   "source": [
    "# rnd11 = np.random.randint(args.batch_size)\n",
    "# print(train_images[rnd11,:,:,:])\n",
    "# print(train_labels[rnd11, :])"
   ]
  },
  {
   "cell_type": "code",
   "execution_count": 28,
   "metadata": {
    "colab": {
     "autoexec": {
      "startup": false,
      "wait_interval": 0
     }
    },
    "colab_type": "code",
    "id": "IZ7R4Mgb7F3b"
   },
   "outputs": [],
   "source": [
    "# val_images, val_labels = next(iter(val_loader))"
   ]
  },
  {
   "cell_type": "code",
   "execution_count": 29,
   "metadata": {
    "colab": {
     "autoexec": {
      "startup": false,
      "wait_interval": 0
     },
     "base_uri": "https://localhost:8080/",
     "height": 731
    },
    "colab_type": "code",
    "executionInfo": {
     "elapsed": 918,
     "status": "ok",
     "timestamp": 1527001564208,
     "user": {
      "displayName": "Sourabh Daptardar",
      "photoUrl": "//lh4.googleusercontent.com/-onn5Q0_MiKQ/AAAAAAAAAAI/AAAAAAAACDI/iOxkSEz16nA/s50-c-k-no/photo.jpg",
      "userId": "115812262388010820083"
     },
     "user_tz": -330
    },
    "id": "CIOHOwAqaRkX",
    "outputId": "7b674419-1de5-4765-c7e4-c2db097f3170"
   },
   "outputs": [],
   "source": [
    "# rnd21 = np.random.randint(args.batch_size)\n",
    "# print(val_images[rnd21,:,:,:])\n",
    "# print(val_labels[rnd21, :])"
   ]
  },
  {
   "cell_type": "markdown",
   "metadata": {
    "colab_type": "text",
    "id": "cQAQrfMJRtv3"
   },
   "source": [
    "\n",
    "# Model"
   ]
  },
  {
   "cell_type": "code",
   "execution_count": 30,
   "metadata": {
    "colab": {
     "autoexec": {
      "startup": false,
      "wait_interval": 0
     }
    },
    "colab_type": "code",
    "id": "jNxCNVyu98GF"
   },
   "outputs": [],
   "source": [
    "import torch.nn.init as weight_init\n",
    "\n",
    "\n",
    "class FCWithLogSigmoid(nn.Module):\n",
    "  \n",
    "  def __init__(self, num_inputs, num_outputs):\n",
    "    super(FCWithLogSigmoid, self).__init__()\n",
    "    self.linear = nn.Linear(num_inputs, num_outputs)\n",
    "    self.logsigmoid = nn.LogSigmoid()\n",
    "    \n",
    "  def forward(self, x):\n",
    "    return self.logsigmoid(self.linear(x))\n",
    "\n",
    "\n",
    "def create_model(arch, num_labels=228, fv_size=2048, pretrained=True, resume=False, distributed=False):\n",
    "  if pretrained:\n",
    "      print(\"=> using pre-trained model '{}'\".format(arch))\n",
    "      model = models.__dict__[arch](pretrained=True)\n",
    "  else:\n",
    "      print(\"=> creating model '{}'\".format(arch))\n",
    "      model = models.__dict__[arch]()\n",
    "  model.fc = FCWithLogSigmoid(fv_size, num_labels)\n",
    "  if not distributed:\n",
    "      if arch.startswith('alexnet') or arch.startswith('vgg'):\n",
    "          model.features = torch.nn.DataParallel(model.features)\n",
    "          model.cuda()\n",
    "      else:\n",
    "          model = torch.nn.DataParallel(model).cuda()\n",
    "  else:\n",
    "      model.cuda()\n",
    "      model = torch.nn.parallel.DistributedDataParallel(model)\n",
    "  return model\n"
   ]
  },
  {
   "cell_type": "code",
   "execution_count": 31,
   "metadata": {
    "colab": {
     "autoexec": {
      "startup": false,
      "wait_interval": 0
     }
    },
    "colab_type": "code",
    "id": "9eMpjddlO6BC"
   },
   "outputs": [],
   "source": [
    "def count_parameters(model):\n",
    "  \"\"\"source: https://discuss.pytorch.org/t/how-do-i-check-the-number-of-parameters-of-a-model/4325/9\"\"\"\n",
    "  return sum(p.numel() for p in model.parameters() if p.requires_grad)"
   ]
  },
  {
   "cell_type": "code",
   "execution_count": 32,
   "metadata": {
    "colab": {
     "autoexec": {
      "startup": false,
      "wait_interval": 0
     },
     "base_uri": "https://localhost:8080/",
     "height": 34
    },
    "colab_type": "code",
    "executionInfo": {
     "elapsed": 1945,
     "status": "ok",
     "timestamp": 1527001568263,
     "user": {
      "displayName": "Sourabh Daptardar",
      "photoUrl": "//lh4.googleusercontent.com/-onn5Q0_MiKQ/AAAAAAAAAAI/AAAAAAAACDI/iOxkSEz16nA/s50-c-k-no/photo.jpg",
      "userId": "115812262388010820083"
     },
     "user_tz": -330
    },
    "id": "CDhvVsKk_cNI",
    "outputId": "e3b9d484-4d9e-4fbd-c7d2-799d0d838ab9"
   },
   "outputs": [
    {
     "name": "stdout",
     "output_type": "stream",
     "text": [
      "=> using pre-trained model 'resnet152'\n"
     ]
    }
   ],
   "source": [
    "model = create_model(args.arch,\n",
    "                     num_labels=args.num_labels,\n",
    "                     fv_size=args.fv_size,\n",
    "                     pretrained=args.pretrained,\n",
    "                     resume=args.resume,\n",
    "                     distributed=args.distributed)"
   ]
  },
  {
   "cell_type": "code",
   "execution_count": 33,
   "metadata": {
    "colab": {
     "autoexec": {
      "startup": false,
      "wait_interval": 0
     },
     "base_uri": "https://localhost:8080/",
     "height": 34
    },
    "colab_type": "code",
    "executionInfo": {
     "elapsed": 990,
     "status": "ok",
     "timestamp": 1527001569282,
     "user": {
      "displayName": "Sourabh Daptardar",
      "photoUrl": "//lh4.googleusercontent.com/-onn5Q0_MiKQ/AAAAAAAAAAI/AAAAAAAACDI/iOxkSEz16nA/s50-c-k-no/photo.jpg",
      "userId": "115812262388010820083"
     },
     "user_tz": -330
    },
    "id": "yG1C75oXPLx8",
    "outputId": "c1d7369f-4563-4fbf-d155-62227edccd93"
   },
   "outputs": [
    {
     "name": "stdout",
     "output_type": "stream",
     "text": [
      "Neural Network has  58576147  trainable parameters\n"
     ]
    }
   ],
   "source": [
    "print(\"Neural Network has \", count_parameters(model), \" trainable parameters\")"
   ]
  },
  {
   "cell_type": "code",
   "execution_count": 34,
   "metadata": {},
   "outputs": [],
   "source": [
    "class WeightUpdateTracker:\n",
    "    \n",
    "    def __init__(self, model):\n",
    "        with torch.no_grad():\n",
    "            self.num_param_tensors = len(list(model.parameters()))\n",
    "            self.prev_pnorms = torch.zeros(self.num_param_tensors) \n",
    "            self.curr_pnorms = self.parameter_norms(model) \n",
    "\n",
    "    def parameter_norms(self, model):\n",
    "        with torch.no_grad():\n",
    "            pnorms = torch.zeros(self.num_param_tensors)\n",
    "            for i, x in enumerate(list(model.parameters())):\n",
    "                pnorms[i] = x.norm().item()\n",
    "            return pnorms\n",
    "        \n",
    "    def track(self, model):\n",
    "        with torch.no_grad():\n",
    "            self.prev_pnorms = self.curr_pnorms.clone()\n",
    "            self.curr_pnorms = self.parameter_norms(model)\n",
    "            self.delta = (self.curr_pnorms - self.prev_pnorms) / self.prev_pnorms\n",
    "\n",
    "            \n",
    "    def __repr__(self):\n",
    "        with torch.no_grad():\n",
    "            return self.delta.__repr__()\n",
    "        "
   ]
  },
  {
   "cell_type": "markdown",
   "metadata": {
    "colab_type": "text",
    "id": "VIILcEp9Rtz-"
   },
   "source": [
    "# Loss Function\n"
   ]
  },
  {
   "cell_type": "code",
   "execution_count": 35,
   "metadata": {},
   "outputs": [],
   "source": [
    "criterion = torch.nn.BCEWithLogitsLoss().cuda()"
   ]
  },
  {
   "cell_type": "markdown",
   "metadata": {
    "colab_type": "text",
    "id": "PICCxotzRt4z"
   },
   "source": [
    "# Update Rule"
   ]
  },
  {
   "cell_type": "code",
   "execution_count": 36,
   "metadata": {
    "colab": {
     "autoexec": {
      "startup": false,
      "wait_interval": 0
     }
    },
    "colab_type": "code",
    "id": "zaX2mCHTDgSi"
   },
   "outputs": [],
   "source": [
    "optimizer = optim.Adam(model.parameters(),\n",
    "                       amsgrad=True,\n",
    "                       lr=args.optimizer_learning_rate,\n",
    "                       betas=(0.9, 0.999),\n",
    "                       eps=1e-8,\n",
    "                       weight_decay=0.0\n",
    "                      )\n",
    "scheduler = lr_scheduler.ReduceLROnPlateau(optimizer,\n",
    "                                           # mode='max',   # accuracy measure\n",
    "                                           mode='min',   # loss\n",
    "                                           patience=args.scheduler_patience,\n",
    "                                           threshold=args.scheduler_threshold,\n",
    "                                           factor=args.scheduler_factor,\n",
    "                                           verbose=1\n",
    "                                          )\n"
   ]
  },
  {
   "cell_type": "markdown",
   "metadata": {
    "colab_type": "text",
    "id": "tCm_msJ0RuIu"
   },
   "source": [
    "# Training Loop\n"
   ]
  },
  {
   "cell_type": "code",
   "execution_count": 37,
   "metadata": {},
   "outputs": [],
   "source": [
    "def load_checkpoint(model, optimizer, scheduler, args, resume=True, ckpt=None):\n",
    "    \"\"\"optionally resume from a checkpoint.\"\"\"\n",
    "    best_top3 = 0\n",
    "    if args.resume:\n",
    "        if os.path.isfile(ckpt):\n",
    "            print(\"=> loading checkpoint '{}'\".format(ckpt))\n",
    "            checkpoint = torch.load(ckpt)\n",
    "            args.start_epoch = checkpoint['epoch']\n",
    "            best_top3 = checkpoint['best_top3']\n",
    "            model.load_state_dict(checkpoint['state_dict'])\n",
    "            optimizer.load_state_dict(checkpoint['optimizer'])\n",
    "          #  scheduler.load_state_dict(checkpoint['scheduler'])\n",
    "            print(\"=> loaded checkpoint '{}' (epoch {})\"\n",
    "                  .format(args.resume, checkpoint['epoch']))\n",
    "        else:\n",
    "            print(\"=> no checkpoint found at '{}'\".format(ckpt))\n",
    "            best_top3 = 0\n",
    "    return (model, optimizer, scheduler, args, best_top3)"
   ]
  },
  {
   "cell_type": "code",
   "execution_count": 38,
   "metadata": {},
   "outputs": [],
   "source": [
    "def save_checkpoint(state, is_best, filename='checkpoint.pth.tar', best_model_filename='model_best.pth.tar'):\n",
    "    torch.save(state, filename)\n",
    "    if is_best:\n",
    "        shutil.copyfile(filename, best_model_filename)"
   ]
  },
  {
   "cell_type": "code",
   "execution_count": 39,
   "metadata": {},
   "outputs": [],
   "source": [
    "class F1MicroAverageMeter(object):\n",
    "    \"\"\"Computes and stores F1 store\"\"\"\n",
    "    def __init__(self, threshold=0.5, small=1e-12):\n",
    "        self.threshold = threshold\n",
    "        self.small = small\n",
    "        self.reset()\n",
    "\n",
    "    def reset(self):\n",
    "        self.TP = 0.0\n",
    "        self.FP = 0.0\n",
    "        self.FN = 0.0\n",
    "        self.TN = 0.0\n",
    "        self.precision = 0.0\n",
    "        self.recall = 0.0\n",
    "        self.f1 = 0.0\n",
    "\n",
    "    def update(self, labels, pred):\n",
    "        tp, fp, fn, tn = self.confusion_matrix_(labels, pred)\n",
    "        self.TP += tp\n",
    "        self.FP += fp\n",
    "        self.FN += fn\n",
    "        self.TN += tn\n",
    "        self.precision = self.TP / (self.small + self.TP + self.FP)\n",
    "        self.recall = self.TP / (self.small + self.TP + self.FN)\n",
    "        self.f1 = (2.0 * self.precision * self.recall) / (self.small + self.precision + self.recall)\n",
    "        \n",
    "    def confusion_matrix_(self, labels, pred):\n",
    "        with torch.no_grad():\n",
    "            real = labels\n",
    "            fake = 1.0 - real\n",
    "            pos = pred.ge(self.threshold)\n",
    "            pos = pos.float()\n",
    "            neg = 1.0 - pos\n",
    "            tp = torch.sum(real * pos).item()\n",
    "            fp = torch.sum(fake * pos).item()\n",
    "            fn = torch.sum(real * neg).item()\n",
    "            tn = torch.sum(fake * neg).item()\n",
    "            return (tp, fp, fn, tn)\n",
    "              "
   ]
  },
  {
   "cell_type": "code",
   "execution_count": 40,
   "metadata": {},
   "outputs": [],
   "source": [
    "class F1MicroAverageMeterByTopK(object):\n",
    "    \"\"\"Computes and stores F1 store\"\"\"\n",
    "    def __init__(self, k=3, small=1e-12):\n",
    "        self.k = k\n",
    "        self.small = small\n",
    "        self.reset()\n",
    "\n",
    "    def reset(self):\n",
    "        self.TP = 0.0\n",
    "        self.FP = 0.0\n",
    "        self.FN = 0.0\n",
    "        self.TN = 0.0\n",
    "        self.precision = 0.0\n",
    "        self.recall = 0.0\n",
    "        self.f1 = 0.0\n",
    "\n",
    "    def update(self, labels, pred):\n",
    "        tp, fp, fn, tn = self.confusion_matrix_(labels, pred)\n",
    "        self.TP += tp\n",
    "        self.FP += fp\n",
    "        self.FN += fn\n",
    "        self.TN += tn\n",
    "        self.precision = self.TP / (self.small + self.TP + self.FP)\n",
    "        self.recall = self.TP / (self.small + self.TP + self.FN)\n",
    "        self.f1 = (2.0 * self.precision * self.recall) / (self.small + self.precision + self.recall)\n",
    "        \n",
    "    def confusion_matrix_(self, labels, pred):\n",
    "        with torch.no_grad():\n",
    "            real = labels\n",
    "            threshold = pred.topk(self.k)[0].min()\n",
    "            fake = 1.0 - real\n",
    "            pos = pred.ge(threshold)\n",
    "            pos = pos.float()\n",
    "            neg = 1.0 - pos\n",
    "            tp = torch.sum(real * pos).item()\n",
    "            fp = torch.sum(fake * pos).item()\n",
    "            fn = torch.sum(real * neg).item()\n",
    "            tn = torch.sum(fake * neg).item()\n",
    "            return (tp, fp, fn, tn)\n",
    "              "
   ]
  },
  {
   "cell_type": "code",
   "execution_count": 41,
   "metadata": {},
   "outputs": [],
   "source": [
    "class TopKAccuracyMicroAverageMeter(object):\n",
    "    \"\"\"Computes and stores F1 store\"\"\"\n",
    "    def __init__(self, k=3, small=1e-12):\n",
    "        self.k = k\n",
    "        self.small = small\n",
    "        self.reset()\n",
    "\n",
    "    def reset(self):\n",
    "        self.TP = 0.0\n",
    "        self.FP = 0.0\n",
    "        self.FN = 0.0\n",
    "        self.TN = 0.0\n",
    "        self.accuracy = 0.0\n",
    "\n",
    "    def update(self, labels, pred):\n",
    "        tp, fp, fn, tn = self.confusion_matrix_(labels, pred)\n",
    "        self.TP += tp\n",
    "        self.FP += fp\n",
    "        self.FN += fn\n",
    "        self.TN += tn\n",
    "        self.accuracy = (self.TP + self.TN) / (self.small + self.TP + self.FP + self.TN + self.FN)\n",
    "        \n",
    "    def confusion_matrix_(self, labels, pred):\n",
    "        with torch.no_grad():\n",
    "            real = labels\n",
    "            threshold = pred.topk(self.k)[0].min()\n",
    "            fake = 1.0 - real\n",
    "            pos = pred.ge(threshold)\n",
    "            pos = pos.float()\n",
    "            neg = 1.0 - pos\n",
    "            tp = torch.sum(real * pos).item()\n",
    "            fp = torch.sum(fake * pos).item()\n",
    "            fn = torch.sum(real * neg).item()\n",
    "            tn = torch.sum(fake * neg).item()\n",
    "            return (tp, fp, fn, tn)\n",
    "              "
   ]
  },
  {
   "cell_type": "code",
   "execution_count": 42,
   "metadata": {},
   "outputs": [],
   "source": [
    "class AverageMeter(object):\n",
    "    \"\"\"Computes and stores the average and current value\"\"\"\n",
    "    def __init__(self):\n",
    "        self.reset()\n",
    "\n",
    "    def reset(self):\n",
    "        self.val = 0\n",
    "        self.avg = 0\n",
    "        self.sum = 0\n",
    "        self.count = 0\n",
    "\n",
    "    def update(self, val, n=1):\n",
    "        self.val = val\n",
    "        self.sum += val * n\n",
    "        self.count += n\n",
    "        self.avg = self.sum / self.count"
   ]
  },
  {
   "cell_type": "code",
   "execution_count": 43,
   "metadata": {},
   "outputs": [],
   "source": [
    "def adjust_learning_rate(optimizer, scheduler, epoch, measure, args):\n",
    "    if not args.test_overfit:\n",
    "        scheduler.step(measure)\n"
   ]
  },
  {
   "cell_type": "code",
   "execution_count": 44,
   "metadata": {},
   "outputs": [],
   "source": [
    "def train(train_loader, model, criterion, optimizer, epoch):\n",
    "    batch_time = AverageMeter()\n",
    "    data_time = AverageMeter()\n",
    "    loss_meter = AverageMeter()\n",
    "    top3 = TopKAccuracyMicroAverageMeter(k=3)\n",
    "\n",
    "    # switch to train mode\n",
    "    model.train()\n",
    "\n",
    "    end = time.time()\n",
    "    for i, (input, target) in enumerate(train_loader):\n",
    "        # measure data loading time\n",
    "        data_time.update(time.time() - end)\n",
    "\n",
    "        target = target.cuda(non_blocking=True)\n",
    "\n",
    "        # compute output\n",
    "        output = model(input)\n",
    "        loss = criterion(output, target)\n",
    "\n",
    "        # measure top-3 accuracy and record loss\n",
    "        loss_meter.update(loss.item(), input.size(0))\n",
    "        top3.update(target, torch.exp(output))\n",
    "\n",
    "        # compute gradient and do SGD step\n",
    "        optimizer.zero_grad()\n",
    "        loss.backward()\n",
    "        optimizer.step()\n",
    "\n",
    "        # measure elapsed time\n",
    "        batch_time.update(time.time() - end)\n",
    "        end = time.time()\n",
    "        \n",
    "        \n",
    "\n",
    "        if args.print_details and i % args.print_freq == 0:\n",
    "            print('Train: [{0}][{1}/{2}]\\t'\n",
    "                  'Time {batch_time.val:.3f} ({batch_time.avg:.3f})\\t'\n",
    "                  'Data {data_time.val:.3f} ({data_time.avg:.3f})\\t'\n",
    "                  'Loss {loss_meter.val:.4f} ({loss_meter.avg:.4f})\\t'\n",
    "                  'Top-3 {top3.accuracy:.3f}'.format(\n",
    "                   epoch, i, len(train_loader), batch_time=batch_time,\n",
    "                   data_time=data_time, loss_meter=loss_meter, top3=top3))\n",
    "            \n",
    "            \n",
    "    print('TRAIN: [{epoch}]\\t'\n",
    "          'Time {epoch_time:.3f}\\t'\n",
    "          'Data {epoch_data_time:.3f}\\t'\n",
    "          'Loss {loss_meter.avg:.4f}\\t'\n",
    "          'Top-3 {top3.accuracy:.3f}'.format(epoch=epoch,\n",
    "                                             epoch_time=batch_time.sum,\n",
    "                                             epoch_data_time=data_time.sum,\n",
    "                                             loss_meter=loss_meter,\n",
    "                                             top3=top3))"
   ]
  },
  {
   "cell_type": "code",
   "execution_count": 45,
   "metadata": {},
   "outputs": [],
   "source": [
    "def validate(val_loader, model, criterion, epoch):\n",
    "    batch_time = AverageMeter()\n",
    "    loss_meter = AverageMeter()\n",
    "    top3 = TopKAccuracyMicroAverageMeter(k=3)\n",
    "\n",
    "    # switch to evaluate mode\n",
    "    model.eval()\n",
    "\n",
    "    with torch.no_grad():\n",
    "        end = time.time()\n",
    "        loss_avg_epoch = 0.0\n",
    "        for i, (input, target) in enumerate(val_loader):\n",
    "            target = target.cuda(non_blocking=True)\n",
    "\n",
    "            # compute output\n",
    "            output = model(input)\n",
    "            loss = criterion(output, target)\n",
    "\n",
    "            # measure F1 and record loss\n",
    "            loss_meter.update(loss.item(), input.size(0))\n",
    "            top3.update(target, torch.exp(output))\n",
    "            loss_avg_epoch = float(i * loss.item()) / float(i + 1)\n",
    "            \n",
    "            # measure elapsed time\n",
    "            batch_time.update(time.time() - end)\n",
    "            end = time.time()\n",
    "\n",
    "            if args.print_details and i % args.print_freq == 0:\n",
    "                 print('Val: [{0}/{1}]\\t'\n",
    "                      'Time {batch_time.val:.3f} ({batch_time.avg:.3f})\\t'\n",
    "                      'Loss {loss_meter.val:.4f} ({loss_meter.avg:.4f})\\t'\n",
    "                      'Top-3 {top3.accuracy:.3f}'.format(\n",
    "                       i, len(val_loader), batch_time=batch_time, loss_meter=loss_meter,\n",
    "                       top3=top3))\n",
    "\n",
    "#         print(' * Top-3 Accuracy {top3.accuracy:.3f}'\n",
    "#               .format(top3=top3))\n",
    "        print('VAL: [{epoch}]\\t'\n",
    "                      'Time {epoch_time:.3f}\\t'\n",
    "                      'Loss {loss_meter.avg:.4f}\\t'\n",
    "                      'Top-3 {top3.accuracy:.3f}'.format(epoch=epoch,\n",
    "                                                         epoch_time=batch_time.sum,\n",
    "                                                         loss_meter=loss_meter,\n",
    "                                                         top3=top3))\n",
    "\n",
    "    return top3.accuracy, loss_avg_epoch"
   ]
  },
  {
   "cell_type": "code",
   "execution_count": 46,
   "metadata": {},
   "outputs": [],
   "source": [
    "def test(ofname, pfname, args, test_dset,\n",
    "         test_loader, best_model_ckpt, model,\n",
    "         num_output_labels=3, epoch=0):\n",
    "    \n",
    "#     checkpoint = torch.load(best_model_ckpt)\n",
    "#     model.load_state_dict(checkpoint['state_dict'])\n",
    "    \n",
    "    batch_time = AverageMeter()\n",
    "    res = OrderedDict()\n",
    "\n",
    "    # switch to evaluate mode\n",
    "    model.eval()\n",
    "    \n",
    "    res = OrderedDict()\n",
    "\n",
    "    ofname_ = \"%s%s%03d_%s\" % (os.path.dirname(ofname), os.sep, epoch, os.path.basename(ofname))\n",
    "    with open(ofname_, \"w\") as ofd:\n",
    "        ofd.write(\"image_name,label1 label2 label3\\n\")\n",
    "        with torch.no_grad():\n",
    "            end = time.time()\n",
    "            index = 0\n",
    "            for i, input in enumerate(test_loader):\n",
    "                # compute output\n",
    "                output = model(input)\n",
    "                res = torch.exp(output).topk(num_output_labels, dim=1)[1].cpu().numpy().tolist()\n",
    "                # measure elapsed time\n",
    "                batch_time.update(time.time() - end)\n",
    "                end = time.time()\n",
    "               \n",
    "                if args.print_details and i % args.print_freq == 0:\n",
    "                     print('Test: [{0}/{1}]\\t'\n",
    "                          'Time {batch_time.val:.3f} ({batch_time.avg:.3f})\\t'.format(\n",
    "                           i, len(test_loader), batch_time=batch_time))\n",
    "            \n",
    "                for j, resj in enumerate(res):\n",
    "                    ofd.write(\"%s,%s\\n\" % (os.path.basename(test_dset.images[test_dset.image_ids[index+j]]), \" \".join(map(str, resj))))\n",
    "\n",
    "                index += output.shape[0]\n",
    "                    \n",
    "            \n",
    "            print('TEST: [{epoch}]\\t'\n",
    "                  'Time {epoch_time:.3f})\\t'.format(epoch=epoch, epoch_time=batch_time.sum))\n",
    "\n",
    "\n",
    "            \n",
    "\n",
    "    pfname_ = \"%s%s%03d_%s\" % (os.path.dirname(pfname), os.sep, epoch, os.path.basename(pfname))\n",
    "    with open(pfname_, \"w\") as pfd:\n",
    "        json.dump(vars(args), pfd, sort_keys=True, indent=4)\n",
    "            \n",
    "    print(\"Output written to %s\\n\" % ofname_)\n",
    "    print(\"Program parameters written to %s\\n\" % pfname_)\n",
    "    sys.stdout.flush()"
   ]
  },
  {
   "cell_type": "code",
   "execution_count": 47,
   "metadata": {},
   "outputs": [],
   "source": [
    "def train_loop(train_loader, val_loader, test_loader, test_dset, args, optimizer, scheduler, model, criterion, num_output_labels=3):\n",
    "    if args.evaluate:\n",
    "        validate(val_loader, model, criterion)\n",
    "    else:\n",
    "        model, optimizer, scheduler, args, best_top3 = load_checkpoint(model, optimizer, scheduler, args, resume=args.resume, ckpt=args.ckpt)\n",
    "        wut = None\n",
    "        if args.debug_weights:\n",
    "            wut = WeightUpdateTracker(model)\n",
    "        for epoch in range(args.start_epoch, args.epochs):\n",
    "            if args.distributed:\n",
    "                train_sampler.set_epoch(epoch)\n",
    "    #         adjust_learning_rate(optimizer, epoch)\n",
    "\n",
    "            # train for one epoch\n",
    "            train(train_loader, model, criterion, optimizer, epoch)\n",
    "\n",
    "            if args.debug_weights:\n",
    "                # debug: track weight updates\n",
    "                wut.track(model)\n",
    "                print(wut)\n",
    "\n",
    "            # evaluate on validation set\n",
    "            top3, val_loss = validate(val_loader, model, criterion, epoch)\n",
    "\n",
    "            # remember best top-3 accuracy and save checkpoint\n",
    "            is_best = top3 > best_top3\n",
    "            best_top3 = max(top3, best_top3)\n",
    "            save_checkpoint({\n",
    "                'epoch': epoch + 1,\n",
    "                'arch': args.arch,\n",
    "                'state_dict': model.state_dict(),\n",
    "                'best_top3': best_top3,\n",
    "                'optimizer' : optimizer.state_dict(),\n",
    "               # 'scheduler' : scheduler.state_dict(),\n",
    "            }, is_best, filename=args.ckpt, best_model_filename=args.best)\n",
    "\n",
    "            if is_best:\n",
    "                print(\"BEST at epoch: \", epoch)\n",
    "                sys.stdout.flush()\n",
    "#             adjust_learning_rate(optimizer, scheduler, epoch, top3, args)\n",
    "            adjust_learning_rate(optimizer, scheduler, epoch, val_loss, args)\n",
    "            test(args.output_file, args.params_file, args, test_dset, test_loader, args.best, model, num_output_labels=args.num_output_labels, epoch=epoch)            \n",
    "            rsync_and_verify(args.base_dir, args.perm_dir)\n"
   ]
  },
  {
   "cell_type": "code",
   "execution_count": null,
   "metadata": {
    "scrolled": false
   },
   "outputs": [
    {
     "name": "stdout",
     "output_type": "stream",
     "text": [
      "TRAIN: [0]\tTime 233.414\tData 35.505\tLoss 0.0322\tTop-3 0.674\n",
      "VAL: [0]\tTime 20.904\tLoss 50343.3690\tTop-3 0.005\n",
      "BEST at epoch:  0\n",
      "TEST: [0]\tTime 37.352)\t\n",
      "Output written to /mnt/ram-disk/imaterialist_fashion/data_ifood/output/submissions/000_output_deccanlearners_resnet152_gpu-vm_20180613041403181642.csv\n",
      "\n",
      "Program parameters written to /mnt/ram-disk/imaterialist_fashion/data_ifood/output/submissions/000_params_deccanlearners_resnet152_gpu-vm_20180613041403181642.json\n",
      "\n",
      "Rsync /mnt/ram-disk/imaterialist_fashion to /mnt/disks/imaterialist_fashion on gpu-vm\n",
      "\n",
      "attempt 0\n",
      "('rsync -a --copy-links  /mnt/ram-disk/imaterialist_fashion/ '\n",
      " '/mnt/disks/imaterialist_fashion/')\n",
      "b''\n",
      "TRAIN: [1]\tTime 170.601\tData 36.352\tLoss 0.0269\tTop-3 0.843\n",
      "VAL: [1]\tTime 21.043\tLoss 341069519839850.1875\tTop-3 0.005\n",
      "TEST: [1]\tTime 36.585)\t\n",
      "Output written to /mnt/ram-disk/imaterialist_fashion/data_ifood/output/submissions/001_output_deccanlearners_resnet152_gpu-vm_20180613041403181642.csv\n",
      "\n",
      "Program parameters written to /mnt/ram-disk/imaterialist_fashion/data_ifood/output/submissions/001_params_deccanlearners_resnet152_gpu-vm_20180613041403181642.json\n",
      "\n",
      "Rsync /mnt/ram-disk/imaterialist_fashion to /mnt/disks/imaterialist_fashion on gpu-vm\n",
      "\n",
      "attempt 0\n",
      "('rsync -a --copy-links  /mnt/ram-disk/imaterialist_fashion/ '\n",
      " '/mnt/disks/imaterialist_fashion/')\n",
      "b''\n",
      "TRAIN: [2]\tTime 166.736\tData 34.021\tLoss 0.0284\tTop-3 0.852\n",
      "VAL: [2]\tTime 20.979\tLoss 1747885451.0728\tTop-3 0.005\n",
      "Epoch     2: reducing learning rate of group 0 to 1.0000e-04.\n",
      "TEST: [2]\tTime 36.615)\t\n",
      "Output written to /mnt/ram-disk/imaterialist_fashion/data_ifood/output/submissions/002_output_deccanlearners_resnet152_gpu-vm_20180613041403181642.csv\n",
      "\n",
      "Program parameters written to /mnt/ram-disk/imaterialist_fashion/data_ifood/output/submissions/002_params_deccanlearners_resnet152_gpu-vm_20180613041403181642.json\n",
      "\n",
      "Rsync /mnt/ram-disk/imaterialist_fashion to /mnt/disks/imaterialist_fashion on gpu-vm\n",
      "\n",
      "attempt 0\n",
      "('rsync -a --copy-links  /mnt/ram-disk/imaterialist_fashion/ '\n",
      " '/mnt/disks/imaterialist_fashion/')\n",
      "b''\n",
      "TRAIN: [3]\tTime 166.552\tData 31.133\tLoss 0.0293\tTop-3 0.809\n",
      "VAL: [3]\tTime 21.266\tLoss 959505.5959\tTop-3 0.005\n",
      "TEST: [3]\tTime 37.687)\t\n",
      "Output written to /mnt/ram-disk/imaterialist_fashion/data_ifood/output/submissions/003_output_deccanlearners_resnet152_gpu-vm_20180613041403181642.csv\n",
      "\n",
      "Program parameters written to /mnt/ram-disk/imaterialist_fashion/data_ifood/output/submissions/003_params_deccanlearners_resnet152_gpu-vm_20180613041403181642.json\n",
      "\n",
      "Rsync /mnt/ram-disk/imaterialist_fashion to /mnt/disks/imaterialist_fashion on gpu-vm\n",
      "\n",
      "attempt 0\n",
      "('rsync -a --copy-links  /mnt/ram-disk/imaterialist_fashion/ '\n",
      " '/mnt/disks/imaterialist_fashion/')\n",
      "b''\n",
      "TRAIN: [4]\tTime 166.405\tData 32.596\tLoss 0.0275\tTop-3 0.850\n",
      "VAL: [4]\tTime 20.991\tLoss 617844451.0162\tTop-3 0.005\n",
      "Epoch     4: reducing learning rate of group 0 to 1.0000e-05.\n",
      "TEST: [4]\tTime 37.111)\t\n",
      "Output written to /mnt/ram-disk/imaterialist_fashion/data_ifood/output/submissions/004_output_deccanlearners_resnet152_gpu-vm_20180613041403181642.csv\n",
      "\n",
      "Program parameters written to /mnt/ram-disk/imaterialist_fashion/data_ifood/output/submissions/004_params_deccanlearners_resnet152_gpu-vm_20180613041403181642.json\n",
      "\n",
      "Rsync /mnt/ram-disk/imaterialist_fashion to /mnt/disks/imaterialist_fashion on gpu-vm\n",
      "\n",
      "attempt 0\n",
      "('rsync -a --copy-links  /mnt/ram-disk/imaterialist_fashion/ '\n",
      " '/mnt/disks/imaterialist_fashion/')\n",
      "b''\n",
      "TRAIN: [5]\tTime 165.115\tData 29.334\tLoss 0.0269\tTop-3 0.865\n",
      "VAL: [5]\tTime 21.097\tLoss 0.1199\tTop-3 0.977\n",
      "BEST at epoch:  5\n",
      "TEST: [5]\tTime 36.430)\t\n",
      "Output written to /mnt/ram-disk/imaterialist_fashion/data_ifood/output/submissions/005_output_deccanlearners_resnet152_gpu-vm_20180613041403181642.csv\n",
      "\n",
      "Program parameters written to /mnt/ram-disk/imaterialist_fashion/data_ifood/output/submissions/005_params_deccanlearners_resnet152_gpu-vm_20180613041403181642.json\n",
      "\n",
      "Rsync /mnt/ram-disk/imaterialist_fashion to /mnt/disks/imaterialist_fashion on gpu-vm\n",
      "\n",
      "attempt 0\n",
      "('rsync -a --copy-links  /mnt/ram-disk/imaterialist_fashion/ '\n",
      " '/mnt/disks/imaterialist_fashion/')\n",
      "b''\n",
      "TRAIN: [6]\tTime 166.515\tData 29.310\tLoss 0.0268\tTop-3 0.866\n",
      "VAL: [6]\tTime 21.003\tLoss 0.1041\tTop-3 0.981\n",
      "BEST at epoch:  6\n",
      "TEST: [6]\tTime 36.797)\t\n",
      "Output written to /mnt/ram-disk/imaterialist_fashion/data_ifood/output/submissions/006_output_deccanlearners_resnet152_gpu-vm_20180613041403181642.csv\n",
      "\n",
      "Program parameters written to /mnt/ram-disk/imaterialist_fashion/data_ifood/output/submissions/006_params_deccanlearners_resnet152_gpu-vm_20180613041403181642.json\n",
      "\n",
      "Rsync /mnt/ram-disk/imaterialist_fashion to /mnt/disks/imaterialist_fashion on gpu-vm\n",
      "\n",
      "attempt 0\n",
      "('rsync -a --copy-links  /mnt/ram-disk/imaterialist_fashion/ '\n",
      " '/mnt/disks/imaterialist_fashion/')\n",
      "b''\n",
      "TRAIN: [7]\tTime 165.657\tData 27.219\tLoss 0.0267\tTop-3 0.865\n",
      "VAL: [7]\tTime 21.335\tLoss 0.1019\tTop-3 0.981\n",
      "TEST: [7]\tTime 37.834)\t\n",
      "Output written to /mnt/ram-disk/imaterialist_fashion/data_ifood/output/submissions/007_output_deccanlearners_resnet152_gpu-vm_20180613041403181642.csv\n",
      "\n",
      "Program parameters written to /mnt/ram-disk/imaterialist_fashion/data_ifood/output/submissions/007_params_deccanlearners_resnet152_gpu-vm_20180613041403181642.json\n",
      "\n",
      "Rsync /mnt/ram-disk/imaterialist_fashion to /mnt/disks/imaterialist_fashion on gpu-vm\n",
      "\n",
      "attempt 0\n",
      "('rsync -a --copy-links  /mnt/ram-disk/imaterialist_fashion/ '\n",
      " '/mnt/disks/imaterialist_fashion/')\n",
      "b''\n",
      "TRAIN: [8]\tTime 166.995\tData 32.951\tLoss 0.0266\tTop-3 0.867\n",
      "VAL: [8]\tTime 20.782\tLoss 0.1023\tTop-3 0.981\n",
      "TEST: [8]\tTime 37.123)\t\n",
      "Output written to /mnt/ram-disk/imaterialist_fashion/data_ifood/output/submissions/008_output_deccanlearners_resnet152_gpu-vm_20180613041403181642.csv\n",
      "\n",
      "Program parameters written to /mnt/ram-disk/imaterialist_fashion/data_ifood/output/submissions/008_params_deccanlearners_resnet152_gpu-vm_20180613041403181642.json\n",
      "\n",
      "Rsync /mnt/ram-disk/imaterialist_fashion to /mnt/disks/imaterialist_fashion on gpu-vm\n",
      "\n",
      "attempt 0\n",
      "('rsync -a --copy-links  /mnt/ram-disk/imaterialist_fashion/ '\n",
      " '/mnt/disks/imaterialist_fashion/')\n",
      "b''\n",
      "TRAIN: [9]\tTime 167.094\tData 35.279\tLoss 0.0266\tTop-3 0.868\n",
      "VAL: [9]\tTime 22.000\tLoss 0.0929\tTop-3 0.981\n",
      "TEST: [9]\tTime 37.566)\t\n",
      "Output written to /mnt/ram-disk/imaterialist_fashion/data_ifood/output/submissions/009_output_deccanlearners_resnet152_gpu-vm_20180613041403181642.csv\n",
      "\n",
      "Program parameters written to /mnt/ram-disk/imaterialist_fashion/data_ifood/output/submissions/009_params_deccanlearners_resnet152_gpu-vm_20180613041403181642.json\n",
      "\n",
      "Rsync /mnt/ram-disk/imaterialist_fashion to /mnt/disks/imaterialist_fashion on gpu-vm\n",
      "\n",
      "attempt 0\n",
      "('rsync -a --copy-links  /mnt/ram-disk/imaterialist_fashion/ '\n",
      " '/mnt/disks/imaterialist_fashion/')\n",
      "b''\n",
      "TRAIN: [10]\tTime 167.633\tData 34.034\tLoss 0.0265\tTop-3 0.869\n",
      "VAL: [10]\tTime 21.200\tLoss 0.0986\tTop-3 0.981\n",
      "TEST: [10]\tTime 36.948)\t\n",
      "Output written to /mnt/ram-disk/imaterialist_fashion/data_ifood/output/submissions/010_output_deccanlearners_resnet152_gpu-vm_20180613041403181642.csv\n",
      "\n",
      "Program parameters written to /mnt/ram-disk/imaterialist_fashion/data_ifood/output/submissions/010_params_deccanlearners_resnet152_gpu-vm_20180613041403181642.json\n",
      "\n",
      "Rsync /mnt/ram-disk/imaterialist_fashion to /mnt/disks/imaterialist_fashion on gpu-vm\n",
      "\n",
      "attempt 0\n",
      "('rsync -a --copy-links  /mnt/ram-disk/imaterialist_fashion/ '\n",
      " '/mnt/disks/imaterialist_fashion/')\n",
      "b''\n",
      "TRAIN: [11]\tTime 165.448\tData 29.935\tLoss 0.0265\tTop-3 0.872\n",
      "VAL: [11]\tTime 21.426\tLoss 0.1065\tTop-3 0.981\n",
      "Epoch    11: reducing learning rate of group 0 to 1.0000e-06.\n",
      "TEST: [11]\tTime 36.729)\t\n",
      "Output written to /mnt/ram-disk/imaterialist_fashion/data_ifood/output/submissions/011_output_deccanlearners_resnet152_gpu-vm_20180613041403181642.csv\n",
      "\n",
      "Program parameters written to /mnt/ram-disk/imaterialist_fashion/data_ifood/output/submissions/011_params_deccanlearners_resnet152_gpu-vm_20180613041403181642.json\n",
      "\n",
      "Rsync /mnt/ram-disk/imaterialist_fashion to /mnt/disks/imaterialist_fashion on gpu-vm\n",
      "\n",
      "attempt 0\n",
      "('rsync -a --copy-links  /mnt/ram-disk/imaterialist_fashion/ '\n",
      " '/mnt/disks/imaterialist_fashion/')\n",
      "b''\n",
      "TRAIN: [12]\tTime 167.366\tData 35.736\tLoss 0.0264\tTop-3 0.868\n",
      "VAL: [12]\tTime 21.496\tLoss 0.0624\tTop-3 0.945\n",
      "TEST: [12]\tTime 36.947)\t\n",
      "Output written to /mnt/ram-disk/imaterialist_fashion/data_ifood/output/submissions/012_output_deccanlearners_resnet152_gpu-vm_20180613041403181642.csv\n",
      "\n",
      "Program parameters written to /mnt/ram-disk/imaterialist_fashion/data_ifood/output/submissions/012_params_deccanlearners_resnet152_gpu-vm_20180613041403181642.json\n",
      "\n"
     ]
    },
    {
     "name": "stdout",
     "output_type": "stream",
     "text": [
      "Rsync /mnt/ram-disk/imaterialist_fashion to /mnt/disks/imaterialist_fashion on gpu-vm\n",
      "\n",
      "attempt 0\n",
      "('rsync -a --copy-links  /mnt/ram-disk/imaterialist_fashion/ '\n",
      " '/mnt/disks/imaterialist_fashion/')\n",
      "b''\n",
      "TRAIN: [13]\tTime 167.132\tData 32.504\tLoss 0.0264\tTop-3 0.873\n",
      "VAL: [13]\tTime 21.609\tLoss 0.0626\tTop-3 0.945\n",
      "TEST: [13]\tTime 36.995)\t\n",
      "Output written to /mnt/ram-disk/imaterialist_fashion/data_ifood/output/submissions/013_output_deccanlearners_resnet152_gpu-vm_20180613041403181642.csv\n",
      "\n",
      "Program parameters written to /mnt/ram-disk/imaterialist_fashion/data_ifood/output/submissions/013_params_deccanlearners_resnet152_gpu-vm_20180613041403181642.json\n",
      "\n",
      "Rsync /mnt/ram-disk/imaterialist_fashion to /mnt/disks/imaterialist_fashion on gpu-vm\n",
      "\n",
      "attempt 0\n",
      "('rsync -a --copy-links  /mnt/ram-disk/imaterialist_fashion/ '\n",
      " '/mnt/disks/imaterialist_fashion/')\n",
      "b''\n",
      "TRAIN: [14]\tTime 166.685\tData 30.400\tLoss 0.0264\tTop-3 0.872\n",
      "VAL: [14]\tTime 21.565\tLoss 0.0589\tTop-3 0.949\n",
      "TEST: [14]\tTime 37.309)\t\n",
      "Output written to /mnt/ram-disk/imaterialist_fashion/data_ifood/output/submissions/014_output_deccanlearners_resnet152_gpu-vm_20180613041403181642.csv\n",
      "\n",
      "Program parameters written to /mnt/ram-disk/imaterialist_fashion/data_ifood/output/submissions/014_params_deccanlearners_resnet152_gpu-vm_20180613041403181642.json\n",
      "\n",
      "Rsync /mnt/ram-disk/imaterialist_fashion to /mnt/disks/imaterialist_fashion on gpu-vm\n",
      "\n",
      "attempt 0\n",
      "('rsync -a --copy-links  /mnt/ram-disk/imaterialist_fashion/ '\n",
      " '/mnt/disks/imaterialist_fashion/')\n",
      "b''\n",
      "TRAIN: [15]\tTime 166.089\tData 32.313\tLoss 0.0264\tTop-3 0.870\n",
      "VAL: [15]\tTime 21.745\tLoss 0.0604\tTop-3 0.951\n",
      "TEST: [15]\tTime 37.634)\t\n",
      "Output written to /mnt/ram-disk/imaterialist_fashion/data_ifood/output/submissions/015_output_deccanlearners_resnet152_gpu-vm_20180613041403181642.csv\n",
      "\n",
      "Program parameters written to /mnt/ram-disk/imaterialist_fashion/data_ifood/output/submissions/015_params_deccanlearners_resnet152_gpu-vm_20180613041403181642.json\n",
      "\n",
      "Rsync /mnt/ram-disk/imaterialist_fashion to /mnt/disks/imaterialist_fashion on gpu-vm\n",
      "\n",
      "attempt 0\n",
      "('rsync -a --copy-links  /mnt/ram-disk/imaterialist_fashion/ '\n",
      " '/mnt/disks/imaterialist_fashion/')\n",
      "b''\n",
      "TRAIN: [16]\tTime 166.956\tData 31.472\tLoss 0.0264\tTop-3 0.871\n",
      "VAL: [16]\tTime 20.801\tLoss 0.0606\tTop-3 0.949\n",
      "Epoch    16: reducing learning rate of group 0 to 1.0000e-07.\n",
      "TEST: [16]\tTime 37.115)\t\n",
      "Output written to /mnt/ram-disk/imaterialist_fashion/data_ifood/output/submissions/016_output_deccanlearners_resnet152_gpu-vm_20180613041403181642.csv\n",
      "\n",
      "Program parameters written to /mnt/ram-disk/imaterialist_fashion/data_ifood/output/submissions/016_params_deccanlearners_resnet152_gpu-vm_20180613041403181642.json\n",
      "\n",
      "Rsync /mnt/ram-disk/imaterialist_fashion to /mnt/disks/imaterialist_fashion on gpu-vm\n",
      "\n",
      "attempt 0\n",
      "('rsync -a --copy-links  /mnt/ram-disk/imaterialist_fashion/ '\n",
      " '/mnt/disks/imaterialist_fashion/')\n",
      "b''\n"
     ]
    }
   ],
   "source": [
    "train_loop(train_loader, val_loader, test_loader, test_dset, args, optimizer, scheduler, model, criterion, num_output_labels=args.num_output_labels)"
   ]
  },
  {
   "cell_type": "markdown",
   "metadata": {},
   "source": [
    "# Inference"
   ]
  },
  {
   "cell_type": "code",
   "execution_count": null,
   "metadata": {},
   "outputs": [],
   "source": [
    "# Move inference inside training loop for results from partially trained model\n",
    "#test(args.output_file, args.params_file, args, test_dset, test_loader, args.best, model, threshold=args.threshold)"
   ]
  },
  {
   "cell_type": "markdown",
   "metadata": {
    "colab_type": "text",
    "id": "gevaiXFORuTH"
   },
   "source": [
    "# Save Results"
   ]
  },
  {
   "cell_type": "markdown",
   "metadata": {
    "colab_type": "text",
    "id": "XlL1brDNRucP"
   },
   "source": []
  },
  {
   "cell_type": "code",
   "execution_count": null,
   "metadata": {},
   "outputs": [],
   "source": []
  },
  {
   "cell_type": "markdown",
   "metadata": {
    "colab": {
     "autoexec": {
      "startup": false,
      "wait_interval": 0
     }
    },
    "colab_type": "code",
    "id": "PT9Shf_MRhui"
   },
   "source": []
  }
 ],
 "metadata": {
  "accelerator": "GPU",
  "colab": {
   "collapsed_sections": [],
   "default_view": {},
   "name": "TrainLoop.ipynb",
   "provenance": [],
   "version": "0.3.2",
   "views": {}
  },
  "kernelspec": {
   "display_name": "Python [default]",
   "language": "python",
   "name": "python3"
  },
  "language_info": {
   "codemirror_mode": {
    "name": "ipython",
    "version": 3
   },
   "file_extension": ".py",
   "mimetype": "text/x-python",
   "name": "python",
   "nbconvert_exporter": "python",
   "pygments_lexer": "ipython3",
   "version": "3.6.5"
  }
 },
 "nbformat": 4,
 "nbformat_minor": 1
}
