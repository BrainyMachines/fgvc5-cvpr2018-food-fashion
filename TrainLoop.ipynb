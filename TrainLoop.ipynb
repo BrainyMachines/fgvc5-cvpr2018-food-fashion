{
  "nbformat": 4,
  "nbformat_minor": 0,
  "metadata": {
    "colab": {
      "name": "TrainLoop.ipynb",
      "version": "0.3.2",
      "views": {},
      "default_view": {},
      "provenance": [],
      "collapsed_sections": []
    },
    "kernelspec": {
      "name": "python3",
      "display_name": "Python 3"
    },
    "accelerator": "GPU"
  },
  "cells": [
    {
      "metadata": {
        "id": "4OGEu9nITbnO",
        "colab_type": "text"
      },
      "cell_type": "markdown",
      "source": [
        "# Install Torch"
      ]
    },
    {
      "metadata": {
        "id": "uX687hj69g9g",
        "colab_type": "code",
        "colab": {
          "autoexec": {
            "startup": false,
            "wait_interval": 0
          }
        }
      },
      "cell_type": "code",
      "source": [
        "torchver = \"0.4.0\""
      ],
      "execution_count": 0,
      "outputs": []
    },
    {
      "metadata": {
        "id": "_gX52NUpzIYC",
        "colab_type": "code",
        "colab": {
          "autoexec": {
            "startup": false,
            "wait_interval": 0
          },
          "base_uri": "https://localhost:8080/",
          "height": 306
        },
        "outputId": "311649d4-8385-4c39-b984-1846818c2388",
        "executionInfo": {
          "status": "ok",
          "timestamp": 1527015382182,
          "user_tz": -330,
          "elapsed": 1967,
          "user": {
            "displayName": "Sourabh Daptardar",
            "photoUrl": "//lh4.googleusercontent.com/-onn5Q0_MiKQ/AAAAAAAAAAI/AAAAAAAACDI/iOxkSEz16nA/s50-c-k-no/photo.jpg",
            "userId": "115812262388010820083"
          }
        }
      },
      "cell_type": "code",
      "source": [
        "!/opt/bin/nvidia-smi || /usr/bin/nvidia-smi"
      ],
      "execution_count": 2,
      "outputs": [
        {
          "output_type": "stream",
          "text": [
            "Tue May 22 18:56:21 2018       \r\n",
            "+-----------------------------------------------------------------------------+\r\n",
            "| NVIDIA-SMI 384.111                Driver Version: 384.111                   |\r\n",
            "|-------------------------------+----------------------+----------------------+\r\n",
            "| GPU  Name        Persistence-M| Bus-Id        Disp.A | Volatile Uncorr. ECC |\r\n",
            "| Fan  Temp  Perf  Pwr:Usage/Cap|         Memory-Usage | GPU-Util  Compute M. |\r\n",
            "|===============================+======================+======================|\r\n",
            "|   0  Tesla K80           Off  | 00000000:00:04.0 Off |                    0 |\r\n",
            "| N/A   49C    P8    30W / 149W |      0MiB / 11439MiB |      0%      Default |\r\n",
            "+-------------------------------+----------------------+----------------------+\r\n",
            "                                                                               \r\n",
            "+-----------------------------------------------------------------------------+\r\n",
            "| Processes:                                                       GPU Memory |\r\n",
            "|  GPU       PID   Type   Process name                             Usage      |\r\n",
            "|=============================================================================|\r\n",
            "|  No running processes found                                                 |\r\n",
            "+-----------------------------------------------------------------------------+\r\n"
          ],
          "name": "stdout"
        }
      ]
    },
    {
      "metadata": {
        "id": "Z0wFaqgbE4wI",
        "colab_type": "code",
        "colab": {
          "autoexec": {
            "startup": false,
            "wait_interval": 0
          },
          "base_uri": "https://localhost:8080/",
          "height": 51
        },
        "outputId": "feb79b53-fdc9-45eb-92c7-7dff6334c183",
        "executionInfo": {
          "status": "ok",
          "timestamp": 1527015384289,
          "user_tz": -330,
          "elapsed": 2037,
          "user": {
            "displayName": "Sourabh Daptardar",
            "photoUrl": "//lh4.googleusercontent.com/-onn5Q0_MiKQ/AAAAAAAAAAI/AAAAAAAACDI/iOxkSEz16nA/s50-c-k-no/photo.jpg",
            "userId": "115812262388010820083"
          }
        }
      },
      "cell_type": "code",
      "source": [
        "!ls /colabtools"
      ],
      "execution_count": 3,
      "outputs": [
        {
          "output_type": "stream",
          "text": [
            "cloudbuild\t dist\t google_colab.egg-info\tMANIFEST.in  setup.cfg\ttests\r\n",
            "CONTRIBUTING.md  google  LICENSE\t\tREADME.md    setup.py\ttox.ini\r\n"
          ],
          "name": "stdout"
        }
      ]
    },
    {
      "metadata": {
        "id": "G4WvjiCDzWPR",
        "colab_type": "code",
        "colab": {
          "autoexec": {
            "startup": false,
            "wait_interval": 0
          },
          "base_uri": "https://localhost:8080/",
          "height": 34
        },
        "outputId": "708f088a-9f78-4a08-9811-145b8874105b",
        "executionInfo": {
          "status": "ok",
          "timestamp": 1527015386438,
          "user_tz": -330,
          "elapsed": 2121,
          "user": {
            "displayName": "Sourabh Daptardar",
            "photoUrl": "//lh4.googleusercontent.com/-onn5Q0_MiKQ/AAAAAAAAAAI/AAAAAAAACDI/iOxkSEz16nA/s50-c-k-no/photo.jpg",
            "userId": "115812262388010820083"
          }
        }
      },
      "cell_type": "code",
      "source": [
        "!python --version"
      ],
      "execution_count": 4,
      "outputs": [
        {
          "output_type": "stream",
          "text": [
            "Python 3.6.3\r\n"
          ],
          "name": "stdout"
        }
      ]
    },
    {
      "metadata": {
        "id": "g7awEd2R91eS",
        "colab_type": "code",
        "colab": {
          "autoexec": {
            "startup": false,
            "wait_interval": 0
          }
        }
      },
      "cell_type": "code",
      "source": [
        ""
      ],
      "execution_count": 0,
      "outputs": []
    },
    {
      "metadata": {
        "id": "z85P4eDZNSdu",
        "colab_type": "code",
        "colab": {
          "autoexec": {
            "startup": false,
            "wait_interval": 0
          },
          "base_uri": "https://localhost:8080/",
          "height": 187
        },
        "outputId": "26542569-3f96-4bc5-de5b-3d8c51c98f75",
        "executionInfo": {
          "status": "ok",
          "timestamp": 1527015392777,
          "user_tz": -330,
          "elapsed": 5041,
          "user": {
            "displayName": "Sourabh Daptardar",
            "photoUrl": "//lh4.googleusercontent.com/-onn5Q0_MiKQ/AAAAAAAAAAI/AAAAAAAACDI/iOxkSEz16nA/s50-c-k-no/photo.jpg",
            "userId": "115812262388010820083"
          }
        }
      },
      "cell_type": "code",
      "source": [
        "!pip3 uninstall -y pillow\n",
        "!CC=\"cc -mavx2\" pip3 install -U --force-reinstall pillow-simd\n"
      ],
      "execution_count": 5,
      "outputs": [
        {
          "output_type": "stream",
          "text": [
            "Uninstalling Pillow-5.1.0:\n",
            "  Successfully uninstalled Pillow-5.1.0\n",
            "Collecting pillow-simd\n",
            "\u001b[31mtorchvision 0.2.1 requires pillow>=4.1.1, which is not installed.\u001b[0m\n",
            "\u001b[31mscikit-image 0.13.1 requires pillow>=2.1.0, which is not installed.\u001b[0m\n",
            "Installing collected packages: pillow-simd\n",
            "  Found existing installation: Pillow-SIMD 5.1.1.post0\n",
            "    Uninstalling Pillow-SIMD-5.1.1.post0:\n",
            "      Successfully uninstalled Pillow-SIMD-5.1.1.post0\n",
            "Successfully installed pillow-simd-5.1.1.post0\n"
          ],
          "name": "stdout"
        }
      ]
    },
    {
      "metadata": {
        "id": "7FiDFXCiT8wS",
        "colab_type": "code",
        "colab": {
          "autoexec": {
            "startup": false,
            "wait_interval": 0
          },
          "base_uri": "https://localhost:8080/",
          "height": 309
        },
        "outputId": "6a582c41-86d8-4fac-bdfd-b1008bba2099",
        "executionInfo": {
          "status": "ok",
          "timestamp": 1527015396225,
          "user_tz": -330,
          "elapsed": 3414,
          "user": {
            "displayName": "Sourabh Daptardar",
            "photoUrl": "//lh4.googleusercontent.com/-onn5Q0_MiKQ/AAAAAAAAAAI/AAAAAAAACDI/iOxkSEz16nA/s50-c-k-no/photo.jpg",
            "userId": "115812262388010820083"
          }
        }
      },
      "cell_type": "code",
      "source": [
        "\n",
        "!pip3 install ipdb\n"
      ],
      "execution_count": 6,
      "outputs": [
        {
          "output_type": "stream",
          "text": [
            "Requirement already satisfied: ipdb in /usr/local/lib/python3.6/dist-packages (0.11)\r\n",
            "Requirement already satisfied: ipython>=5.0.0; python_version >= \"3.3\" in /usr/local/lib/python3.6/dist-packages (from ipdb) (5.5.0)\n",
            "Requirement already satisfied: setuptools in /usr/local/lib/python3.6/dist-packages (from ipdb) (39.2.0)\n",
            "Requirement already satisfied: pygments in /usr/local/lib/python3.6/dist-packages (from ipython>=5.0.0; python_version >= \"3.3\"->ipdb) (2.1.3)\n",
            "Requirement already satisfied: decorator in /usr/local/lib/python3.6/dist-packages (from ipython>=5.0.0; python_version >= \"3.3\"->ipdb) (4.3.0)\n",
            "Requirement already satisfied: pexpect; sys_platform != \"win32\" in /usr/local/lib/python3.6/dist-packages (from ipython>=5.0.0; python_version >= \"3.3\"->ipdb) (4.5.0)\n",
            "Requirement already satisfied: prompt-toolkit<2.0.0,>=1.0.4 in /usr/local/lib/python3.6/dist-packages (from ipython>=5.0.0; python_version >= \"3.3\"->ipdb) (1.0.15)\n",
            "Requirement already satisfied: traitlets>=4.2 in /usr/local/lib/python3.6/dist-packages (from ipython>=5.0.0; python_version >= \"3.3\"->ipdb) (4.3.2)\n",
            "Requirement already satisfied: simplegeneric>0.8 in /usr/local/lib/python3.6/dist-packages (from ipython>=5.0.0; python_version >= \"3.3\"->ipdb) (0.8.1)\n",
            "Requirement already satisfied: pickleshare in /usr/local/lib/python3.6/dist-packages (from ipython>=5.0.0; python_version >= \"3.3\"->ipdb) (0.7.4)\n",
            "Requirement already satisfied: ptyprocess>=0.5 in /usr/local/lib/python3.6/dist-packages (from pexpect; sys_platform != \"win32\"->ipython>=5.0.0; python_version >= \"3.3\"->ipdb) (0.5.2)\n",
            "Requirement already satisfied: six>=1.9.0 in /usr/local/lib/python3.6/dist-packages (from prompt-toolkit<2.0.0,>=1.0.4->ipython>=5.0.0; python_version >= \"3.3\"->ipdb) (1.11.0)\n",
            "Requirement already satisfied: wcwidth in /usr/local/lib/python3.6/dist-packages (from prompt-toolkit<2.0.0,>=1.0.4->ipython>=5.0.0; python_version >= \"3.3\"->ipdb) (0.1.7)\n",
            "Requirement already satisfied: ipython-genutils in /usr/local/lib/python3.6/dist-packages (from traitlets>=4.2->ipython>=5.0.0; python_version >= \"3.3\"->ipdb) (0.2.0)\n",
            "\u001b[31mtorchvision 0.2.1 requires pillow>=4.1.1, which is not installed.\u001b[0m\n",
            "\u001b[31mscikit-image 0.13.1 requires pillow>=2.1.0, which is not installed.\u001b[0m\n"
          ],
          "name": "stdout"
        }
      ]
    },
    {
      "metadata": {
        "id": "TAP3KzaO_3mr",
        "colab_type": "code",
        "colab": {
          "autoexec": {
            "startup": false,
            "wait_interval": 0
          },
          "base_uri": "https://localhost:8080/",
          "height": 272
        },
        "outputId": "d48fd867-01ff-479d-a37e-82c0ac00ce44",
        "executionInfo": {
          "status": "ok",
          "timestamp": 1527015402414,
          "user_tz": -330,
          "elapsed": 6145,
          "user": {
            "displayName": "Sourabh Daptardar",
            "photoUrl": "//lh4.googleusercontent.com/-onn5Q0_MiKQ/AAAAAAAAAAI/AAAAAAAACDI/iOxkSEz16nA/s50-c-k-no/photo.jpg",
            "userId": "115812262388010820083"
          }
        }
      },
      "cell_type": "code",
      "source": [
        "\n",
        "from os import path\n",
        "from wheel.pep425tags import get_abbr_impl, get_impl_ver, get_abi_tag\n",
        "platform = '{}{}-{}'.format(get_abbr_impl(), get_impl_ver(), get_abi_tag())\n",
        "\n",
        "pver = !python --version |& awk '{print $2 }' | awk -F. '{ print $1$2}'\n",
        "pyver = pver[0]\n",
        "print(pyver)\n",
        "\n",
        "# cver = !echo \"cu`nvcc --version | sed \"s/ /\\n/g\" | grep -i release -A 1 | tail -n 1 | tr -d [\\.,]`\"\n",
        "# cudaver = cver[0]\n",
        "cudaver = 'cu91'\n",
        "\n",
        "accelerator =  cudaver if path.exists('/opt/bin/nvidia-smi') or path.exists('/usr/bin/nvidia-smi') else 'cpu'\n",
        "print(accelerator)\n",
        "\n",
        "torchurl = \"http://download.pytorch.org/whl/{0}/torch-{1}-cp{2}-cp{2}m-linux_x86_64.whl\".format(accelerator, torchver, pyver)\n",
        "print(torchurl)\n",
        "\n",
        "!pip3 install http://download.pytorch.org/whl/cu91/torch-0.4.0-cp36-cp36m-linux_x86_64.whl \n",
        "!pip3 install torchvision\n",
        "\n",
        "import torch\n",
        "import torchvision\n",
        "print(torchvision.get_image_backend())"
      ],
      "execution_count": 7,
      "outputs": [
        {
          "output_type": "stream",
          "text": [
            "36\n",
            "cu90\n",
            "http://download.pytorch.org/whl/cu90/torch-0.4.0-cp36-cp36m-linux_x86_64.whl\n",
            "Requirement already satisfied: torch==0.4.0 from http://download.pytorch.org/whl/cu90/torch-0.4.0-cp36-cp36m-linux_x86_64.whl in /usr/local/lib/python3.6/dist-packages (0.4.0)\n",
            "\u001b[31mtorchvision 0.2.1 requires pillow>=4.1.1, which is not installed.\u001b[0m\n",
            "\u001b[31mscikit-image 0.13.1 requires pillow>=2.1.0, which is not installed.\u001b[0m\n",
            "Requirement already satisfied: torchvision in /usr/local/lib/python3.6/dist-packages (0.2.1)\n",
            "Requirement already satisfied: numpy in /usr/local/lib/python3.6/dist-packages (from torchvision) (1.14.3)\n",
            "Requirement already satisfied: torch in /usr/local/lib/python3.6/dist-packages (from torchvision) (0.4.0)\n",
            "Collecting pillow>=4.1.1 (from torchvision)\n",
            "  Using cached https://files.pythonhosted.org/packages/5f/4b/8b54ab9d37b93998c81b364557dff9f61972c0f650efa0ceaf470b392740/Pillow-5.1.0-cp36-cp36m-manylinux1_x86_64.whl\n",
            "Requirement already satisfied: six in /usr/local/lib/python3.6/dist-packages (from torchvision) (1.11.0)\n",
            "Installing collected packages: pillow\n",
            "Successfully installed pillow-5.1.0\n",
            "PIL\n"
          ],
          "name": "stdout"
        }
      ]
    },
    {
      "metadata": {
        "id": "a4CFa1WLgoUX",
        "colab_type": "code",
        "colab": {
          "autoexec": {
            "startup": false,
            "wait_interval": 0
          },
          "base_uri": "https://localhost:8080/",
          "height": 34
        },
        "outputId": "cd632861-265b-4c66-bc57-fd7e2d6228ff",
        "executionInfo": {
          "status": "ok",
          "timestamp": 1527015405574,
          "user_tz": -330,
          "elapsed": 3083,
          "user": {
            "displayName": "Sourabh Daptardar",
            "photoUrl": "//lh4.googleusercontent.com/-onn5Q0_MiKQ/AAAAAAAAAAI/AAAAAAAACDI/iOxkSEz16nA/s50-c-k-no/photo.jpg",
            "userId": "115812262388010820083"
          }
        }
      },
      "cell_type": "code",
      "source": [
        "!pip3 install tqdm"
      ],
      "execution_count": 8,
      "outputs": [
        {
          "output_type": "stream",
          "text": [
            "Requirement already satisfied: tqdm in /usr/local/lib/python3.6/dist-packages (4.23.3)\r\n"
          ],
          "name": "stdout"
        }
      ]
    },
    {
      "metadata": {
        "id": "GZt8MRT5RfK6",
        "colab_type": "text"
      },
      "cell_type": "markdown",
      "source": [
        "# Imports"
      ]
    },
    {
      "metadata": {
        "id": "ZptSyG9oSN1c",
        "colab_type": "code",
        "colab": {
          "autoexec": {
            "startup": false,
            "wait_interval": 0
          }
        }
      },
      "cell_type": "code",
      "source": [
        "import torch\n",
        "import os\n",
        "import sys\n",
        "import logging\n",
        "import io\n",
        "from tqdm import tqdm\n",
        "from matplotlib.pyplot import imshow\n",
        "import numpy as np\n",
        "from PIL import Image\n",
        "import torch\n",
        "import torch.nn as nn\n",
        "import torch.nn.parallel\n",
        "import torch.backends.cudnn as cudnn\n",
        "import torch.distributed as dist\n",
        "import torch.optim as optim\n",
        "import torch.optim.lr_scheduler as lr_scheduler\n",
        "import torch.utils.data\n",
        "import torch.utils.data.distributed\n",
        "import torchvision.transforms as transforms\n",
        "import torchvision.datasets as datasets\n",
        "import torchvision.models as models"
      ],
      "execution_count": 0,
      "outputs": []
    },
    {
      "metadata": {
        "id": "IEEo0VYsZhvO",
        "colab_type": "code",
        "colab": {
          "autoexec": {
            "startup": false,
            "wait_interval": 0
          }
        }
      },
      "cell_type": "code",
      "source": [
        "%matplotlib inline"
      ],
      "execution_count": 0,
      "outputs": []
    },
    {
      "metadata": {
        "id": "N1BQLwQTWcKU",
        "colab_type": "text"
      },
      "cell_type": "markdown",
      "source": [
        "# Parameters"
      ]
    },
    {
      "metadata": {
        "id": "eM2a7qmqWh3Q",
        "colab_type": "code",
        "colab": {
          "autoexec": {
            "startup": false,
            "wait_interval": 0
          }
        }
      },
      "cell_type": "code",
      "source": [
        "base_dir = '/content/fashion'\n",
        "data_dir = base_dir + os.sep + 'data'\n",
        "input_dir = data_dir + os.sep + 'input'\n",
        "output_dir = data_dir + os.sep + 'output'\n",
        "train_zip = input_dir + os.sep + 'train_data.zip'\n",
        "val_zip = input_dir + os.sep + 'validation_data.zip'\n",
        "train_dir = input_dir + os.sep + 'train_data'\n",
        "val_dir = input_dir + os.sep + 'validation_data'\n",
        "train_id = \"1rx1rL8RUAggN4hKlrYLtpdQagtUWmIbO\"\n",
        "val_id = \"1U19eWiBFJ6wGcFk47l6g9mmoWp1i4hPY\"\n",
        "# train_labels_id = \"1NOoWniR3ioqPKbVWoaWGy4HPDzZAAJX9\"\n",
        "train_labels_id = \"1X7TpWyxxtmCT5rw__7OKus_W4fh8xpKO\" # small dataset\n",
        "val_labels_id = \"1d9RuQTx5E8qFxraIu6B4rDTOC4sx2xXT\"\n",
        "test_labels_id = \"1VwzGCJfOL13pk1Wi-xPHQ6mVnofy9_Z4\"\n",
        "# train_labels_json = input_dir + os.sep + 'train.json'\n",
        "train_labels_json = input_dir + os.sep + 'train_small.json' \n",
        "val_labels_json = input_dir + os.sep + 'validation.json'\n",
        "test_labels_json = input_dir + os.sep + 'test.json'\n",
        "num_labels = 228\n",
        "batch_size = 16\n",
        "image_min_size = 256\n",
        "nw_input_size = 224\n",
        "num_workers = 4\n",
        "imagenet_mean = [0.485, 0.456, 0.406]\n",
        "imagenet_std = [0.229, 0.224, 0.225]\n",
        "pretrain_dset_mean = imagenet_mean\n",
        "pretrain_dset_std = imagenet_std\n",
        "world_size = 1\n",
        "dist_url = 'file://' + output_dir + os.sep + 'dfile'\n",
        "dist_backend = 'gloo'\n",
        "distributed = world_size > 1\n",
        "arch = 'resnet50'\n",
        "fv_size = 2048\n",
        "pretrained = True\n",
        "resume = False\n",
        "small=1e-12                       # small value used for avoiding div by zero\n",
        "optimizer_learning_rate=1e-6      # Adam optimizer initial learning rate\n",
        "scheduler_patience=1              # Number of epochs with no improvement after which learning rate will be reduced\n",
        "scheduler_threshold=1e-3          # learning rate scheduler threshold for measuring the new optimum, to only focus on significant changes\n",
        "scheduler_factor=0.1              # learning rate scheduler factor by which the learning rate will be reduced. new_lr = lr * factor\n",
        "earlystopping_patience=1          # early stopping patience is the number of epochs with no improvement after which training will be stopped\n",
        "earlystopping_min_delta=1e-5      # minimum change in the monitored quantity to qualify as an improvement, i.e. an absolute change of less than min_delta, will count as no improvement\n",
        "\n",
        "\n"
      ],
      "execution_count": 0,
      "outputs": []
    },
    {
      "metadata": {
        "id": "90hY9m66UYPd",
        "colab_type": "code",
        "colab": {
          "autoexec": {
            "startup": false,
            "wait_interval": 0
          },
          "base_uri": "https://localhost:8080/",
          "height": 928
        },
        "outputId": "de44a4f5-386e-4243-b3bb-2da97134ce99",
        "executionInfo": {
          "status": "error",
          "timestamp": 1527015425722,
          "user_tz": -330,
          "elapsed": 1332,
          "user": {
            "displayName": "Sourabh Daptardar",
            "photoUrl": "//lh4.googleusercontent.com/-onn5Q0_MiKQ/AAAAAAAAAAI/AAAAAAAACDI/iOxkSEz16nA/s50-c-k-no/photo.jpg",
            "userId": "115812262388010820083"
          }
        }
      },
      "cell_type": "code",
      "source": [
        "print(torch.backends.cudnn.version())\n",
        "print(torch.cuda.is_available())\n",
        "print(torch.cuda.get_device_name(0))\n"
      ],
      "execution_count": 13,
      "outputs": [
        {
          "output_type": "stream",
          "text": [
            "7102\n",
            "False\n"
          ],
          "name": "stdout"
        },
        {
          "output_type": "error",
          "ename": "AssertionError",
          "evalue": "ignored",
          "traceback": [
            "\u001b[0;31m---------------------------------------------------------------------------\u001b[0m",
            "\u001b[0;31mAssertionError\u001b[0m                            Traceback (most recent call last)",
            "\u001b[0;32m<ipython-input-13-11c3ac9fc166>\u001b[0m in \u001b[0;36m<module>\u001b[0;34m()\u001b[0m\n\u001b[1;32m      1\u001b[0m \u001b[0mprint\u001b[0m\u001b[0;34m(\u001b[0m\u001b[0mtorch\u001b[0m\u001b[0;34m.\u001b[0m\u001b[0mbackends\u001b[0m\u001b[0;34m.\u001b[0m\u001b[0mcudnn\u001b[0m\u001b[0;34m.\u001b[0m\u001b[0mversion\u001b[0m\u001b[0;34m(\u001b[0m\u001b[0;34m)\u001b[0m\u001b[0;34m)\u001b[0m\u001b[0;34m\u001b[0m\u001b[0m\n\u001b[1;32m      2\u001b[0m \u001b[0mprint\u001b[0m\u001b[0;34m(\u001b[0m\u001b[0mtorch\u001b[0m\u001b[0;34m.\u001b[0m\u001b[0mcuda\u001b[0m\u001b[0;34m.\u001b[0m\u001b[0mis_available\u001b[0m\u001b[0;34m(\u001b[0m\u001b[0;34m)\u001b[0m\u001b[0;34m)\u001b[0m\u001b[0;34m\u001b[0m\u001b[0m\n\u001b[0;32m----> 3\u001b[0;31m \u001b[0mprint\u001b[0m\u001b[0;34m(\u001b[0m\u001b[0mtorch\u001b[0m\u001b[0;34m.\u001b[0m\u001b[0mcuda\u001b[0m\u001b[0;34m.\u001b[0m\u001b[0mget_device_name\u001b[0m\u001b[0;34m(\u001b[0m\u001b[0;36m0\u001b[0m\u001b[0;34m)\u001b[0m\u001b[0;34m)\u001b[0m\u001b[0;34m\u001b[0m\u001b[0m\n\u001b[0m",
            "\u001b[0;32m/usr/local/lib/python3.6/dist-packages/torch/cuda/__init__.py\u001b[0m in \u001b[0;36mget_device_name\u001b[0;34m(device)\u001b[0m\n\u001b[1;32m    270\u001b[0m             \u001b[0mno\u001b[0m\u001b[0;34m-\u001b[0m\u001b[0mop\u001b[0m \u001b[0;32mif\u001b[0m \u001b[0mthis\u001b[0m \u001b[0margument\u001b[0m \u001b[0;32mis\u001b[0m \u001b[0mnegative\u001b[0m\u001b[0;34m.\u001b[0m\u001b[0;34m\u001b[0m\u001b[0m\n\u001b[1;32m    271\u001b[0m     \"\"\"\n\u001b[0;32m--> 272\u001b[0;31m     \u001b[0;32mreturn\u001b[0m \u001b[0mget_device_properties\u001b[0m\u001b[0;34m(\u001b[0m\u001b[0mdevice\u001b[0m\u001b[0;34m)\u001b[0m\u001b[0;34m.\u001b[0m\u001b[0mname\u001b[0m\u001b[0;34m\u001b[0m\u001b[0m\n\u001b[0m\u001b[1;32m    273\u001b[0m \u001b[0;34m\u001b[0m\u001b[0m\n\u001b[1;32m    274\u001b[0m \u001b[0;34m\u001b[0m\u001b[0m\n",
            "\u001b[0;32m/usr/local/lib/python3.6/dist-packages/torch/cuda/__init__.py\u001b[0m in \u001b[0;36mget_device_properties\u001b[0;34m(device)\u001b[0m\n\u001b[1;32m    288\u001b[0m \u001b[0;32mdef\u001b[0m \u001b[0mget_device_properties\u001b[0m\u001b[0;34m(\u001b[0m\u001b[0mdevice\u001b[0m\u001b[0;34m)\u001b[0m\u001b[0;34m:\u001b[0m\u001b[0;34m\u001b[0m\u001b[0m\n\u001b[1;32m    289\u001b[0m     \u001b[0;32mif\u001b[0m \u001b[0;32mnot\u001b[0m \u001b[0m_initialized\u001b[0m\u001b[0;34m:\u001b[0m\u001b[0;34m\u001b[0m\u001b[0m\n\u001b[0;32m--> 290\u001b[0;31m         \u001b[0minit\u001b[0m\u001b[0;34m(\u001b[0m\u001b[0;34m)\u001b[0m  \u001b[0;31m# will define _get_device_properties and _CudaDeviceProperties\u001b[0m\u001b[0;34m\u001b[0m\u001b[0m\n\u001b[0m\u001b[1;32m    291\u001b[0m     \u001b[0;32mif\u001b[0m \u001b[0mdevice\u001b[0m \u001b[0;34m<\u001b[0m \u001b[0;36m0\u001b[0m \u001b[0;32mor\u001b[0m \u001b[0mdevice\u001b[0m \u001b[0;34m>=\u001b[0m \u001b[0mdevice_count\u001b[0m\u001b[0;34m(\u001b[0m\u001b[0;34m)\u001b[0m\u001b[0;34m:\u001b[0m\u001b[0;34m\u001b[0m\u001b[0m\n\u001b[1;32m    292\u001b[0m         \u001b[0;32mraise\u001b[0m \u001b[0mAssertionError\u001b[0m\u001b[0;34m(\u001b[0m\u001b[0;34m\"Invalid device id\"\u001b[0m\u001b[0;34m)\u001b[0m\u001b[0;34m\u001b[0m\u001b[0m\n",
            "\u001b[0;32m/usr/local/lib/python3.6/dist-packages/torch/cuda/__init__.py\u001b[0m in \u001b[0;36minit\u001b[0;34m()\u001b[0m\n\u001b[1;32m    141\u001b[0m     \u001b[0mDoes\u001b[0m \u001b[0mnothing\u001b[0m \u001b[0;32mif\u001b[0m \u001b[0mthe\u001b[0m \u001b[0mCUDA\u001b[0m \u001b[0mstate\u001b[0m \u001b[0;32mis\u001b[0m \u001b[0malready\u001b[0m \u001b[0minitialized\u001b[0m\u001b[0;34m.\u001b[0m\u001b[0;34m\u001b[0m\u001b[0m\n\u001b[1;32m    142\u001b[0m     \"\"\"\n\u001b[0;32m--> 143\u001b[0;31m     \u001b[0m_lazy_init\u001b[0m\u001b[0;34m(\u001b[0m\u001b[0;34m)\u001b[0m\u001b[0;34m\u001b[0m\u001b[0m\n\u001b[0m\u001b[1;32m    144\u001b[0m \u001b[0;34m\u001b[0m\u001b[0m\n\u001b[1;32m    145\u001b[0m \u001b[0;34m\u001b[0m\u001b[0m\n",
            "\u001b[0;32m/usr/local/lib/python3.6/dist-packages/torch/cuda/__init__.py\u001b[0m in \u001b[0;36m_lazy_init\u001b[0;34m()\u001b[0m\n\u001b[1;32m    158\u001b[0m         raise RuntimeError(\n\u001b[1;32m    159\u001b[0m             \"Cannot re-initialize CUDA in forked subprocess. \" + msg)\n\u001b[0;32m--> 160\u001b[0;31m     \u001b[0m_check_driver\u001b[0m\u001b[0;34m(\u001b[0m\u001b[0;34m)\u001b[0m\u001b[0;34m\u001b[0m\u001b[0m\n\u001b[0m\u001b[1;32m    161\u001b[0m     \u001b[0mtorch\u001b[0m\u001b[0;34m.\u001b[0m\u001b[0m_C\u001b[0m\u001b[0;34m.\u001b[0m\u001b[0m_cuda_init\u001b[0m\u001b[0;34m(\u001b[0m\u001b[0;34m)\u001b[0m\u001b[0;34m\u001b[0m\u001b[0m\n\u001b[1;32m    162\u001b[0m     \u001b[0m_cudart\u001b[0m \u001b[0;34m=\u001b[0m \u001b[0m_load_cudart\u001b[0m\u001b[0;34m(\u001b[0m\u001b[0;34m)\u001b[0m\u001b[0;34m\u001b[0m\u001b[0m\n",
            "\u001b[0;32m/usr/local/lib/python3.6/dist-packages/torch/cuda/__init__.py\u001b[0m in \u001b[0;36m_check_driver\u001b[0;34m()\u001b[0m\n\u001b[1;32m     88\u001b[0m \u001b[0mAlternatively\u001b[0m\u001b[0;34m,\u001b[0m \u001b[0mgo\u001b[0m \u001b[0mto\u001b[0m\u001b[0;34m:\u001b[0m \u001b[0mhttp\u001b[0m\u001b[0;34m:\u001b[0m\u001b[0;34m//\u001b[0m\u001b[0mpytorch\u001b[0m\u001b[0;34m.\u001b[0m\u001b[0morg\u001b[0m \u001b[0mto\u001b[0m \u001b[0minstall\u001b[0m\u001b[0;34m\u001b[0m\u001b[0m\n\u001b[1;32m     89\u001b[0m \u001b[0ma\u001b[0m \u001b[0mPyTorch\u001b[0m \u001b[0mversion\u001b[0m \u001b[0mthat\u001b[0m \u001b[0mhas\u001b[0m \u001b[0mbeen\u001b[0m \u001b[0mcompiled\u001b[0m \u001b[0;32mwith\u001b[0m \u001b[0myour\u001b[0m \u001b[0mversion\u001b[0m\u001b[0;34m\u001b[0m\u001b[0m\n\u001b[0;32m---> 90\u001b[0;31m of the CUDA driver.\"\"\".format(str(torch._C._cuda_getDriverVersion())))\n\u001b[0m\u001b[1;32m     91\u001b[0m \u001b[0;34m\u001b[0m\u001b[0m\n\u001b[1;32m     92\u001b[0m \u001b[0;34m\u001b[0m\u001b[0m\n",
            "\u001b[0;31mAssertionError\u001b[0m: \nThe NVIDIA driver on your system is too old (found version 9000).\nPlease update your GPU driver by downloading and installing a new\nversion from the URL: http://www.nvidia.com/Download/index.aspx\nAlternatively, go to: http://pytorch.org to install\na PyTorch version that has been compiled with your version\nof the CUDA driver."
          ]
        }
      ]
    },
    {
      "metadata": {
        "id": "Kc-OLRcoHDBl",
        "colab_type": "code",
        "colab": {
          "autoexec": {
            "startup": false,
            "wait_interval": 0
          }
        }
      },
      "cell_type": "code",
      "source": [
        "cudnn.benchmark = True"
      ],
      "execution_count": 0,
      "outputs": []
    },
    {
      "metadata": {
        "id": "jB9hgpyUfbqG",
        "colab_type": "code",
        "colab": {
          "autoexec": {
            "startup": false,
            "wait_interval": 0
          }
        }
      },
      "cell_type": "code",
      "source": [
        "os.makedirs(base_dir, exist_ok=True)\n",
        "os.makedirs(data_dir, exist_ok=True)\n",
        "os.makedirs(input_dir, exist_ok=True)\n",
        "os.makedirs(output_dir, exist_ok=True)"
      ],
      "execution_count": 0,
      "outputs": []
    },
    {
      "metadata": {
        "id": "dBC_aI1vRknn",
        "colab_type": "text"
      },
      "cell_type": "markdown",
      "source": [
        "# Download Dataset"
      ]
    },
    {
      "metadata": {
        "id": "g5eP3RxWV5L5",
        "colab_type": "code",
        "colab": {
          "autoexec": {
            "startup": false,
            "wait_interval": 0
          }
        }
      },
      "cell_type": "code",
      "source": [
        "from google.colab import auth\n",
        "auth.authenticate_user()"
      ],
      "execution_count": 0,
      "outputs": []
    },
    {
      "metadata": {
        "id": "68MYkyHJWP0m",
        "colab_type": "code",
        "colab": {
          "autoexec": {
            "startup": false,
            "wait_interval": 0
          }
        }
      },
      "cell_type": "code",
      "source": [
        "from googleapiclient.discovery import build\n",
        "import io\n",
        "from googleapiclient.http import MediaIoBaseDownload\n",
        "import json\n",
        "\n",
        "def md5_hash(fname, blocksize=4096):\n",
        "    \"\"\" compute md5hash of a file \"\"\"\n",
        "    import hashlib\n",
        "    hash = ''\n",
        "    if not os.path.exists(fname):\n",
        "        errmsg = \"File %s does not exist\" % (fname)\n",
        "        print(errmsg)\n",
        "        return ''\n",
        "    try:\n",
        "        hasher = hashlib.md5()\n",
        "        with open(fname, 'rb') as f:\n",
        "            buf = f.read(blocksize)\n",
        "            while len(buf) > 0:\n",
        "                hasher.update(buf)\n",
        "                buf = f.read(blocksize)\n",
        "        hash = hasher.hexdigest()\n",
        "    except:\n",
        "        print(\"Exception in hashing file\")\n",
        "        raise\n",
        "    return hash\n",
        "\n",
        "def _download(drive_service, file_id, loc):\n",
        "  request = drive_service.files().get_media(fileId=file_id)\n",
        "  fh = io.FileIO(loc, mode='wb')\n",
        "  downloader = MediaIoBaseDownload(fh, request, chunksize=1024*1024)\n",
        "  prev_progress = 0\n",
        "  done = False\n",
        "  with tqdm(total=100) as pbar:\n",
        "    while done is False:\n",
        "      status, done = downloader.next_chunk()\n",
        "      if status:\n",
        "        # print(\"Download %d%%.\" % int(status.progress() * 100))\n",
        "        pbar.update(int(100 *(status.progress() - prev_progress)))\n",
        "        prev_progress = status.progress()\n",
        "  print(\"Download Complete!\")\n",
        "  file_size = os.path.getsize(loc)\n",
        "  print(\"Downloaded %d bytes\" % (file_size))\n",
        "\n",
        "def download(file_id, loc):\n",
        "  \"\"\"Downloads a file to local file system.\"\"\"  \n",
        "  drive_service = build('drive', 'v3')\n",
        "  \n",
        "  request_mdata = drive_service.files().list(fields=\"files(md5Checksum, originalFilename, id)\")\n",
        "  rh = io.BytesIO()\n",
        "  downloader_mdata = MediaIoBaseDownload(rh, request_mdata, chunksize=1024*1024)\n",
        "  done = False\n",
        "  while not done:\n",
        "    _, done = downloader_mdata.next_chunk()\n",
        "  mdata = json.loads(rh.getvalue())\n",
        "  found = False\n",
        "  md5drive = ''\n",
        "  fname = ''\n",
        "  for x in mdata['files']:\n",
        "    if x['id'] == file_id:\n",
        "      found = True\n",
        "      md5drive = x['md5Checksum']\n",
        "      fname = x['originalFilename']\n",
        "      break\n",
        "  if not found:\n",
        "    print(\"{:s} : not found on gdrive\".format(file_id))\n",
        "  else:\n",
        "    if os.path.exists(loc):\n",
        "      if md5drive == md5_hash(loc):\n",
        "        print(\"{:s} : file already present on colab\".format(loc))\n",
        "      else:\n",
        "        print(\"{:s} [gdrive] and {:s} [colab] : md5 mismatch ... downloading\".format(fname, loc))\n",
        "        _download(drive_service, file_id, loc)\n",
        "    else:\n",
        "      print(\"{:s} not present on colab ... downloading ...\".format(loc))\n",
        "      _download(drive_service, file_id, loc)\n",
        "        \n"
      ],
      "execution_count": 0,
      "outputs": []
    },
    {
      "metadata": {
        "id": "jOBHlpMKaE-F",
        "colab_type": "code",
        "colab": {
          "autoexec": {
            "startup": false,
            "wait_interval": 0
          },
          "base_uri": "https://localhost:8080/",
          "height": 102
        },
        "outputId": "71d5fe19-81cd-4428-90c7-8e0f720772b4",
        "executionInfo": {
          "status": "ok",
          "timestamp": 1527001525917,
          "user_tz": -330,
          "elapsed": 8187,
          "user": {
            "displayName": "Sourabh Daptardar",
            "photoUrl": "//lh4.googleusercontent.com/-onn5Q0_MiKQ/AAAAAAAAAAI/AAAAAAAACDI/iOxkSEz16nA/s50-c-k-no/photo.jpg",
            "userId": "115812262388010820083"
          }
        }
      },
      "cell_type": "code",
      "source": [
        "download(train_id, train_zip)\n",
        "download(val_id, val_zip)\n",
        "download(train_labels_id, train_labels_json)\n",
        "download(val_labels_id, val_labels_json)\n",
        "download(test_labels_id, test_labels_json)"
      ],
      "execution_count": 55,
      "outputs": [
        {
          "output_type": "stream",
          "text": [
            "/content/fashion/data/input/train_data.zip : file already present on colab\n",
            "/content/fashion/data/input/validation_data.zip : file already present on colab\n",
            "/content/fashion/data/input/train_small.json : file already present on colab\n",
            "/content/fashion/data/input/validation.json : file already present on colab\n",
            "/content/fashion/data/input/test.json : file already present on colab\n"
          ],
          "name": "stdout"
        }
      ]
    },
    {
      "metadata": {
        "id": "mA1kgVVEdSWI",
        "colab_type": "code",
        "colab": {
          "autoexec": {
            "startup": false,
            "wait_interval": 0
          }
        }
      },
      "cell_type": "code",
      "source": [
        "import shutil\n",
        "shutil.unpack_archive(train_zip, input_dir)\n",
        "shutil.unpack_archive(val_zip, input_dir)\n"
      ],
      "execution_count": 0,
      "outputs": []
    },
    {
      "metadata": {
        "id": "X4Eugqw2fJRQ",
        "colab_type": "code",
        "colab": {
          "autoexec": {
            "startup": false,
            "wait_interval": 0
          },
          "base_uri": "https://localhost:8080/",
          "height": 153
        },
        "outputId": "76b1998f-7f77-4cfb-ea39-39fa50283aca",
        "executionInfo": {
          "status": "ok",
          "timestamp": 1527001543581,
          "user_tz": -330,
          "elapsed": 2944,
          "user": {
            "displayName": "Sourabh Daptardar",
            "photoUrl": "//lh4.googleusercontent.com/-onn5Q0_MiKQ/AAAAAAAAAAI/AAAAAAAACDI/iOxkSEz16nA/s50-c-k-no/photo.jpg",
            "userId": "115812262388010820083"
          }
        }
      },
      "cell_type": "code",
      "source": [
        "!ls -ltr /content/fashion/data/input"
      ],
      "execution_count": 57,
      "outputs": [
        {
          "output_type": "stream",
          "text": [
            "total 1256772\r\n",
            "-rw-r--r-- 1 root root 623133900 May 22 14:21 train_data.zip\r\n",
            "-rw-r--r-- 1 root root 649513008 May 22 14:25 validation_data.zip\r\n",
            "-rw-r--r-- 1 root root   3740426 May 22 14:25 train_small.json\r\n",
            "-rw-r--r-- 1 root root   4222518 May 22 14:25 validation.json\r\n",
            "-rw-r--r-- 1 root root   5785993 May 22 14:25 test.json\r\n",
            "drwxr-xr-x 2 root root    253952 May 22 14:26 train_data\r\n",
            "drwxr-xr-x 2 root root    258048 May 22 14:26 validation_data\r\n"
          ],
          "name": "stdout"
        }
      ]
    },
    {
      "metadata": {
        "id": "_XnHDCmclB9B",
        "colab_type": "code",
        "colab": {
          "autoexec": {
            "startup": false,
            "wait_interval": 0
          },
          "base_uri": "https://localhost:8080/",
          "height": 204
        },
        "outputId": "7a665530-a452-41d9-ba5f-578562e6da35",
        "executionInfo": {
          "status": "ok",
          "timestamp": 1527001545898,
          "user_tz": -330,
          "elapsed": 2245,
          "user": {
            "displayName": "Sourabh Daptardar",
            "photoUrl": "//lh4.googleusercontent.com/-onn5Q0_MiKQ/AAAAAAAAAAI/AAAAAAAACDI/iOxkSEz16nA/s50-c-k-no/photo.jpg",
            "userId": "115812262388010820083"
          }
        }
      },
      "cell_type": "code",
      "source": [
        "!ls -ltr /content/fashion/data/input/train_data | head"
      ],
      "execution_count": 58,
      "outputs": [
        {
          "output_type": "stream",
          "text": [
            "total 636932\r\n",
            "-rw-r--r-- 1 root root  61060 May 22 15:05 1.jpg\r\n",
            "-rw-r--r-- 1 root root  61806 May 22 15:05 10.jpg\r\n",
            "-rw-r--r-- 1 root root  97998 May 22 15:05 100.jpg\r\n",
            "-rw-r--r-- 1 root root  42627 May 22 15:05 1000.jpg\r\n",
            "-rw-r--r-- 1 root root 105654 May 22 15:05 10000.jpg\r\n",
            "-rw-r--r-- 1 root root  24032 May 22 15:05 1002.jpg\r\n",
            "-rw-r--r-- 1 root root  49370 May 22 15:05 1001.jpg\r\n",
            "-rw-r--r-- 1 root root  68407 May 22 15:05 1004.jpg\r\n",
            "-rw-r--r-- 1 root root  95681 May 22 15:05 1003.jpg\r\n",
            "ls: write error: Broken pipe\r\n"
          ],
          "name": "stdout"
        }
      ]
    },
    {
      "metadata": {
        "id": "4bmRgA9ilISL",
        "colab_type": "code",
        "colab": {
          "autoexec": {
            "startup": false,
            "wait_interval": 0
          },
          "base_uri": "https://localhost:8080/",
          "height": 204
        },
        "outputId": "db0b777e-bbc6-4326-c467-64779ca51b3b",
        "executionInfo": {
          "status": "ok",
          "timestamp": 1527001548219,
          "user_tz": -330,
          "elapsed": 2216,
          "user": {
            "displayName": "Sourabh Daptardar",
            "photoUrl": "//lh4.googleusercontent.com/-onn5Q0_MiKQ/AAAAAAAAAAI/AAAAAAAACDI/iOxkSEz16nA/s50-c-k-no/photo.jpg",
            "userId": "115812262388010820083"
          }
        }
      },
      "cell_type": "code",
      "source": [
        "!ls -ltr /content/fashion/data/input/validation_data | head"
      ],
      "execution_count": 59,
      "outputs": [
        {
          "output_type": "stream",
          "text": [
            "total 663036\r\n",
            "-rw-r--r-- 1 root root  89139 May 22 15:05 1.jpg\r\n",
            "-rw-r--r-- 1 root root  61895 May 22 15:05 10.jpg\r\n",
            "-rw-r--r-- 1 root root  56745 May 22 15:05 100.jpg\r\n",
            "-rw-r--r-- 1 root root  55370 May 22 15:05 1000.jpg\r\n",
            "-rw-r--r-- 1 root root  53685 May 22 15:05 1001.jpg\r\n",
            "-rw-r--r-- 1 root root  56689 May 22 15:05 1003.jpg\r\n",
            "-rw-r--r-- 1 root root  81057 May 22 15:05 1002.jpg\r\n",
            "-rw-r--r-- 1 root root  70008 May 22 15:05 1005.jpg\r\n",
            "-rw-r--r-- 1 root root  38732 May 22 15:05 1004.jpg\r\n",
            "ls: write error: Broken pipe\r\n"
          ],
          "name": "stdout"
        }
      ]
    },
    {
      "metadata": {
        "id": "c6LY5l-SRtWw",
        "colab_type": "text"
      },
      "cell_type": "markdown",
      "source": [
        "# Dataset"
      ]
    },
    {
      "metadata": {
        "id": "VMcIw45smeZE",
        "colab_type": "code",
        "colab": {
          "autoexec": {
            "startup": false,
            "wait_interval": 0
          }
        }
      },
      "cell_type": "code",
      "source": [
        "import torch.utils.data as data\n",
        "from copy import copy\n",
        "import numpy as np\n",
        "\n",
        "def fetch_labels(annotations, num_labels):\n",
        "  labels = {}\n",
        "  for x in annotations:\n",
        "    arr = np.zeros((num_labels,), dtype=np.float32)\n",
        "    for y in map(int, x['labelId']):\n",
        "      arr[y-1] = 1.0\n",
        "    # 0-indexed\n",
        "    labels[int(x['imageId'])-1] = copy(arr)\n",
        "  return labels\n",
        "\n",
        "def json_to_dict(fpath):\n",
        "  import json\n",
        "  with open(fpath) as f: \n",
        "    D = json.load(f)\n",
        "  return D\n",
        "\n",
        "def get_labelinfo(annotations):\n",
        "  from collections import namedtuple\n",
        "  labelinfo = namedtuple('labelinfo', \"set min max count\")\n",
        "  labelinfo.set = set()\n",
        "  for x in annotations:\n",
        "    labelinfo.set.update(map(int, x['labelId']))\n",
        "  labelinfo.min = min(labelinfo.set)\n",
        "  labelinfo.max = max(labelinfo.set)\n",
        "  labelinfo.count = len(labelinfo.set)\n",
        "  return labelinfo\n",
        "\n",
        "def has_file_allowed_extension(filename, extensions):\n",
        "    \"\"\"Checks if a file is an allowed extension.\n",
        "    Args:\n",
        "        filename (string): path to a file\n",
        "    Returns:\n",
        "        bool: True if the filename ends with a known image extension\n",
        "    \"\"\"\n",
        "    filename_lower = filename.lower()\n",
        "    return any(filename_lower.endswith(ext) for ext in extensions)\n",
        "\n",
        "\n",
        "def pil_loader(path):\n",
        "    from PIL import Image \n",
        "    # open path as file to avoid ResourceWarning (https://github.com/python-pillow/Pillow/issues/835)\n",
        "    with open(path, 'rb') as f:\n",
        "        img = Image.open(f)\n",
        "        return img.convert('RGB')\n",
        "\n",
        "\n",
        "def accimage_loader(path):\n",
        "    import accimage\n",
        "    try:\n",
        "        return accimage.Image(path)\n",
        "    except IOError:\n",
        "        # Potentially a decoding problem, fall back to PIL.Image\n",
        "        return pil_loader(path)\n",
        "\n",
        "\n",
        "def default_loader(path):\n",
        "    from torchvision import get_image_backend\n",
        "    if get_image_backend() == 'accimage':\n",
        "        return accimage_loader(path)\n",
        "    else:\n",
        "        return pil_loader(path)\n",
        "\n",
        "      \n",
        "class FashionDataset(data.Dataset):\n",
        "  \"\"\"Fashion dataset CVPR challenge.\n",
        "     Adapted from torchvision ImageFolder.\n",
        "     Similar to ImageFolder with the following differences:\n",
        "     1. Multilabel\n",
        "     2. Directory structure where all images are directly in the root folder\n",
        "     3. Labels are read from json file\n",
        "   \n",
        "  Args:\n",
        "        root (string): Root directory path.\n",
        "        loader (callable): A function to load a sample given its path.\n",
        "        extensions (list[string]): A list of allowed extensions.\n",
        "        transform (callable, optional): A function/transform that takes in\n",
        "            a sample and returns a transformed version.\n",
        "            E.g, ``transforms.RandomCrop`` for images.\n",
        "        target_transform (callable, optional): A function/transform that takes\n",
        "            in the target and transforms it.\n",
        "    \n",
        "  \"\"\"\n",
        "\n",
        "  def __init__(self, root, metadata_file, num_labels=228, transform=None, target_transform=None,\n",
        "               loader=default_loader):\n",
        "    extensions = ['.jpg', '.jpeg', '.png', '.ppm', '.bmp', '.pgm', '.tif']\n",
        "    self.num_labels = num_labels\n",
        "    self.images = {}\n",
        "    self.metadata_file = metadata_file\n",
        "    self.metadata = json_to_dict(self.metadata_file)\n",
        "    self.transform = transform\n",
        "    self.root = root\n",
        "    self.target_transform = target_transform\n",
        "    self.loader = loader\n",
        "    self.labelinfo = get_labelinfo(self.metadata['annotations'])\n",
        "    self.labels = fetch_labels(self.metadata['annotations'], self.num_labels)\n",
        "\n",
        "    for x in self.metadata['images']:\n",
        "      # 0-indexed\n",
        "      self.images[int(x['imageId'])-1] = '%s%s%d.jpg' % (root, os.sep, int(x['imageId']))  \n",
        "    \n",
        "\n",
        "  def __getitem__(self, index):\n",
        "        \"\"\"\n",
        "        Args:\n",
        "            index (int): Index\n",
        "        Returns:\n",
        "            tuple: (sample, target) where target is class_index of the target class.\n",
        "        \"\"\"\n",
        "        path, target = self.images[index], self.labels[index]\n",
        "        sample = self.loader(path)\n",
        "        if self.transform is not None:\n",
        "            sample = self.transform(sample)\n",
        "        if self.target_transform is not None:\n",
        "            target = self.target_transform(target)\n",
        "\n",
        "        return sample, target\n",
        "\n",
        "  def __len__(self):\n",
        "    return len(self.images)\n",
        "  \n",
        "  def __repr__(self):\n",
        "    fmt_str = 'Dataset ' + self.__class__.__name__ + '\\n'\n",
        "    fmt_str += '    Number of datapoints: {}\\n'.format(self.__len__())\n",
        "    fmt_str += '    Number of labels: {}\\n'.format(self.labelinfo.count)\n",
        "    fmt_str += '    Root Location: {}\\n'.format(self.root)\n",
        "    fmt_str += '    Metadata file: {}\\n'.format(self.metadata_file)\n",
        "    tmp = '    Transforms (if any): '\n",
        "    fmt_str += '{0}{1}\\n'.format(tmp, self.transform.__repr__().replace('\\n', '\\n' + ' ' * len(tmp)))\n",
        "    tmp = '    Target Transforms (if any): '\n",
        "    fmt_str += '{0}{1}'.format(tmp, self.target_transform.__repr__().replace('\\n', '\\n' + ' ' * len(tmp)))\n",
        "    tmp = '    Loader: '\n",
        "    fmt_str += '\\n{0}{1}'.format(tmp, self.loader.__name__)\n",
        "    return fmt_str\n",
        "\n",
        "  "
      ],
      "execution_count": 0,
      "outputs": []
    },
    {
      "metadata": {
        "id": "BuB8IhRXrZzK",
        "colab_type": "code",
        "colab": {
          "autoexec": {
            "startup": false,
            "wait_interval": 0
          }
        }
      },
      "cell_type": "code",
      "source": [
        "import torchvision.transforms as transforms\n",
        "\n",
        "train_tform = transforms.Compose([transforms.RandomResizedCrop(nw_input_size),\n",
        "                                  transforms.RandomHorizontalFlip(),\n",
        "                                  transforms.ToTensor(),\n",
        "                                  transforms.Normalize(mean=pretrain_dset_mean,\n",
        "                                                        std=pretrain_dset_std)\n",
        "                                 ])\n",
        "\n",
        "val_tform = transforms.Compose([transforms.Resize(image_min_size),\n",
        "                                transforms.CenterCrop(nw_input_size),\n",
        "                                transforms.ToTensor(),\n",
        "                                transforms.Normalize(mean=pretrain_dset_mean,\n",
        "                                                     std=pretrain_dset_std)\n",
        "                               ])"
      ],
      "execution_count": 0,
      "outputs": []
    },
    {
      "metadata": {
        "id": "b7JjnbO4a1bU",
        "colab_type": "code",
        "colab": {
          "autoexec": {
            "startup": false,
            "wait_interval": 0
          },
          "base_uri": "https://localhost:8080/",
          "height": 459
        },
        "outputId": "d20390c8-2b46-4399-bd70-7486521b4976",
        "executionInfo": {
          "status": "ok",
          "timestamp": 1527001551536,
          "user_tz": -330,
          "elapsed": 981,
          "user": {
            "displayName": "Sourabh Daptardar",
            "photoUrl": "//lh4.googleusercontent.com/-onn5Q0_MiKQ/AAAAAAAAAAI/AAAAAAAACDI/iOxkSEz16nA/s50-c-k-no/photo.jpg",
            "userId": "115812262388010820083"
          }
        }
      },
      "cell_type": "code",
      "source": [
        "train_dset = FashionDataset(train_dir, train_labels_json, num_labels, transform=train_tform)\n",
        "val_dset = FashionDataset(val_dir, val_labels_json, num_labels, transform=val_tform)\n",
        "\n",
        "\n",
        "print(train_dset)\n",
        "print(val_dset)"
      ],
      "execution_count": 62,
      "outputs": [
        {
          "output_type": "stream",
          "text": [
            "Dataset FashionDataset\n",
            "    Number of datapoints: 10000\n",
            "    Number of labels: 221\n",
            "    Root Location: /content/fashion/data/input/train_data\n",
            "    Metadata file: /content/fashion/data/input/train_small.json\n",
            "    Transforms (if any): Compose(\n",
            "                             RandomResizedCrop(size=(224, 224), scale=(0.08, 1.0), ratio=(0.75, 1.3333), interpolation=PIL.Image.BILINEAR)\n",
            "                             RandomHorizontalFlip(p=0.5)\n",
            "                             ToTensor()\n",
            "                             Normalize(mean=[0.485, 0.456, 0.406], std=[0.229, 0.224, 0.225])\n",
            "                         )\n",
            "    Target Transforms (if any): None\n",
            "    Loader: default_loader\n",
            "Dataset FashionDataset\n",
            "    Number of datapoints: 9897\n",
            "    Number of labels: 225\n",
            "    Root Location: /content/fashion/data/input/validation_data\n",
            "    Metadata file: /content/fashion/data/input/validation.json\n",
            "    Transforms (if any): Compose(\n",
            "                             Resize(size=256, interpolation=PIL.Image.BILINEAR)\n",
            "                             CenterCrop(size=(224, 224))\n",
            "                             ToTensor()\n",
            "                             Normalize(mean=[0.485, 0.456, 0.406], std=[0.229, 0.224, 0.225])\n",
            "                         )\n",
            "    Target Transforms (if any): None\n",
            "    Loader: default_loader\n"
          ],
          "name": "stdout"
        }
      ]
    },
    {
      "metadata": {
        "id": "-EoLW0no-em7",
        "colab_type": "code",
        "colab": {
          "autoexec": {
            "startup": false,
            "wait_interval": 0
          }
        }
      },
      "cell_type": "code",
      "source": [
        "def tensor_to_numpy(t, avg, std):\n",
        "  return (255.0 * (np.transpose(np.asarray(t), (1, 2, 0)) * std + avg)).astype(np.uint8)\n",
        "  "
      ],
      "execution_count": 0,
      "outputs": []
    },
    {
      "metadata": {
        "id": "L8qbOaD8HvYi",
        "colab_type": "code",
        "colab": {
          "autoexec": {
            "startup": false,
            "wait_interval": 0
          },
          "base_uri": "https://localhost:8080/",
          "height": 439
        },
        "outputId": "4e64893b-2094-4f5f-c9cd-6469eb2eaa8e",
        "executionInfo": {
          "status": "ok",
          "timestamp": 1527001554370,
          "user_tz": -330,
          "elapsed": 1703,
          "user": {
            "displayName": "Sourabh Daptardar",
            "photoUrl": "//lh4.googleusercontent.com/-onn5Q0_MiKQ/AAAAAAAAAAI/AAAAAAAACDI/iOxkSEz16nA/s50-c-k-no/photo.jpg",
            "userId": "115812262388010820083"
          }
        }
      },
      "cell_type": "code",
      "source": [
        "rnd1 = np.random.randint(len(train_dset))\n",
        "im1, lbl1 = train_dset[rnd1]\n",
        "imshow(tensor_to_numpy(im1, pretrain_dset_mean, pretrain_dset_std))\n",
        "print(lbl1)"
      ],
      "execution_count": 64,
      "outputs": [
        {
          "output_type": "stream",
          "text": [
            "[0. 0. 0. 0. 0. 0. 1. 0. 0. 0. 0. 0. 0. 0. 0. 0. 0. 1. 0. 0. 0. 0. 0. 0.\n",
            " 0. 0. 0. 0. 0. 0. 0. 0. 0. 0. 0. 0. 0. 0. 0. 0. 0. 0. 0. 1. 0. 0. 0. 0.\n",
            " 0. 0. 0. 0. 0. 0. 0. 0. 0. 0. 0. 0. 0. 0. 0. 0. 0. 1. 0. 0. 0. 0. 0. 0.\n",
            " 0. 0. 0. 0. 0. 0. 0. 0. 0. 0. 0. 0. 0. 0. 0. 0. 0. 0. 0. 0. 0. 0. 0. 0.\n",
            " 0. 0. 0. 0. 0. 0. 0. 0. 0. 0. 0. 0. 0. 0. 0. 0. 0. 0. 0. 0. 0. 0. 0. 0.\n",
            " 0. 0. 0. 0. 0. 0. 0. 0. 0. 0. 0. 0. 0. 0. 0. 0. 0. 0. 0. 0. 0. 0. 0. 0.\n",
            " 0. 0. 0. 0. 0. 0. 0. 0. 0. 0. 0. 0. 0. 0. 0. 0. 0. 0. 0. 0. 0. 0. 0. 0.\n",
            " 0. 0. 1. 0. 0. 0. 1. 0. 0. 0. 0. 0. 0. 0. 0. 0. 0. 0. 0. 0. 0. 0. 0. 0.\n",
            " 0. 0. 0. 0. 0. 0. 0. 0. 0. 0. 0. 0. 0. 0. 0. 0. 0. 0. 0. 0. 0. 0. 0. 0.\n",
            " 0. 0. 0. 0. 0. 0. 0. 0. 0. 0. 0. 0.]\n"
          ],
          "name": "stdout"
        },
        {
          "output_type": "display_data",
          "data": {
            "image/png": "[encoded data removed]",
            "text/plain": [
              "<matplotlib.figure.Figure at 0x7f81ecf25668>"
            ]
          },
          "metadata": {
            "tags": []
          }
        }
      ]
    },
    {
      "metadata": {
        "id": "3h5_M6G0QBYZ",
        "colab_type": "code",
        "colab": {
          "autoexec": {
            "startup": false,
            "wait_interval": 0
          },
          "base_uri": "https://localhost:8080/",
          "height": 439
        },
        "outputId": "01e18eb7-caf7-4bcb-82b1-b296b9784185",
        "executionInfo": {
          "status": "ok",
          "timestamp": 1527001555965,
          "user_tz": -330,
          "elapsed": 1502,
          "user": {
            "displayName": "Sourabh Daptardar",
            "photoUrl": "//lh4.googleusercontent.com/-onn5Q0_MiKQ/AAAAAAAAAAI/AAAAAAAACDI/iOxkSEz16nA/s50-c-k-no/photo.jpg",
            "userId": "115812262388010820083"
          }
        }
      },
      "cell_type": "code",
      "source": [
        "rnd2 = np.random.randint(len(val_dset))\n",
        "im2, lbl2 = val_dset[rnd2]\n",
        "imshow(tensor_to_numpy(im2, pretrain_dset_mean, pretrain_dset_std))\n",
        "print(lbl2)"
      ],
      "execution_count": 65,
      "outputs": [
        {
          "output_type": "stream",
          "text": [
            "[0. 1. 0. 0. 0. 0. 0. 0. 1. 0. 0. 0. 0. 0. 0. 0. 1. 0. 0. 1. 0. 0. 0. 0.\n",
            " 0. 0. 0. 0. 0. 0. 0. 0. 0. 0. 0. 0. 0. 0. 0. 0. 0. 0. 0. 0. 0. 0. 0. 0.\n",
            " 0. 0. 0. 0. 1. 0. 0. 0. 0. 0. 0. 0. 0. 1. 0. 0. 0. 1. 0. 0. 0. 0. 0. 0.\n",
            " 0. 0. 0. 0. 0. 0. 0. 0. 0. 0. 0. 0. 0. 0. 1. 0. 0. 0. 0. 0. 0. 0. 0. 0.\n",
            " 0. 0. 0. 0. 0. 0. 0. 0. 1. 0. 0. 0. 0. 0. 0. 0. 0. 0. 0. 0. 0. 0. 0. 0.\n",
            " 0. 0. 0. 0. 0. 0. 0. 0. 0. 0. 0. 0. 0. 0. 0. 0. 1. 0. 0. 0. 0. 0. 0. 0.\n",
            " 0. 0. 0. 0. 0. 0. 0. 0. 0. 0. 0. 0. 0. 0. 0. 0. 0. 0. 0. 0. 0. 0. 0. 0.\n",
            " 0. 0. 0. 0. 0. 0. 0. 0. 0. 0. 0. 0. 0. 0. 0. 0. 0. 0. 0. 0. 0. 0. 0. 0.\n",
            " 0. 0. 0. 0. 0. 0. 0. 0. 0. 0. 0. 0. 0. 0. 0. 0. 0. 0. 0. 0. 0. 0. 0. 0.\n",
            " 0. 0. 0. 0. 0. 0. 0. 0. 0. 0. 0. 0.]\n"
          ],
          "name": "stdout"
        },
        {
          "output_type": "display_data",
          "data": {
            "image/png": "[encoded data removed]",
            "text/plain": [
              "<matplotlib.figure.Figure at 0x7f81faadd358>"
            ]
          },
          "metadata": {
            "tags": []
          }
        }
      ]
    },
    {
      "metadata": {
        "id": "iU_VDQm2Rtro",
        "colab_type": "text"
      },
      "cell_type": "markdown",
      "source": [
        "# DataLoader"
      ]
    },
    {
      "metadata": {
        "id": "4KcwWuuHoxoo",
        "colab_type": "code",
        "colab": {
          "autoexec": {
            "startup": false,
            "wait_interval": 0
          }
        }
      },
      "cell_type": "code",
      "source": [
        "if distributed:\n",
        "    dist.init_process_group(backend=dist_backend,\n",
        "                            init_method=dist_url,\n",
        "                            world_size=world_size)\n"
      ],
      "execution_count": 0,
      "outputs": []
    },
    {
      "metadata": {
        "id": "EjMlN6vqHtsE",
        "colab_type": "code",
        "colab": {
          "autoexec": {
            "startup": false,
            "wait_interval": 0
          }
        }
      },
      "cell_type": "code",
      "source": [
        "from torch.utils.data.distributed import DistributedSampler \n",
        "\n",
        "\n",
        "if distributed:\n",
        "  train_sampler = DistributedSampler(train_dset)\n",
        "else:\n",
        "  train_sampler = None\n",
        "\n",
        "train_loader = torch.utils.data.DataLoader(train_dset,\n",
        "                                           batch_size=batch_size,\n",
        "                                           shuffle=(train_sampler is None),\n",
        "                                           num_workers=num_workers,\n",
        "                                           pin_memory=True,\n",
        "                                           sampler=train_sampler\n",
        "                                          )\n",
        "\n",
        "val_loader = torch.utils.data.DataLoader(val_dset,\n",
        "                                         batch_size=batch_size,\n",
        "                                         shuffle=False,\n",
        "                                         num_workers=num_workers,\n",
        "                                         pin_memory=True\n",
        "                                        )\n"
      ],
      "execution_count": 0,
      "outputs": []
    },
    {
      "metadata": {
        "id": "uzNG4-7x6Ovt",
        "colab_type": "code",
        "colab": {
          "autoexec": {
            "startup": false,
            "wait_interval": 0
          }
        }
      },
      "cell_type": "code",
      "source": [
        "train_images, train_labels = next(iter(train_loader))"
      ],
      "execution_count": 0,
      "outputs": []
    },
    {
      "metadata": {
        "id": "CDOOVYOHbcbl",
        "colab_type": "code",
        "colab": {
          "autoexec": {
            "startup": false,
            "wait_interval": 0
          },
          "base_uri": "https://localhost:8080/",
          "height": 731
        },
        "outputId": "46f258e9-ee85-4435-8df8-57b8912d5ced",
        "executionInfo": {
          "status": "ok",
          "timestamp": 1527001561251,
          "user_tz": -330,
          "elapsed": 1409,
          "user": {
            "displayName": "Sourabh Daptardar",
            "photoUrl": "//lh4.googleusercontent.com/-onn5Q0_MiKQ/AAAAAAAAAAI/AAAAAAAACDI/iOxkSEz16nA/s50-c-k-no/photo.jpg",
            "userId": "115812262388010820083"
          }
        }
      },
      "cell_type": "code",
      "source": [
        "rnd11 = np.random.randint(batch_size)\n",
        "print(train_images[rnd11,:,:,:])\n",
        "print(train_labels[rnd11, :])"
      ],
      "execution_count": 69,
      "outputs": [
        {
          "output_type": "stream",
          "text": [
            "tensor([[[ 1.3070,  1.3070,  1.3070,  ..., -1.7240, -1.6384, -1.6898],\n",
            "         [ 1.3070,  1.2899,  1.2899,  ..., -1.7069, -1.6213, -1.6898],\n",
            "         [ 1.3242,  1.2899,  1.3070,  ..., -1.6727, -1.6213, -1.7069],\n",
            "         ...,\n",
            "         [ 1.3584,  1.3584,  1.3755,  ...,  0.1083,  0.0912,  0.3994],\n",
            "         [ 1.3755,  1.3755,  1.3755,  ...,  0.1939,  0.1939,  0.4679],\n",
            "         [ 1.3927,  1.3927,  1.3927,  ...,  0.2453,  0.2624,  0.5193]],\n",
            "\n",
            "        [[ 1.3606,  1.3606,  1.3606,  ..., -1.6506, -1.7031, -1.6681],\n",
            "         [ 1.3606,  1.3431,  1.3431,  ..., -1.6331, -1.7031, -1.6681],\n",
            "         [ 1.3782,  1.3431,  1.3606,  ..., -1.5980, -1.7031, -1.6856],\n",
            "         ...,\n",
            "         [ 1.4482,  1.4482,  1.4657,  ..., -0.8627, -0.6176,  0.0476],\n",
            "         [ 1.4657,  1.4657,  1.4657,  ..., -0.8277, -0.5826,  0.0651],\n",
            "         [ 1.4832,  1.4832,  1.4832,  ..., -0.8277, -0.5651,  0.0301]],\n",
            "\n",
            "        [[ 1.2980,  1.2980,  1.2980,  ..., -1.4384, -1.3687, -1.3861],\n",
            "         [ 1.2980,  1.2805,  1.2805,  ..., -1.4384, -1.3513, -1.3861],\n",
            "         [ 1.3154,  1.2805,  1.2980,  ..., -1.4210, -1.3513, -1.4036],\n",
            "         ...,\n",
            "         [ 1.4548,  1.4722,  1.4722,  ..., -1.0027, -0.7587, -0.0790],\n",
            "         [ 1.4897,  1.4897,  1.4722,  ..., -0.9504, -0.7064, -0.0615],\n",
            "         [ 1.5071,  1.5071,  1.5071,  ..., -0.9504, -0.6890, -0.0615]]])\n",
            "tensor([ 0.,  0.,  0.,  0.,  0.,  0.,  0.,  0.,  0.,  0.,  0.,  0.,\n",
            "         0.,  0.,  0.,  0.,  0.,  0.,  0.,  0.,  0.,  0.,  0.,  0.,\n",
            "         0.,  0.,  0.,  0.,  0.,  0.,  0.,  0.,  0.,  0.,  0.,  0.,\n",
            "         0.,  0.,  0.,  0.,  0.,  0.,  0.,  0.,  0.,  0.,  0.,  0.,\n",
            "         0.,  0.,  0.,  0.,  0.,  0.,  0.,  0.,  0.,  0.,  0.,  0.,\n",
            "         0.,  0.,  0.,  0.,  0.,  1.,  0.,  0.,  0.,  0.,  0.,  0.,\n",
            "         0.,  0.,  0.,  0.,  0.,  0.,  0.,  0.,  0.,  0.,  0.,  0.,\n",
            "         0.,  0.,  0.,  0.,  0.,  0.,  0.,  0.,  0.,  0.,  0.,  0.,\n",
            "         0.,  0.,  0.,  0.,  0.,  0.,  0.,  0.,  1.,  0.,  0.,  0.,\n",
            "         0.,  0.,  0.,  0.,  0.,  0.,  0.,  0.,  0.,  0.,  0.,  0.,\n",
            "         0.,  1.,  0.,  0.,  0.,  0.,  0.,  0.,  0.,  0.,  0.,  0.,\n",
            "         0.,  0.,  0.,  0.,  0.,  0.,  0.,  0.,  0.,  0.,  0.,  0.,\n",
            "         0.,  0.,  0.,  0.,  0.,  0.,  0.,  0.,  0.,  0.,  0.,  0.,\n",
            "         0.,  0.,  0.,  0.,  0.,  0.,  0.,  0.,  0.,  0.,  0.,  0.,\n",
            "         0.,  0.,  0.,  0.,  0.,  0.,  0.,  0.,  0.,  0.,  0.,  0.,\n",
            "         0.,  0.,  0.,  0.,  0.,  0.,  0.,  0.,  0.,  0.,  0.,  0.,\n",
            "         0.,  0.,  0.,  0.,  0.,  0.,  0.,  0.,  0.,  0.,  0.,  1.,\n",
            "         1.,  0.,  0.,  0.,  0.,  0.,  0.,  0.,  0.,  0.,  0.,  0.,\n",
            "         0.,  0.,  0.,  0.,  0.,  0.,  0.,  0.,  0.,  0.,  0.,  0.])\n"
          ],
          "name": "stdout"
        }
      ]
    },
    {
      "metadata": {
        "id": "IZ7R4Mgb7F3b",
        "colab_type": "code",
        "colab": {
          "autoexec": {
            "startup": false,
            "wait_interval": 0
          }
        }
      },
      "cell_type": "code",
      "source": [
        "val_images, val_labels = next(iter(val_loader))"
      ],
      "execution_count": 0,
      "outputs": []
    },
    {
      "metadata": {
        "id": "CIOHOwAqaRkX",
        "colab_type": "code",
        "colab": {
          "autoexec": {
            "startup": false,
            "wait_interval": 0
          },
          "base_uri": "https://localhost:8080/",
          "height": 731
        },
        "outputId": "7b674419-1de5-4765-c7e4-c2db097f3170",
        "executionInfo": {
          "status": "ok",
          "timestamp": 1527001564208,
          "user_tz": -330,
          "elapsed": 918,
          "user": {
            "displayName": "Sourabh Daptardar",
            "photoUrl": "//lh4.googleusercontent.com/-onn5Q0_MiKQ/AAAAAAAAAAI/AAAAAAAACDI/iOxkSEz16nA/s50-c-k-no/photo.jpg",
            "userId": "115812262388010820083"
          }
        }
      },
      "cell_type": "code",
      "source": [
        "rnd21 = np.random.randint(batch_size)\n",
        "print(val_images[rnd21,:,:,:])\n",
        "print(val_labels[rnd21, :])"
      ],
      "execution_count": 71,
      "outputs": [
        {
          "output_type": "stream",
          "text": [
            "tensor([[[-1.6213, -1.6213, -1.6213,  ..., -1.4158, -1.4158, -1.4158],\n",
            "         [-1.6555, -1.6555, -1.6555,  ..., -1.4158, -1.4158, -1.4158],\n",
            "         [-1.6555, -1.6555, -1.6555,  ..., -1.3987, -1.3987, -1.4158],\n",
            "         ...,\n",
            "         [-1.7754, -1.7754, -1.7925,  ..., -1.2103, -1.2103, -1.2103],\n",
            "         [-1.7754, -1.7583, -1.7754,  ..., -1.2103, -1.2103, -1.1932],\n",
            "         [-1.7754, -1.7754, -1.7754,  ..., -1.1932, -1.2103, -1.2274]],\n",
            "\n",
            "        [[-1.5280, -1.5105, -1.5280,  ..., -1.2129, -1.2129, -1.2129],\n",
            "         [-1.5280, -1.5280, -1.5280,  ..., -1.1954, -1.1954, -1.1954],\n",
            "         [-1.5280, -1.5280, -1.5280,  ..., -1.1779, -1.1779, -1.1954],\n",
            "         ...,\n",
            "         [-1.6331, -1.6331, -1.6506,  ..., -0.8627, -0.8627, -0.8627],\n",
            "         [-1.6331, -1.6155, -1.6331,  ..., -0.8627, -0.8627, -0.8803],\n",
            "         [-1.6331, -1.6331, -1.6331,  ..., -0.8452, -0.8627, -0.8803]],\n",
            "\n",
            "        [[-1.0898, -1.0724, -1.0898,  ..., -0.5147, -0.5147, -0.5147],\n",
            "         [-1.0898, -1.0898, -1.0898,  ..., -0.4798, -0.4798, -0.4798],\n",
            "         [-1.0898, -1.0898, -1.0898,  ..., -0.4624, -0.4624, -0.4798],\n",
            "         ...,\n",
            "         [-1.2816, -1.2816, -1.2990,  ...,  0.0082,  0.0082,  0.0431],\n",
            "         [-1.2816, -1.2641, -1.2816,  ...,  0.0082,  0.0082,  0.0256],\n",
            "         [-1.2816, -1.2816, -1.2816,  ..., -0.0092, -0.0267, -0.0441]]])\n",
            "tensor([ 0.,  0.,  0.,  0.,  0.,  0.,  0.,  0.,  0.,  0.,  0.,  0.,\n",
            "         0.,  1.,  0.,  0.,  0.,  0.,  0.,  0.,  0.,  0.,  0.,  0.,\n",
            "         0.,  0.,  0.,  0.,  0.,  0.,  0.,  0.,  0.,  0.,  0.,  0.,\n",
            "         0.,  0.,  0.,  0.,  0.,  0.,  0.,  0.,  0.,  0.,  0.,  0.,\n",
            "         1.,  0.,  0.,  0.,  1.,  0.,  0.,  0.,  0.,  0.,  0.,  0.,\n",
            "         1.,  0.,  0.,  0.,  0.,  0.,  0.,  0.,  0.,  0.,  0.,  0.,\n",
            "         0.,  0.,  0.,  0.,  0.,  0.,  0.,  0.,  0.,  0.,  0.,  0.,\n",
            "         0.,  0.,  0.,  0.,  0.,  0.,  0.,  0.,  0.,  0.,  0.,  0.,\n",
            "         0.,  0.,  0.,  0.,  0.,  0.,  0.,  0.,  1.,  1.,  0.,  0.,\n",
            "         0.,  0.,  0.,  0.,  0.,  0.,  0.,  0.,  0.,  0.,  0.,  0.,\n",
            "         0.,  0.,  0.,  0.,  0.,  0.,  0.,  0.,  0.,  0.,  0.,  0.,\n",
            "         0.,  0.,  0.,  0.,  0.,  0.,  0.,  0.,  0.,  0.,  0.,  0.,\n",
            "         0.,  0.,  0.,  0.,  0.,  0.,  0.,  0.,  0.,  0.,  0.,  0.,\n",
            "         0.,  0.,  0.,  0.,  0.,  0.,  0.,  0.,  0.,  0.,  0.,  0.,\n",
            "         0.,  0.,  0.,  0.,  0.,  0.,  0.,  0.,  0.,  0.,  0.,  0.,\n",
            "         0.,  0.,  0.,  0.,  0.,  0.,  0.,  0.,  0.,  0.,  0.,  0.,\n",
            "         0.,  0.,  0.,  0.,  0.,  0.,  0.,  0.,  0.,  0.,  0.,  0.,\n",
            "         0.,  0.,  0.,  0.,  0.,  0.,  0.,  0.,  0.,  0.,  0.,  0.,\n",
            "         0.,  0.,  0.,  0.,  0.,  0.,  0.,  0.,  0.,  0.,  0.,  0.])\n"
          ],
          "name": "stdout"
        }
      ]
    },
    {
      "metadata": {
        "id": "cQAQrfMJRtv3",
        "colab_type": "text"
      },
      "cell_type": "markdown",
      "source": [
        "\n",
        "# Model"
      ]
    },
    {
      "metadata": {
        "id": "jNxCNVyu98GF",
        "colab_type": "code",
        "colab": {
          "autoexec": {
            "startup": false,
            "wait_interval": 0
          }
        }
      },
      "cell_type": "code",
      "source": [
        "import torch.nn.init as weight_init\n",
        "\n",
        "\n",
        "class FCWithLogSigmoid(nn.Module):\n",
        "  \n",
        "  def __init__(self, num_inputs, num_outputs):\n",
        "    super(FCWithLogSigmoid, self).__init__()\n",
        "    self.linear = nn.Linear(num_inputs, num_outputs)\n",
        "    self.logsigmoid = nn.LogSigmoid()\n",
        "    \n",
        "  def forward(self, x):\n",
        "    return self.logsigmoid(self.linear(x))\n",
        "\n",
        "\n",
        "def create_model(arch, num_labels=228, fv_size=2048, pretrained=True, resume=False, distributed=False):\n",
        "  if pretrained:\n",
        "      print(\"=> using pre-trained model '{}'\".format(arch))\n",
        "      model = models.__dict__[arch](pretrained=True)\n",
        "  else:\n",
        "      print(\"=> creating model '{}'\".format(arch))\n",
        "      model = models.__dict__[arch]()\n",
        "  model.fc = FCWithLogSigmoid(fv_size, num_labels)\n",
        "  if not distributed:\n",
        "      if arch.startswith('alexnet') or arch.startswith('vgg'):\n",
        "          model.features = torch.nn.DataParallel(model.features)\n",
        "          model.cuda()\n",
        "      else:\n",
        "          model = torch.nn.DataParallel(model).cuda()\n",
        "  else:\n",
        "      model.cuda()\n",
        "      model = torch.nn.parallel.DistributedDataParallel(model)\n",
        "  return model\n"
      ],
      "execution_count": 0,
      "outputs": []
    },
    {
      "metadata": {
        "id": "9eMpjddlO6BC",
        "colab_type": "code",
        "colab": {
          "autoexec": {
            "startup": false,
            "wait_interval": 0
          }
        }
      },
      "cell_type": "code",
      "source": [
        "def count_parameters(model):\n",
        "  \"\"\"source: https://discuss.pytorch.org/t/how-do-i-check-the-number-of-parameters-of-a-model/4325/9\"\"\"\n",
        "  return sum(p.numel() for p in model.parameters() if p.requires_grad)"
      ],
      "execution_count": 0,
      "outputs": []
    },
    {
      "metadata": {
        "id": "CDhvVsKk_cNI",
        "colab_type": "code",
        "colab": {
          "autoexec": {
            "startup": false,
            "wait_interval": 0
          },
          "base_uri": "https://localhost:8080/",
          "height": 34
        },
        "outputId": "e3b9d484-4d9e-4fbd-c7d2-799d0d838ab9",
        "executionInfo": {
          "status": "ok",
          "timestamp": 1527001568263,
          "user_tz": -330,
          "elapsed": 1945,
          "user": {
            "displayName": "Sourabh Daptardar",
            "photoUrl": "//lh4.googleusercontent.com/-onn5Q0_MiKQ/AAAAAAAAAAI/AAAAAAAACDI/iOxkSEz16nA/s50-c-k-no/photo.jpg",
            "userId": "115812262388010820083"
          }
        }
      },
      "cell_type": "code",
      "source": [
        "model = create_model(arch, num_labels=228, fv_size=2048, pretrained=pretrained, resume=resume, distributed=distributed)"
      ],
      "execution_count": 74,
      "outputs": [
        {
          "output_type": "stream",
          "text": [
            "=> using pre-trained model 'resnet50'\n"
          ],
          "name": "stdout"
        }
      ]
    },
    {
      "metadata": {
        "id": "yG1C75oXPLx8",
        "colab_type": "code",
        "colab": {
          "autoexec": {
            "startup": false,
            "wait_interval": 0
          },
          "base_uri": "https://localhost:8080/",
          "height": 34
        },
        "outputId": "c1d7369f-4563-4fbf-d155-62227edccd93",
        "executionInfo": {
          "status": "ok",
          "timestamp": 1527001569282,
          "user_tz": -330,
          "elapsed": 990,
          "user": {
            "displayName": "Sourabh Daptardar",
            "photoUrl": "//lh4.googleusercontent.com/-onn5Q0_MiKQ/AAAAAAAAAAI/AAAAAAAACDI/iOxkSEz16nA/s50-c-k-no/photo.jpg",
            "userId": "115812262388010820083"
          }
        }
      },
      "cell_type": "code",
      "source": [
        "print(\"Neural Network has \", count_parameters(model), \" trainable parameters\")"
      ],
      "execution_count": 75,
      "outputs": [
        {
          "output_type": "stream",
          "text": [
            "Neural Network has  23975204  trainable parameters\n"
          ],
          "name": "stdout"
        }
      ]
    },
    {
      "metadata": {
        "id": "VIILcEp9Rtz-",
        "colab_type": "text"
      },
      "cell_type": "markdown",
      "source": [
        "# Loss Function\n"
      ]
    },
    {
      "metadata": {
        "id": "4RGOgfHjGnJz",
        "colab_type": "code",
        "colab": {
          "autoexec": {
            "startup": false,
            "wait_interval": 0
          }
        }
      },
      "cell_type": "code",
      "source": [
        "criterion = torch.nn.BCEWithLogitsLoss().cuda()"
      ],
      "execution_count": 0,
      "outputs": []
    },
    {
      "metadata": {
        "id": "PICCxotzRt4z",
        "colab_type": "text"
      },
      "cell_type": "markdown",
      "source": [
        "# Update Rule"
      ]
    },
    {
      "metadata": {
        "id": "zaX2mCHTDgSi",
        "colab_type": "code",
        "colab": {
          "autoexec": {
            "startup": false,
            "wait_interval": 0
          }
        }
      },
      "cell_type": "code",
      "source": [
        "optimizer = optim.Adam(amsgrad=True, model.parameters(), lr=optimizer_learning_rate, betas=(0.9, 0.999), eps=1e-8, weight_decay=0.0)\n",
        "scheduler = lr_scheduler.ReduceLROnPlateau(optimizer, patience=scheduler_patience, threshold=scheduler_threshold, factor=scheduler_factor, verbose=1)\n"
      ],
      "execution_count": 0,
      "outputs": []
    },
    {
      "metadata": {
        "id": "tCm_msJ0RuIu",
        "colab_type": "text"
      },
      "cell_type": "markdown",
      "source": [
        "# Training Loop\n"
      ]
    },
    {
      "metadata": {
        "id": "gevaiXFORuTH",
        "colab_type": "text"
      },
      "cell_type": "markdown",
      "source": [
        "# Save Results"
      ]
    },
    {
      "metadata": {
        "id": "XlL1brDNRucP",
        "colab_type": "text"
      },
      "cell_type": "markdown",
      "source": [
        ""
      ]
    },
    {
      "metadata": {
        "id": "PT9Shf_MRhui",
        "colab_type": "code",
        "colab": {
          "autoexec": {
            "startup": false,
            "wait_interval": 0
          }
        }
      },
      "cell_type": "code",
      "source": [
        ""
      ],
      "execution_count": 0,
      "outputs": []
    }
  ]
}