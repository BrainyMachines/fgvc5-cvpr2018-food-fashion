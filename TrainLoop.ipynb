{
  "nbformat": 4,
  "nbformat_minor": 0,
  "metadata": {
    "colab": {
      "name": "TrainLoop.ipynb",
      "version": "0.3.2",
      "views": {},
      "default_view": {},
      "provenance": [],
      "collapsed_sections": []
    },
    "kernelspec": {
      "name": "python3",
      "display_name": "Python 3"
    },
    "accelerator": "GPU"
  },
  "cells": [
    {
      "metadata": {
        "id": "4OGEu9nITbnO",
        "colab_type": "text"
      },
      "cell_type": "markdown",
      "source": [
        "# Install Torch"
      ]
    },
    {
      "metadata": {
        "id": "uX687hj69g9g",
        "colab_type": "code",
        "colab": {
          "autoexec": {
            "startup": false,
            "wait_interval": 0
          }
        }
      },
      "cell_type": "code",
      "source": [
        "torchver = \"0.4.0\""
      ],
      "execution_count": 0,
      "outputs": []
    },
    {
      "metadata": {
        "id": "_gX52NUpzIYC",
        "colab_type": "code",
        "colab": {
          "autoexec": {
            "startup": false,
            "wait_interval": 0
          },
          "base_uri": "https://localhost:8080/",
          "height": 306
        },
        "outputId": "ebc5a290-1e81-462f-ff0a-f16c8775d97e",
        "executionInfo": {
          "status": "ok",
          "timestamp": 1526999532922,
          "user_tz": -330,
          "elapsed": 1832,
          "user": {
            "displayName": "Sourabh Daptardar",
            "photoUrl": "//lh4.googleusercontent.com/-onn5Q0_MiKQ/AAAAAAAAAAI/AAAAAAAACDI/iOxkSEz16nA/s50-c-k-no/photo.jpg",
            "userId": "115812262388010820083"
          }
        }
      },
      "cell_type": "code",
      "source": [
        "!/opt/bin/nvidia-smi || /usr/bin/nvidia-smi"
      ],
      "execution_count": 2,
      "outputs": [
        {
          "output_type": "stream",
          "text": [
            "Tue May 22 14:32:12 2018       \r\n",
            "+-----------------------------------------------------------------------------+\r\n",
            "| NVIDIA-SMI 384.111                Driver Version: 384.111                   |\r\n",
            "|-------------------------------+----------------------+----------------------+\r\n",
            "| GPU  Name        Persistence-M| Bus-Id        Disp.A | Volatile Uncorr. ECC |\r\n",
            "| Fan  Temp  Perf  Pwr:Usage/Cap|         Memory-Usage | GPU-Util  Compute M. |\r\n",
            "|===============================+======================+======================|\r\n",
            "|   0  Tesla K80           Off  | 00000000:00:04.0 Off |                    0 |\r\n",
            "| N/A   33C    P8    28W / 149W |      1MiB / 11439MiB |      0%      Default |\r\n",
            "+-------------------------------+----------------------+----------------------+\r\n",
            "                                                                               \r\n",
            "+-----------------------------------------------------------------------------+\r\n",
            "| Processes:                                                       GPU Memory |\r\n",
            "|  GPU       PID   Type   Process name                             Usage      |\r\n",
            "|=============================================================================|\r\n",
            "|  No running processes found                                                 |\r\n",
            "+-----------------------------------------------------------------------------+\r\n"
          ],
          "name": "stdout"
        }
      ]
    },
    {
      "metadata": {
        "id": "Z0wFaqgbE4wI",
        "colab_type": "code",
        "colab": {
          "autoexec": {
            "startup": false,
            "wait_interval": 0
          },
          "base_uri": "https://localhost:8080/",
          "height": 51
        },
        "outputId": "96b30e6b-8550-4e70-b11b-4c57da3cdd41",
        "executionInfo": {
          "status": "ok",
          "timestamp": 1526999535023,
          "user_tz": -330,
          "elapsed": 1968,
          "user": {
            "displayName": "Sourabh Daptardar",
            "photoUrl": "//lh4.googleusercontent.com/-onn5Q0_MiKQ/AAAAAAAAAAI/AAAAAAAACDI/iOxkSEz16nA/s50-c-k-no/photo.jpg",
            "userId": "115812262388010820083"
          }
        }
      },
      "cell_type": "code",
      "source": [
        "!ls /colabtools"
      ],
      "execution_count": 3,
      "outputs": [
        {
          "output_type": "stream",
          "text": [
            "cloudbuild\t dist\t google_colab.egg-info\tMANIFEST.in  setup.cfg\ttests\r\n",
            "CONTRIBUTING.md  google  LICENSE\t\tREADME.md    setup.py\ttox.ini\r\n"
          ],
          "name": "stdout"
        }
      ]
    },
    {
      "metadata": {
        "id": "G4WvjiCDzWPR",
        "colab_type": "code",
        "colab": {
          "autoexec": {
            "startup": false,
            "wait_interval": 0
          },
          "base_uri": "https://localhost:8080/",
          "height": 34
        },
        "outputId": "b0c2652f-4d3e-41c3-a295-d2e47668afcc",
        "executionInfo": {
          "status": "ok",
          "timestamp": 1526999537063,
          "user_tz": -330,
          "elapsed": 1921,
          "user": {
            "displayName": "Sourabh Daptardar",
            "photoUrl": "//lh4.googleusercontent.com/-onn5Q0_MiKQ/AAAAAAAAAAI/AAAAAAAACDI/iOxkSEz16nA/s50-c-k-no/photo.jpg",
            "userId": "115812262388010820083"
          }
        }
      },
      "cell_type": "code",
      "source": [
        "!python --version"
      ],
      "execution_count": 4,
      "outputs": [
        {
          "output_type": "stream",
          "text": [
            "Python 3.6.3\r\n"
          ],
          "name": "stdout"
        }
      ]
    },
    {
      "metadata": {
        "id": "g7awEd2R91eS",
        "colab_type": "code",
        "colab": {
          "autoexec": {
            "startup": false,
            "wait_interval": 0
          }
        }
      },
      "cell_type": "code",
      "source": [
        ""
      ],
      "execution_count": 0,
      "outputs": []
    },
    {
      "metadata": {
        "id": "z85P4eDZNSdu",
        "colab_type": "code",
        "colab": {
          "autoexec": {
            "startup": false,
            "wait_interval": 0
          },
          "base_uri": "https://localhost:8080/",
          "height": 187
        },
        "outputId": "034e9642-15b7-43d2-f3c5-e2d88b9f7365",
        "executionInfo": {
          "status": "ok",
          "timestamp": 1526999543454,
          "user_tz": -330,
          "elapsed": 4829,
          "user": {
            "displayName": "Sourabh Daptardar",
            "photoUrl": "//lh4.googleusercontent.com/-onn5Q0_MiKQ/AAAAAAAAAAI/AAAAAAAACDI/iOxkSEz16nA/s50-c-k-no/photo.jpg",
            "userId": "115812262388010820083"
          }
        }
      },
      "cell_type": "code",
      "source": [
        "!pip3 uninstall -y pillow\n",
        "!CC=\"cc -mavx2\" pip3 install -U --force-reinstall pillow-simd\n"
      ],
      "execution_count": 5,
      "outputs": [
        {
          "output_type": "stream",
          "text": [
            "Uninstalling Pillow-5.1.0:\n",
            "  Successfully uninstalled Pillow-5.1.0\n",
            "Collecting pillow-simd\n",
            "\u001b[31mtorchvision 0.2.1 requires pillow>=4.1.1, which is not installed.\u001b[0m\n",
            "\u001b[31mscikit-image 0.13.1 requires pillow>=2.1.0, which is not installed.\u001b[0m\n",
            "Installing collected packages: pillow-simd\n",
            "  Found existing installation: Pillow-SIMD 5.1.1.post0\n",
            "    Uninstalling Pillow-SIMD-5.1.1.post0:\n",
            "      Successfully uninstalled Pillow-SIMD-5.1.1.post0\n",
            "Successfully installed pillow-simd-5.1.1.post0\n"
          ],
          "name": "stdout"
        }
      ]
    },
    {
      "metadata": {
        "id": "7FiDFXCiT8wS",
        "colab_type": "code",
        "colab": {
          "autoexec": {
            "startup": false,
            "wait_interval": 0
          },
          "base_uri": "https://localhost:8080/",
          "height": 314
        },
        "outputId": "1745c733-2a1c-4922-e54b-1e5b34f57c58",
        "executionInfo": {
          "status": "ok",
          "timestamp": 1526999546456,
          "user_tz": -330,
          "elapsed": 2850,
          "user": {
            "displayName": "Sourabh Daptardar",
            "photoUrl": "//lh4.googleusercontent.com/-onn5Q0_MiKQ/AAAAAAAAAAI/AAAAAAAACDI/iOxkSEz16nA/s50-c-k-no/photo.jpg",
            "userId": "115812262388010820083"
          }
        }
      },
      "cell_type": "code",
      "source": [
        "\n",
        "!pip3 install ipdb\n"
      ],
      "execution_count": 6,
      "outputs": [
        {
          "output_type": "stream",
          "text": [
            "Requirement already satisfied: ipdb in /usr/local/lib/python3.6/dist-packages (0.11)\r\n",
            "Requirement already satisfied: ipython>=5.0.0; python_version >= \"3.3\" in /usr/local/lib/python3.6/dist-packages (from ipdb) (5.5.0)\n",
            "Requirement already satisfied: setuptools in /usr/local/lib/python3.6/dist-packages (from ipdb) (39.2.0)\n",
            "Requirement already satisfied: simplegeneric>0.8 in /usr/local/lib/python3.6/dist-packages (from ipython>=5.0.0; python_version >= \"3.3\"->ipdb) (0.8.1)\n",
            "Requirement already satisfied: traitlets>=4.2 in /usr/local/lib/python3.6/dist-packages (from ipython>=5.0.0; python_version >= \"3.3\"->ipdb) (4.3.2)\n",
            "Requirement already satisfied: pickleshare in /usr/local/lib/python3.6/dist-packages (from ipython>=5.0.0; python_version >= \"3.3\"->ipdb) (0.7.4)\n",
            "Requirement already satisfied: pexpect; sys_platform != \"win32\" in /usr/local/lib/python3.6/dist-packages (from ipython>=5.0.0; python_version >= \"3.3\"->ipdb) (4.5.0)\n",
            "Requirement already satisfied: decorator in /usr/local/lib/python3.6/dist-packages (from ipython>=5.0.0; python_version >= \"3.3\"->ipdb) (4.3.0)\n",
            "Requirement already satisfied: pygments in /usr/local/lib/python3.6/dist-packages (from ipython>=5.0.0; python_version >= \"3.3\"->ipdb) (2.1.3)\n",
            "Requirement already satisfied: prompt-toolkit<2.0.0,>=1.0.4 in /usr/local/lib/python3.6/dist-packages (from ipython>=5.0.0; python_version >= \"3.3\"->ipdb) (1.0.15)\n",
            "Requirement already satisfied: six in /usr/local/lib/python3.6/dist-packages (from traitlets>=4.2->ipython>=5.0.0; python_version >= \"3.3\"->ipdb) (1.11.0)\n",
            "Requirement already satisfied: ipython-genutils in /usr/local/lib/python3.6/dist-packages (from traitlets>=4.2->ipython>=5.0.0; python_version >= \"3.3\"->ipdb) (0.2.0)\n",
            "Requirement already satisfied: ptyprocess>=0.5 in /usr/local/lib/python3.6/dist-packages (from pexpect; sys_platform != \"win32\"->ipython>=5.0.0; python_version >= \"3.3\"->ipdb) (0.5.2)\n",
            "Requirement already satisfied: wcwidth in /usr/local/lib/python3.6/dist-packages (from prompt-toolkit<2.0.0,>=1.0.4->ipython>=5.0.0; python_version >= \"3.3\"->ipdb) (0.1.7)\n",
            "\u001b[31mtorchvision 0.2.1 requires pillow>=4.1.1, which is not installed.\u001b[0m\n",
            "\u001b[31mscikit-image 0.13.1 requires pillow>=2.1.0, which is not installed.\u001b[0m\n"
          ],
          "name": "stdout"
        }
      ]
    },
    {
      "metadata": {
        "id": "TAP3KzaO_3mr",
        "colab_type": "code",
        "colab": {
          "autoexec": {
            "startup": false,
            "wait_interval": 0
          },
          "base_uri": "https://localhost:8080/",
          "height": 272
        },
        "outputId": "fa95a246-2df2-4738-947f-4a97e650492a",
        "executionInfo": {
          "status": "ok",
          "timestamp": 1526999552428,
          "user_tz": -330,
          "elapsed": 5947,
          "user": {
            "displayName": "Sourabh Daptardar",
            "photoUrl": "//lh4.googleusercontent.com/-onn5Q0_MiKQ/AAAAAAAAAAI/AAAAAAAACDI/iOxkSEz16nA/s50-c-k-no/photo.jpg",
            "userId": "115812262388010820083"
          }
        }
      },
      "cell_type": "code",
      "source": [
        "\n",
        "from os import path\n",
        "from wheel.pep425tags import get_abbr_impl, get_impl_ver, get_abi_tag\n",
        "platform = '{}{}-{}'.format(get_abbr_impl(), get_impl_ver(), get_abi_tag())\n",
        "\n",
        "pver = !python --version |& awk '{print $2 }' | awk -F. '{ print $1$2}'\n",
        "pyver = pver[0]\n",
        "print(pyver)\n",
        "\n",
        "# cver = !echo \"cu`nvcc --version | sed \"s/ /\\n/g\" | grep -i release -A 1 | tail -n 1 | tr -d [\\.,]`\"\n",
        "# cudaver = cver[0]\n",
        "cudaver = 'cu91'\n",
        "\n",
        "accelerator =  cudaver if path.exists('/opt/bin/nvidia-smi') or path.exists('/usr/bin/nvidia-smi') else 'cpu'\n",
        "print(accelerator)\n",
        "\n",
        "torchurl = \"http://download.pytorch.org/whl/{0}/torch-{1}-cp{2}-cp{2}m-linux_x86_64.whl\".format(accelerator, torchver, pyver)\n",
        "print(torchurl)\n",
        "\n",
        "!pip3 install http://download.pytorch.org/whl/cu91/torch-0.4.0-cp36-cp36m-linux_x86_64.whl \n",
        "!pip3 install torchvision\n",
        "\n",
        "import torch\n",
        "import torchvision\n",
        "print(torchvision.get_image_backend())"
      ],
      "execution_count": 7,
      "outputs": [
        {
          "output_type": "stream",
          "text": [
            "36\n",
            "cu91\n",
            "http://download.pytorch.org/whl/cu91/torch-0.4.0-cp36-cp36m-linux_x86_64.whl\n",
            "Requirement already satisfied: torch==0.4.0 from http://download.pytorch.org/whl/cu91/torch-0.4.0-cp36-cp36m-linux_x86_64.whl in /usr/local/lib/python3.6/dist-packages (0.4.0)\n",
            "\u001b[31mtorchvision 0.2.1 requires pillow>=4.1.1, which is not installed.\u001b[0m\n",
            "\u001b[31mscikit-image 0.13.1 requires pillow>=2.1.0, which is not installed.\u001b[0m\n",
            "Requirement already satisfied: torchvision in /usr/local/lib/python3.6/dist-packages (0.2.1)\n",
            "Requirement already satisfied: torch in /usr/local/lib/python3.6/dist-packages (from torchvision) (0.4.0)\n",
            "Collecting pillow>=4.1.1 (from torchvision)\n",
            "  Using cached https://files.pythonhosted.org/packages/5f/4b/8b54ab9d37b93998c81b364557dff9f61972c0f650efa0ceaf470b392740/Pillow-5.1.0-cp36-cp36m-manylinux1_x86_64.whl\n",
            "Requirement already satisfied: six in /usr/local/lib/python3.6/dist-packages (from torchvision) (1.11.0)\n",
            "Requirement already satisfied: numpy in /usr/local/lib/python3.6/dist-packages (from torchvision) (1.14.3)\n",
            "Installing collected packages: pillow\n",
            "Successfully installed pillow-5.1.0\n",
            "PIL\n"
          ],
          "name": "stdout"
        }
      ]
    },
    {
      "metadata": {
        "id": "a4CFa1WLgoUX",
        "colab_type": "code",
        "colab": {
          "autoexec": {
            "startup": false,
            "wait_interval": 0
          },
          "base_uri": "https://localhost:8080/",
          "height": 34
        },
        "outputId": "0dcbd4f4-058d-46ae-aa11-3311ca7f98fc",
        "executionInfo": {
          "status": "ok",
          "timestamp": 1526999555742,
          "user_tz": -330,
          "elapsed": 3230,
          "user": {
            "displayName": "Sourabh Daptardar",
            "photoUrl": "//lh4.googleusercontent.com/-onn5Q0_MiKQ/AAAAAAAAAAI/AAAAAAAACDI/iOxkSEz16nA/s50-c-k-no/photo.jpg",
            "userId": "115812262388010820083"
          }
        }
      },
      "cell_type": "code",
      "source": [
        "!pip3 install tqdm"
      ],
      "execution_count": 8,
      "outputs": [
        {
          "output_type": "stream",
          "text": [
            "Requirement already satisfied: tqdm in /usr/local/lib/python3.6/dist-packages (4.23.3)\r\n"
          ],
          "name": "stdout"
        }
      ]
    },
    {
      "metadata": {
        "id": "GZt8MRT5RfK6",
        "colab_type": "text"
      },
      "cell_type": "markdown",
      "source": [
        "# Imports"
      ]
    },
    {
      "metadata": {
        "id": "ZptSyG9oSN1c",
        "colab_type": "code",
        "colab": {
          "autoexec": {
            "startup": false,
            "wait_interval": 0
          }
        }
      },
      "cell_type": "code",
      "source": [
        "import torch\n",
        "import os\n",
        "import sys\n",
        "import logging\n",
        "import io\n",
        "from tqdm import tqdm\n",
        "from matplotlib.pyplot import imshow\n",
        "import numpy as np\n",
        "from PIL import Image\n",
        "import torch\n",
        "import torch.nn as nn\n",
        "import torch.nn.parallel\n",
        "import torch.backends.cudnn as cudnn\n",
        "import torch.distributed as dist\n",
        "import torch.optim\n",
        "import torch.utils.data\n",
        "import torch.utils.data.distributed\n",
        "import torchvision.transforms as transforms\n",
        "import torchvision.datasets as datasets\n",
        "import torchvision.models as models"
      ],
      "execution_count": 0,
      "outputs": []
    },
    {
      "metadata": {
        "id": "IEEo0VYsZhvO",
        "colab_type": "code",
        "colab": {
          "autoexec": {
            "startup": false,
            "wait_interval": 0
          }
        }
      },
      "cell_type": "code",
      "source": [
        "%matplotlib inline"
      ],
      "execution_count": 0,
      "outputs": []
    },
    {
      "metadata": {
        "id": "N1BQLwQTWcKU",
        "colab_type": "text"
      },
      "cell_type": "markdown",
      "source": [
        "# Parameters"
      ]
    },
    {
      "metadata": {
        "id": "eM2a7qmqWh3Q",
        "colab_type": "code",
        "colab": {
          "autoexec": {
            "startup": false,
            "wait_interval": 0
          }
        }
      },
      "cell_type": "code",
      "source": [
        "base_dir = '/content/fashion'\n",
        "data_dir = base_dir + os.sep + 'data'\n",
        "input_dir = data_dir + os.sep + 'input'\n",
        "output_dir = data_dir + os.sep + 'output'\n",
        "train_zip = input_dir + os.sep + 'train_data.zip'\n",
        "val_zip = input_dir + os.sep + 'validation_data.zip'\n",
        "train_dir = input_dir + os.sep + 'train_data'\n",
        "val_dir = input_dir + os.sep + 'validation_data'\n",
        "train_id = \"1rx1rL8RUAggN4hKlrYLtpdQagtUWmIbO\"\n",
        "val_id = \"1U19eWiBFJ6wGcFk47l6g9mmoWp1i4hPY\"\n",
        "# train_labels_id = \"1NOoWniR3ioqPKbVWoaWGy4HPDzZAAJX9\"\n",
        "train_labels_id = \"1X7TpWyxxtmCT5rw__7OKus_W4fh8xpKO\" # small dataset\n",
        "val_labels_id = \"1d9RuQTx5E8qFxraIu6B4rDTOC4sx2xXT\"\n",
        "test_labels_id = \"1VwzGCJfOL13pk1Wi-xPHQ6mVnofy9_Z4\"\n",
        "# train_labels_json = input_dir + os.sep + 'train.json'\n",
        "train_labels_json = input_dir + os.sep + 'train_small.json' \n",
        "val_labels_json = input_dir + os.sep + 'validation.json'\n",
        "test_labels_json = input_dir + os.sep + 'test.json'\n",
        "num_labels = 228\n",
        "batch_size = 16\n",
        "image_min_size = 256\n",
        "nw_input_size = 224\n",
        "num_workers = 4\n",
        "imagenet_mean = [0.485, 0.456, 0.406]\n",
        "imagenet_std = [0.229, 0.224, 0.225]\n",
        "pretrain_dset_mean = imagenet_mean\n",
        "pretrain_dset_std = imagenet_std\n",
        "world_size = 1\n",
        "dist_url = 'file://' + output_dir + os.sep + 'dfile'\n",
        "dist_backend = 'gloo'\n",
        "distributed = world_size > 1\n",
        "arch = 'resnet50'\n",
        "fv_size = 2048\n",
        "pretrained = True\n",
        "resume = False"
      ],
      "execution_count": 0,
      "outputs": []
    },
    {
      "metadata": {
        "id": "90hY9m66UYPd",
        "colab_type": "code",
        "colab": {
          "autoexec": {
            "startup": false,
            "wait_interval": 0
          },
          "base_uri": "https://localhost:8080/",
          "height": 68
        },
        "outputId": "69716ad3-8797-4669-c082-5b02fc94aa86",
        "executionInfo": {
          "status": "ok",
          "timestamp": 1526999566200,
          "user_tz": -330,
          "elapsed": 4653,
          "user": {
            "displayName": "Sourabh Daptardar",
            "photoUrl": "//lh4.googleusercontent.com/-onn5Q0_MiKQ/AAAAAAAAAAI/AAAAAAAACDI/iOxkSEz16nA/s50-c-k-no/photo.jpg",
            "userId": "115812262388010820083"
          }
        }
      },
      "cell_type": "code",
      "source": [
        "print(torch.backends.cudnn.version())\n",
        "print(torch.cuda.is_available())\n",
        "print(torch.cuda.get_device_name(0))\n"
      ],
      "execution_count": 12,
      "outputs": [
        {
          "output_type": "stream",
          "text": [
            "7102\n",
            "True\n",
            "Tesla K80\n"
          ],
          "name": "stdout"
        }
      ]
    },
    {
      "metadata": {
        "id": "Kc-OLRcoHDBl",
        "colab_type": "code",
        "colab": {
          "autoexec": {
            "startup": false,
            "wait_interval": 0
          }
        }
      },
      "cell_type": "code",
      "source": [
        "cudnn.benchmark = True"
      ],
      "execution_count": 0,
      "outputs": []
    },
    {
      "metadata": {
        "id": "jB9hgpyUfbqG",
        "colab_type": "code",
        "colab": {
          "autoexec": {
            "startup": false,
            "wait_interval": 0
          }
        }
      },
      "cell_type": "code",
      "source": [
        "os.makedirs(base_dir, exist_ok=True)\n",
        "os.makedirs(data_dir, exist_ok=True)\n",
        "os.makedirs(input_dir, exist_ok=True)\n",
        "os.makedirs(output_dir, exist_ok=True)"
      ],
      "execution_count": 0,
      "outputs": []
    },
    {
      "metadata": {
        "id": "dBC_aI1vRknn",
        "colab_type": "text"
      },
      "cell_type": "markdown",
      "source": [
        "# Download Dataset"
      ]
    },
    {
      "metadata": {
        "id": "g5eP3RxWV5L5",
        "colab_type": "code",
        "colab": {
          "autoexec": {
            "startup": false,
            "wait_interval": 0
          }
        }
      },
      "cell_type": "code",
      "source": [
        "from google.colab import auth\n",
        "auth.authenticate_user()"
      ],
      "execution_count": 0,
      "outputs": []
    },
    {
      "metadata": {
        "id": "68MYkyHJWP0m",
        "colab_type": "code",
        "colab": {
          "autoexec": {
            "startup": false,
            "wait_interval": 0
          }
        }
      },
      "cell_type": "code",
      "source": [
        "from googleapiclient.discovery import build\n",
        "import io\n",
        "from googleapiclient.http import MediaIoBaseDownload\n",
        "import json\n",
        "\n",
        "def md5_hash(fname, blocksize=4096):\n",
        "    \"\"\" compute md5hash of a file \"\"\"\n",
        "    import hashlib\n",
        "    hash = ''\n",
        "    if not os.path.exists(fname):\n",
        "        errmsg = \"File %s does not exist\" % (fname)\n",
        "        print(errmsg)\n",
        "        return ''\n",
        "    try:\n",
        "        hasher = hashlib.md5()\n",
        "        with open(fname, 'rb') as f:\n",
        "            buf = f.read(blocksize)\n",
        "            while len(buf) > 0:\n",
        "                hasher.update(buf)\n",
        "                buf = f.read(blocksize)\n",
        "        hash = hasher.hexdigest()\n",
        "    except:\n",
        "        print(\"Exception in hashing file\")\n",
        "        raise\n",
        "    return hash\n",
        "\n",
        "def _download(drive_service, file_id, loc):\n",
        "  request = drive_service.files().get_media(fileId=file_id)\n",
        "  fh = io.FileIO(loc, mode='wb')\n",
        "  downloader = MediaIoBaseDownload(fh, request, chunksize=1024*1024)\n",
        "  prev_progress = 0\n",
        "  done = False\n",
        "  with tqdm(total=100) as pbar:\n",
        "    while done is False:\n",
        "      status, done = downloader.next_chunk()\n",
        "      if status:\n",
        "        # print(\"Download %d%%.\" % int(status.progress() * 100))\n",
        "        pbar.update(int(100 *(status.progress() - prev_progress)))\n",
        "        prev_progress = status.progress()\n",
        "  print(\"Download Complete!\")\n",
        "  file_size = os.path.getsize(loc)\n",
        "  print(\"Downloaded %d bytes\" % (file_size))\n",
        "\n",
        "def download(file_id, loc):\n",
        "  \"\"\"Downloads a file to local file system.\"\"\"  \n",
        "  drive_service = build('drive', 'v3')\n",
        "  \n",
        "  request_mdata = drive_service.files().list(fields=\"files(md5Checksum, originalFilename, id)\")\n",
        "  rh = io.BytesIO()\n",
        "  downloader_mdata = MediaIoBaseDownload(rh, request_mdata, chunksize=1024*1024)\n",
        "  done = False\n",
        "  while not done:\n",
        "    _, done = downloader_mdata.next_chunk()\n",
        "  mdata = json.loads(rh.getvalue())\n",
        "  found = False\n",
        "  md5drive = ''\n",
        "  fname = ''\n",
        "  for x in mdata['files']:\n",
        "    if x['id'] == file_id:\n",
        "      found = True\n",
        "      md5drive = x['md5Checksum']\n",
        "      fname = x['originalFilename']\n",
        "      break\n",
        "  if not found:\n",
        "    print(\"{:s} : not found on gdrive\".format(file_id))\n",
        "  else:\n",
        "    if os.path.exists(loc):\n",
        "      if md5drive == md5_hash(loc):\n",
        "        print(\"{:s} : file already present on colab\".format(loc))\n",
        "      else:\n",
        "        print(\"{:s} [gdrive] and {:s} [colab] : md5 mismatch ... downloading\".format(fname, loc))\n",
        "        _download(drive_service, file_id, loc)\n",
        "    else:\n",
        "      print(\"{:s} not present on colab ... downloading ...\".format(loc))\n",
        "      _download(drive_service, file_id, loc)\n",
        "        \n"
      ],
      "execution_count": 0,
      "outputs": []
    },
    {
      "metadata": {
        "id": "jOBHlpMKaE-F",
        "colab_type": "code",
        "colab": {
          "autoexec": {
            "startup": false,
            "wait_interval": 0
          },
          "base_uri": "https://localhost:8080/",
          "height": 102
        },
        "outputId": "d016368e-3e23-4d14-858c-f394099918db",
        "executionInfo": {
          "status": "ok",
          "timestamp": 1526999583637,
          "user_tz": -330,
          "elapsed": 9430,
          "user": {
            "displayName": "Sourabh Daptardar",
            "photoUrl": "//lh4.googleusercontent.com/-onn5Q0_MiKQ/AAAAAAAAAAI/AAAAAAAACDI/iOxkSEz16nA/s50-c-k-no/photo.jpg",
            "userId": "115812262388010820083"
          }
        }
      },
      "cell_type": "code",
      "source": [
        "download(train_id, train_zip)\n",
        "download(val_id, val_zip)\n",
        "download(train_labels_id, train_labels_json)\n",
        "download(val_labels_id, val_labels_json)\n",
        "download(test_labels_id, test_labels_json)"
      ],
      "execution_count": 17,
      "outputs": [
        {
          "output_type": "stream",
          "text": [
            "/content/fashion/data/input/train_data.zip : file already present on colab\n",
            "/content/fashion/data/input/validation_data.zip : file already present on colab\n",
            "/content/fashion/data/input/train_small.json : file already present on colab\n",
            "/content/fashion/data/input/validation.json : file already present on colab\n",
            "/content/fashion/data/input/test.json : file already present on colab\n"
          ],
          "name": "stdout"
        }
      ]
    },
    {
      "metadata": {
        "id": "mA1kgVVEdSWI",
        "colab_type": "code",
        "colab": {
          "autoexec": {
            "startup": false,
            "wait_interval": 0
          }
        }
      },
      "cell_type": "code",
      "source": [
        "import shutil\n",
        "shutil.unpack_archive(train_zip, input_dir)\n",
        "shutil.unpack_archive(val_zip, input_dir)\n"
      ],
      "execution_count": 0,
      "outputs": []
    },
    {
      "metadata": {
        "id": "X4Eugqw2fJRQ",
        "colab_type": "code",
        "colab": {
          "autoexec": {
            "startup": false,
            "wait_interval": 0
          },
          "base_uri": "https://localhost:8080/",
          "height": 153
        },
        "outputId": "60c237be-62a0-4f6e-a114-7d298ffb77ae",
        "executionInfo": {
          "status": "ok",
          "timestamp": 1526999599633,
          "user_tz": -330,
          "elapsed": 1960,
          "user": {
            "displayName": "Sourabh Daptardar",
            "photoUrl": "//lh4.googleusercontent.com/-onn5Q0_MiKQ/AAAAAAAAAAI/AAAAAAAACDI/iOxkSEz16nA/s50-c-k-no/photo.jpg",
            "userId": "115812262388010820083"
          }
        }
      },
      "cell_type": "code",
      "source": [
        "!ls -ltr /content/fashion/data/input"
      ],
      "execution_count": 19,
      "outputs": [
        {
          "output_type": "stream",
          "text": [
            "total 1256772\r\n",
            "-rw-r--r-- 1 root root 623133900 May 22 14:21 train_data.zip\r\n",
            "-rw-r--r-- 1 root root 649513008 May 22 14:25 validation_data.zip\r\n",
            "-rw-r--r-- 1 root root   3740426 May 22 14:25 train_small.json\r\n",
            "-rw-r--r-- 1 root root   4222518 May 22 14:25 validation.json\r\n",
            "-rw-r--r-- 1 root root   5785993 May 22 14:25 test.json\r\n",
            "drwxr-xr-x 2 root root    253952 May 22 14:26 train_data\r\n",
            "drwxr-xr-x 2 root root    258048 May 22 14:26 validation_data\r\n"
          ],
          "name": "stdout"
        }
      ]
    },
    {
      "metadata": {
        "id": "_XnHDCmclB9B",
        "colab_type": "code",
        "colab": {
          "autoexec": {
            "startup": false,
            "wait_interval": 0
          },
          "base_uri": "https://localhost:8080/",
          "height": 204
        },
        "outputId": "d24b5291-6ff9-4f01-da93-2125f30db4a1",
        "executionInfo": {
          "status": "ok",
          "timestamp": 1526999602050,
          "user_tz": -330,
          "elapsed": 2361,
          "user": {
            "displayName": "Sourabh Daptardar",
            "photoUrl": "//lh4.googleusercontent.com/-onn5Q0_MiKQ/AAAAAAAAAAI/AAAAAAAACDI/iOxkSEz16nA/s50-c-k-no/photo.jpg",
            "userId": "115812262388010820083"
          }
        }
      },
      "cell_type": "code",
      "source": [
        "!ls -ltr /content/fashion/data/input/train_data | head"
      ],
      "execution_count": 20,
      "outputs": [
        {
          "output_type": "stream",
          "text": [
            "total 636932\r\n",
            "-rw-r--r-- 1 root root  61060 May 22 14:33 1.jpg\r\n",
            "-rw-r--r-- 1 root root  61806 May 22 14:33 10.jpg\r\n",
            "-rw-r--r-- 1 root root  97998 May 22 14:33 100.jpg\r\n",
            "-rw-r--r-- 1 root root  42627 May 22 14:33 1000.jpg\r\n",
            "-rw-r--r-- 1 root root 105654 May 22 14:33 10000.jpg\r\n",
            "-rw-r--r-- 1 root root  24032 May 22 14:33 1002.jpg\r\n",
            "-rw-r--r-- 1 root root  49370 May 22 14:33 1001.jpg\r\n",
            "-rw-r--r-- 1 root root  68407 May 22 14:33 1004.jpg\r\n",
            "-rw-r--r-- 1 root root  95681 May 22 14:33 1003.jpg\r\n",
            "ls: write error: Broken pipe\r\n"
          ],
          "name": "stdout"
        }
      ]
    },
    {
      "metadata": {
        "id": "4bmRgA9ilISL",
        "colab_type": "code",
        "colab": {
          "autoexec": {
            "startup": false,
            "wait_interval": 0
          },
          "base_uri": "https://localhost:8080/",
          "height": 204
        },
        "outputId": "84f0b39c-3313-47a3-c96a-793b6a43f48f",
        "executionInfo": {
          "status": "ok",
          "timestamp": 1526999604404,
          "user_tz": -330,
          "elapsed": 2296,
          "user": {
            "displayName": "Sourabh Daptardar",
            "photoUrl": "//lh4.googleusercontent.com/-onn5Q0_MiKQ/AAAAAAAAAAI/AAAAAAAACDI/iOxkSEz16nA/s50-c-k-no/photo.jpg",
            "userId": "115812262388010820083"
          }
        }
      },
      "cell_type": "code",
      "source": [
        "!ls -ltr /content/fashion/data/input/validation_data | head"
      ],
      "execution_count": 21,
      "outputs": [
        {
          "output_type": "stream",
          "text": [
            "total 663036\r\n",
            "-rw-r--r-- 1 root root  89139 May 22 14:33 1.jpg\r\n",
            "-rw-r--r-- 1 root root  61895 May 22 14:33 10.jpg\r\n",
            "-rw-r--r-- 1 root root  56745 May 22 14:33 100.jpg\r\n",
            "-rw-r--r-- 1 root root  55370 May 22 14:33 1000.jpg\r\n",
            "-rw-r--r-- 1 root root  81057 May 22 14:33 1002.jpg\r\n",
            "-rw-r--r-- 1 root root  53685 May 22 14:33 1001.jpg\r\n",
            "-rw-r--r-- 1 root root  38732 May 22 14:33 1004.jpg\r\n",
            "-rw-r--r-- 1 root root  56689 May 22 14:33 1003.jpg\r\n",
            "-rw-r--r-- 1 root root 110376 May 22 14:33 1006.jpg\r\n",
            "ls: write error: Broken pipe\r\n"
          ],
          "name": "stdout"
        }
      ]
    },
    {
      "metadata": {
        "id": "c6LY5l-SRtWw",
        "colab_type": "text"
      },
      "cell_type": "markdown",
      "source": [
        "# Dataset"
      ]
    },
    {
      "metadata": {
        "id": "VMcIw45smeZE",
        "colab_type": "code",
        "colab": {
          "autoexec": {
            "startup": false,
            "wait_interval": 0
          }
        }
      },
      "cell_type": "code",
      "source": [
        "import torch.utils.data as data\n",
        "from copy import copy\n",
        "import numpy as np\n",
        "\n",
        "def fetch_labels(annotations, num_labels):\n",
        "  labels = {}\n",
        "  for x in annotations:\n",
        "    arr = np.zeros((num_labels,), dtype=np.float32)\n",
        "    for y in map(int, x['labelId']):\n",
        "      arr[y-1] = 1.0\n",
        "    # 0-indexed\n",
        "    labels[int(x['imageId'])-1] = copy(arr)\n",
        "  return labels\n",
        "\n",
        "def json_to_dict(fpath):\n",
        "  import json\n",
        "  with open(fpath) as f: \n",
        "    D = json.load(f)\n",
        "  return D\n",
        "\n",
        "def get_labelinfo(annotations):\n",
        "  from collections import namedtuple\n",
        "  labelinfo = namedtuple('labelinfo', \"set min max count\")\n",
        "  labelinfo.set = set()\n",
        "  for x in annotations:\n",
        "    labelinfo.set.update(map(int, x['labelId']))\n",
        "  labelinfo.min = min(labelinfo.set)\n",
        "  labelinfo.max = max(labelinfo.set)\n",
        "  labelinfo.count = len(labelinfo.set)\n",
        "  return labelinfo\n",
        "\n",
        "def has_file_allowed_extension(filename, extensions):\n",
        "    \"\"\"Checks if a file is an allowed extension.\n",
        "    Args:\n",
        "        filename (string): path to a file\n",
        "    Returns:\n",
        "        bool: True if the filename ends with a known image extension\n",
        "    \"\"\"\n",
        "    filename_lower = filename.lower()\n",
        "    return any(filename_lower.endswith(ext) for ext in extensions)\n",
        "\n",
        "\n",
        "def pil_loader(path):\n",
        "    from PIL import Image \n",
        "    # open path as file to avoid ResourceWarning (https://github.com/python-pillow/Pillow/issues/835)\n",
        "    with open(path, 'rb') as f:\n",
        "        img = Image.open(f)\n",
        "        return img.convert('RGB')\n",
        "\n",
        "\n",
        "def accimage_loader(path):\n",
        "    import accimage\n",
        "    try:\n",
        "        return accimage.Image(path)\n",
        "    except IOError:\n",
        "        # Potentially a decoding problem, fall back to PIL.Image\n",
        "        return pil_loader(path)\n",
        "\n",
        "\n",
        "def default_loader(path):\n",
        "    from torchvision import get_image_backend\n",
        "    if get_image_backend() == 'accimage':\n",
        "        return accimage_loader(path)\n",
        "    else:\n",
        "        return pil_loader(path)\n",
        "\n",
        "      \n",
        "class FashionDataset(data.Dataset):\n",
        "  \"\"\"Fashion dataset CVPR challenge.\n",
        "     Adapted from torchvision ImageFolder.\n",
        "     Similar to ImageFolder with the following differences:\n",
        "     1. Multilabel\n",
        "     2. Directory structure where all images are directly in the root folder\n",
        "     3. Labels are read from json file\n",
        "   \n",
        "  Args:\n",
        "        root (string): Root directory path.\n",
        "        loader (callable): A function to load a sample given its path.\n",
        "        extensions (list[string]): A list of allowed extensions.\n",
        "        transform (callable, optional): A function/transform that takes in\n",
        "            a sample and returns a transformed version.\n",
        "            E.g, ``transforms.RandomCrop`` for images.\n",
        "        target_transform (callable, optional): A function/transform that takes\n",
        "            in the target and transforms it.\n",
        "    \n",
        "  \"\"\"\n",
        "\n",
        "  def __init__(self, root, metadata_file, num_labels=228, transform=None, target_transform=None,\n",
        "               loader=default_loader):\n",
        "    extensions = ['.jpg', '.jpeg', '.png', '.ppm', '.bmp', '.pgm', '.tif']\n",
        "    self.num_labels = num_labels\n",
        "    self.images = {}\n",
        "    self.metadata_file = metadata_file\n",
        "    self.metadata = json_to_dict(self.metadata_file)\n",
        "    self.transform = transform\n",
        "    self.root = root\n",
        "    self.target_transform = target_transform\n",
        "    self.loader = loader\n",
        "    self.labelinfo = get_labelinfo(self.metadata['annotations'])\n",
        "    self.labels = fetch_labels(self.metadata['annotations'], self.num_labels)\n",
        "\n",
        "    for x in self.metadata['images']:\n",
        "      # 0-indexed\n",
        "      self.images[int(x['imageId'])-1] = '%s%s%d.jpg' % (root, os.sep, int(x['imageId']))  \n",
        "    \n",
        "\n",
        "  def __getitem__(self, index):\n",
        "        \"\"\"\n",
        "        Args:\n",
        "            index (int): Index\n",
        "        Returns:\n",
        "            tuple: (sample, target) where target is class_index of the target class.\n",
        "        \"\"\"\n",
        "        path, target = self.images[index], self.labels[index]\n",
        "        sample = self.loader(path)\n",
        "        if self.transform is not None:\n",
        "            sample = self.transform(sample)\n",
        "        if self.target_transform is not None:\n",
        "            target = self.target_transform(target)\n",
        "\n",
        "        return sample, target\n",
        "\n",
        "  def __len__(self):\n",
        "    return len(self.images)\n",
        "  \n",
        "  def __repr__(self):\n",
        "    fmt_str = 'Dataset ' + self.__class__.__name__ + '\\n'\n",
        "    fmt_str += '    Number of datapoints: {}\\n'.format(self.__len__())\n",
        "    fmt_str += '    Number of labels: {}\\n'.format(self.labelinfo.count)\n",
        "    fmt_str += '    Root Location: {}\\n'.format(self.root)\n",
        "    fmt_str += '    Metadata file: {}\\n'.format(self.metadata_file)\n",
        "    tmp = '    Transforms (if any): '\n",
        "    fmt_str += '{0}{1}\\n'.format(tmp, self.transform.__repr__().replace('\\n', '\\n' + ' ' * len(tmp)))\n",
        "    tmp = '    Target Transforms (if any): '\n",
        "    fmt_str += '{0}{1}'.format(tmp, self.target_transform.__repr__().replace('\\n', '\\n' + ' ' * len(tmp)))\n",
        "    tmp = '    Loader: '\n",
        "    fmt_str += '\\n{0}{1}'.format(tmp, self.loader.__name__)\n",
        "    return fmt_str\n",
        "\n",
        "  "
      ],
      "execution_count": 0,
      "outputs": []
    },
    {
      "metadata": {
        "id": "BuB8IhRXrZzK",
        "colab_type": "code",
        "colab": {
          "autoexec": {
            "startup": false,
            "wait_interval": 0
          }
        }
      },
      "cell_type": "code",
      "source": [
        "import torchvision.transforms as transforms\n",
        "\n",
        "train_tform = transforms.Compose([transforms.RandomResizedCrop(nw_input_size),\n",
        "                                  transforms.RandomHorizontalFlip(),\n",
        "                                  transforms.ToTensor(),\n",
        "                                  transforms.Normalize(mean=pretrain_dset_mean,\n",
        "                                                        std=pretrain_dset_std)\n",
        "                                 ])\n",
        "\n",
        "val_tform = transforms.Compose([transforms.Resize(image_min_size),\n",
        "                                transforms.CenterCrop(nw_input_size),\n",
        "                                transforms.ToTensor(),\n",
        "                                transforms.Normalize(mean=pretrain_dset_mean,\n",
        "                                                     std=pretrain_dset_std)\n",
        "                               ])"
      ],
      "execution_count": 0,
      "outputs": []
    },
    {
      "metadata": {
        "id": "b7JjnbO4a1bU",
        "colab_type": "code",
        "colab": {
          "autoexec": {
            "startup": false,
            "wait_interval": 0
          },
          "base_uri": "https://localhost:8080/",
          "height": 459
        },
        "outputId": "a8a1c79b-6318-41b1-8c57-4da27a452cdb",
        "executionInfo": {
          "status": "ok",
          "timestamp": 1526999607558,
          "user_tz": -330,
          "elapsed": 859,
          "user": {
            "displayName": "Sourabh Daptardar",
            "photoUrl": "//lh4.googleusercontent.com/-onn5Q0_MiKQ/AAAAAAAAAAI/AAAAAAAACDI/iOxkSEz16nA/s50-c-k-no/photo.jpg",
            "userId": "115812262388010820083"
          }
        }
      },
      "cell_type": "code",
      "source": [
        "train_dset = FashionDataset(train_dir, train_labels_json, num_labels, transform=train_tform)\n",
        "val_dset = FashionDataset(val_dir, val_labels_json, num_labels, transform=val_tform)\n",
        "\n",
        "\n",
        "print(train_dset)\n",
        "print(val_dset)"
      ],
      "execution_count": 24,
      "outputs": [
        {
          "output_type": "stream",
          "text": [
            "Dataset FashionDataset\n",
            "    Number of datapoints: 10000\n",
            "    Number of labels: 221\n",
            "    Root Location: /content/fashion/data/input/train_data\n",
            "    Metadata file: /content/fashion/data/input/train_small.json\n",
            "    Transforms (if any): Compose(\n",
            "                             RandomResizedCrop(size=(224, 224), scale=(0.08, 1.0), ratio=(0.75, 1.3333), interpolation=PIL.Image.BILINEAR)\n",
            "                             RandomHorizontalFlip(p=0.5)\n",
            "                             ToTensor()\n",
            "                             Normalize(mean=[0.485, 0.456, 0.406], std=[0.229, 0.224, 0.225])\n",
            "                         )\n",
            "    Target Transforms (if any): None\n",
            "    Loader: default_loader\n",
            "Dataset FashionDataset\n",
            "    Number of datapoints: 9897\n",
            "    Number of labels: 225\n",
            "    Root Location: /content/fashion/data/input/validation_data\n",
            "    Metadata file: /content/fashion/data/input/validation.json\n",
            "    Transforms (if any): Compose(\n",
            "                             Resize(size=256, interpolation=PIL.Image.BILINEAR)\n",
            "                             CenterCrop(size=(224, 224))\n",
            "                             ToTensor()\n",
            "                             Normalize(mean=[0.485, 0.456, 0.406], std=[0.229, 0.224, 0.225])\n",
            "                         )\n",
            "    Target Transforms (if any): None\n",
            "    Loader: default_loader\n"
          ],
          "name": "stdout"
        }
      ]
    },
    {
      "metadata": {
        "id": "-EoLW0no-em7",
        "colab_type": "code",
        "colab": {
          "autoexec": {
            "startup": false,
            "wait_interval": 0
          }
        }
      },
      "cell_type": "code",
      "source": [
        "def tensor_to_numpy(t, avg, std):\n",
        "  return (255.0 * (np.transpose(np.asarray(t), (1, 2, 0)) * std + avg)).astype(np.uint8)\n",
        "  "
      ],
      "execution_count": 0,
      "outputs": []
    },
    {
      "metadata": {
        "id": "L8qbOaD8HvYi",
        "colab_type": "code",
        "colab": {
          "autoexec": {
            "startup": false,
            "wait_interval": 0
          },
          "base_uri": "https://localhost:8080/",
          "height": 439
        },
        "outputId": "89cf9921-6b43-4f9a-a7cc-20cbbd58a5ca",
        "executionInfo": {
          "status": "ok",
          "timestamp": 1526999610691,
          "user_tz": -330,
          "elapsed": 1810,
          "user": {
            "displayName": "Sourabh Daptardar",
            "photoUrl": "//lh4.googleusercontent.com/-onn5Q0_MiKQ/AAAAAAAAAAI/AAAAAAAACDI/iOxkSEz16nA/s50-c-k-no/photo.jpg",
            "userId": "115812262388010820083"
          }
        }
      },
      "cell_type": "code",
      "source": [
        "rnd1 = np.random.randint(len(train_dset))\n",
        "im1, lbl1 = train_dset[rnd1]\n",
        "imshow(tensor_to_numpy(im1, pretrain_dset_mean, pretrain_dset_std))\n",
        "print(lbl1)"
      ],
      "execution_count": 26,
      "outputs": [
        {
          "output_type": "stream",
          "text": [
            "[0. 0. 0. 0. 0. 0. 0. 0. 0. 0. 0. 0. 0. 0. 1. 0. 0. 0. 0. 0. 0. 0. 0. 0.\n",
            " 0. 0. 0. 0. 0. 0. 0. 0. 0. 0. 0. 0. 0. 0. 0. 0. 0. 0. 0. 0. 0. 0. 0. 0.\n",
            " 0. 0. 0. 0. 0. 0. 0. 0. 0. 0. 0. 0. 0. 0. 0. 0. 0. 1. 0. 0. 0. 0. 0. 0.\n",
            " 0. 0. 0. 0. 0. 0. 0. 0. 0. 0. 0. 0. 0. 0. 0. 0. 0. 0. 0. 0. 0. 0. 0. 0.\n",
            " 0. 0. 0. 0. 0. 0. 0. 0. 0. 0. 0. 0. 0. 0. 0. 0. 0. 0. 0. 0. 0. 0. 0. 0.\n",
            " 0. 0. 0. 0. 0. 0. 0. 0. 0. 0. 0. 0. 0. 0. 1. 0. 1. 0. 0. 0. 0. 0. 0. 0.\n",
            " 0. 0. 0. 0. 0. 0. 0. 0. 0. 0. 0. 0. 0. 0. 0. 0. 0. 0. 0. 0. 0. 0. 0. 0.\n",
            " 0. 0. 0. 0. 0. 0. 0. 1. 0. 0. 0. 0. 0. 0. 0. 0. 0. 0. 0. 0. 0. 0. 0. 0.\n",
            " 0. 0. 0. 0. 0. 0. 0. 0. 0. 0. 0. 0. 0. 0. 0. 0. 0. 0. 0. 0. 0. 0. 0. 0.\n",
            " 0. 0. 0. 0. 0. 0. 0. 0. 0. 0. 0. 0.]\n"
          ],
          "name": "stdout"
        },
        {
          "output_type": "display_data",
          "data": {
            "image/png": "[encoded data removed]",
            "text/plain": [
              "<matplotlib.figure.Figure at 0x7f81ffec47b8>"
            ]
          },
          "metadata": {
            "tags": []
          }
        }
      ]
    },
    {
      "metadata": {
        "id": "3h5_M6G0QBYZ",
        "colab_type": "code",
        "colab": {
          "autoexec": {
            "startup": false,
            "wait_interval": 0
          },
          "base_uri": "https://localhost:8080/",
          "height": 439
        },
        "outputId": "9275725a-458d-45bf-f7c0-7bec27e717fc",
        "executionInfo": {
          "status": "ok",
          "timestamp": 1526999612631,
          "user_tz": -330,
          "elapsed": 1653,
          "user": {
            "displayName": "Sourabh Daptardar",
            "photoUrl": "//lh4.googleusercontent.com/-onn5Q0_MiKQ/AAAAAAAAAAI/AAAAAAAACDI/iOxkSEz16nA/s50-c-k-no/photo.jpg",
            "userId": "115812262388010820083"
          }
        }
      },
      "cell_type": "code",
      "source": [
        "rnd2 = np.random.randint(len(val_dset))\n",
        "im2, lbl2 = val_dset[rnd2]\n",
        "imshow(tensor_to_numpy(im2, pretrain_dset_mean, pretrain_dset_std))\n",
        "print(lbl2)"
      ],
      "execution_count": 27,
      "outputs": [
        {
          "output_type": "stream",
          "text": [
            "[0. 0. 0. 0. 0. 0. 0. 0. 0. 0. 0. 0. 0. 0. 0. 0. 0. 0. 0. 0. 0. 0. 0. 0.\n",
            " 0. 0. 0. 0. 0. 0. 0. 0. 0. 0. 0. 0. 0. 0. 0. 0. 0. 0. 0. 0. 0. 0. 0. 0.\n",
            " 0. 0. 0. 0. 0. 0. 0. 0. 0. 0. 0. 0. 0. 1. 0. 0. 0. 1. 0. 0. 0. 1. 0. 0.\n",
            " 0. 0. 0. 0. 0. 0. 0. 0. 0. 0. 0. 0. 0. 0. 0. 0. 0. 0. 0. 0. 0. 0. 0. 0.\n",
            " 0. 0. 0. 0. 0. 0. 0. 0. 0. 0. 0. 0. 0. 0. 1. 0. 0. 0. 0. 0. 0. 0. 0. 0.\n",
            " 0. 0. 0. 0. 0. 0. 0. 0. 0. 0. 0. 0. 0. 0. 0. 0. 0. 1. 0. 0. 0. 0. 0. 0.\n",
            " 0. 0. 0. 0. 0. 0. 0. 0. 0. 0. 0. 0. 0. 0. 0. 0. 0. 0. 0. 0. 0. 0. 0. 0.\n",
            " 0. 0. 1. 0. 0. 0. 1. 1. 0. 0. 0. 0. 0. 0. 0. 1. 0. 0. 0. 0. 0. 0. 0. 0.\n",
            " 0. 0. 0. 0. 0. 0. 0. 0. 0. 0. 0. 0. 0. 0. 0. 0. 0. 0. 0. 0. 0. 1. 0. 0.\n",
            " 0. 0. 0. 0. 0. 0. 0. 0. 0. 0. 0. 0.]\n"
          ],
          "name": "stdout"
        },
        {
          "output_type": "display_data",
          "data": {
            "image/png": "[encoded data removed]",
            "text/plain": [
              "<matplotlib.figure.Figure at 0x7f8202c50ef0>"
            ]
          },
          "metadata": {
            "tags": []
          }
        }
      ]
    },
    {
      "metadata": {
        "id": "iU_VDQm2Rtro",
        "colab_type": "text"
      },
      "cell_type": "markdown",
      "source": [
        "# DataLoader"
      ]
    },
    {
      "metadata": {
        "id": "4KcwWuuHoxoo",
        "colab_type": "code",
        "colab": {
          "autoexec": {
            "startup": false,
            "wait_interval": 0
          }
        }
      },
      "cell_type": "code",
      "source": [
        "if distributed:\n",
        "    dist.init_process_group(backend=dist_backend,\n",
        "                            init_method=dist_url,\n",
        "                            world_size=world_size)\n"
      ],
      "execution_count": 0,
      "outputs": []
    },
    {
      "metadata": {
        "id": "EjMlN6vqHtsE",
        "colab_type": "code",
        "colab": {
          "autoexec": {
            "startup": false,
            "wait_interval": 0
          }
        }
      },
      "cell_type": "code",
      "source": [
        "from torch.utils.data.distributed import DistributedSampler \n",
        "\n",
        "\n",
        "if distributed:\n",
        "  train_sampler = DistributedSampler(train_dset)\n",
        "else:\n",
        "  train_sampler = None\n",
        "\n",
        "train_loader = torch.utils.data.DataLoader(train_dset,\n",
        "                                           batch_size=batch_size,\n",
        "                                           shuffle=(train_sampler is None),\n",
        "                                           num_workers=num_workers,\n",
        "                                           pin_memory=True,\n",
        "                                           sampler=train_sampler\n",
        "                                          )\n",
        "\n",
        "val_loader = torch.utils.data.DataLoader(val_dset,\n",
        "                                         batch_size=batch_size,\n",
        "                                         shuffle=False,\n",
        "                                         num_workers=num_workers,\n",
        "                                         pin_memory=True\n",
        "                                        )\n"
      ],
      "execution_count": 0,
      "outputs": []
    },
    {
      "metadata": {
        "id": "uzNG4-7x6Ovt",
        "colab_type": "code",
        "colab": {
          "autoexec": {
            "startup": false,
            "wait_interval": 0
          }
        }
      },
      "cell_type": "code",
      "source": [
        "train_images, train_labels = next(iter(train_loader))"
      ],
      "execution_count": 0,
      "outputs": []
    },
    {
      "metadata": {
        "id": "CDOOVYOHbcbl",
        "colab_type": "code",
        "colab": {
          "autoexec": {
            "startup": false,
            "wait_interval": 0
          },
          "base_uri": "https://localhost:8080/",
          "height": 731
        },
        "outputId": "590d007d-aab7-4551-aa93-b9b3a7cde4ef",
        "executionInfo": {
          "status": "ok",
          "timestamp": 1526999617535,
          "user_tz": -330,
          "elapsed": 1045,
          "user": {
            "displayName": "Sourabh Daptardar",
            "photoUrl": "//lh4.googleusercontent.com/-onn5Q0_MiKQ/AAAAAAAAAAI/AAAAAAAACDI/iOxkSEz16nA/s50-c-k-no/photo.jpg",
            "userId": "115812262388010820083"
          }
        }
      },
      "cell_type": "code",
      "source": [
        "rnd11 = np.random.randint(batch_size)\n",
        "print(train_images[rnd11,:,:,:])\n",
        "print(train_labels[rnd11, :])"
      ],
      "execution_count": 31,
      "outputs": [
        {
          "output_type": "stream",
          "text": [
            "tensor([[[ 1.4612,  1.4612,  1.4612,  ...,  1.4612,  1.4612,  1.4612],\n",
            "         [ 1.4612,  1.4612,  1.4612,  ...,  1.4612,  1.4612,  1.4612],\n",
            "         [ 1.4612,  1.4612,  1.4612,  ...,  1.4612,  1.4612,  1.4612],\n",
            "         ...,\n",
            "         [ 1.4612,  1.4612,  1.4612,  ...,  1.4612,  1.4612,  1.4612],\n",
            "         [ 1.4612,  1.4612,  1.4612,  ...,  1.4612,  1.4612,  1.4612],\n",
            "         [ 1.4612,  1.4612,  1.4612,  ...,  1.4612,  1.4612,  1.4612]],\n",
            "\n",
            "        [[ 1.6057,  1.6057,  1.6057,  ...,  1.6057,  1.6057,  1.6057],\n",
            "         [ 1.6057,  1.6057,  1.6057,  ...,  1.6057,  1.6057,  1.6057],\n",
            "         [ 1.6057,  1.6057,  1.6057,  ...,  1.6057,  1.6057,  1.6057],\n",
            "         ...,\n",
            "         [ 1.6057,  1.6057,  1.6057,  ...,  1.6057,  1.6057,  1.6057],\n",
            "         [ 1.6057,  1.6057,  1.6057,  ...,  1.6057,  1.6057,  1.6057],\n",
            "         [ 1.6057,  1.6057,  1.6057,  ...,  1.6057,  1.6057,  1.6057]],\n",
            "\n",
            "        [[ 2.1346,  2.1346,  2.1346,  ...,  2.1346,  2.1346,  2.1346],\n",
            "         [ 2.1346,  2.1346,  2.1346,  ...,  2.1346,  2.1346,  2.1346],\n",
            "         [ 2.1346,  2.1346,  2.1346,  ...,  2.1346,  2.1346,  2.1346],\n",
            "         ...,\n",
            "         [ 2.1346,  2.1346,  2.1346,  ...,  2.1346,  2.1346,  2.1346],\n",
            "         [ 2.1346,  2.1346,  2.1346,  ...,  2.1346,  2.1346,  2.1346],\n",
            "         [ 2.1346,  2.1346,  2.1346,  ...,  2.1346,  2.1346,  2.1346]]])\n",
            "tensor([ 0.,  0.,  0.,  0.,  0.,  0.,  0.,  0.,  0.,  0.,  0.,  0.,\n",
            "         0.,  0.,  0.,  0.,  0.,  0.,  0.,  0.,  0.,  0.,  0.,  0.,\n",
            "         0.,  0.,  0.,  0.,  0.,  0.,  0.,  0.,  0.,  0.,  0.,  0.,\n",
            "         0.,  0.,  0.,  0.,  0.,  0.,  0.,  0.,  0.,  0.,  0.,  0.,\n",
            "         0.,  0.,  0.,  0.,  0.,  0.,  0.,  0.,  0.,  0.,  0.,  0.,\n",
            "         0.,  0.,  0.,  0.,  0.,  0.,  0.,  0.,  0.,  0.,  0.,  0.,\n",
            "         0.,  0.,  0.,  0.,  0.,  0.,  0.,  0.,  0.,  0.,  0.,  0.,\n",
            "         0.,  0.,  0.,  1.,  0.,  0.,  0.,  0.,  0.,  0.,  0.,  0.,\n",
            "         0.,  0.,  0.,  0.,  0.,  0.,  0.,  0.,  1.,  1.,  0.,  0.,\n",
            "         0.,  0.,  0.,  0.,  0.,  0.,  0.,  0.,  0.,  0.,  0.,  0.,\n",
            "         0.,  0.,  0.,  0.,  0.,  0.,  0.,  0.,  0.,  0.,  0.,  0.,\n",
            "         0.,  0.,  0.,  0.,  0.,  0.,  0.,  0.,  0.,  0.,  0.,  0.,\n",
            "         0.,  0.,  0.,  0.,  0.,  0.,  0.,  0.,  1.,  0.,  0.,  0.,\n",
            "         0.,  0.,  0.,  0.,  0.,  0.,  0.,  0.,  0.,  0.,  0.,  0.,\n",
            "         0.,  0.,  0.,  0.,  0.,  0.,  0.,  0.,  0.,  0.,  0.,  0.,\n",
            "         0.,  0.,  0.,  0.,  0.,  0.,  0.,  0.,  0.,  0.,  0.,  0.,\n",
            "         0.,  0.,  0.,  0.,  0.,  0.,  0.,  0.,  0.,  0.,  0.,  0.,\n",
            "         0.,  0.,  0.,  0.,  0.,  0.,  0.,  0.,  0.,  0.,  0.,  0.,\n",
            "         0.,  0.,  0.,  0.,  0.,  0.,  0.,  0.,  0.,  0.,  0.,  0.])\n"
          ],
          "name": "stdout"
        }
      ]
    },
    {
      "metadata": {
        "id": "IZ7R4Mgb7F3b",
        "colab_type": "code",
        "colab": {
          "autoexec": {
            "startup": false,
            "wait_interval": 0
          }
        }
      },
      "cell_type": "code",
      "source": [
        "val_images, val_labels = next(iter(val_loader))"
      ],
      "execution_count": 0,
      "outputs": []
    },
    {
      "metadata": {
        "id": "CIOHOwAqaRkX",
        "colab_type": "code",
        "colab": {
          "autoexec": {
            "startup": false,
            "wait_interval": 0
          },
          "base_uri": "https://localhost:8080/",
          "height": 731
        },
        "outputId": "dd6483a9-24e5-4b54-85ef-b245ae20cd72",
        "executionInfo": {
          "status": "ok",
          "timestamp": 1526999620617,
          "user_tz": -330,
          "elapsed": 916,
          "user": {
            "displayName": "Sourabh Daptardar",
            "photoUrl": "//lh4.googleusercontent.com/-onn5Q0_MiKQ/AAAAAAAAAAI/AAAAAAAACDI/iOxkSEz16nA/s50-c-k-no/photo.jpg",
            "userId": "115812262388010820083"
          }
        }
      },
      "cell_type": "code",
      "source": [
        "rnd21 = np.random.randint(batch_size)\n",
        "print(val_images[rnd21,:,:,:])\n",
        "print(val_labels[rnd21, :])"
      ],
      "execution_count": 33,
      "outputs": [
        {
          "output_type": "stream",
          "text": [
            "tensor([[[ 2.2489,  2.2489,  2.2489,  ...,  2.2147,  2.2147,  2.2147],\n",
            "         [ 2.2489,  2.2489,  2.2489,  ...,  2.2147,  2.2147,  2.2147],\n",
            "         [ 2.2489,  2.2489,  2.2489,  ...,  2.2147,  2.2147,  2.2147],\n",
            "         ...,\n",
            "         [ 2.2489,  2.2489,  2.2489,  ...,  2.1119,  2.1119,  2.0777],\n",
            "         [ 2.2489,  2.2489,  2.2489,  ...,  2.1290,  2.0948,  2.0263],\n",
            "         [ 2.2489,  2.2489,  2.2489,  ...,  2.0434,  2.0263,  2.0263]],\n",
            "\n",
            "        [[ 2.4286,  2.4286,  2.4286,  ...,  2.3235,  2.3235,  2.3235],\n",
            "         [ 2.4286,  2.4286,  2.4286,  ...,  2.3235,  2.3235,  2.3235],\n",
            "         [ 2.4286,  2.4286,  2.4286,  ...,  2.3235,  2.3235,  2.3235],\n",
            "         ...,\n",
            "         [ 2.4286,  2.4286,  2.4286,  ...,  2.2010,  2.1660,  2.1835],\n",
            "         [ 2.4286,  2.4286,  2.4286,  ...,  2.2010,  2.1485,  2.1835],\n",
            "         [ 2.4286,  2.4286,  2.4286,  ...,  2.1835,  2.1660,  2.1485]],\n",
            "\n",
            "        [[ 2.6400,  2.6400,  2.6400,  ...,  2.5006,  2.5180,  2.4831],\n",
            "         [ 2.6400,  2.6400,  2.6400,  ...,  2.4831,  2.4831,  2.4831],\n",
            "         [ 2.6400,  2.6400,  2.6400,  ...,  2.4831,  2.4831,  2.4831],\n",
            "         ...,\n",
            "         [ 2.6400,  2.6400,  2.6400,  ...,  2.3611,  2.3437,  2.3611],\n",
            "         [ 2.6400,  2.6400,  2.6400,  ...,  2.3786,  2.3437,  2.3611],\n",
            "         [ 2.6400,  2.6400,  2.6400,  ...,  2.3786,  2.3960,  2.3088]]])\n",
            "tensor([ 0.,  0.,  0.,  0.,  0.,  0.,  0.,  0.,  0.,  0.,  0.,  0.,\n",
            "         0.,  0.,  0.,  0.,  1.,  0.,  0.,  1.,  0.,  0.,  0.,  0.,\n",
            "         0.,  0.,  0.,  0.,  0.,  0.,  0.,  0.,  0.,  0.,  0.,  0.,\n",
            "         0.,  0.,  0.,  0.,  0.,  0.,  0.,  0.,  0.,  0.,  0.,  0.,\n",
            "         0.,  0.,  0.,  0.,  0.,  0.,  0.,  0.,  0.,  0.,  0.,  0.,\n",
            "         0.,  0.,  0.,  0.,  0.,  1.,  0.,  0.,  0.,  0.,  0.,  0.,\n",
            "         0.,  0.,  0.,  0.,  0.,  0.,  0.,  0.,  0.,  0.,  0.,  0.,\n",
            "         0.,  0.,  0.,  0.,  0.,  0.,  0.,  0.,  0.,  0.,  1.,  0.,\n",
            "         0.,  0.,  0.,  0.,  0.,  0.,  0.,  0.,  0.,  0.,  0.,  0.,\n",
            "         0.,  0.,  0.,  0.,  0.,  0.,  0.,  0.,  0.,  0.,  0.,  0.,\n",
            "         0.,  0.,  0.,  0.,  0.,  0.,  0.,  0.,  0.,  0.,  0.,  0.,\n",
            "         0.,  0.,  0.,  0.,  1.,  0.,  0.,  0.,  0.,  0.,  0.,  0.,\n",
            "         0.,  0.,  0.,  0.,  0.,  0.,  0.,  0.,  0.,  0.,  0.,  0.,\n",
            "         0.,  0.,  0.,  0.,  0.,  0.,  0.,  1.,  0.,  0.,  0.,  0.,\n",
            "         0.,  0.,  0.,  0.,  0.,  0.,  0.,  0.,  0.,  0.,  0.,  0.,\n",
            "         0.,  0.,  0.,  1.,  0.,  0.,  0.,  0.,  0.,  0.,  0.,  0.,\n",
            "         0.,  0.,  0.,  0.,  0.,  0.,  0.,  0.,  0.,  0.,  0.,  1.,\n",
            "         0.,  0.,  0.,  0.,  0.,  0.,  0.,  0.,  0.,  1.,  0.,  0.,\n",
            "         0.,  0.,  0.,  0.,  0.,  0.,  0.,  0.,  0.,  0.,  0.,  0.])\n"
          ],
          "name": "stdout"
        }
      ]
    },
    {
      "metadata": {
        "id": "cQAQrfMJRtv3",
        "colab_type": "text"
      },
      "cell_type": "markdown",
      "source": [
        "\n",
        "# Model"
      ]
    },
    {
      "metadata": {
        "id": "jNxCNVyu98GF",
        "colab_type": "code",
        "colab": {
          "autoexec": {
            "startup": false,
            "wait_interval": 0
          }
        }
      },
      "cell_type": "code",
      "source": [
        "import torch.nn.init as weight_init\n",
        "\n",
        "\n",
        "class FCWithLogSigmoid(nn.Module):\n",
        "  \n",
        "  def __init__(self, num_inputs, num_outputs):\n",
        "    super(FCWithLogSigmoid, self).__init__()\n",
        "    self.linear = nn.Linear(num_inputs, num_outputs)\n",
        "    self.logsigmoid = nn.LogSigmoid()\n",
        "    \n",
        "  def forward(self, x):\n",
        "    return self.logsigmoid(self.linear(x))\n",
        "\n",
        "\n",
        "def create_model(arch, num_labels=228, fv_size=2048, pretrained=True, resume=False, distributed=False):\n",
        "  if pretrained:\n",
        "      print(\"=> using pre-trained model '{}'\".format(arch))\n",
        "      model = models.__dict__[arch](pretrained=True)\n",
        "  else:\n",
        "      print(\"=> creating model '{}'\".format(arch))\n",
        "      model = models.__dict__[arch]()\n",
        "  model.fc = FCWithLogSigmoid(fv_size, num_labels)\n",
        "  if not distributed:\n",
        "      if arch.startswith('alexnet') or arch.startswith('vgg'):\n",
        "          model.features = torch.nn.DataParallel(model.features)\n",
        "          model.cuda()\n",
        "      else:\n",
        "          model = torch.nn.DataParallel(model).cuda()\n",
        "  else:\n",
        "      model.cuda()\n",
        "      model = torch.nn.parallel.DistributedDataParallel(model)\n",
        "  return model\n"
      ],
      "execution_count": 0,
      "outputs": []
    },
    {
      "metadata": {
        "id": "9eMpjddlO6BC",
        "colab_type": "code",
        "colab": {
          "autoexec": {
            "startup": false,
            "wait_interval": 0
          }
        }
      },
      "cell_type": "code",
      "source": [
        "def count_parameters(model):\n",
        "  \"\"\"source: https://discuss.pytorch.org/t/how-do-i-check-the-number-of-parameters-of-a-model/4325/9\"\"\"\n",
        "  return sum(p.numel() for p in model.parameters() if p.requires_grad)"
      ],
      "execution_count": 0,
      "outputs": []
    },
    {
      "metadata": {
        "id": "CDhvVsKk_cNI",
        "colab_type": "code",
        "colab": {
          "autoexec": {
            "startup": false,
            "wait_interval": 0
          },
          "base_uri": "https://localhost:8080/",
          "height": 34
        },
        "outputId": "aad6ed01-1aed-42f1-9c94-72ae67076d48",
        "executionInfo": {
          "status": "ok",
          "timestamp": 1526999625187,
          "user_tz": -330,
          "elapsed": 2065,
          "user": {
            "displayName": "Sourabh Daptardar",
            "photoUrl": "//lh4.googleusercontent.com/-onn5Q0_MiKQ/AAAAAAAAAAI/AAAAAAAACDI/iOxkSEz16nA/s50-c-k-no/photo.jpg",
            "userId": "115812262388010820083"
          }
        }
      },
      "cell_type": "code",
      "source": [
        "model = create_model(arch, num_labels=228, fv_size=2048, pretrained=pretrained, resume=resume, distributed=distributed)"
      ],
      "execution_count": 36,
      "outputs": [
        {
          "output_type": "stream",
          "text": [
            "=> using pre-trained model 'resnet50'\n"
          ],
          "name": "stdout"
        }
      ]
    },
    {
      "metadata": {
        "id": "yG1C75oXPLx8",
        "colab_type": "code",
        "colab": {
          "autoexec": {
            "startup": false,
            "wait_interval": 0
          },
          "base_uri": "https://localhost:8080/",
          "height": 34
        },
        "outputId": "97b649e6-0914-48fc-a5c5-5c1ad85f0115",
        "executionInfo": {
          "status": "ok",
          "timestamp": 1526999627040,
          "user_tz": -330,
          "elapsed": 1673,
          "user": {
            "displayName": "Sourabh Daptardar",
            "photoUrl": "//lh4.googleusercontent.com/-onn5Q0_MiKQ/AAAAAAAAAAI/AAAAAAAACDI/iOxkSEz16nA/s50-c-k-no/photo.jpg",
            "userId": "115812262388010820083"
          }
        }
      },
      "cell_type": "code",
      "source": [
        "print(\"Neural Network has \", count_parameters(model), \" trainable parameters\")"
      ],
      "execution_count": 37,
      "outputs": [
        {
          "output_type": "stream",
          "text": [
            "Neural Network has  23975204  trainable parameters\n"
          ],
          "name": "stdout"
        }
      ]
    },
    {
      "metadata": {
        "id": "VIILcEp9Rtz-",
        "colab_type": "text"
      },
      "cell_type": "markdown",
      "source": [
        "# Loss Function\n"
      ]
    },
    {
      "metadata": {
        "id": "4RGOgfHjGnJz",
        "colab_type": "code",
        "colab": {
          "autoexec": {
            "startup": false,
            "wait_interval": 0
          }
        }
      },
      "cell_type": "code",
      "source": [
        "criterion = torch.nn.BCEWithLogitsLoss().cuda()"
      ],
      "execution_count": 0,
      "outputs": []
    },
    {
      "metadata": {
        "id": "PICCxotzRt4z",
        "colab_type": "text"
      },
      "cell_type": "markdown",
      "source": [
        "# Update Rule"
      ]
    },
    {
      "metadata": {
        "id": "tCm_msJ0RuIu",
        "colab_type": "text"
      },
      "cell_type": "markdown",
      "source": [
        "# Training Loop\n"
      ]
    },
    {
      "metadata": {
        "id": "gevaiXFORuTH",
        "colab_type": "text"
      },
      "cell_type": "markdown",
      "source": [
        "# Save Results"
      ]
    },
    {
      "metadata": {
        "id": "XlL1brDNRucP",
        "colab_type": "text"
      },
      "cell_type": "markdown",
      "source": [
        ""
      ]
    },
    {
      "metadata": {
        "id": "PT9Shf_MRhui",
        "colab_type": "code",
        "colab": {
          "autoexec": {
            "startup": false,
            "wait_interval": 0
          }
        }
      },
      "cell_type": "code",
      "source": [
        ""
      ],
      "execution_count": 0,
      "outputs": []
    }
  ]
}