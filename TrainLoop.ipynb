{
  "nbformat": 4,
  "nbformat_minor": 0,
  "metadata": {
    "colab": {
      "name": "TrainLoop.ipynb",
      "version": "0.3.2",
      "views": {},
      "default_view": {},
      "provenance": [],
      "collapsed_sections": []
    },
    "kernelspec": {
      "name": "python3",
      "display_name": "Python 3"
    },
    "accelerator": "GPU"
  },
  "cells": [
    {
      "metadata": {
        "id": "4OGEu9nITbnO",
        "colab_type": "text"
      },
      "cell_type": "markdown",
      "source": [
        "# Install Torch"
      ]
    },
    {
      "metadata": {
        "id": "z85P4eDZNSdu",
        "colab_type": "code",
        "colab": {
          "autoexec": {
            "startup": false,
            "wait_interval": 0
          },
          "base_uri": "https://localhost:8080/",
          "height": 187
        },
        "outputId": "a1bd5d22-e63c-424d-af6d-85730cce3fae",
        "executionInfo": {
          "status": "ok",
          "timestamp": 1526901528850,
          "user_tz": -330,
          "elapsed": 5086,
          "user": {
            "displayName": "Sourabh Daptardar",
            "photoUrl": "//lh4.googleusercontent.com/-onn5Q0_MiKQ/AAAAAAAAAAI/AAAAAAAACDI/iOxkSEz16nA/s50-c-k-no/photo.jpg",
            "userId": "115812262388010820083"
          }
        }
      },
      "cell_type": "code",
      "source": [
        "!pip uninstall -y pillow\n",
        "!CC=\"cc -mavx2\" pip install -U --force-reinstall pillow-simd\n"
      ],
      "execution_count": 1,
      "outputs": [
        {
          "output_type": "stream",
          "text": [
            "Uninstalling Pillow-5.1.0:\n",
            "  Successfully uninstalled Pillow-5.1.0\n",
            "Collecting pillow-simd\n",
            "\u001b[31mtorchvision 0.2.1 requires pillow>=4.1.1, which is not installed.\u001b[0m\n",
            "\u001b[31mscikit-image 0.13.1 requires pillow>=2.1.0, which is not installed.\u001b[0m\n",
            "Installing collected packages: pillow-simd\n",
            "  Found existing installation: Pillow-SIMD 5.1.1.post0\n",
            "    Uninstalling Pillow-SIMD-5.1.1.post0:\n",
            "      Successfully uninstalled Pillow-SIMD-5.1.1.post0\n",
            "Successfully installed pillow-simd-5.1.1.post0\n"
          ],
          "name": "stdout"
        }
      ]
    },
    {
      "metadata": {
        "id": "7FiDFXCiT8wS",
        "colab_type": "code",
        "colab": {
          "autoexec": {
            "startup": false,
            "wait_interval": 0
          },
          "base_uri": "https://localhost:8080/",
          "height": 34
        },
        "outputId": "456e389c-efe3-45cd-9f29-311155e23178",
        "executionInfo": {
          "status": "ok",
          "timestamp": 1526901532923,
          "user_tz": -330,
          "elapsed": 3995,
          "user": {
            "displayName": "Sourabh Daptardar",
            "photoUrl": "//lh4.googleusercontent.com/-onn5Q0_MiKQ/AAAAAAAAAAI/AAAAAAAACDI/iOxkSEz16nA/s50-c-k-no/photo.jpg",
            "userId": "115812262388010820083"
          }
        }
      },
      "cell_type": "code",
      "source": [
        "# http://pytorch.org/\n",
        "from os import path\n",
        "from wheel.pep425tags import get_abbr_impl, get_impl_ver, get_abi_tag\n",
        "platform = '{}{}-{}'.format(get_abbr_impl(), get_impl_ver(), get_abi_tag())\n",
        "\n",
        "accelerator = 'cu80' if path.exists('/opt/bin/nvidia-smi') else 'cpu'\n",
        "\n",
        "!pip install -q http://download.pytorch.org/whl/{accelerator}/torch-0.3.0.post4-{platform}-linux_x86_64.whl torchvision\n",
        "import torch\n",
        "import torchvision\n",
        "print(torchvision.get_image_backend())"
      ],
      "execution_count": 2,
      "outputs": [
        {
          "output_type": "stream",
          "text": [
            "PIL\n"
          ],
          "name": "stdout"
        }
      ]
    },
    {
      "metadata": {
        "id": "a4CFa1WLgoUX",
        "colab_type": "code",
        "colab": {
          "autoexec": {
            "startup": false,
            "wait_interval": 0
          },
          "base_uri": "https://localhost:8080/",
          "height": 34
        },
        "outputId": "7a68db80-00e5-420b-c22d-473f10f4d30c",
        "executionInfo": {
          "status": "ok",
          "timestamp": 1526901536048,
          "user_tz": -330,
          "elapsed": 3091,
          "user": {
            "displayName": "Sourabh Daptardar",
            "photoUrl": "//lh4.googleusercontent.com/-onn5Q0_MiKQ/AAAAAAAAAAI/AAAAAAAACDI/iOxkSEz16nA/s50-c-k-no/photo.jpg",
            "userId": "115812262388010820083"
          }
        }
      },
      "cell_type": "code",
      "source": [
        "!pip install tqdm"
      ],
      "execution_count": 3,
      "outputs": [
        {
          "output_type": "stream",
          "text": [
            "Requirement already satisfied: tqdm in /usr/local/lib/python3.6/dist-packages (4.23.3)\r\n"
          ],
          "name": "stdout"
        }
      ]
    },
    {
      "metadata": {
        "id": "GZt8MRT5RfK6",
        "colab_type": "text"
      },
      "cell_type": "markdown",
      "source": [
        "# Imports"
      ]
    },
    {
      "metadata": {
        "id": "ZptSyG9oSN1c",
        "colab_type": "code",
        "colab": {
          "autoexec": {
            "startup": false,
            "wait_interval": 0
          }
        }
      },
      "cell_type": "code",
      "source": [
        "import torch\n",
        "import os\n",
        "import sys\n",
        "import logging\n",
        "import io\n",
        "from tqdm import tqdm\n",
        "from matplotlib.pyplot import imshow\n",
        "import numpy as np\n",
        "from PIL import Image"
      ],
      "execution_count": 0,
      "outputs": []
    },
    {
      "metadata": {
        "id": "IEEo0VYsZhvO",
        "colab_type": "code",
        "colab": {
          "autoexec": {
            "startup": false,
            "wait_interval": 0
          }
        }
      },
      "cell_type": "code",
      "source": [
        "%matplotlib inline"
      ],
      "execution_count": 0,
      "outputs": []
    },
    {
      "metadata": {
        "id": "N1BQLwQTWcKU",
        "colab_type": "text"
      },
      "cell_type": "markdown",
      "source": [
        "# Parameters"
      ]
    },
    {
      "metadata": {
        "id": "eM2a7qmqWh3Q",
        "colab_type": "code",
        "colab": {
          "autoexec": {
            "startup": false,
            "wait_interval": 0
          }
        }
      },
      "cell_type": "code",
      "source": [
        "base_dir = '/content/fashion'\n",
        "data_dir = base_dir + os.sep + 'data'\n",
        "input_dir = data_dir + os.sep + 'input'\n",
        "output_dir = data_dir + os.sep + 'output'\n",
        "train_zip = input_dir + os.sep + 'train_data.zip'\n",
        "val_zip = input_dir + os.sep + 'validation_data.zip'\n",
        "train_dir = input_dir + os.sep + 'train_data'\n",
        "val_dir = input_dir + os.sep + 'validation_data'\n",
        "train_id = \"1rx1rL8RUAggN4hKlrYLtpdQagtUWmIbO\"\n",
        "val_id = \"1U19eWiBFJ6wGcFk47l6g9mmoWp1i4hPY\"\n",
        "train_labels_id = \"1NOoWniR3ioqPKbVWoaWGy4HPDzZAAJX9\"\n",
        "val_labels_id = \"1d9RuQTx5E8qFxraIu6B4rDTOC4sx2xXT\"\n",
        "test_labels_id = \"1VwzGCJfOL13pk1Wi-xPHQ6mVnofy9_Z4\"\n",
        "train_labels_json = input_dir + os.sep + 'train.json'\n",
        "val_labels_json = input_dir + os.sep + 'validation.json'\n",
        "test_labels_json = input_dir + os.sep + 'test.json'\n",
        "num_labels = 228"
      ],
      "execution_count": 0,
      "outputs": []
    },
    {
      "metadata": {
        "id": "90hY9m66UYPd",
        "colab_type": "code",
        "colab": {
          "autoexec": {
            "startup": false,
            "wait_interval": 0
          },
          "base_uri": "https://localhost:8080/",
          "height": 68
        },
        "outputId": "6338e662-dbff-4bd6-d482-fadeef18c190",
        "executionInfo": {
          "status": "ok",
          "timestamp": 1526901542677,
          "user_tz": -330,
          "elapsed": 1059,
          "user": {
            "displayName": "Sourabh Daptardar",
            "photoUrl": "//lh4.googleusercontent.com/-onn5Q0_MiKQ/AAAAAAAAAAI/AAAAAAAACDI/iOxkSEz16nA/s50-c-k-no/photo.jpg",
            "userId": "115812262388010820083"
          }
        }
      },
      "cell_type": "code",
      "source": [
        "print(torch.backends.cudnn.version())\n",
        "print(torch.cuda.is_available())\n",
        "print(torch.cuda.get_device_name(0))\n"
      ],
      "execution_count": 7,
      "outputs": [
        {
          "output_type": "stream",
          "text": [
            "7003\n",
            "True\n",
            "Tesla K80\n"
          ],
          "name": "stdout"
        }
      ]
    },
    {
      "metadata": {
        "id": "jB9hgpyUfbqG",
        "colab_type": "code",
        "colab": {
          "autoexec": {
            "startup": false,
            "wait_interval": 0
          }
        }
      },
      "cell_type": "code",
      "source": [
        "os.makedirs(base_dir, exist_ok=True)\n",
        "os.makedirs(data_dir, exist_ok=True)\n",
        "os.makedirs(input_dir, exist_ok=True)\n",
        "os.makedirs(output_dir, exist_ok=True)"
      ],
      "execution_count": 0,
      "outputs": []
    },
    {
      "metadata": {
        "id": "dBC_aI1vRknn",
        "colab_type": "text"
      },
      "cell_type": "markdown",
      "source": [
        "# Download Dataset"
      ]
    },
    {
      "metadata": {
        "id": "g5eP3RxWV5L5",
        "colab_type": "code",
        "colab": {
          "autoexec": {
            "startup": false,
            "wait_interval": 0
          }
        }
      },
      "cell_type": "code",
      "source": [
        "from google.colab import auth\n",
        "auth.authenticate_user()"
      ],
      "execution_count": 0,
      "outputs": []
    },
    {
      "metadata": {
        "id": "68MYkyHJWP0m",
        "colab_type": "code",
        "colab": {
          "autoexec": {
            "startup": false,
            "wait_interval": 0
          }
        }
      },
      "cell_type": "code",
      "source": [
        "from googleapiclient.discovery import build\n",
        "import io\n",
        "from googleapiclient.http import MediaIoBaseDownload\n",
        "import json\n",
        "\n",
        "def md5_hash(fname, blocksize=4096):\n",
        "    \"\"\" compute md5hash of a file \"\"\"\n",
        "    import hashlib\n",
        "    hash = ''\n",
        "    if not os.path.exists(fname):\n",
        "        errmsg = \"File %s does not exist\" % (fname)\n",
        "        print(errmsg)\n",
        "        return ''\n",
        "    try:\n",
        "        hasher = hashlib.md5()\n",
        "        with open(fname, 'rb') as f:\n",
        "            buf = f.read(blocksize)\n",
        "            while len(buf) > 0:\n",
        "                hasher.update(buf)\n",
        "                buf = f.read(blocksize)\n",
        "        hash = hasher.hexdigest()\n",
        "    except:\n",
        "        print(\"Exception in hashing file\")\n",
        "        raise\n",
        "    return hash\n",
        "\n",
        "def _download(drive_service, file_id, loc):\n",
        "  request = drive_service.files().get_media(fileId=file_id)\n",
        "  fh = io.FileIO(loc, mode='wb')\n",
        "  downloader = MediaIoBaseDownload(fh, request, chunksize=1024*1024)\n",
        "  prev_progress = 0\n",
        "  done = False\n",
        "  with tqdm(total=100) as pbar:\n",
        "    while done is False:\n",
        "      status, done = downloader.next_chunk()\n",
        "      if status:\n",
        "        # print(\"Download %d%%.\" % int(status.progress() * 100))\n",
        "        pbar.update(int(100 *(status.progress() - prev_progress)))\n",
        "        prev_progress = status.progress()\n",
        "  print(\"Download Complete!\")\n",
        "  file_size = os.path.getsize(loc)\n",
        "  print(\"Downloaded %d bytes\" % (file_size))\n",
        "\n",
        "def download(file_id, loc):\n",
        "  \"\"\"Downloads a file to local file system.\"\"\"  \n",
        "  drive_service = build('drive', 'v3')\n",
        "  \n",
        "  request_mdata = drive_service.files().list(fields=\"files(md5Checksum, originalFilename, id)\")\n",
        "  rh = io.BytesIO()\n",
        "  downloader_mdata = MediaIoBaseDownload(rh, request_mdata, chunksize=1024*1024)\n",
        "  done = False\n",
        "  while not done:\n",
        "    _, done = downloader_mdata.next_chunk()\n",
        "  mdata = json.loads(rh.getvalue())\n",
        "  found = False\n",
        "  md5drive = ''\n",
        "  fname = ''\n",
        "  for x in mdata['files']:\n",
        "    if x['id'] == file_id:\n",
        "      found = True\n",
        "      md5drive = x['md5Checksum']\n",
        "      fname = x['originalFilename']\n",
        "      break\n",
        "  if not found:\n",
        "    print(\"{:s} : not found on gdrive\".format(file_id))\n",
        "  else:\n",
        "    if os.path.exists(loc):\n",
        "      if md5drive == md5_hash(loc):\n",
        "        print(\"{:s} : file already present on colab\".format(loc))\n",
        "      else:\n",
        "        print(\"{:s} [gdrive] and {:s} [colab] : md5 mismatch ... downloading\".format(fname, loc))\n",
        "        _download(drive_service, file_id, loc)\n",
        "    else:\n",
        "      print(\"{:s} not present on colab ... downloading ...\".format(loc))\n",
        "      _download(drive_service, file_id, loc)\n",
        "        \n"
      ],
      "execution_count": 0,
      "outputs": []
    },
    {
      "metadata": {
        "id": "jOBHlpMKaE-F",
        "colab_type": "code",
        "colab": {
          "autoexec": {
            "startup": false,
            "wait_interval": 0
          },
          "base_uri": "https://localhost:8080/",
          "height": 102
        },
        "outputId": "d5573bbe-db31-4fa5-ba0d-c3adf9a0ab76",
        "executionInfo": {
          "status": "ok",
          "timestamp": 1526901557365,
          "user_tz": -330,
          "elapsed": 7954,
          "user": {
            "displayName": "Sourabh Daptardar",
            "photoUrl": "//lh4.googleusercontent.com/-onn5Q0_MiKQ/AAAAAAAAAAI/AAAAAAAACDI/iOxkSEz16nA/s50-c-k-no/photo.jpg",
            "userId": "115812262388010820083"
          }
        }
      },
      "cell_type": "code",
      "source": [
        "download(train_id, train_zip)\n",
        "download(val_id, val_zip)\n",
        "download(train_labels_id, train_labels_json)\n",
        "download(val_labels_id, val_labels_json)\n",
        "download(test_labels_id, test_labels_json)"
      ],
      "execution_count": 11,
      "outputs": [
        {
          "output_type": "stream",
          "text": [
            "/content/fashion/data/input/train_data.zip : file already present on colab\n",
            "/content/fashion/data/input/validation_data.zip : file already present on colab\n",
            "/content/fashion/data/input/train.json : file already present on colab\n",
            "/content/fashion/data/input/validation.json : file already present on colab\n",
            "/content/fashion/data/input/test.json : file already present on colab\n"
          ],
          "name": "stdout"
        }
      ]
    },
    {
      "metadata": {
        "id": "mA1kgVVEdSWI",
        "colab_type": "code",
        "colab": {
          "autoexec": {
            "startup": false,
            "wait_interval": 0
          }
        }
      },
      "cell_type": "code",
      "source": [
        "import shutil\n",
        "shutil.unpack_archive(train_zip, input_dir)\n",
        "shutil.unpack_archive(val_zip, input_dir)\n"
      ],
      "execution_count": 0,
      "outputs": []
    },
    {
      "metadata": {
        "id": "X4Eugqw2fJRQ",
        "colab_type": "code",
        "colab": {
          "autoexec": {
            "startup": false,
            "wait_interval": 0
          },
          "base_uri": "https://localhost:8080/",
          "height": 153
        },
        "outputId": "cda7dc35-2d69-4a43-e2f7-20b5374f2c1a",
        "executionInfo": {
          "status": "ok",
          "timestamp": 1526901573575,
          "user_tz": -330,
          "elapsed": 1976,
          "user": {
            "displayName": "Sourabh Daptardar",
            "photoUrl": "//lh4.googleusercontent.com/-onn5Q0_MiKQ/AAAAAAAAAAI/AAAAAAAACDI/iOxkSEz16nA/s50-c-k-no/photo.jpg",
            "userId": "115812262388010820083"
          }
        }
      },
      "cell_type": "code",
      "source": [
        "!ls -ltr /content/fashion/data/input"
      ],
      "execution_count": 13,
      "outputs": [
        {
          "output_type": "stream",
          "text": [
            "total 1628816\r\n",
            "-rw-r--r-- 1 root root 623133900 May 21 06:57 train_data.zip\r\n",
            "-rw-r--r-- 1 root root 649513008 May 21 07:01 validation_data.zip\r\n",
            "-rw-r--r-- 1 root root 384707800 May 21 07:04 train.json\r\n",
            "-rw-r--r-- 1 root root   4222518 May 21 07:04 validation.json\r\n",
            "-rw-r--r-- 1 root root   5785993 May 21 07:04 test.json\r\n",
            "drwxr-xr-x 2 root root    258048 May 21 07:04 train_data\r\n",
            "drwxr-xr-x 2 root root    258048 May 21 07:05 validation_data\r\n"
          ],
          "name": "stdout"
        }
      ]
    },
    {
      "metadata": {
        "id": "_XnHDCmclB9B",
        "colab_type": "code",
        "colab": {
          "autoexec": {
            "startup": false,
            "wait_interval": 0
          },
          "base_uri": "https://localhost:8080/",
          "height": 204
        },
        "outputId": "dca8f54b-3a67-4d94-a1bb-170675b06dcb",
        "executionInfo": {
          "status": "ok",
          "timestamp": 1526901576121,
          "user_tz": -330,
          "elapsed": 2378,
          "user": {
            "displayName": "Sourabh Daptardar",
            "photoUrl": "//lh4.googleusercontent.com/-onn5Q0_MiKQ/AAAAAAAAAAI/AAAAAAAACDI/iOxkSEz16nA/s50-c-k-no/photo.jpg",
            "userId": "115812262388010820083"
          }
        }
      },
      "cell_type": "code",
      "source": [
        "!ls -ltr /content/fashion/data/input/train_data | head"
      ],
      "execution_count": 14,
      "outputs": [
        {
          "output_type": "stream",
          "text": [
            "total 636932\r\n",
            "-rw-r--r-- 1 root root  61060 May 21 11:19 1.jpg\r\n",
            "-rw-r--r-- 1 root root  61806 May 21 11:19 10.jpg\r\n",
            "-rw-r--r-- 1 root root  97998 May 21 11:19 100.jpg\r\n",
            "-rw-r--r-- 1 root root  42627 May 21 11:19 1000.jpg\r\n",
            "-rw-r--r-- 1 root root  49370 May 21 11:19 1001.jpg\r\n",
            "-rw-r--r-- 1 root root 105654 May 21 11:19 10000.jpg\r\n",
            "-rw-r--r-- 1 root root  95681 May 21 11:19 1003.jpg\r\n",
            "-rw-r--r-- 1 root root  24032 May 21 11:19 1002.jpg\r\n",
            "-rw-r--r-- 1 root root  91518 May 21 11:19 1005.jpg\r\n",
            "ls: write error: Broken pipe\r\n"
          ],
          "name": "stdout"
        }
      ]
    },
    {
      "metadata": {
        "id": "4bmRgA9ilISL",
        "colab_type": "code",
        "colab": {
          "autoexec": {
            "startup": false,
            "wait_interval": 0
          },
          "base_uri": "https://localhost:8080/",
          "height": 204
        },
        "outputId": "73060194-eb85-4e0d-ddfe-49a3b7508e8d",
        "executionInfo": {
          "status": "ok",
          "timestamp": 1526901578350,
          "user_tz": -330,
          "elapsed": 2094,
          "user": {
            "displayName": "Sourabh Daptardar",
            "photoUrl": "//lh4.googleusercontent.com/-onn5Q0_MiKQ/AAAAAAAAAAI/AAAAAAAACDI/iOxkSEz16nA/s50-c-k-no/photo.jpg",
            "userId": "115812262388010820083"
          }
        }
      },
      "cell_type": "code",
      "source": [
        "!ls -ltr /content/fashion/data/input/validation_data | head"
      ],
      "execution_count": 15,
      "outputs": [
        {
          "output_type": "stream",
          "text": [
            "total 663036\r\n",
            "-rw-r--r-- 1 root root  89139 May 21 11:19 1.jpg\r\n",
            "-rw-r--r-- 1 root root  61895 May 21 11:19 10.jpg\r\n",
            "-rw-r--r-- 1 root root  56745 May 21 11:19 100.jpg\r\n",
            "-rw-r--r-- 1 root root  53685 May 21 11:19 1001.jpg\r\n",
            "-rw-r--r-- 1 root root  55370 May 21 11:19 1000.jpg\r\n",
            "-rw-r--r-- 1 root root  56689 May 21 11:19 1003.jpg\r\n",
            "-rw-r--r-- 1 root root  81057 May 21 11:19 1002.jpg\r\n",
            "-rw-r--r-- 1 root root  70008 May 21 11:19 1005.jpg\r\n",
            "-rw-r--r-- 1 root root  38732 May 21 11:19 1004.jpg\r\n",
            "ls: write error: Broken pipe\r\n"
          ],
          "name": "stdout"
        }
      ]
    },
    {
      "metadata": {
        "id": "c6LY5l-SRtWw",
        "colab_type": "text"
      },
      "cell_type": "markdown",
      "source": [
        "# Dataset"
      ]
    },
    {
      "metadata": {
        "id": "VMcIw45smeZE",
        "colab_type": "code",
        "colab": {
          "autoexec": {
            "startup": false,
            "wait_interval": 0
          }
        }
      },
      "cell_type": "code",
      "source": [
        "import torch.utils.data as data\n",
        "from copy import copy\n",
        "import numpy as np\n",
        "\n",
        "def fetch_labels(annotations, num_labels):\n",
        "  labels = {}\n",
        "  for x in annotations:\n",
        "    arr = np.zeros((num_labels,), dtype=np.float32)\n",
        "    for y in map(int, x['labelId']):\n",
        "      arr[y-1] = 1.0\n",
        "    labels[int(x['imageId'])] = copy(arr)\n",
        "  return labels\n",
        "\n",
        "def json_to_dict(fpath):\n",
        "  import json\n",
        "  with open(fpath) as f: \n",
        "    D = json.load(f)\n",
        "  return D\n",
        "\n",
        "def get_labelinfo(annotations):\n",
        "  from collections import namedtuple\n",
        "  labelinfo = namedtuple('labelinfo', \"set min max count\")\n",
        "  labelinfo.set = set()\n",
        "  for x in annotations:\n",
        "    labelinfo.set.update(map(int, x['labelId']))\n",
        "  labelinfo.min = min(labelinfo.set)\n",
        "  labelinfo.max = max(labelinfo.set)\n",
        "  labelinfo.count = len(labelinfo.set)\n",
        "  return labelinfo\n",
        "\n",
        "def has_file_allowed_extension(filename, extensions):\n",
        "    \"\"\"Checks if a file is an allowed extension.\n",
        "    Args:\n",
        "        filename (string): path to a file\n",
        "    Returns:\n",
        "        bool: True if the filename ends with a known image extension\n",
        "    \"\"\"\n",
        "    filename_lower = filename.lower()\n",
        "    return any(filename_lower.endswith(ext) for ext in extensions)\n",
        "\n",
        "\n",
        "def pil_loader(path):\n",
        "    from PIL import Image \n",
        "    # open path as file to avoid ResourceWarning (https://github.com/python-pillow/Pillow/issues/835)\n",
        "    with open(path, 'rb') as f:\n",
        "        img = Image.open(f)\n",
        "        return img.convert('RGB')\n",
        "\n",
        "\n",
        "def accimage_loader(path):\n",
        "    import accimage\n",
        "    try:\n",
        "        return accimage.Image(path)\n",
        "    except IOError:\n",
        "        # Potentially a decoding problem, fall back to PIL.Image\n",
        "        return pil_loader(path)\n",
        "\n",
        "\n",
        "def default_loader(path):\n",
        "    from torchvision import get_image_backend\n",
        "    if get_image_backend() == 'accimage':\n",
        "        return accimage_loader(path)\n",
        "    else:\n",
        "        return pil_loader(path)\n",
        "\n",
        "      \n",
        "class FashionDataset(data.Dataset):\n",
        "  \"\"\"Fashion dataset CVPR challenge.\n",
        "     Adapted from torchvision ImageFolder.\n",
        "     Similar to ImageFolder with the following differences:\n",
        "     1. Multilabel\n",
        "     2. Directory structure where all images are directly in the root folder\n",
        "     3. Labels are read from json file\n",
        "   \n",
        "  Args:\n",
        "        root (string): Root directory path.\n",
        "        loader (callable): A function to load a sample given its path.\n",
        "        extensions (list[string]): A list of allowed extensions.\n",
        "        transform (callable, optional): A function/transform that takes in\n",
        "            a sample and returns a transformed version.\n",
        "            E.g, ``transforms.RandomCrop`` for images.\n",
        "        target_transform (callable, optional): A function/transform that takes\n",
        "            in the target and transforms it.\n",
        "    \n",
        "  \"\"\"\n",
        "\n",
        "  def __init__(self, root, metadata_file, num_labels=228, transform=None, target_transform=None,\n",
        "               loader=default_loader):\n",
        "    extensions = ['.jpg', '.jpeg', '.png', '.ppm', '.bmp', '.pgm', '.tif']\n",
        "    self.num_labels = num_labels\n",
        "    self.images = {}\n",
        "    self.metadata_file = metadata_file\n",
        "    self.metadata = json_to_dict(self.metadata_file)\n",
        "    self.transform = transform\n",
        "    self.root = root\n",
        "    self.target_transform = target_transform\n",
        "    self.loader = loader\n",
        "    self.labelinfo = get_labelinfo(self.metadata['annotations'])\n",
        "    self.labels = fetch_labels(self.metadata['annotations'], self.num_labels)\n",
        "\n",
        "    for x in self.metadata['images']:\n",
        "      self.images[int(x['imageId'])] = '%s%s%d.jpg' % (root, os.sep, int(x['imageId']))  \n",
        "    \n",
        "\n",
        "  def __getitem__(self, index):\n",
        "        \"\"\"\n",
        "        Args:\n",
        "            index (int): Index\n",
        "        Returns:\n",
        "            tuple: (sample, target) where target is class_index of the target class.\n",
        "        \"\"\"\n",
        "        path, target = self.images[index], self.labels[index]\n",
        "        sample = self.loader(path)\n",
        "        if self.transform is not None:\n",
        "            sample = self.transform(sample)\n",
        "        if self.target_transform is not None:\n",
        "            target = self.target_transform(target)\n",
        "\n",
        "        return sample, target\n",
        "\n",
        "  def __len__(self):\n",
        "    return len(self.images)\n",
        "  \n",
        "  def __repr__(self):\n",
        "    fmt_str = 'Dataset ' + self.__class__.__name__ + '\\n'\n",
        "    fmt_str += '    Number of datapoints: {}\\n'.format(self.__len__())\n",
        "    fmt_str += '    Number of labels: {}\\n'.format(self.labelinfo.count)\n",
        "    fmt_str += '    Root Location: {}\\n'.format(self.root)\n",
        "    fmt_str += '    Metadata file: {}\\n'.format(self.metadata_file)\n",
        "    tmp = '    Transforms (if any): '\n",
        "    fmt_str += '{0}{1}\\n'.format(tmp, self.transform.__repr__().replace('\\n', '\\n' + ' ' * len(tmp)))\n",
        "    tmp = '    Target Transforms (if any): '\n",
        "    fmt_str += '{0}{1}'.format(tmp, self.target_transform.__repr__().replace('\\n', '\\n' + ' ' * len(tmp)))\n",
        "    tmp = '    Loader: '\n",
        "    fmt_str += '\\n{0}{1}'.format(tmp, self.loader.__name__)\n",
        "    return fmt_str\n",
        "\n",
        "  "
      ],
      "execution_count": 0,
      "outputs": []
    },
    {
      "metadata": {
        "id": "b7JjnbO4a1bU",
        "colab_type": "code",
        "colab": {
          "autoexec": {
            "startup": false,
            "wait_interval": 0
          },
          "base_uri": "https://localhost:8080/",
          "height": 289
        },
        "outputId": "8436cf38-0211-4ba9-c83e-590409683e83",
        "executionInfo": {
          "status": "ok",
          "timestamp": 1526901594650,
          "user_tz": -330,
          "elapsed": 14757,
          "user": {
            "displayName": "Sourabh Daptardar",
            "photoUrl": "//lh4.googleusercontent.com/-onn5Q0_MiKQ/AAAAAAAAAAI/AAAAAAAACDI/iOxkSEz16nA/s50-c-k-no/photo.jpg",
            "userId": "115812262388010820083"
          }
        }
      },
      "cell_type": "code",
      "source": [
        "train_dset = FashionDataset(train_dir, train_labels_json, num_labels)\n",
        "val_dset = FashionDataset(val_dir, val_labels_json, num_labels)\n",
        "\n",
        "\n",
        "print(train_dset)\n",
        "print(val_dset)"
      ],
      "execution_count": 17,
      "outputs": [
        {
          "output_type": "stream",
          "text": [
            "Dataset FashionDataset\n",
            "    Number of datapoints: 1014544\n",
            "    Number of labels: 228\n",
            "    Root Location: /content/fashion/data/input/train_data\n",
            "    Metadata file: /content/fashion/data/input/train.json\n",
            "    Transforms (if any): None\n",
            "    Target Transforms (if any): None\n",
            "    Loader: default_loader\n",
            "Dataset FashionDataset\n",
            "    Number of datapoints: 9897\n",
            "    Number of labels: 225\n",
            "    Root Location: /content/fashion/data/input/validation_data\n",
            "    Metadata file: /content/fashion/data/input/validation.json\n",
            "    Transforms (if any): None\n",
            "    Target Transforms (if any): None\n",
            "    Loader: default_loader\n"
          ],
          "name": "stdout"
        }
      ]
    },
    {
      "metadata": {
        "id": "L8qbOaD8HvYi",
        "colab_type": "code",
        "colab": {
          "autoexec": {
            "startup": false,
            "wait_interval": 0
          },
          "base_uri": "https://localhost:8080/",
          "height": 439
        },
        "outputId": "d0dc0fd9-0369-478c-bcf1-a82f129c415a",
        "executionInfo": {
          "status": "ok",
          "timestamp": 1526901596455,
          "user_tz": -330,
          "elapsed": 1773,
          "user": {
            "displayName": "Sourabh Daptardar",
            "photoUrl": "//lh4.googleusercontent.com/-onn5Q0_MiKQ/AAAAAAAAAAI/AAAAAAAACDI/iOxkSEz16nA/s50-c-k-no/photo.jpg",
            "userId": "115812262388010820083"
          }
        }
      },
      "cell_type": "code",
      "source": [
        "rnd1 = np.random.randint(len(train_dset)) % 1000   # TODO: remove truncation for reduced dataset\n",
        "im1, lbl1 = train_dset[rnd1]\n",
        "imshow(np.asarray(im1))\n",
        "print(lbl1)"
      ],
      "execution_count": 18,
      "outputs": [
        {
          "output_type": "stream",
          "text": [
            "[0. 0. 0. 0. 0. 0. 0. 0. 0. 0. 0. 0. 0. 0. 0. 0. 0. 0. 0. 0. 0. 0. 0. 0.\n",
            " 0. 0. 0. 0. 0. 0. 0. 0. 0. 0. 0. 0. 0. 0. 0. 0. 0. 0. 0. 0. 0. 0. 0. 0.\n",
            " 0. 0. 0. 1. 0. 0. 0. 0. 0. 0. 0. 0. 0. 0. 0. 0. 0. 0. 0. 0. 0. 0. 0. 0.\n",
            " 1. 0. 0. 0. 0. 0. 0. 0. 0. 0. 0. 0. 0. 0. 0. 0. 0. 0. 0. 0. 0. 0. 0. 0.\n",
            " 0. 0. 0. 0. 0. 0. 0. 0. 0. 0. 0. 0. 0. 0. 0. 0. 1. 0. 0. 0. 0. 0. 0. 0.\n",
            " 0. 0. 0. 0. 0. 0. 0. 0. 0. 0. 0. 0. 0. 0. 0. 0. 0. 0. 0. 0. 0. 0. 0. 0.\n",
            " 0. 0. 0. 0. 0. 0. 0. 0. 0. 0. 0. 0. 0. 0. 0. 0. 0. 0. 0. 0. 0. 0. 0. 0.\n",
            " 0. 0. 0. 0. 0. 0. 0. 0. 0. 0. 0. 0. 0. 0. 0. 0. 0. 1. 0. 0. 0. 0. 0. 0.\n",
            " 0. 0. 0. 0. 0. 0. 0. 0. 0. 0. 0. 0. 0. 0. 0. 0. 0. 0. 0. 0. 0. 0. 0. 0.\n",
            " 0. 0. 0. 0. 0. 0. 0. 0. 0. 0. 0. 0.]\n"
          ],
          "name": "stdout"
        },
        {
          "output_type": "display_data",
          "data": {
            "image/png": "[encoded data removed]",
            "text/plain": [
              "<matplotlib.figure.Figure at 0x7f7b0af0ae80>"
            ]
          },
          "metadata": {
            "tags": []
          }
        }
      ]
    },
    {
      "metadata": {
        "id": "3h5_M6G0QBYZ",
        "colab_type": "code",
        "colab": {
          "autoexec": {
            "startup": false,
            "wait_interval": 0
          },
          "base_uri": "https://localhost:8080/",
          "height": 439
        },
        "outputId": "516c3e01-e2f4-443b-c6af-f66f0f36d840",
        "executionInfo": {
          "status": "ok",
          "timestamp": 1526901597835,
          "user_tz": -330,
          "elapsed": 1205,
          "user": {
            "displayName": "Sourabh Daptardar",
            "photoUrl": "//lh4.googleusercontent.com/-onn5Q0_MiKQ/AAAAAAAAAAI/AAAAAAAACDI/iOxkSEz16nA/s50-c-k-no/photo.jpg",
            "userId": "115812262388010820083"
          }
        }
      },
      "cell_type": "code",
      "source": [
        "rnd2 = np.random.randint(len(val_dset))\n",
        "im2, lbl2 = val_dset[rnd2]\n",
        "imshow(np.asarray(im2))\n",
        "print(lbl2)"
      ],
      "execution_count": 19,
      "outputs": [
        {
          "output_type": "stream",
          "text": [
            "[0. 0. 0. 0. 0. 0. 0. 0. 0. 0. 0. 0. 0. 0. 0. 0. 1. 0. 0. 1. 0. 0. 0. 0.\n",
            " 0. 0. 0. 0. 0. 0. 0. 0. 0. 0. 0. 0. 0. 0. 0. 0. 0. 0. 0. 0. 0. 0. 0. 0.\n",
            " 0. 0. 0. 0. 0. 0. 0. 0. 0. 0. 0. 0. 0. 0. 0. 0. 0. 1. 0. 0. 0. 0. 0. 0.\n",
            " 0. 0. 0. 0. 0. 0. 0. 0. 0. 0. 0. 0. 0. 0. 0. 0. 0. 0. 0. 0. 0. 0. 0. 0.\n",
            " 0. 0. 0. 1. 0. 0. 0. 0. 0. 0. 0. 0. 0. 0. 1. 0. 0. 0. 0. 0. 0. 0. 0. 0.\n",
            " 0. 0. 0. 0. 0. 0. 0. 0. 0. 0. 0. 0. 0. 0. 0. 0. 0. 1. 0. 0. 0. 0. 0. 0.\n",
            " 0. 0. 0. 0. 0. 0. 0. 0. 0. 0. 0. 0. 0. 0. 0. 0. 0. 0. 0. 0. 0. 0. 0. 0.\n",
            " 0. 0. 0. 0. 1. 0. 0. 1. 0. 0. 0. 0. 0. 0. 0. 0. 0. 0. 0. 0. 0. 0. 0. 0.\n",
            " 0. 0. 0. 0. 0. 0. 0. 0. 0. 0. 0. 0. 0. 0. 0. 0. 0. 0. 0. 0. 0. 0. 0. 0.\n",
            " 0. 0. 0. 0. 0. 0. 0. 0. 0. 0. 0. 0.]\n"
          ],
          "name": "stdout"
        },
        {
          "output_type": "display_data",
          "data": {
            "image/png": "[encoded data removed]",
            "text/plain": [
              "<matplotlib.figure.Figure at 0x7f7b08397a58>"
            ]
          },
          "metadata": {
            "tags": []
          }
        }
      ]
    },
    {
      "metadata": {
        "id": "iU_VDQm2Rtro",
        "colab_type": "text"
      },
      "cell_type": "markdown",
      "source": [
        "# DataLoader"
      ]
    },
    {
      "metadata": {
        "id": "cQAQrfMJRtv3",
        "colab_type": "text"
      },
      "cell_type": "markdown",
      "source": [
        "# Model"
      ]
    },
    {
      "metadata": {
        "id": "VIILcEp9Rtz-",
        "colab_type": "text"
      },
      "cell_type": "markdown",
      "source": [
        "# Loss Function\n"
      ]
    },
    {
      "metadata": {
        "id": "PICCxotzRt4z",
        "colab_type": "text"
      },
      "cell_type": "markdown",
      "source": [
        "# Update Rule"
      ]
    },
    {
      "metadata": {
        "id": "tCm_msJ0RuIu",
        "colab_type": "text"
      },
      "cell_type": "markdown",
      "source": [
        "# Training Loop\n"
      ]
    },
    {
      "metadata": {
        "id": "gevaiXFORuTH",
        "colab_type": "text"
      },
      "cell_type": "markdown",
      "source": [
        "# Save Results"
      ]
    },
    {
      "metadata": {
        "id": "XlL1brDNRucP",
        "colab_type": "text"
      },
      "cell_type": "markdown",
      "source": [
        ""
      ]
    },
    {
      "metadata": {
        "id": "PT9Shf_MRhui",
        "colab_type": "code",
        "colab": {
          "autoexec": {
            "startup": false,
            "wait_interval": 0
          }
        }
      },
      "cell_type": "code",
      "source": [
        ""
      ],
      "execution_count": 0,
      "outputs": []
    }
  ]
}