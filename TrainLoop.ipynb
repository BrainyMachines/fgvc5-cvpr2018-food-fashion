{
 "cells": [
  {
   "cell_type": "markdown",
   "metadata": {
    "colab_type": "text",
    "id": "4OGEu9nITbnO"
   },
   "source": [
    "# Install Torch"
   ]
  },
  {
   "cell_type": "code",
   "execution_count": 1,
   "metadata": {
    "colab": {
     "autoexec": {
      "startup": false,
      "wait_interval": 0
     }
    },
    "colab_type": "code",
    "id": "uX687hj69g9g"
   },
   "outputs": [],
   "source": [
    "torchver = \"0.4.0\""
   ]
  },
  {
   "cell_type": "code",
   "execution_count": 2,
   "metadata": {
    "colab": {
     "autoexec": {
      "startup": false,
      "wait_interval": 0
     },
     "base_uri": "https://localhost:8080/",
     "height": 306
    },
    "colab_type": "code",
    "executionInfo": {
     "elapsed": 1967,
     "status": "ok",
     "timestamp": 1527015382182,
     "user": {
      "displayName": "Sourabh Daptardar",
      "photoUrl": "//lh4.googleusercontent.com/-onn5Q0_MiKQ/AAAAAAAAAAI/AAAAAAAACDI/iOxkSEz16nA/s50-c-k-no/photo.jpg",
      "userId": "115812262388010820083"
     },
     "user_tz": -330
    },
    "id": "_gX52NUpzIYC",
    "outputId": "311649d4-8385-4c39-b984-1846818c2388"
   },
   "outputs": [
    {
     "name": "stdout",
     "output_type": "stream",
     "text": [
      "/bin/sh: 1: /opt/bin/nvidia-smi: not found\n",
      "Mon May 28 01:56:55 2018       \n",
      "+-----------------------------------------------------------------------------+\n",
      "| NVIDIA-SMI 390.25                 Driver Version: 390.25                    |\n",
      "|-------------------------------+----------------------+----------------------+\n",
      "| GPU  Name        Persistence-M| Bus-Id        Disp.A | Volatile Uncorr. ECC |\n",
      "| Fan  Temp  Perf  Pwr:Usage/Cap|         Memory-Usage | GPU-Util  Compute M. |\n",
      "|===============================+======================+======================|\n",
      "|   0  GeForce GTX 980     Off  | 00000000:01:00.0  On |                  N/A |\n",
      "|  0%   56C    P8    16W / 185W |    598MiB /  4038MiB |      8%      Default |\n",
      "+-------------------------------+----------------------+----------------------+\n",
      "                                                                               \n",
      "+-----------------------------------------------------------------------------+\n",
      "| Processes:                                                       GPU Memory |\n",
      "|  GPU       PID   Type   Process name                             Usage      |\n",
      "|=============================================================================|\n",
      "|    0      1387      G   /usr/lib/xorg/Xorg                           159MiB |\n",
      "|    0     11196      G   ...-token=799BC3DDF92D7A8F377A757122025ED4   434MiB |\n",
      "+-----------------------------------------------------------------------------+\n"
     ]
    }
   ],
   "source": [
    "!/opt/bin/nvidia-smi || /usr/bin/nvidia-smi"
   ]
  },
  {
   "cell_type": "code",
   "execution_count": 3,
   "metadata": {
    "colab": {
     "autoexec": {
      "startup": false,
      "wait_interval": 0
     },
     "base_uri": "https://localhost:8080/",
     "height": 51
    },
    "colab_type": "code",
    "executionInfo": {
     "elapsed": 2037,
     "status": "ok",
     "timestamp": 1527015384289,
     "user": {
      "displayName": "Sourabh Daptardar",
      "photoUrl": "//lh4.googleusercontent.com/-onn5Q0_MiKQ/AAAAAAAAAAI/AAAAAAAACDI/iOxkSEz16nA/s50-c-k-no/photo.jpg",
      "userId": "115812262388010820083"
     },
     "user_tz": -330
    },
    "id": "Z0wFaqgbE4wI",
    "outputId": "feb79b53-fdc9-45eb-92c7-7dff6334c183"
   },
   "outputs": [
    {
     "name": "stdout",
     "output_type": "stream",
     "text": [
      "ls: cannot access '/colabtools': No such file or directory\r\n"
     ]
    }
   ],
   "source": [
    "!ls /colabtools"
   ]
  },
  {
   "cell_type": "code",
   "execution_count": 4,
   "metadata": {
    "colab": {
     "autoexec": {
      "startup": false,
      "wait_interval": 0
     },
     "base_uri": "https://localhost:8080/",
     "height": 34
    },
    "colab_type": "code",
    "executionInfo": {
     "elapsed": 2121,
     "status": "ok",
     "timestamp": 1527015386438,
     "user": {
      "displayName": "Sourabh Daptardar",
      "photoUrl": "//lh4.googleusercontent.com/-onn5Q0_MiKQ/AAAAAAAAAAI/AAAAAAAACDI/iOxkSEz16nA/s50-c-k-no/photo.jpg",
      "userId": "115812262388010820083"
     },
     "user_tz": -330
    },
    "id": "G4WvjiCDzWPR",
    "outputId": "708f088a-9f78-4a08-9811-145b8874105b"
   },
   "outputs": [
    {
     "name": "stdout",
     "output_type": "stream",
     "text": [
      "Python 3.6.5 :: Anaconda, Inc.\r\n"
     ]
    }
   ],
   "source": [
    "!python --version"
   ]
  },
  {
   "cell_type": "code",
   "execution_count": 5,
   "metadata": {
    "colab": {
     "autoexec": {
      "startup": false,
      "wait_interval": 0
     },
     "base_uri": "https://localhost:8080/",
     "height": 187
    },
    "colab_type": "code",
    "executionInfo": {
     "elapsed": 5041,
     "status": "ok",
     "timestamp": 1527015392777,
     "user": {
      "displayName": "Sourabh Daptardar",
      "photoUrl": "//lh4.googleusercontent.com/-onn5Q0_MiKQ/AAAAAAAAAAI/AAAAAAAACDI/iOxkSEz16nA/s50-c-k-no/photo.jpg",
      "userId": "115812262388010820083"
     },
     "user_tz": -330
    },
    "id": "z85P4eDZNSdu",
    "outputId": "26542569-3f96-4bc5-de5b-3d8c51c98f75"
   },
   "outputs": [
    {
     "name": "stdout",
     "output_type": "stream",
     "text": [
      "Uninstalling Pillow-5.1.0:\n",
      "  Successfully uninstalled Pillow-5.1.0\n",
      "Collecting pillow-simd\n",
      "\u001b[31mtensorflow 1.3.0 requires tensorflow-tensorboard<0.2.0,>=0.1.0, which is not installed.\u001b[0m\n",
      "\u001b[31mscikit-image 0.13.0 requires pillow>=2.1.0, which is not installed.\u001b[0m\n",
      "\u001b[31mtorchvision 0.2.0 requires pillow>=4.1.1, which is not installed.\u001b[0m\n",
      "\u001b[31mdjango-haystack 2.8.1 has requirement Django>=1.11, but you'll have django 1.7.11 which is incompatible.\u001b[0m\n",
      "Installing collected packages: pillow-simd\n",
      "  Found existing installation: Pillow-SIMD 5.1.1.post0\n",
      "    Uninstalling Pillow-SIMD-5.1.1.post0:\n",
      "      Successfully uninstalled Pillow-SIMD-5.1.1.post0\n",
      "Successfully installed pillow-simd-5.1.1.post0\n"
     ]
    }
   ],
   "source": [
    "!pip3 uninstall -y pillow\n",
    "!CC=\"cc -mavx2\" pip3 install -U --force-reinstall pillow-simd\n"
   ]
  },
  {
   "cell_type": "code",
   "execution_count": 6,
   "metadata": {
    "colab": {
     "autoexec": {
      "startup": false,
      "wait_interval": 0
     },
     "base_uri": "https://localhost:8080/",
     "height": 309
    },
    "colab_type": "code",
    "executionInfo": {
     "elapsed": 3414,
     "status": "ok",
     "timestamp": 1527015396225,
     "user": {
      "displayName": "Sourabh Daptardar",
      "photoUrl": "//lh4.googleusercontent.com/-onn5Q0_MiKQ/AAAAAAAAAAI/AAAAAAAACDI/iOxkSEz16nA/s50-c-k-no/photo.jpg",
      "userId": "115812262388010820083"
     },
     "user_tz": -330
    },
    "id": "7FiDFXCiT8wS",
    "outputId": "6a582c41-86d8-4fac-bdfd-b1008bba2099"
   },
   "outputs": [
    {
     "name": "stdout",
     "output_type": "stream",
     "text": [
      "Requirement already satisfied: ipdb in /home/sourabhd/installs/miniconda3/envs/py3k/lib/python3.6/site-packages (0.11)\n",
      "Requirement already satisfied: ipython>=5.0.0; python_version >= \"3.3\" in /home/sourabhd/installs/miniconda3/envs/py3k/lib/python3.6/site-packages (from ipdb) (6.4.0)\n",
      "Requirement already satisfied: setuptools in /home/sourabhd/installs/miniconda3/envs/py3k/lib/python3.6/site-packages (from ipdb) (39.2.0)\n",
      "Requirement already satisfied: decorator in /home/sourabhd/installs/miniconda3/envs/py3k/lib/python3.6/site-packages (from ipython>=5.0.0; python_version >= \"3.3\"->ipdb) (4.3.0)\n",
      "Requirement already satisfied: simplegeneric>0.8 in /home/sourabhd/installs/miniconda3/envs/py3k/lib/python3.6/site-packages (from ipython>=5.0.0; python_version >= \"3.3\"->ipdb) (0.8.1)\n",
      "Requirement already satisfied: pygments in /home/sourabhd/installs/miniconda3/envs/py3k/lib/python3.6/site-packages (from ipython>=5.0.0; python_version >= \"3.3\"->ipdb) (2.2.0)\n",
      "Requirement already satisfied: pickleshare in /home/sourabhd/installs/miniconda3/envs/py3k/lib/python3.6/site-packages (from ipython>=5.0.0; python_version >= \"3.3\"->ipdb) (0.7.4)\n",
      "Requirement already satisfied: backcall in /home/sourabhd/installs/miniconda3/envs/py3k/lib/python3.6/site-packages (from ipython>=5.0.0; python_version >= \"3.3\"->ipdb) (0.1.0)\n",
      "Requirement already satisfied: jedi>=0.10 in /home/sourabhd/installs/miniconda3/envs/py3k/lib/python3.6/site-packages (from ipython>=5.0.0; python_version >= \"3.3\"->ipdb) (0.12.0)\n",
      "Requirement already satisfied: prompt-toolkit<2.0.0,>=1.0.15 in /home/sourabhd/installs/miniconda3/envs/py3k/lib/python3.6/site-packages (from ipython>=5.0.0; python_version >= \"3.3\"->ipdb) (1.0.15)\n",
      "Requirement already satisfied: pexpect; sys_platform != \"win32\" in /home/sourabhd/installs/miniconda3/envs/py3k/lib/python3.6/site-packages (from ipython>=5.0.0; python_version >= \"3.3\"->ipdb) (4.5.0)\n",
      "Requirement already satisfied: traitlets>=4.2 in /home/sourabhd/installs/miniconda3/envs/py3k/lib/python3.6/site-packages (from ipython>=5.0.0; python_version >= \"3.3\"->ipdb) (4.3.2)\n",
      "Requirement already satisfied: parso>=0.2.0 in /home/sourabhd/installs/miniconda3/envs/py3k/lib/python3.6/site-packages (from jedi>=0.10->ipython>=5.0.0; python_version >= \"3.3\"->ipdb) (0.2.0)\n",
      "Requirement already satisfied: wcwidth in /home/sourabhd/installs/miniconda3/envs/py3k/lib/python3.6/site-packages (from prompt-toolkit<2.0.0,>=1.0.15->ipython>=5.0.0; python_version >= \"3.3\"->ipdb) (0.1.7)\n",
      "Requirement already satisfied: six>=1.9.0 in /home/sourabhd/installs/miniconda3/envs/py3k/lib/python3.6/site-packages (from prompt-toolkit<2.0.0,>=1.0.15->ipython>=5.0.0; python_version >= \"3.3\"->ipdb) (1.11.0)\n",
      "Requirement already satisfied: ptyprocess>=0.5 in /home/sourabhd/installs/miniconda3/envs/py3k/lib/python3.6/site-packages (from pexpect; sys_platform != \"win32\"->ipython>=5.0.0; python_version >= \"3.3\"->ipdb) (0.5.2)\n",
      "Requirement already satisfied: ipython_genutils in /home/sourabhd/installs/miniconda3/envs/py3k/lib/python3.6/site-packages (from traitlets>=4.2->ipython>=5.0.0; python_version >= \"3.3\"->ipdb) (0.2.0)\n",
      "\u001b[31mtensorflow 1.3.0 requires tensorflow-tensorboard<0.2.0,>=0.1.0, which is not installed.\u001b[0m\n",
      "\u001b[31mscikit-image 0.13.0 requires pillow>=2.1.0, which is not installed.\u001b[0m\n",
      "\u001b[31mtorchvision 0.2.0 requires pillow>=4.1.1, which is not installed.\u001b[0m\n",
      "\u001b[31mdjango-haystack 2.8.1 has requirement Django>=1.11, but you'll have django 1.7.11 which is incompatible.\u001b[0m\n"
     ]
    }
   ],
   "source": [
    "\n",
    "!pip3 install ipdb\n"
   ]
  },
  {
   "cell_type": "code",
   "execution_count": 7,
   "metadata": {
    "colab": {
     "autoexec": {
      "startup": false,
      "wait_interval": 0
     },
     "base_uri": "https://localhost:8080/",
     "height": 272
    },
    "colab_type": "code",
    "executionInfo": {
     "elapsed": 6145,
     "status": "ok",
     "timestamp": 1527015402414,
     "user": {
      "displayName": "Sourabh Daptardar",
      "photoUrl": "//lh4.googleusercontent.com/-onn5Q0_MiKQ/AAAAAAAAAAI/AAAAAAAACDI/iOxkSEz16nA/s50-c-k-no/photo.jpg",
      "userId": "115812262388010820083"
     },
     "user_tz": -330
    },
    "id": "TAP3KzaO_3mr",
    "outputId": "d48fd867-01ff-479d-a37e-82c0ac00ce44"
   },
   "outputs": [
    {
     "name": "stdout",
     "output_type": "stream",
     "text": [
      "36\n",
      "cu91\n",
      "http://download.pytorch.org/whl/cu91/torch-0.4.0-cp36-cp36m-linux_x86_64.whl\n",
      "Requirement already satisfied: torch==0.4.0 from http://download.pytorch.org/whl/cu91/torch-0.4.0-cp36-cp36m-linux_x86_64.whl in /home/sourabhd/installs/miniconda3/envs/py3k/lib/python3.6/site-packages (0.4.0)\n",
      "\u001b[31mtensorflow 1.3.0 requires tensorflow-tensorboard<0.2.0,>=0.1.0, which is not installed.\u001b[0m\n",
      "\u001b[31mscikit-image 0.13.0 requires pillow>=2.1.0, which is not installed.\u001b[0m\n",
      "\u001b[31mtorchvision 0.2.0 requires pillow>=4.1.1, which is not installed.\u001b[0m\n",
      "\u001b[31mdjango-haystack 2.8.1 has requirement Django>=1.11, but you'll have django 1.7.11 which is incompatible.\u001b[0m\n",
      "Requirement already satisfied: torchvision in /home/sourabhd/installs/miniconda3/envs/py3k/lib/python3.6/site-packages/torchvision-0.2.0-py3.6.egg (0.2.0)\n",
      "Requirement already satisfied: numpy in /home/sourabhd/installs/miniconda3/envs/py3k/lib/python3.6/site-packages (from torchvision) (1.14.3)\n",
      "Collecting pillow>=4.1.1 (from torchvision)\n",
      "  Using cached https://files.pythonhosted.org/packages/5f/4b/8b54ab9d37b93998c81b364557dff9f61972c0f650efa0ceaf470b392740/Pillow-5.1.0-cp36-cp36m-manylinux1_x86_64.whl\n",
      "Requirement already satisfied: six in /home/sourabhd/installs/miniconda3/envs/py3k/lib/python3.6/site-packages (from torchvision) (1.11.0)\n",
      "Requirement already satisfied: torch in /home/sourabhd/installs/miniconda3/envs/py3k/lib/python3.6/site-packages (from torchvision) (0.4.0)\n",
      "\u001b[31mtensorflow 1.3.0 requires tensorflow-tensorboard<0.2.0,>=0.1.0, which is not installed.\u001b[0m\n",
      "\u001b[31mdjango-haystack 2.8.1 has requirement Django>=1.11, but you'll have django 1.7.11 which is incompatible.\u001b[0m\n",
      "Installing collected packages: pillow\n",
      "Successfully installed pillow-5.1.0\n",
      "PIL\n"
     ]
    }
   ],
   "source": [
    "\n",
    "from os import path\n",
    "from wheel.pep425tags import get_abbr_impl, get_impl_ver, get_abi_tag\n",
    "platform = '{}{}-{}'.format(get_abbr_impl(), get_impl_ver(), get_abi_tag())\n",
    "\n",
    "pver = !python --version |& awk '{print $2 }' | awk -F. '{ print $1$2}'\n",
    "pyver = pver[0]\n",
    "print(pyver)\n",
    "\n",
    "# cver = !echo \"cu`nvcc --version | sed \"s/ /\\n/g\" | grep -i release -A 1 | tail -n 1 | tr -d [\\.,]`\"\n",
    "# cudaver = cver[0]\n",
    "cudaver = 'cu91'\n",
    "\n",
    "accelerator =  cudaver if path.exists('/opt/bin/nvidia-smi') or path.exists('/usr/bin/nvidia-smi') else 'cpu'\n",
    "print(accelerator)\n",
    "\n",
    "torchurl = \"http://download.pytorch.org/whl/{0}/torch-{1}-cp{2}-cp{2}m-linux_x86_64.whl\".format(accelerator, torchver, pyver)\n",
    "print(torchurl)\n",
    "\n",
    "!pip3 install http://download.pytorch.org/whl/cu91/torch-0.4.0-cp36-cp36m-linux_x86_64.whl \n",
    "!pip3 install torchvision\n",
    "\n",
    "import torch\n",
    "import torchvision\n",
    "print(torchvision.get_image_backend())"
   ]
  },
  {
   "cell_type": "code",
   "execution_count": 8,
   "metadata": {
    "colab": {
     "autoexec": {
      "startup": false,
      "wait_interval": 0
     },
     "base_uri": "https://localhost:8080/",
     "height": 34
    },
    "colab_type": "code",
    "executionInfo": {
     "elapsed": 3083,
     "status": "ok",
     "timestamp": 1527015405574,
     "user": {
      "displayName": "Sourabh Daptardar",
      "photoUrl": "//lh4.googleusercontent.com/-onn5Q0_MiKQ/AAAAAAAAAAI/AAAAAAAACDI/iOxkSEz16nA/s50-c-k-no/photo.jpg",
      "userId": "115812262388010820083"
     },
     "user_tz": -330
    },
    "id": "a4CFa1WLgoUX",
    "outputId": "cd632861-265b-4c66-bc57-fd7e2d6228ff"
   },
   "outputs": [
    {
     "name": "stdout",
     "output_type": "stream",
     "text": [
      "Requirement already satisfied: tqdm in /home/sourabhd/installs/miniconda3/envs/py3k/lib/python3.6/site-packages (4.19.4)\n",
      "\u001b[31mtensorflow 1.3.0 requires tensorflow-tensorboard<0.2.0,>=0.1.0, which is not installed.\u001b[0m\n",
      "\u001b[31mdjango-haystack 2.8.1 has requirement Django>=1.11, but you'll have django 1.7.11 which is incompatible.\u001b[0m\n"
     ]
    }
   ],
   "source": [
    "!pip3 install tqdm"
   ]
  },
  {
   "cell_type": "markdown",
   "metadata": {
    "colab_type": "text",
    "id": "GZt8MRT5RfK6"
   },
   "source": [
    "# Imports"
   ]
  },
  {
   "cell_type": "code",
   "execution_count": 9,
   "metadata": {
    "colab": {
     "autoexec": {
      "startup": false,
      "wait_interval": 0
     }
    },
    "colab_type": "code",
    "id": "ZptSyG9oSN1c"
   },
   "outputs": [],
   "source": [
    "import torch\n",
    "import os\n",
    "import sys\n",
    "import logging\n",
    "import io\n",
    "import time\n",
    "import shutil\n",
    "from tqdm import tqdm\n",
    "from matplotlib.pyplot import imshow\n",
    "import numpy as np\n",
    "from PIL import Image\n",
    "import torch\n",
    "import torch.nn as nn\n",
    "import torch.nn.parallel\n",
    "import torch.backends.cudnn as cudnn\n",
    "import torch.distributed as dist\n",
    "import torch.optim as optim\n",
    "import torch.optim.lr_scheduler as lr_scheduler\n",
    "import torch.utils.data\n",
    "import torch.utils.data.distributed\n",
    "import torchvision.transforms as transforms\n",
    "import torchvision.datasets as datasets\n",
    "import torchvision.models as models\n",
    "from argparse import Namespace\n",
    "from collections import OrderedDict\n",
    "from scipy.sparse import coo_matrix\n",
    "import socket\n",
    "from datetime import datetime\n",
    "import json\n",
    "import re"
   ]
  },
  {
   "cell_type": "code",
   "execution_count": 10,
   "metadata": {
    "colab": {
     "autoexec": {
      "startup": false,
      "wait_interval": 0
     }
    },
    "colab_type": "code",
    "id": "IEEo0VYsZhvO"
   },
   "outputs": [],
   "source": [
    "%matplotlib inline"
   ]
  },
  {
   "cell_type": "markdown",
   "metadata": {
    "colab_type": "text",
    "id": "N1BQLwQTWcKU"
   },
   "source": [
    "# Parameters"
   ]
  },
  {
   "cell_type": "code",
   "execution_count": 11,
   "metadata": {},
   "outputs": [],
   "source": [
    "def get_hostname_timestamp_id():\n",
    "    return socket.gethostname() + '_' + re.sub(r'\\W+', '', str(datetime.now()))"
   ]
  },
  {
   "cell_type": "code",
   "execution_count": 12,
   "metadata": {},
   "outputs": [],
   "source": [
    "def get_output_fname():\n",
    "    return \"%s_%s_%s\" % (args.author, args.arch, get_hostname_timestamp_id())"
   ]
  },
  {
   "cell_type": "code",
   "execution_count": 13,
   "metadata": {
    "colab": {
     "autoexec": {
      "startup": false,
      "wait_interval": 0
     }
    },
    "colab_type": "code",
    "id": "eM2a7qmqWh3Q"
   },
   "outputs": [],
   "source": [
    "args = Namespace()\n",
    "# base_dir = '/content/fashion'\n",
    "args.base_dir = '/data/datasets/kaggle_fashion'\n",
    "args.data_dir = args.base_dir + os.sep + 'data'\n",
    "args.input_dir = args.data_dir + os.sep + 'input'\n",
    "args.output_dir = args.data_dir + os.sep + 'output'\n",
    "args.train_zip = args.input_dir + os.sep + 'train_data.zip'\n",
    "args.val_zip = args.input_dir + os.sep + 'validation_data.zip'\n",
    "args.train_dir = args.input_dir + os.sep + 'img_train'\n",
    "args.val_dir = args.input_dir + os.sep + 'img_val'\n",
    "args.test_dir = args.input_dir + os.sep + 'img_test'\n",
    "args.train_id = \"1rx1rL8RUAggN4hKlrYLtpdQagtUWmIbO\"\n",
    "args.val_id = \"1U19eWiBFJ6wGcFk47l6g9mmoWp1i4hPY\"\n",
    "# args.train_labels_id = \"1NOoWniR3ioqPKbVWoaWGy4HPDzZAAJX9\"\n",
    "args.train_labels_id = \"1X7TpWyxxtmCT5rw__7OKus_W4fh8xpKO\" # small dataset\n",
    "args.val_labels_id = \"1d9RuQTx5E8qFxraIu6B4rDTOC4sx2xXT\"\n",
    "args.test_labels_id = \"1VwzGCJfOL13pk1Wi-xPHQ6mVnofy9_Z4\"\n",
    "# args.train_labels_json = args.input_dir + os.sep + 'train.json'\n",
    "# args.train_labels_json = args.input_dir + os.sep + 'train_small.json' \n",
    "args.train_labels_json = args.input_dir + os.sep + 'train_tiny.json' \n",
    "args.val_labels_json = args.input_dir + os.sep + 'validation.json'\n",
    "args.test_labels_json = args.input_dir + os.sep + 'test.json'\n",
    "args.debug_weights = True\n",
    "args.test_overfit = True\n",
    "args.num_labels = 228\n",
    "args.batch_size = 16\n",
    "args.image_min_size = 256\n",
    "args.nw_input_size = 224\n",
    "args.num_workers = 4\n",
    "args.imagenet_mean = [0.485, 0.456, 0.406]\n",
    "args.imagenet_std = [0.229, 0.224, 0.225]\n",
    "args.pretrain_dset_mean = args.imagenet_mean\n",
    "args.pretrain_dset_std = args.imagenet_std\n",
    "args.world_size = 1\n",
    "args.dist_url = 'file://' + args.output_dir + os.sep + 'dfile'\n",
    "args.dist_backend = 'gloo'\n",
    "args.distributed = args.world_size > 1\n",
    "args.arch = 'resnet101'\n",
    "args.fv_size = 2048\n",
    "args.pretrained = True\n",
    "args.resume = False\n",
    "args.start_epoch = 0\n",
    "args.small=1e-12                         # small value used for avoiding div by zero\n",
    "args.optimizer_learning_rate = 1e-4      # Adam optimizer initial learning rate\n",
    "args.scheduler_patience = 1              # Number of epochs with no improvement after which learning rate will be reduced\n",
    "args.scheduler_threshold = 1e-6          # learning rate scheduler threshold for measuring the new optimum, to only focus on significant changes\n",
    "args.scheduler_factor = 0.1        # learning rate scheduler factor by which the learning rate will be reduced. new_lr = lr * factor\n",
    "args.earlystopping_patience = 1          # early stopping patience is the number of epochs with no improvement after which training will be stopped\n",
    "args.earlystopping_min_delta = 1e-5      # minimum change in the monitored quantity to qualify as an improvement, i.e. an absolute change of less than min_delta, will count as no improvement\n",
    "args.evaluate = False\n",
    "args.epochs = 2\n",
    "args.print_freq = args.batch_size\n",
    "args.ckpt_dir = args.output_dir + os.sep + 'ckpt'\n",
    "args.ckpt = args.ckpt_dir + os.sep + 'ckpt_%s.pth.tar' % (args.arch,)\n",
    "args.best = args.ckpt_dir + os.sep + 'best_%s.pth.tar' % (args.arch,)\n",
    "args.threshold = 0.5\n",
    "args.sub_dir = args.output_dir + os.sep + 'submissions'\n",
    "args.author = 'deccanlearners'\n",
    "args.output_id = get_output_fname()\n",
    "args.output_file = args.sub_dir + os.sep + 'output_%s.csv' %  args.output_id\n",
    "args.params_file = args.sub_dir + os.sep + 'params_%s.json' % args.output_id\n",
    "args.min_img_bytes = 4792"
   ]
  },
  {
   "cell_type": "code",
   "execution_count": 14,
   "metadata": {
    "colab": {
     "autoexec": {
      "startup": false,
      "wait_interval": 0
     },
     "base_uri": "https://localhost:8080/",
     "height": 928
    },
    "colab_type": "code",
    "executionInfo": {
     "elapsed": 1332,
     "status": "error",
     "timestamp": 1527015425722,
     "user": {
      "displayName": "Sourabh Daptardar",
      "photoUrl": "//lh4.googleusercontent.com/-onn5Q0_MiKQ/AAAAAAAAAAI/AAAAAAAACDI/iOxkSEz16nA/s50-c-k-no/photo.jpg",
      "userId": "115812262388010820083"
     },
     "user_tz": -330
    },
    "id": "90hY9m66UYPd",
    "outputId": "de44a4f5-386e-4243-b3bb-2da97134ce99"
   },
   "outputs": [
    {
     "name": "stdout",
     "output_type": "stream",
     "text": [
      "7102\n",
      "True\n",
      "GeForce GTX 980\n"
     ]
    }
   ],
   "source": [
    "print(torch.backends.cudnn.version())\n",
    "print(torch.cuda.is_available())\n",
    "print(torch.cuda.get_device_name(0))\n"
   ]
  },
  {
   "cell_type": "code",
   "execution_count": 15,
   "metadata": {
    "colab": {
     "autoexec": {
      "startup": false,
      "wait_interval": 0
     }
    },
    "colab_type": "code",
    "id": "Kc-OLRcoHDBl"
   },
   "outputs": [],
   "source": [
    "cudnn.benchmark = True"
   ]
  },
  {
   "cell_type": "code",
   "execution_count": 16,
   "metadata": {
    "colab": {
     "autoexec": {
      "startup": false,
      "wait_interval": 0
     }
    },
    "colab_type": "code",
    "id": "jB9hgpyUfbqG"
   },
   "outputs": [],
   "source": [
    "os.makedirs(args.base_dir, exist_ok=True)\n",
    "os.makedirs(args.data_dir, exist_ok=True)\n",
    "os.makedirs(args.input_dir, exist_ok=True)\n",
    "os.makedirs(args.output_dir, exist_ok=True)\n",
    "os.makedirs(args.ckpt_dir, exist_ok=True)\n",
    "os.makedirs(args.sub_dir, exist_ok=True)"
   ]
  },
  {
   "cell_type": "markdown",
   "metadata": {
    "colab_type": "text",
    "id": "dBC_aI1vRknn"
   },
   "source": [
    "# Download Dataset"
   ]
  },
  {
   "cell_type": "code",
   "execution_count": 17,
   "metadata": {
    "colab": {
     "autoexec": {
      "startup": false,
      "wait_interval": 0
     }
    },
    "colab_type": "code",
    "id": "g5eP3RxWV5L5"
   },
   "outputs": [],
   "source": [
    "# from google.colab import auth\n",
    "# auth.authenticate_user()"
   ]
  },
  {
   "cell_type": "code",
   "execution_count": 18,
   "metadata": {
    "colab": {
     "autoexec": {
      "startup": false,
      "wait_interval": 0
     }
    },
    "colab_type": "code",
    "id": "68MYkyHJWP0m"
   },
   "outputs": [],
   "source": [
    "# from googleapiclient.discovery import build\n",
    "# import io\n",
    "# from googleapiclient.http import MediaIoBaseDownload\n",
    "# import json\n",
    "\n",
    "# def md5_hash(fname, blocksize=4096):\n",
    "#     \"\"\" compute md5hash of a file \"\"\"\n",
    "#     import hashlib\n",
    "#     hash = ''\n",
    "#     if not os.path.exists(fname):\n",
    "#         errmsg = \"File %s does not exist\" % (fname)\n",
    "#         print(errmsg)\n",
    "#         return ''\n",
    "#     try:\n",
    "#         hasher = hashlib.md5()\n",
    "#         with open(fname, 'rb') as f:\n",
    "#             buf = f.read(blocksize)\n",
    "#             while len(buf) > 0:\n",
    "#                 hasher.update(buf)\n",
    "#                 buf = f.read(blocksize)\n",
    "#         hash = hasher.hexdigest()\n",
    "#     except:\n",
    "#         print(\"Exception in hashing file\")\n",
    "#         raise\n",
    "#     return hash\n",
    "\n",
    "# def _download(drive_service, file_id, loc):\n",
    "#   request = drive_service.files().get_media(fileId=file_id)\n",
    "#   fh = io.FileIO(loc, mode='wb')\n",
    "#   downloader = MediaIoBaseDownload(fh, request, chunksize=1024*1024)\n",
    "#   prev_progress = 0\n",
    "#   done = False\n",
    "#   with tqdm(total=100) as pbar:\n",
    "#     while done is False:\n",
    "#       status, done = downloader.next_chunk()\n",
    "#       if status:\n",
    "#         # print(\"Download %d%%.\" % int(status.progress() * 100))\n",
    "#         pbar.update(int(100 *(status.progress() - prev_progress)))\n",
    "#         prev_progress = status.progress()\n",
    "#   print(\"Download Complete!\")\n",
    "#   file_size = os.path.getsize(loc)\n",
    "#   print(\"Downloaded %d bytes\" % (file_size))\n",
    "\n",
    "# def download(file_id, loc):\n",
    "#   \"\"\"Downloads a file to local file system.\"\"\"  \n",
    "#   drive_service = build('drive', 'v3')\n",
    "  \n",
    "#   request_mdata = drive_service.files().list(fields=\"files(md5Checksum, originalFilename, id)\")\n",
    "#   rh = io.BytesIO()\n",
    "#   downloader_mdata = MediaIoBaseDownload(rh, request_mdata, chunksize=1024*1024)\n",
    "#   done = False\n",
    "#   while not done:\n",
    "#     _, done = downloader_mdata.next_chunk()\n",
    "#   mdata = json.loads(rh.getvalue())\n",
    "#   found = False\n",
    "#   md5drive = ''\n",
    "#   fname = ''\n",
    "#   for x in mdata['files']:\n",
    "#     if x['id'] == file_id:\n",
    "#       found = True\n",
    "#       md5drive = x['md5Checksum']\n",
    "#       fname = x['originalFilename']\n",
    "#       break\n",
    "#   if not found:\n",
    "#     print(\"{:s} : not found on gdrive\".format(file_id))\n",
    "#   else:\n",
    "#     if os.path.exists(loc):\n",
    "#       if md5drive == md5_hash(loc):\n",
    "#         print(\"{:s} : file already present on colab\".format(loc))\n",
    "#       else:\n",
    "#         print(\"{:s} [gdrive] and {:s} [colab] : md5 mismatch ... downloading\".format(fname, loc))\n",
    "#         _download(drive_service, file_id, loc)\n",
    "#     else:\n",
    "#       print(\"{:s} not present on colab ... downloading ...\".format(loc))\n",
    "#       _download(drive_service, file_id, loc)\n",
    "        \n"
   ]
  },
  {
   "cell_type": "code",
   "execution_count": 19,
   "metadata": {
    "colab": {
     "autoexec": {
      "startup": false,
      "wait_interval": 0
     },
     "base_uri": "https://localhost:8080/",
     "height": 102
    },
    "colab_type": "code",
    "executionInfo": {
     "elapsed": 8187,
     "status": "ok",
     "timestamp": 1527001525917,
     "user": {
      "displayName": "Sourabh Daptardar",
      "photoUrl": "//lh4.googleusercontent.com/-onn5Q0_MiKQ/AAAAAAAAAAI/AAAAAAAACDI/iOxkSEz16nA/s50-c-k-no/photo.jpg",
      "userId": "115812262388010820083"
     },
     "user_tz": -330
    },
    "id": "jOBHlpMKaE-F",
    "outputId": "71d5fe19-81cd-4428-90c7-8e0f720772b4"
   },
   "outputs": [],
   "source": [
    "# download(args.train_id, args.train_zip)\n",
    "# download(args.val_id, args.val_zip)\n",
    "# download(args.train_labels_id, args.train_labels_json)\n",
    "# download(args.val_labels_id, args.val_labels_json)\n",
    "# download(args.test_labels_id, args.test_labels_json)"
   ]
  },
  {
   "cell_type": "code",
   "execution_count": 20,
   "metadata": {
    "colab": {
     "autoexec": {
      "startup": false,
      "wait_interval": 0
     }
    },
    "colab_type": "code",
    "id": "mA1kgVVEdSWI"
   },
   "outputs": [],
   "source": [
    "# import shutil\n",
    "# shutil.unpack_archive(args.train_zip, args.input_dir)\n",
    "# shutil.unpack_archive(args.val_zip, args.input_dir)\n"
   ]
  },
  {
   "cell_type": "code",
   "execution_count": 21,
   "metadata": {
    "colab": {
     "autoexec": {
      "startup": false,
      "wait_interval": 0
     },
     "base_uri": "https://localhost:8080/",
     "height": 153
    },
    "colab_type": "code",
    "executionInfo": {
     "elapsed": 2944,
     "status": "ok",
     "timestamp": 1527001543581,
     "user": {
      "displayName": "Sourabh Daptardar",
      "photoUrl": "//lh4.googleusercontent.com/-onn5Q0_MiKQ/AAAAAAAAAAI/AAAAAAAACDI/iOxkSEz16nA/s50-c-k-no/photo.jpg",
      "userId": "115812262388010820083"
     },
     "user_tz": -330
    },
    "id": "X4Eugqw2fJRQ",
    "outputId": "76b1998f-7f77-4cfb-ea39-39fa50283aca"
   },
   "outputs": [],
   "source": [
    "# !ls -ltr /content/fashion/data/input"
   ]
  },
  {
   "cell_type": "code",
   "execution_count": 22,
   "metadata": {
    "colab": {
     "autoexec": {
      "startup": false,
      "wait_interval": 0
     },
     "base_uri": "https://localhost:8080/",
     "height": 204
    },
    "colab_type": "code",
    "executionInfo": {
     "elapsed": 2245,
     "status": "ok",
     "timestamp": 1527001545898,
     "user": {
      "displayName": "Sourabh Daptardar",
      "photoUrl": "//lh4.googleusercontent.com/-onn5Q0_MiKQ/AAAAAAAAAAI/AAAAAAAACDI/iOxkSEz16nA/s50-c-k-no/photo.jpg",
      "userId": "115812262388010820083"
     },
     "user_tz": -330
    },
    "id": "_XnHDCmclB9B",
    "outputId": "7a665530-a452-41d9-ba5f-578562e6da35"
   },
   "outputs": [],
   "source": [
    "# !ls -ltr /content/fashion/data/input/train_data | head"
   ]
  },
  {
   "cell_type": "code",
   "execution_count": 23,
   "metadata": {
    "colab": {
     "autoexec": {
      "startup": false,
      "wait_interval": 0
     },
     "base_uri": "https://localhost:8080/",
     "height": 204
    },
    "colab_type": "code",
    "executionInfo": {
     "elapsed": 2216,
     "status": "ok",
     "timestamp": 1527001548219,
     "user": {
      "displayName": "Sourabh Daptardar",
      "photoUrl": "//lh4.googleusercontent.com/-onn5Q0_MiKQ/AAAAAAAAAAI/AAAAAAAACDI/iOxkSEz16nA/s50-c-k-no/photo.jpg",
      "userId": "115812262388010820083"
     },
     "user_tz": -330
    },
    "id": "4bmRgA9ilISL",
    "outputId": "db0b777e-bbc6-4326-c467-64779ca51b3b"
   },
   "outputs": [],
   "source": [
    "# !ls -ltr /content/fashion/data/input/validation_data | head"
   ]
  },
  {
   "cell_type": "markdown",
   "metadata": {
    "colab_type": "text",
    "id": "c6LY5l-SRtWw"
   },
   "source": [
    "# Dataset"
   ]
  },
  {
   "cell_type": "code",
   "execution_count": 24,
   "metadata": {
    "colab": {
     "autoexec": {
      "startup": false,
      "wait_interval": 0
     }
    },
    "colab_type": "code",
    "id": "VMcIw45smeZE"
   },
   "outputs": [],
   "source": [
    "import torch.utils.data as data\n",
    "from copy import copy\n",
    "import numpy as np\n",
    "\n",
    "def fetch_labels(annotations, num_labels):\n",
    "  labels = OrderedDict()\n",
    "  for x in annotations:\n",
    "    arr = np.zeros((num_labels,), dtype=np.float32)\n",
    "    for y in map(int, x['labelId']):\n",
    "      arr[y-1] = 1.0\n",
    "    labels[int(x['imageId'])] = copy(arr)\n",
    "  return labels\n",
    "\n",
    "def json_to_dict(fpath):\n",
    "  import json\n",
    "  with open(fpath) as f: \n",
    "    D = json.load(f)\n",
    "  return D\n",
    "\n",
    "def get_labelinfo(annotations):\n",
    "  from collections import namedtuple\n",
    "  labelinfo = namedtuple('labelinfo', \"set min max count\")\n",
    "  labelinfo.set = set()\n",
    "  for x in annotations:\n",
    "    labelinfo.set.update(map(int, x['labelId']))\n",
    "  labelinfo.min = min(labelinfo.set)\n",
    "  labelinfo.max = max(labelinfo.set)\n",
    "  labelinfo.count = len(labelinfo.set)\n",
    "  return labelinfo\n",
    "\n",
    "def has_file_allowed_extension(filename, extensions):\n",
    "    \"\"\"Checks if a file is an allowed extension.\n",
    "    Args:\n",
    "        filename (string): path to a file\n",
    "    Returns:\n",
    "        bool: True if the filename ends with a known image extension\n",
    "    \"\"\"\n",
    "    filename_lower = filename.lower()\n",
    "    return any(filename_lower.endswith(ext) for ext in extensions)\n",
    "\n",
    "\n",
    "def pil_loader(path):\n",
    "    from PIL import Image \n",
    "    # open path as file to avoid ResourceWarning (https://github.com/python-pillow/Pillow/issues/835)\n",
    "    with open(path, 'rb') as f:\n",
    "        img = Image.open(f)\n",
    "        return img.convert('RGB')\n",
    "\n",
    "\n",
    "def accimage_loader(path):\n",
    "    import accimage\n",
    "    try:\n",
    "        return accimage.Image(path)\n",
    "    except IOError:\n",
    "        # Potentially a decoding problem, fall back to PIL.Image\n",
    "        return pil_loader(path)\n",
    "\n",
    "\n",
    "def default_loader(path):\n",
    "    from torchvision import get_image_backend\n",
    "    if get_image_backend() == 'accimage':\n",
    "        return accimage_loader(path)\n",
    "    else:\n",
    "        return pil_loader(path)\n",
    "\n",
    "      \n",
    "class FashionDataset(data.Dataset):\n",
    "  \"\"\"Fashion dataset CVPR challenge.\n",
    "     Adapted from torchvision ImageFolder.\n",
    "     Similar to ImageFolder with the following differences:\n",
    "     1. Multilabel\n",
    "     2. Directory structure where all images are directly in the root folder\n",
    "     3. Labels are read from json file\n",
    "   \n",
    "  Args:\n",
    "        root (string): Root directory path.\n",
    "        loader (callable): A function to load a sample given its path.\n",
    "        extensions (list[string]): A list of allowed extensions.\n",
    "        transform (callable, optional): A function/transform that takes in\n",
    "            a sample and returns a transformed version.\n",
    "            E.g, ``transforms.RandomCrop`` for images.\n",
    "        target_transform (callable, optional): A function/transform that takes\n",
    "            in the target and transforms it.\n",
    "    \n",
    "  \"\"\"\n",
    "\n",
    "  def __init__(self, root, metadata_file, num_labels=228, transform=None, target_transform=None,\n",
    "               loader=default_loader, test=False, min_img_bytes=4792):\n",
    "    extensions = ['.jpg', '.jpeg', '.png', '.ppm', '.bmp', '.pgm', '.tif']\n",
    "    self.test = test\n",
    "    self.num_labels = num_labels\n",
    "    self.images_ = OrderedDict()\n",
    "    self.images = OrderedDict()\n",
    "    self.metadata_file = metadata_file\n",
    "    self.metadata = json_to_dict(self.metadata_file)\n",
    "    self.transform = transform\n",
    "    self.root = root\n",
    "    self.target_transform = target_transform\n",
    "    self.loader = loader\n",
    "    self.corrupt = 0\n",
    "    self.corrupt_ids = set()\n",
    "    self.labels = OrderedDict()\n",
    "    self.labels_ = OrderedDict()\n",
    "    \n",
    "    # Fetch labels\n",
    "    if not self.test:\n",
    "        self.labels_ = fetch_labels(self.metadata['annotations'], self.num_labels)\n",
    "\n",
    "    # Create Image list\n",
    "    for x in self.metadata['images']:\n",
    "      self.images_[int(x['imageId'])] = '%s%s%d.jpg' % (root, os.sep, int(x['imageId']))\n",
    "        \n",
    "    # Remove corrupt image files\n",
    "    ids = self.images_.keys()\n",
    "    for i in tqdm(ids):\n",
    "        ## Correct but slow\n",
    "        try:\n",
    "            img = self.loader(self.images_[i])\n",
    "            img.close()\n",
    "        except:\n",
    "            self.corrupt += 1\n",
    "            self.corrupt_ids.add(i)\n",
    "        ## Optimistic \n",
    "#         if os.path.getsize(self.images_[i]) < min_img_bytes:\n",
    "#             self.corrupt += 1\n",
    "#             self.corrupt_ids.add(i)\n",
    "\n",
    "    for i in ids:\n",
    "        if i not in self.corrupt_ids:\n",
    "            self.images[i] = copy(self.images_[i])\n",
    "            if not self.test:\n",
    "                self.labels[i] = copy(self.labels_[i])\n",
    "    self.image_ids = list(self.images.keys())\n",
    "    \n",
    "    if not self.test:\n",
    "        self.labelinfo = get_labelinfo(self.metadata['annotations'])\n",
    "    \n",
    "  def __getitem__(self, index):\n",
    "        \"\"\"\n",
    "        Args:\n",
    "            index (int): Index\n",
    "        Returns:\n",
    "            tuple: (sample, target) where target is class_index of the target class.\n",
    "        \"\"\"\n",
    "        if not self.test:\n",
    "            path, target = self.images[self.image_ids[index]], self.labels[self.image_ids[index]]\n",
    "        else:\n",
    "            path = self.images[self.image_ids[index]]\n",
    "        sample = self.loader(path)\n",
    "        if self.transform is not None:\n",
    "            sample = self.transform(sample)\n",
    "        if not self.test:\n",
    "            if self.target_transform is not None:\n",
    "                target = self.target_transform(target)\n",
    "        \n",
    "        if self.test:\n",
    "            return sample\n",
    "        else:\n",
    "            return sample, target\n",
    "\n",
    "  def __len__(self):\n",
    "    return len(self.images)\n",
    "  \n",
    "  def __repr__(self):\n",
    "    fmt_str = 'Dataset ' + self.__class__.__name__ + '\\n'\n",
    "    fmt_str += '    Number of datapoints: {}\\n'.format(self.__len__())\n",
    "    fmt_str += '    Number of corrupt datapoints discarded: {}\\n'.format(self.corrupt)\n",
    "    if not self.test:\n",
    "        fmt_str += '    Number of labels: {}\\n'.format(self.labelinfo.count)\n",
    "    fmt_str += '    Root Location: {}\\n'.format(self.root)\n",
    "    fmt_str += '    Metadata file: {}\\n'.format(self.metadata_file)\n",
    "    tmp = '    Transforms (if any): '\n",
    "    fmt_str += '{0}{1}\\n'.format(tmp, self.transform.__repr__().replace('\\n', '\\n' + ' ' * len(tmp)))\n",
    "    if not self.test:\n",
    "        tmp = '    Target Transforms (if any): '\n",
    "        fmt_str += '{0}{1}'.format(tmp, self.target_transform.__repr__().replace('\\n', '\\n' + ' ' * len(tmp)))\n",
    "    tmp = '    Loader: '\n",
    "    fmt_str += '\\n{0}{1}'.format(tmp, self.loader.__name__)\n",
    "    return fmt_str\n",
    "\n",
    "  "
   ]
  },
  {
   "cell_type": "code",
   "execution_count": 25,
   "metadata": {
    "colab": {
     "autoexec": {
      "startup": false,
      "wait_interval": 0
     }
    },
    "colab_type": "code",
    "id": "BuB8IhRXrZzK"
   },
   "outputs": [],
   "source": [
    "import torchvision.transforms as transforms\n",
    "\n",
    "def create_transforms(args):\n",
    "    if args.test_overfit:\n",
    "        train_tform = transforms.Compose([transforms.Resize(args.image_min_size),\n",
    "                                          transforms.CenterCrop(args.nw_input_size),\n",
    "                                          transforms.ToTensor(),\n",
    "                                          transforms.Normalize(mean=args.pretrain_dset_mean,\n",
    "                                                                std=args.pretrain_dset_std)\n",
    "                                         ])\n",
    "    else:\n",
    "        train_tform = transforms.Compose([transforms.RandomResizedCrop(args.nw_input_size),\n",
    "                                          transforms.RandomHorizontalFlip(),\n",
    "                                          transforms.ToTensor(),\n",
    "                                          transforms.Normalize(mean=args.pretrain_dset_mean,\n",
    "                                                                std=args.pretrain_dset_std)\n",
    "                                         ])\n",
    "\n",
    "    val_tform = transforms.Compose([transforms.Resize(args.image_min_size),\n",
    "                                    transforms.CenterCrop(args.nw_input_size),\n",
    "                                    transforms.ToTensor(),\n",
    "                                    transforms.Normalize(mean=args.pretrain_dset_mean,\n",
    "                                                         std=args.pretrain_dset_std)\n",
    "                                   ])\n",
    "    return (train_tform, val_tform)"
   ]
  },
  {
   "cell_type": "code",
   "execution_count": 26,
   "metadata": {},
   "outputs": [],
   "source": [
    "train_tform, val_tform = create_transforms(args)"
   ]
  },
  {
   "cell_type": "code",
   "execution_count": 27,
   "metadata": {
    "colab": {
     "autoexec": {
      "startup": false,
      "wait_interval": 0
     },
     "base_uri": "https://localhost:8080/",
     "height": 459
    },
    "colab_type": "code",
    "executionInfo": {
     "elapsed": 981,
     "status": "ok",
     "timestamp": 1527001551536,
     "user": {
      "displayName": "Sourabh Daptardar",
      "photoUrl": "//lh4.googleusercontent.com/-onn5Q0_MiKQ/AAAAAAAAAAI/AAAAAAAACDI/iOxkSEz16nA/s50-c-k-no/photo.jpg",
      "userId": "115812262388010820083"
     },
     "user_tz": -330
    },
    "id": "b7JjnbO4a1bU",
    "outputId": "d20390c8-2b46-4399-bd70-7486521b4976",
    "scrolled": true
   },
   "outputs": [
    {
     "name": "stderr",
     "output_type": "stream",
     "text": [
      "100%|██████████| 128/128 [00:00<00:00, 282.61it/s]\n",
      "100%|██████████| 9897/9897 [02:57<00:00, 55.82it/s]\n",
      "100%|██████████| 39706/39706 [03:24<00:00, 193.79it/s]"
     ]
    },
    {
     "name": "stdout",
     "output_type": "stream",
     "text": [
      "Dataset FashionDataset\n",
      "    Number of datapoints: 49\n",
      "    Number of corrupt datapoints discarded: 79\n",
      "    Number of labels: 122\n",
      "    Root Location: /data/datasets/kaggle_fashion/data/input/img_train\n",
      "    Metadata file: /data/datasets/kaggle_fashion/data/input/train_tiny.json\n",
      "    Transforms (if any): <torchvision.transforms.transforms.Compose object at 0x7f92eba1ee48>\n",
      "    Target Transforms (if any): None\n",
      "    Loader: default_loader\n",
      "Dataset FashionDataset\n",
      "    Number of datapoints: 9897\n",
      "    Number of corrupt datapoints discarded: 0\n",
      "    Number of labels: 225\n",
      "    Root Location: /data/datasets/kaggle_fashion/data/input/img_val\n",
      "    Metadata file: /data/datasets/kaggle_fashion/data/input/validation.json\n",
      "    Transforms (if any): <torchvision.transforms.transforms.Compose object at 0x7f92eba1e5c0>\n",
      "    Target Transforms (if any): None\n",
      "    Loader: default_loader\n",
      "Dataset FashionDataset\n",
      "    Number of datapoints: 37577\n",
      "    Number of corrupt datapoints discarded: 2129\n",
      "    Root Location: /data/datasets/kaggle_fashion/data/input/img_test\n",
      "    Metadata file: /data/datasets/kaggle_fashion/data/input/test.json\n",
      "    Transforms (if any): <torchvision.transforms.transforms.Compose object at 0x7f92eba1e5c0>\n",
      "\n",
      "    Loader: default_loader\n"
     ]
    },
    {
     "name": "stderr",
     "output_type": "stream",
     "text": [
      "\n"
     ]
    }
   ],
   "source": [
    "train_dset = FashionDataset(args.train_dir, args.train_labels_json, args.num_labels, transform=train_tform, min_img_bytes=args.min_img_bytes)\n",
    "val_dset = FashionDataset(args.val_dir, args.val_labels_json, args.num_labels, transform=val_tform, min_img_bytes=args.min_img_bytes)\n",
    "test_dset = FashionDataset(args.test_dir, args.test_labels_json, args.num_labels, transform=val_tform, test=True, min_img_bytes=args.min_img_bytes) # same transform as validation\n",
    "\n",
    "\n",
    "print(train_dset)\n",
    "print(val_dset)\n",
    "print(test_dset)"
   ]
  },
  {
   "cell_type": "code",
   "execution_count": 28,
   "metadata": {
    "colab": {
     "autoexec": {
      "startup": false,
      "wait_interval": 0
     }
    },
    "colab_type": "code",
    "id": "-EoLW0no-em7"
   },
   "outputs": [],
   "source": [
    "def tensor_to_numpy(t, avg, std):\n",
    "  return (255.0 * (np.transpose(np.asarray(t), (1, 2, 0)) * std + avg)).astype(np.uint8)\n",
    "  "
   ]
  },
  {
   "cell_type": "code",
   "execution_count": 29,
   "metadata": {
    "colab": {
     "autoexec": {
      "startup": false,
      "wait_interval": 0
     },
     "base_uri": "https://localhost:8080/",
     "height": 439
    },
    "colab_type": "code",
    "executionInfo": {
     "elapsed": 1703,
     "status": "ok",
     "timestamp": 1527001554370,
     "user": {
      "displayName": "Sourabh Daptardar",
      "photoUrl": "//lh4.googleusercontent.com/-onn5Q0_MiKQ/AAAAAAAAAAI/AAAAAAAACDI/iOxkSEz16nA/s50-c-k-no/photo.jpg",
      "userId": "115812262388010820083"
     },
     "user_tz": -330
    },
    "id": "L8qbOaD8HvYi",
    "outputId": "4e64893b-2094-4f5f-c9cd-6469eb2eaa8e"
   },
   "outputs": [
    {
     "name": "stdout",
     "output_type": "stream",
     "text": [
      "[0. 0. 0. 0. 0. 0. 0. 0. 0. 0. 0. 0. 0. 0. 0. 0. 0. 0. 0. 0. 0. 0. 0. 0.\n",
      " 0. 0. 0. 0. 0. 0. 0. 0. 0. 0. 0. 0. 0. 0. 0. 0. 0. 0. 0. 0. 0. 0. 0. 0.\n",
      " 0. 0. 0. 0. 0. 0. 0. 0. 0. 0. 0. 0. 0. 0. 0. 0. 0. 1. 0. 0. 0. 0. 0. 0.\n",
      " 0. 0. 0. 0. 0. 0. 0. 0. 0. 0. 0. 0. 0. 0. 0. 0. 0. 0. 0. 0. 0. 0. 0. 0.\n",
      " 0. 0. 1. 1. 0. 0. 0. 0. 0. 0. 0. 0. 0. 0. 0. 0. 0. 0. 0. 0. 0. 0. 0. 0.\n",
      " 0. 0. 0. 0. 0. 0. 0. 0. 0. 0. 0. 0. 0. 0. 0. 0. 0. 1. 0. 0. 0. 0. 0. 0.\n",
      " 0. 0. 0. 0. 0. 0. 0. 0. 0. 0. 0. 0. 0. 0. 0. 0. 0. 0. 0. 0. 0. 0. 0. 0.\n",
      " 0. 0. 0. 0. 0. 0. 0. 1. 0. 0. 0. 0. 0. 0. 0. 0. 0. 0. 0. 0. 0. 0. 0. 0.\n",
      " 0. 0. 0. 0. 0. 0. 0. 0. 0. 0. 0. 0. 0. 0. 0. 0. 0. 0. 0. 0. 0. 0. 0. 0.\n",
      " 0. 0. 0. 0. 0. 0. 0. 0. 0. 0. 0. 0.]\n"
     ]
    },
    {
     "data": {
      "image/png": "[encoded data removed]",
      "text/plain": [
       "<Figure size 432x288 with 1 Axes>"
      ]
     },
     "metadata": {},
     "output_type": "display_data"
    }
   ],
   "source": [
    "rnd1 = np.random.randint(len(train_dset))\n",
    "im1, lbl1 = train_dset[rnd1]\n",
    "imshow(tensor_to_numpy(im1, args.pretrain_dset_mean, args.pretrain_dset_std))\n",
    "print(lbl1)"
   ]
  },
  {
   "cell_type": "code",
   "execution_count": 30,
   "metadata": {
    "colab": {
     "autoexec": {
      "startup": false,
      "wait_interval": 0
     },
     "base_uri": "https://localhost:8080/",
     "height": 439
    },
    "colab_type": "code",
    "executionInfo": {
     "elapsed": 1502,
     "status": "ok",
     "timestamp": 1527001555965,
     "user": {
      "displayName": "Sourabh Daptardar",
      "photoUrl": "//lh4.googleusercontent.com/-onn5Q0_MiKQ/AAAAAAAAAAI/AAAAAAAACDI/iOxkSEz16nA/s50-c-k-no/photo.jpg",
      "userId": "115812262388010820083"
     },
     "user_tz": -330
    },
    "id": "3h5_M6G0QBYZ",
    "outputId": "01e18eb7-caf7-4bcb-82b1-b296b9784185"
   },
   "outputs": [
    {
     "name": "stdout",
     "output_type": "stream",
     "text": [
      "[0. 1. 0. 0. 0. 0. 0. 0. 0. 0. 0. 0. 0. 0. 0. 0. 1. 0. 0. 0. 0. 0. 0. 0.\n",
      " 0. 0. 0. 0. 0. 0. 0. 0. 0. 0. 0. 0. 0. 0. 0. 0. 0. 0. 0. 0. 0. 0. 0. 0.\n",
      " 0. 0. 0. 0. 0. 0. 0. 0. 0. 0. 0. 0. 0. 0. 0. 0. 0. 1. 0. 0. 0. 0. 0. 0.\n",
      " 0. 0. 0. 0. 0. 0. 0. 0. 0. 0. 0. 0. 0. 0. 0. 0. 0. 0. 0. 0. 0. 0. 0. 0.\n",
      " 1. 0. 0. 0. 0. 0. 0. 0. 1. 0. 0. 0. 0. 0. 0. 0. 0. 0. 0. 0. 0. 0. 0. 0.\n",
      " 0. 0. 0. 0. 0. 0. 0. 0. 0. 0. 1. 0. 0. 0. 0. 0. 0. 0. 0. 0. 1. 0. 0. 0.\n",
      " 0. 0. 0. 0. 0. 0. 0. 0. 0. 0. 0. 0. 0. 0. 0. 0. 0. 0. 0. 0. 0. 1. 0. 0.\n",
      " 0. 0. 0. 0. 0. 0. 0. 0. 0. 0. 0. 0. 0. 0. 0. 0. 0. 0. 0. 0. 0. 0. 0. 0.\n",
      " 0. 0. 0. 0. 0. 0. 0. 0. 0. 0. 0. 0. 0. 0. 0. 0. 0. 0. 0. 0. 0. 0. 0. 0.\n",
      " 0. 0. 0. 0. 0. 1. 0. 0. 0. 0. 0. 0.]\n"
     ]
    },
    {
     "data": {
      "image/png": "[encoded data removed]",
      "text/plain": [
       "<Figure size 432x288 with 1 Axes>"
      ]
     },
     "metadata": {},
     "output_type": "display_data"
    }
   ],
   "source": [
    "rnd2 = np.random.randint(len(val_dset))\n",
    "im2, lbl2 = val_dset[rnd2]\n",
    "imshow(tensor_to_numpy(im2, args.pretrain_dset_mean, args.pretrain_dset_std))\n",
    "print(lbl2)"
   ]
  },
  {
   "cell_type": "code",
   "execution_count": 31,
   "metadata": {},
   "outputs": [
    {
     "data": {
      "text/plain": [
       "<matplotlib.image.AxesImage at 0x7f92e0143d68>"
      ]
     },
     "execution_count": 31,
     "metadata": {},
     "output_type": "execute_result"
    },
    {
     "data": {
      "image/png": "[encoded data removed]",
      "text/plain": [
       "<Figure size 432x288 with 1 Axes>"
      ]
     },
     "metadata": {},
     "output_type": "display_data"
    }
   ],
   "source": [
    "rnd3 = np.random.randint(len(test_dset))\n",
    "im3 = test_dset[rnd3]\n",
    "imshow(tensor_to_numpy(im3, args.pretrain_dset_mean, args.pretrain_dset_std))\n"
   ]
  },
  {
   "cell_type": "markdown",
   "metadata": {
    "colab_type": "text",
    "id": "iU_VDQm2Rtro"
   },
   "source": [
    "# DataLoader"
   ]
  },
  {
   "cell_type": "code",
   "execution_count": 32,
   "metadata": {
    "colab": {
     "autoexec": {
      "startup": false,
      "wait_interval": 0
     }
    },
    "colab_type": "code",
    "id": "4KcwWuuHoxoo"
   },
   "outputs": [],
   "source": [
    "if args.distributed:\n",
    "    dist.init_process_group(backend=args.dist_backend,\n",
    "                            init_method=args.dist_url,\n",
    "                            world_size=args.world_size)\n"
   ]
  },
  {
   "cell_type": "code",
   "execution_count": 33,
   "metadata": {
    "colab": {
     "autoexec": {
      "startup": false,
      "wait_interval": 0
     }
    },
    "colab_type": "code",
    "id": "EjMlN6vqHtsE"
   },
   "outputs": [],
   "source": [
    "from torch.utils.data.distributed import DistributedSampler \n",
    "\n",
    "\n",
    "if args.distributed:\n",
    "  train_sampler = DistributedSampler(train_dset)\n",
    "else:\n",
    "  train_sampler = None\n",
    "\n",
    "train_loader = torch.utils.data.DataLoader(train_dset,\n",
    "                                           batch_size=args.batch_size,\n",
    "                                           shuffle=(train_sampler is None),\n",
    "                                           num_workers=args.num_workers,\n",
    "                                           pin_memory=True,\n",
    "                                           sampler=train_sampler\n",
    "                                          )\n",
    "\n",
    "val_loader = torch.utils.data.DataLoader(val_dset,\n",
    "                                         batch_size=args.batch_size,\n",
    "                                         shuffle=False,\n",
    "                                         num_workers=args.num_workers,\n",
    "                                         pin_memory=True\n",
    "                                        )\n",
    "\n",
    "test_loader = torch.utils.data.DataLoader(test_dset,\n",
    "                                         batch_size=args.batch_size,\n",
    "                                         shuffle=False,\n",
    "                                         num_workers=args.num_workers,\n",
    "                                         pin_memory=True\n",
    "                                        )\n",
    "\n"
   ]
  },
  {
   "cell_type": "code",
   "execution_count": 34,
   "metadata": {
    "colab": {
     "autoexec": {
      "startup": false,
      "wait_interval": 0
     }
    },
    "colab_type": "code",
    "id": "uzNG4-7x6Ovt"
   },
   "outputs": [],
   "source": [
    "# train_images, train_labels = next(iter(train_loader))"
   ]
  },
  {
   "cell_type": "code",
   "execution_count": 35,
   "metadata": {
    "colab": {
     "autoexec": {
      "startup": false,
      "wait_interval": 0
     },
     "base_uri": "https://localhost:8080/",
     "height": 731
    },
    "colab_type": "code",
    "executionInfo": {
     "elapsed": 1409,
     "status": "ok",
     "timestamp": 1527001561251,
     "user": {
      "displayName": "Sourabh Daptardar",
      "photoUrl": "//lh4.googleusercontent.com/-onn5Q0_MiKQ/AAAAAAAAAAI/AAAAAAAACDI/iOxkSEz16nA/s50-c-k-no/photo.jpg",
      "userId": "115812262388010820083"
     },
     "user_tz": -330
    },
    "id": "CDOOVYOHbcbl",
    "outputId": "46f258e9-ee85-4435-8df8-57b8912d5ced"
   },
   "outputs": [],
   "source": [
    "# rnd11 = np.random.randint(args.batch_size)\n",
    "# print(train_images[rnd11,:,:,:])\n",
    "# print(train_labels[rnd11, :])"
   ]
  },
  {
   "cell_type": "code",
   "execution_count": 36,
   "metadata": {
    "colab": {
     "autoexec": {
      "startup": false,
      "wait_interval": 0
     }
    },
    "colab_type": "code",
    "id": "IZ7R4Mgb7F3b"
   },
   "outputs": [],
   "source": [
    "# val_images, val_labels = next(iter(val_loader))"
   ]
  },
  {
   "cell_type": "code",
   "execution_count": 37,
   "metadata": {
    "colab": {
     "autoexec": {
      "startup": false,
      "wait_interval": 0
     },
     "base_uri": "https://localhost:8080/",
     "height": 731
    },
    "colab_type": "code",
    "executionInfo": {
     "elapsed": 918,
     "status": "ok",
     "timestamp": 1527001564208,
     "user": {
      "displayName": "Sourabh Daptardar",
      "photoUrl": "//lh4.googleusercontent.com/-onn5Q0_MiKQ/AAAAAAAAAAI/AAAAAAAACDI/iOxkSEz16nA/s50-c-k-no/photo.jpg",
      "userId": "115812262388010820083"
     },
     "user_tz": -330
    },
    "id": "CIOHOwAqaRkX",
    "outputId": "7b674419-1de5-4765-c7e4-c2db097f3170"
   },
   "outputs": [],
   "source": [
    "# rnd21 = np.random.randint(args.batch_size)\n",
    "# print(val_images[rnd21,:,:,:])\n",
    "# print(val_labels[rnd21, :])"
   ]
  },
  {
   "cell_type": "markdown",
   "metadata": {
    "colab_type": "text",
    "id": "cQAQrfMJRtv3"
   },
   "source": [
    "\n",
    "# Model"
   ]
  },
  {
   "cell_type": "code",
   "execution_count": 38,
   "metadata": {
    "colab": {
     "autoexec": {
      "startup": false,
      "wait_interval": 0
     }
    },
    "colab_type": "code",
    "id": "jNxCNVyu98GF"
   },
   "outputs": [],
   "source": [
    "import torch.nn.init as weight_init\n",
    "\n",
    "\n",
    "class FCWithLogSigmoid(nn.Module):\n",
    "  \n",
    "  def __init__(self, num_inputs, num_outputs):\n",
    "    super(FCWithLogSigmoid, self).__init__()\n",
    "    self.linear = nn.Linear(num_inputs, num_outputs)\n",
    "    self.logsigmoid = nn.LogSigmoid()\n",
    "    \n",
    "  def forward(self, x):\n",
    "    return self.logsigmoid(self.linear(x))\n",
    "\n",
    "\n",
    "def create_model(arch, num_labels=228, fv_size=2048, pretrained=True, resume=False, distributed=False):\n",
    "  if pretrained:\n",
    "      print(\"=> using pre-trained model '{}'\".format(arch))\n",
    "      model = models.__dict__[arch](pretrained=True)\n",
    "  else:\n",
    "      print(\"=> creating model '{}'\".format(arch))\n",
    "      model = models.__dict__[arch]()\n",
    "  model.fc = FCWithLogSigmoid(fv_size, num_labels)\n",
    "  if not distributed:\n",
    "      if arch.startswith('alexnet') or arch.startswith('vgg'):\n",
    "          model.features = torch.nn.DataParallel(model.features)\n",
    "          model.cuda()\n",
    "      else:\n",
    "          model = torch.nn.DataParallel(model).cuda()\n",
    "  else:\n",
    "      model.cuda()\n",
    "      model = torch.nn.parallel.DistributedDataParallel(model)\n",
    "  return model\n"
   ]
  },
  {
   "cell_type": "code",
   "execution_count": 39,
   "metadata": {
    "colab": {
     "autoexec": {
      "startup": false,
      "wait_interval": 0
     }
    },
    "colab_type": "code",
    "id": "9eMpjddlO6BC"
   },
   "outputs": [],
   "source": [
    "def count_parameters(model):\n",
    "  \"\"\"source: https://discuss.pytorch.org/t/how-do-i-check-the-number-of-parameters-of-a-model/4325/9\"\"\"\n",
    "  return sum(p.numel() for p in model.parameters() if p.requires_grad)"
   ]
  },
  {
   "cell_type": "code",
   "execution_count": 40,
   "metadata": {
    "colab": {
     "autoexec": {
      "startup": false,
      "wait_interval": 0
     },
     "base_uri": "https://localhost:8080/",
     "height": 34
    },
    "colab_type": "code",
    "executionInfo": {
     "elapsed": 1945,
     "status": "ok",
     "timestamp": 1527001568263,
     "user": {
      "displayName": "Sourabh Daptardar",
      "photoUrl": "//lh4.googleusercontent.com/-onn5Q0_MiKQ/AAAAAAAAAAI/AAAAAAAACDI/iOxkSEz16nA/s50-c-k-no/photo.jpg",
      "userId": "115812262388010820083"
     },
     "user_tz": -330
    },
    "id": "CDhvVsKk_cNI",
    "outputId": "e3b9d484-4d9e-4fbd-c7d2-799d0d838ab9"
   },
   "outputs": [
    {
     "name": "stdout",
     "output_type": "stream",
     "text": [
      "=> using pre-trained model 'resnet101'\n"
     ]
    }
   ],
   "source": [
    "model = create_model(args.arch,\n",
    "                     num_labels=args.num_labels,\n",
    "                     fv_size=args.fv_size,\n",
    "                     pretrained=args.pretrained,\n",
    "                     resume=args.resume,\n",
    "                     distributed=args.distributed)"
   ]
  },
  {
   "cell_type": "code",
   "execution_count": 41,
   "metadata": {
    "colab": {
     "autoexec": {
      "startup": false,
      "wait_interval": 0
     },
     "base_uri": "https://localhost:8080/",
     "height": 34
    },
    "colab_type": "code",
    "executionInfo": {
     "elapsed": 990,
     "status": "ok",
     "timestamp": 1527001569282,
     "user": {
      "displayName": "Sourabh Daptardar",
      "photoUrl": "//lh4.googleusercontent.com/-onn5Q0_MiKQ/AAAAAAAAAAI/AAAAAAAACDI/iOxkSEz16nA/s50-c-k-no/photo.jpg",
      "userId": "115812262388010820083"
     },
     "user_tz": -330
    },
    "id": "yG1C75oXPLx8",
    "outputId": "c1d7369f-4563-4fbf-d155-62227edccd93"
   },
   "outputs": [
    {
     "name": "stdout",
     "output_type": "stream",
     "text": [
      "Neural Network has  42967332  trainable parameters\n"
     ]
    }
   ],
   "source": [
    "print(\"Neural Network has \", count_parameters(model), \" trainable parameters\")"
   ]
  },
  {
   "cell_type": "code",
   "execution_count": 42,
   "metadata": {},
   "outputs": [],
   "source": [
    "class WeightUpdateTracker:\n",
    "    \n",
    "    def __init__(self, model):\n",
    "        with torch.no_grad():\n",
    "            self.num_param_tensors = len(list(model.parameters()))\n",
    "            self.prev_pnorms = torch.zeros(self.num_param_tensors) \n",
    "            self.curr_pnorms = self.parameter_norms(model) \n",
    "\n",
    "    def parameter_norms(self, model):\n",
    "        with torch.no_grad():\n",
    "            pnorms = torch.zeros(self.num_param_tensors)\n",
    "            for i, x in enumerate(list(model.parameters())):\n",
    "                pnorms[i] = x.norm().item()\n",
    "            return pnorms\n",
    "        \n",
    "    def track(self, model):\n",
    "        with torch.no_grad():\n",
    "            self.prev_pnorms = self.curr_pnorms.clone()\n",
    "            self.curr_pnorms = self.parameter_norms(model)\n",
    "            self.delta = (self.curr_pnorms - self.prev_pnorms) / self.prev_pnorms\n",
    "\n",
    "            \n",
    "    def __repr__(self):\n",
    "        with torch.no_grad():\n",
    "            return self.delta.__repr__()\n",
    "        "
   ]
  },
  {
   "cell_type": "markdown",
   "metadata": {
    "colab_type": "text",
    "id": "VIILcEp9Rtz-"
   },
   "source": [
    "# Loss Function\n"
   ]
  },
  {
   "cell_type": "code",
   "execution_count": 43,
   "metadata": {
    "colab": {
     "autoexec": {
      "startup": false,
      "wait_interval": 0
     }
    },
    "colab_type": "code",
    "id": "4RGOgfHjGnJz"
   },
   "outputs": [],
   "source": [
    "criterion = torch.nn.BCEWithLogitsLoss().cuda()"
   ]
  },
  {
   "cell_type": "markdown",
   "metadata": {
    "colab_type": "text",
    "id": "PICCxotzRt4z"
   },
   "source": [
    "# Update Rule"
   ]
  },
  {
   "cell_type": "code",
   "execution_count": 44,
   "metadata": {
    "colab": {
     "autoexec": {
      "startup": false,
      "wait_interval": 0
     }
    },
    "colab_type": "code",
    "id": "zaX2mCHTDgSi"
   },
   "outputs": [],
   "source": [
    "optimizer = optim.Adam(model.parameters(),\n",
    "                       amsgrad=True,\n",
    "                       lr=args.optimizer_learning_rate,\n",
    "                       betas=(0.9, 0.999),\n",
    "                       eps=1e-8,\n",
    "                       weight_decay=0.0\n",
    "                      )\n",
    "scheduler = lr_scheduler.ReduceLROnPlateau(optimizer,\n",
    "                                           mode='max',   # F1 measure\n",
    "                                           patience=args.scheduler_patience,\n",
    "                                           threshold=args.scheduler_threshold,\n",
    "                                           factor=args.scheduler_factor,\n",
    "                                           verbose=1\n",
    "                                          )\n"
   ]
  },
  {
   "cell_type": "markdown",
   "metadata": {
    "colab_type": "text",
    "id": "tCm_msJ0RuIu"
   },
   "source": [
    "# Training Loop\n"
   ]
  },
  {
   "cell_type": "code",
   "execution_count": 45,
   "metadata": {},
   "outputs": [],
   "source": [
    "def load_checkpoint(model, optimizer, scheduler, args, resume=True, ckpt=None):\n",
    "    \"\"\"optionally resume from a checkpoint.\"\"\"\n",
    "    best_f1 = 0\n",
    "    if args.resume:\n",
    "        if os.path.isfile(ckpt):\n",
    "            print(\"=> loading checkpoint '{}'\".format(ckpt))\n",
    "            checkpoint = torch.load(ckpt)\n",
    "            args.start_epoch = checkpoint['epoch']\n",
    "            best_f1 = checkpoint['best_f1']\n",
    "            model.load_state_dict(checkpoint['state_dict'])\n",
    "            optimizer.load_state_dict(checkpoint['optimizer'])\n",
    "          #  scheduler.load_state_dict(checkpoint['scheduler'])\n",
    "            print(\"=> loaded checkpoint '{}' (epoch {})\"\n",
    "                  .format(args.resume, checkpoint['epoch']))\n",
    "        else:\n",
    "            print(\"=> no checkpoint found at '{}'\".format(ckpt))\n",
    "            best_f1 = 0\n",
    "    return (model, optimizer, scheduler, args, best_f1)"
   ]
  },
  {
   "cell_type": "code",
   "execution_count": 46,
   "metadata": {},
   "outputs": [],
   "source": [
    "def save_checkpoint(state, is_best, filename='checkpoint.pth.tar', best_model_filename='model_best.pth.tar'):\n",
    "    torch.save(state, filename)\n",
    "    if is_best:\n",
    "        shutil.copyfile(filename, best_model_filename)"
   ]
  },
  {
   "cell_type": "code",
   "execution_count": 47,
   "metadata": {},
   "outputs": [],
   "source": [
    "class F1MicroAverageMeter(object):\n",
    "    \"\"\"Computes and stores F1 store\"\"\"\n",
    "    def __init__(self, threshold=0.5, small=1e-12):\n",
    "        self.threshold = threshold\n",
    "        self.small = small\n",
    "        self.reset()\n",
    "\n",
    "    def reset(self):\n",
    "        self.TP = 0.0\n",
    "        self.FP = 0.0\n",
    "        self.FN = 0.0\n",
    "        self.TN = 0.0\n",
    "        self.precision = 0.0\n",
    "        self.recall = 0.0\n",
    "        self.f1 = 0.0\n",
    "\n",
    "    def update(self, labels, pred):\n",
    "        tp, fp, fn, tn = self.confusion_matrix_(labels, pred)\n",
    "        self.TP += tp\n",
    "        self.FP += fp\n",
    "        self.FN += fn\n",
    "        self.TN += tn\n",
    "        self.precision = self.TP / (self.small + self.TP + self.FP)\n",
    "        self.recall = self.TP / (self.small + self.TP + self.FN)\n",
    "        self.f1 = (2.0 * self.precision * self.recall) / (self.small + self.precision + self.recall)\n",
    "        \n",
    "    def confusion_matrix_(self, labels, pred):\n",
    "        with torch.no_grad():\n",
    "            real = labels\n",
    "            fake = 1.0 - real\n",
    "            pos = pred.ge(self.threshold).float()\n",
    "            neg = 1.0 - pos\n",
    "            tp = torch.sum(real * pos).item()\n",
    "            fp = torch.sum(fake * pos).item()\n",
    "            fn = torch.sum(real * neg).item()\n",
    "            tn = torch.sum(fake * neg).item()\n",
    "            return (tp, fp, fn, tn)\n",
    "              "
   ]
  },
  {
   "cell_type": "code",
   "execution_count": 48,
   "metadata": {},
   "outputs": [],
   "source": [
    "class AverageMeter(object):\n",
    "    \"\"\"Computes and stores the average and current value\"\"\"\n",
    "    def __init__(self):\n",
    "        self.reset()\n",
    "\n",
    "    def reset(self):\n",
    "        self.val = 0\n",
    "        self.avg = 0\n",
    "        self.sum = 0\n",
    "        self.count = 0\n",
    "\n",
    "    def update(self, val, n=1):\n",
    "        self.val = val\n",
    "        self.sum += val * n\n",
    "        self.count += n\n",
    "        self.avg = self.sum / self.count"
   ]
  },
  {
   "cell_type": "code",
   "execution_count": 49,
   "metadata": {},
   "outputs": [],
   "source": [
    "def adjust_learning_rate(optimizer, scheduler, epoch, measure, args):\n",
    "    if not args.test_overfit:\n",
    "        scheduler.step(measure)\n"
   ]
  },
  {
   "cell_type": "code",
   "execution_count": 50,
   "metadata": {},
   "outputs": [],
   "source": [
    "def train(train_loader, model, criterion, optimizer, epoch):\n",
    "    batch_time = AverageMeter()\n",
    "    data_time = AverageMeter()\n",
    "    losses = AverageMeter()\n",
    "    cmpoint5 = F1MicroAverageMeter(threshold=0.5)\n",
    "\n",
    "    # switch to train mode\n",
    "    model.train()\n",
    "\n",
    "    end = time.time()\n",
    "    for i, (input, target) in enumerate(train_loader):\n",
    "        # measure data loading time\n",
    "        data_time.update(time.time() - end)\n",
    "\n",
    "        target = target.cuda(non_blocking=True)\n",
    "\n",
    "        # compute output\n",
    "        output = model(input)\n",
    "        loss = criterion(output, target)\n",
    "\n",
    "        # measure F1 and record loss\n",
    "        losses.update(loss.item(), input.size(0))\n",
    "        cmpoint5.update(target, torch.exp(output))\n",
    "\n",
    "        # compute gradient and do SGD step\n",
    "        optimizer.zero_grad()\n",
    "        loss.backward()\n",
    "        optimizer.step()\n",
    "\n",
    "        # measure elapsed time\n",
    "        batch_time.update(time.time() - end)\n",
    "        end = time.time()\n",
    "        \n",
    "        \n",
    "\n",
    "        if i % args.print_freq == 0:\n",
    "            print('Epoch: [{0}][{1}/{2}]\\t'\n",
    "                  'Time {batch_time.val:.3f} ({batch_time.avg:.3f})\\t'\n",
    "                  'Data {data_time.val:.3f} ({data_time.avg:.3f})\\t'\n",
    "                  'Loss {loss.val:.4f} ({loss.avg:.4f})\\t'\n",
    "                  'Precision {cmpoint5.precision:.3f}\\t'\n",
    "                  'Recall {cmpoint5.recall:.3f}\\t'\n",
    "                  'F1 {cmpoint5.f1:.3f}'.format(\n",
    "                   epoch, i, len(train_loader), batch_time=batch_time,\n",
    "                   data_time=data_time, loss=losses, cmpoint5=cmpoint5))"
   ]
  },
  {
   "cell_type": "code",
   "execution_count": 51,
   "metadata": {},
   "outputs": [],
   "source": [
    "def validate(val_loader, model, criterion):\n",
    "    batch_time = AverageMeter()\n",
    "    losses = AverageMeter()\n",
    "    cmpoint5 = F1MicroAverageMeter(threshold=0.5)\n",
    "\n",
    "    # switch to evaluate mode\n",
    "    model.eval()\n",
    "\n",
    "    with torch.no_grad():\n",
    "        end = time.time()\n",
    "        for i, (input, target) in enumerate(val_loader):\n",
    "            target = target.cuda(non_blocking=True)\n",
    "\n",
    "            # compute output\n",
    "            output = model(input)\n",
    "            loss = criterion(output, target)\n",
    "\n",
    "            # measure F1 and record loss\n",
    "            losses.update(loss.item(), input.size(0))\n",
    "            cmpoint5.update(target, torch.exp(output))\n",
    "            \n",
    "            # measure elapsed time\n",
    "            batch_time.update(time.time() - end)\n",
    "            end = time.time()\n",
    "\n",
    "            if i % args.print_freq == 0:\n",
    "                 print('Test: [{0}/{1}]\\t'\n",
    "                      'Time {batch_time.val:.3f} ({batch_time.avg:.3f})\\t'\n",
    "                      'Loss {loss.val:.4f} ({loss.avg:.4f})\\t'\n",
    "                      'Precision {cmpoint5.precision:.3f}\\t'\n",
    "                      'Recall {cmpoint5.recall:.3f}\\t'\n",
    "                      'F1 {cmpoint5.f1:.3f}'.format(\n",
    "                       i, len(val_loader), batch_time=batch_time, loss=losses,\n",
    "                       cmpoint5=cmpoint5))\n",
    "\n",
    "        print(' * Precision {cmpoint5.precision:.3f} Recall {cmpoint5.recall:.3f} F1 {cmpoint5.f1:.3f}'\n",
    "              .format(cmpoint5=cmpoint5))\n",
    "\n",
    "    return cmpoint5.f1"
   ]
  },
  {
   "cell_type": "code",
   "execution_count": 55,
   "metadata": {},
   "outputs": [],
   "source": [
    "def test(ofname, pfname, args, test_dset, test_loader, best_model_ckpt, model, threshold=0.5, epoch=0):\n",
    "    \n",
    "#     checkpoint = torch.load(best_model_ckpt)\n",
    "#     model.load_state_dict(checkpoint['state_dict'])\n",
    "    \n",
    "    batch_time = AverageMeter()\n",
    "    res = OrderedDict()\n",
    "\n",
    "    # switch to evaluate mode\n",
    "    model.eval()\n",
    "\n",
    "    with torch.no_grad():\n",
    "        end = time.time()\n",
    "        for i, input in enumerate(test_loader):\n",
    "            # compute output\n",
    "            output = model(input)\n",
    "            spout = coo_matrix(torch.exp(output).ge(threshold).int().cpu().numpy())\n",
    "            for p in zip(spout.row, spout.col):\n",
    "                imid = test_dset.image_ids[i* args.batch_size+p[0]]\n",
    "                if imid not in res.keys():\n",
    "                    res[imid] = [p[1]]\n",
    "                else:\n",
    "                    res[imid].append(p[1])\n",
    "            \n",
    "            # measure elapsed time\n",
    "            batch_time.update(time.time() - end)\n",
    "            end = time.time()\n",
    "\n",
    "            if i % args.print_freq == 0:\n",
    "                 print('Test: [{0}/{1}]\\t'\n",
    "                      'Time {batch_time.val:.3f} ({batch_time.avg:.3f})\\t'.format(\n",
    "                       i, len(test_loader), batch_time=batch_time))\n",
    "    \n",
    "    ofname_ = \"%s%s%03d_%s\" % (os.path.dirname(ofname), os.sep, epoch, os.path.basename(ofname))\n",
    "    with open(ofname_, \"w\") as ofd:\n",
    "        ofd.write(\"id,predicted\\n\")\n",
    "        for k, v in res.items():\n",
    "            ofd.write(\"%d,%s\\n\" % (k, \" \".join(map(str,v))))\n",
    "            \n",
    "    pfname_ = \"%s%s%03d_%s\" % (os.path.dirname(pfname), os.sep, epoch, os.path.basename(pfname))\n",
    "    with open(pfname_, \"w\") as pfd:\n",
    "        json.dump(vars(args), pfd, sort_keys=True, indent=4)\n",
    "            \n",
    "    print(\"Output written to %s\\n\" % ofname_)\n",
    "    print(\"Program parameters written to %s\\n\" % pfname_)\n",
    "    sys.stdout.flush()"
   ]
  },
  {
   "cell_type": "code",
   "execution_count": 56,
   "metadata": {},
   "outputs": [],
   "source": [
    "def train_loop(train_loader, val_loader, test_loader, test_dset, args, optimizer, scheduler, model, criterion, threshold=0.5):\n",
    "    if args.evaluate:\n",
    "        validate(val_loader, model, criterion)\n",
    "    else:\n",
    "        model, optimizer, scheduler, args, best_f1 = load_checkpoint(model, optimizer, scheduler, args, resume=args.resume, ckpt=args.ckpt)\n",
    "        wut = WeightUpdateTracker(model)\n",
    "        for epoch in range(args.start_epoch, args.epochs):\n",
    "            if args.distributed:\n",
    "                train_sampler.set_epoch(epoch)\n",
    "    #         adjust_learning_rate(optimizer, epoch)\n",
    "\n",
    "            # train for one epoch\n",
    "            train(train_loader, model, criterion, optimizer, epoch)\n",
    "\n",
    "            # debug: track weight updates\n",
    "            wut.track(model)\n",
    "            print(wut)\n",
    "\n",
    "            # evaluate on validation set\n",
    "            f1 = validate(val_loader, model, criterion)\n",
    "\n",
    "            # remember best f1 and save checkpoint\n",
    "            is_best = f1 > best_f1\n",
    "            best_f1 = max(f1, best_f1)\n",
    "            save_checkpoint({\n",
    "                'epoch': epoch + 1,\n",
    "                'arch': args.arch,\n",
    "                'state_dict': model.state_dict(),\n",
    "                'best_f1': best_f1,\n",
    "                'optimizer' : optimizer.state_dict(),\n",
    "               # 'scheduler' : scheduler.state_dict(),\n",
    "            }, is_best, filename=args.ckpt, best_model_filename=args.best)\n",
    "\n",
    "            if is_best:\n",
    "                print(\"BEST: \", epoch)\n",
    "                sys.stdout.flush()\n",
    "            adjust_learning_rate(optimizer, scheduler, epoch, f1, args)\n",
    "            test(args.output_file, args.params_file, args, test_dset, test_loader, args.best, model, threshold=args.threshold, epoch=epoch)            \n",
    "            \n"
   ]
  },
  {
   "cell_type": "code",
   "execution_count": null,
   "metadata": {},
   "outputs": [
    {
     "name": "stdout",
     "output_type": "stream",
     "text": [
      "Epoch: [0][0/4]\tTime 1.311 (1.311)\tData 0.644 (0.644)\tLoss 0.3542 (0.3542)\tPrecision 0.119\tRecall 0.594\tF1 0.198\n",
      "tensor(1.00000e-03 *\n",
      "       [ 0.0040, -0.0326,  0.0323, -0.0158, -0.1025,  0.2089,  0.0088,\n",
      "         0.0292,  0.0302,  0.0374, -0.0075,  0.2518, -0.0252, -0.0233,\n",
      "         0.2518,  0.0625, -0.0002, -0.0939,  0.0216,  0.0400,  0.0580,\n",
      "         0.0670, -0.0685, -0.1857, -0.0556, -0.1292,  0.2990,  0.0060,\n",
      "         0.0832, -0.3194,  0.0820,  0.0594, -0.2025,  0.0119,  0.0208,\n",
      "        -0.0201,  0.0687,  0.0021, -0.0272,  0.0236, -0.0180,  0.0661,\n",
      "         0.0675,  0.0760,  0.0661,  0.1550,  0.2254, -0.2111,  0.1316,\n",
      "         0.0395, -0.0694,  0.1285,  0.0321, -0.2119,  0.1039,  0.0596,\n",
      "        -0.2123,  0.0936, -0.0797,  0.2343,  0.0588,  0.0191, -0.2588,\n",
      "         0.0573, -0.0211,  0.1124,  0.0921, -0.0199,  0.0485,  0.0607,\n",
      "         0.0481, -0.0259,  0.0444, -0.0006, -0.0094,  0.1134,  0.0209,\n",
      "        -0.0690,  0.0732,  0.0329,  0.3436,  0.1209,  0.1695,  0.3436,\n",
      "         0.7447,  0.1292,  0.5671,  1.1087,  0.1083, -0.2989,  0.4793,\n",
      "         0.0435, -0.0365,  0.2897,  0.0251, -0.1771,  0.4078, -0.0389,\n",
      "        -0.0206,  0.2220, -0.0833, -0.1652,  0.4544, -0.0630,  0.1217,\n",
      "         0.6704,  0.0612, -0.0293,  0.3972,  0.0973, -0.2646,  0.3354,\n",
      "         0.0050, -0.1122,  0.5655,  0.0604, -0.0600,  0.2745,  0.0909,\n",
      "        -0.2416,  0.2335, -0.0156, -0.0206,  0.3525, -0.0438,  0.1531,\n",
      "         0.1875,  0.0152, -0.1111,  0.1782, -0.0648,  0.1524,  0.3700,\n",
      "         0.0480, -0.0382,  0.1956,  0.0127, -0.1640,  0.1764,  0.0381,\n",
      "        -0.0546,  0.2511,  0.0407, -0.0868,  0.1495,  0.0774, -0.1472,\n",
      "         0.2028,  0.0793, -0.1286,  0.2540,  0.0415,  0.0672,  0.1606,\n",
      "         0.0996, -0.1001,  0.2357, -0.0112,  0.0847,  0.2871,  0.0790,\n",
      "        -0.1287,  0.1646,  0.0746, -0.1141,  0.1647,  0.0025,  0.0206,\n",
      "         0.2176, -0.0137, -0.0160,  0.1324,  0.2623, -0.4344,  0.2139,\n",
      "        -0.0041,  0.0155,  0.2151,  0.0224, -0.0227,  0.1463,  0.0961,\n",
      "        -0.4329,  0.1573,  0.0117,  0.1229,  0.2319,  0.0212, -0.1472,\n",
      "         0.1528,  0.1355, -0.5738,  0.1539,  0.0247, -0.0661,  0.2545,\n",
      "        -0.0161, -0.0147,  0.1602, -0.0294, -0.3113,  0.1201,  0.0217,\n",
      "         0.0158,  0.2462, -0.0046,  0.0777,  0.1516, -0.0586, -0.3516,\n",
      "         0.1696, -0.0247,  0.0626,  0.2663,  0.0143,  0.0138,  0.2016,\n",
      "         0.1103, -0.3137,  0.1513, -0.1120,  0.3131,  0.2662, -0.0121,\n",
      "         0.0446,  0.2080, -0.1033, -0.2467,  0.1347, -0.0399,  0.0874,\n",
      "         0.2502,  0.0478, -0.1417,  0.2016,  0.0703, -0.2384,  0.1120,\n",
      "         0.0379, -0.0920,  0.2432,  0.0280, -0.0509,  0.1679, -0.0397,\n",
      "        -0.1316,  0.0901, -0.0255,  0.0144,  0.2180, -0.0913,  0.0808,\n",
      "         0.1508,  0.0394, -0.1468,  0.0708,  0.0091, -0.0260,  0.2166,\n",
      "         0.0802, -0.1164,  0.1749,  0.0573, -0.1910,  0.0460,  0.0695,\n",
      "        -0.0890,  0.1783,  0.0817, -0.1705,  0.1753,  0.0105, -0.2839,\n",
      "         0.0107,  0.0248, -0.0253,  0.1699, -0.0127,  0.1652,  0.1529,\n",
      "         0.0648, -0.3991,  0.0929,  0.1485, -0.2702,  0.3119,  0.2096,\n",
      "        -0.8970,  0.1863,  0.2788, -1.8258,  0.3061,  0.2865, -1.8258,\n",
      "         0.1848,  0.1032, -0.2886,  0.2564,  0.1581, -0.5505,  0.1922,\n",
      "         0.2777, -2.4227,  0.1296,  0.3651, -0.6796,  0.5707,  0.2671,\n",
      "        -1.4516,  0.2504,  0.1876,  0.1603,  1.4171,  0.0798])\n",
      "Test: [0/619]\tTime 1.405 (1.405)\tLoss 0.3206 (0.3206)\tPrecision 0.277\tRecall 0.211\tF1 0.239\n",
      "Test: [16/619]\tTime 0.802 (0.279)\tLoss 0.3228 (0.3160)\tPrecision 0.257\tRecall 0.209\tF1 0.231\n",
      "Test: [32/619]\tTime 0.362 (0.224)\tLoss 0.3151 (0.3153)\tPrecision 0.254\tRecall 0.215\tF1 0.233\n",
      "Test: [48/619]\tTime 0.345 (0.215)\tLoss 0.3146 (0.3160)\tPrecision 0.259\tRecall 0.214\tF1 0.235\n",
      "Test: [64/619]\tTime 0.220 (0.201)\tLoss 0.3185 (0.3160)\tPrecision 0.256\tRecall 0.211\tF1 0.231\n",
      "Test: [80/619]\tTime 0.236 (0.188)\tLoss 0.3178 (0.3156)\tPrecision 0.259\tRecall 0.211\tF1 0.233\n",
      "Test: [96/619]\tTime 0.219 (0.178)\tLoss 0.3151 (0.3153)\tPrecision 0.258\tRecall 0.212\tF1 0.232\n",
      "Test: [112/619]\tTime 0.179 (0.171)\tLoss 0.3133 (0.3155)\tPrecision 0.258\tRecall 0.212\tF1 0.233\n",
      "Test: [128/619]\tTime 0.172 (0.168)\tLoss 0.3105 (0.3151)\tPrecision 0.258\tRecall 0.212\tF1 0.233\n",
      "Test: [144/619]\tTime 0.098 (0.165)\tLoss 0.3120 (0.3152)\tPrecision 0.258\tRecall 0.211\tF1 0.232\n",
      "Test: [160/619]\tTime 0.099 (0.161)\tLoss 0.3102 (0.3150)\tPrecision 0.258\tRecall 0.212\tF1 0.233\n",
      "Test: [176/619]\tTime 0.105 (0.161)\tLoss 0.3135 (0.3149)\tPrecision 0.257\tRecall 0.212\tF1 0.232\n",
      "Test: [192/619]\tTime 0.099 (0.160)\tLoss 0.3154 (0.3149)\tPrecision 0.257\tRecall 0.212\tF1 0.233\n",
      "Test: [208/619]\tTime 0.099 (0.158)\tLoss 0.3134 (0.3148)\tPrecision 0.256\tRecall 0.211\tF1 0.232\n",
      "Test: [224/619]\tTime 0.100 (0.157)\tLoss 0.3115 (0.3150)\tPrecision 0.256\tRecall 0.212\tF1 0.232\n",
      "Test: [240/619]\tTime 0.099 (0.156)\tLoss 0.3165 (0.3151)\tPrecision 0.257\tRecall 0.212\tF1 0.232\n",
      "Test: [256/619]\tTime 0.099 (0.154)\tLoss 0.3259 (0.3151)\tPrecision 0.257\tRecall 0.211\tF1 0.232\n",
      "Test: [272/619]\tTime 0.099 (0.154)\tLoss 0.3110 (0.3150)\tPrecision 0.257\tRecall 0.211\tF1 0.231\n",
      "Test: [288/619]\tTime 0.100 (0.153)\tLoss 0.3169 (0.3150)\tPrecision 0.256\tRecall 0.210\tF1 0.231\n",
      "Test: [304/619]\tTime 0.108 (0.153)\tLoss 0.3174 (0.3150)\tPrecision 0.256\tRecall 0.209\tF1 0.230\n",
      "Test: [320/619]\tTime 0.105 (0.152)\tLoss 0.3188 (0.3151)\tPrecision 0.256\tRecall 0.208\tF1 0.230\n",
      "Test: [336/619]\tTime 0.105 (0.151)\tLoss 0.3184 (0.3152)\tPrecision 0.256\tRecall 0.208\tF1 0.230\n",
      "Test: [352/619]\tTime 0.100 (0.151)\tLoss 0.3218 (0.3152)\tPrecision 0.256\tRecall 0.208\tF1 0.229\n",
      "Test: [368/619]\tTime 0.100 (0.150)\tLoss 0.3145 (0.3152)\tPrecision 0.256\tRecall 0.207\tF1 0.229\n",
      "Test: [384/619]\tTime 0.105 (0.150)\tLoss 0.3150 (0.3152)\tPrecision 0.255\tRecall 0.207\tF1 0.228\n",
      "Test: [400/619]\tTime 0.106 (0.150)\tLoss 0.3129 (0.3151)\tPrecision 0.255\tRecall 0.207\tF1 0.229\n",
      "Test: [416/619]\tTime 0.101 (0.149)\tLoss 0.3177 (0.3151)\tPrecision 0.254\tRecall 0.207\tF1 0.228\n",
      "Test: [432/619]\tTime 0.106 (0.149)\tLoss 0.3161 (0.3151)\tPrecision 0.254\tRecall 0.207\tF1 0.228\n",
      "Test: [448/619]\tTime 0.099 (0.149)\tLoss 0.3200 (0.3152)\tPrecision 0.253\tRecall 0.206\tF1 0.227\n",
      "Test: [464/619]\tTime 0.100 (0.148)\tLoss 0.3223 (0.3152)\tPrecision 0.253\tRecall 0.205\tF1 0.227\n",
      "Test: [480/619]\tTime 0.099 (0.148)\tLoss 0.3058 (0.3151)\tPrecision 0.253\tRecall 0.205\tF1 0.226\n",
      "Test: [496/619]\tTime 0.099 (0.148)\tLoss 0.3074 (0.3150)\tPrecision 0.252\tRecall 0.205\tF1 0.226\n",
      "Test: [512/619]\tTime 0.100 (0.147)\tLoss 0.3138 (0.3150)\tPrecision 0.252\tRecall 0.204\tF1 0.226\n",
      "Test: [528/619]\tTime 0.111 (0.147)\tLoss 0.3124 (0.3150)\tPrecision 0.252\tRecall 0.204\tF1 0.226\n",
      "Test: [544/619]\tTime 0.100 (0.148)\tLoss 0.3123 (0.3151)\tPrecision 0.252\tRecall 0.204\tF1 0.225\n",
      "Test: [560/619]\tTime 0.107 (0.148)\tLoss 0.3040 (0.3150)\tPrecision 0.252\tRecall 0.204\tF1 0.225\n",
      "Test: [576/619]\tTime 0.105 (0.148)\tLoss 0.3059 (0.3150)\tPrecision 0.252\tRecall 0.204\tF1 0.225\n",
      "Test: [592/619]\tTime 0.100 (0.147)\tLoss 0.3280 (0.3150)\tPrecision 0.252\tRecall 0.204\tF1 0.225\n",
      "Test: [608/619]\tTime 0.105 (0.147)\tLoss 0.3225 (0.3151)\tPrecision 0.252\tRecall 0.203\tF1 0.225\n",
      " * Precision 0.251 Recall 0.203 F1 0.225\n",
      "BEST:  0\n",
      "Test: [0/2349]\tTime 1.318 (1.318)\t\n",
      "Test: [16/2349]\tTime 0.101 (0.172)\t\n",
      "Test: [32/2349]\tTime 0.100 (0.137)\t\n",
      "Test: [48/2349]\tTime 0.100 (0.125)\t\n",
      "Test: [64/2349]\tTime 0.099 (0.119)\t\n",
      "Test: [80/2349]\tTime 0.100 (0.115)\t\n",
      "Test: [96/2349]\tTime 0.099 (0.113)\t\n",
      "Test: [112/2349]\tTime 0.100 (0.111)\t\n",
      "Test: [128/2349]\tTime 0.148 (0.110)\t\n",
      "Test: [144/2349]\tTime 0.100 (0.112)\t\n",
      "Test: [160/2349]\tTime 0.103 (0.111)\t\n",
      "Test: [176/2349]\tTime 0.100 (0.110)\t\n",
      "Test: [192/2349]\tTime 0.104 (0.109)\t\n",
      "Test: [208/2349]\tTime 0.099 (0.109)\t\n",
      "Test: [224/2349]\tTime 0.100 (0.108)\t\n",
      "Test: [240/2349]\tTime 0.100 (0.108)\t\n",
      "Test: [256/2349]\tTime 0.100 (0.107)\t\n",
      "Test: [272/2349]\tTime 0.100 (0.107)\t\n",
      "Test: [288/2349]\tTime 0.100 (0.106)\t\n",
      "Test: [304/2349]\tTime 0.100 (0.106)\t\n",
      "Test: [320/2349]\tTime 0.100 (0.106)\t\n",
      "Test: [336/2349]\tTime 0.101 (0.105)\t\n",
      "Test: [352/2349]\tTime 0.101 (0.105)\t\n",
      "Test: [368/2349]\tTime 0.099 (0.105)\t\n",
      "Test: [384/2349]\tTime 0.100 (0.105)\t\n",
      "Test: [400/2349]\tTime 0.108 (0.105)\t\n",
      "Test: [416/2349]\tTime 0.100 (0.105)\t\n",
      "Test: [432/2349]\tTime 0.100 (0.104)\t\n",
      "Test: [448/2349]\tTime 0.100 (0.104)\t\n",
      "Test: [464/2349]\tTime 0.101 (0.104)\t\n",
      "Test: [480/2349]\tTime 0.102 (0.104)\t\n",
      "Test: [496/2349]\tTime 0.106 (0.104)\t\n"
     ]
    },
    {
     "name": "stdout",
     "output_type": "stream",
     "text": [
      "Test: [512/2349]\tTime 0.100 (0.104)\t\n",
      "Test: [528/2349]\tTime 0.100 (0.104)\t\n",
      "Test: [544/2349]\tTime 0.099 (0.104)\t\n",
      "Test: [560/2349]\tTime 0.100 (0.104)\t\n",
      "Test: [576/2349]\tTime 0.100 (0.104)\t\n",
      "Test: [592/2349]\tTime 0.100 (0.104)\t\n",
      "Test: [608/2349]\tTime 0.100 (0.104)\t\n",
      "Test: [624/2349]\tTime 0.099 (0.103)\t\n",
      "Test: [640/2349]\tTime 0.102 (0.103)\t\n",
      "Test: [656/2349]\tTime 0.101 (0.103)\t\n",
      "Test: [672/2349]\tTime 0.101 (0.103)\t\n",
      "Test: [688/2349]\tTime 0.100 (0.103)\t\n",
      "Test: [704/2349]\tTime 0.100 (0.103)\t\n",
      "Test: [720/2349]\tTime 0.100 (0.103)\t\n",
      "Test: [736/2349]\tTime 0.100 (0.103)\t\n",
      "Test: [752/2349]\tTime 0.100 (0.103)\t\n",
      "Test: [768/2349]\tTime 0.100 (0.103)\t\n",
      "Test: [784/2349]\tTime 0.099 (0.103)\t\n",
      "Test: [800/2349]\tTime 0.100 (0.103)\t\n",
      "Test: [816/2349]\tTime 0.100 (0.103)\t\n",
      "Test: [832/2349]\tTime 0.101 (0.103)\t\n",
      "Test: [848/2349]\tTime 0.100 (0.103)\t\n",
      "Test: [864/2349]\tTime 0.100 (0.103)\t\n",
      "Test: [880/2349]\tTime 0.100 (0.103)\t\n",
      "Test: [896/2349]\tTime 0.100 (0.103)\t\n",
      "Test: [912/2349]\tTime 0.099 (0.102)\t\n",
      "Test: [928/2349]\tTime 0.100 (0.102)\t\n",
      "Test: [944/2349]\tTime 0.099 (0.102)\t\n",
      "Test: [960/2349]\tTime 0.100 (0.102)\t\n",
      "Test: [976/2349]\tTime 0.100 (0.102)\t\n",
      "Test: [992/2349]\tTime 0.100 (0.102)\t\n",
      "Test: [1008/2349]\tTime 0.100 (0.102)\t\n",
      "Test: [1024/2349]\tTime 0.100 (0.102)\t\n",
      "Test: [1040/2349]\tTime 0.104 (0.102)\t\n",
      "Test: [1056/2349]\tTime 0.121 (0.102)\t\n",
      "Test: [1072/2349]\tTime 0.102 (0.102)\t\n",
      "Test: [1088/2349]\tTime 0.100 (0.102)\t\n",
      "Test: [1104/2349]\tTime 0.101 (0.102)\t\n",
      "Test: [1120/2349]\tTime 0.100 (0.102)\t\n",
      "Test: [1136/2349]\tTime 0.100 (0.102)\t\n",
      "Test: [1152/2349]\tTime 0.100 (0.102)\t\n",
      "Test: [1168/2349]\tTime 0.100 (0.102)\t\n",
      "Test: [1184/2349]\tTime 0.099 (0.102)\t\n",
      "Test: [1200/2349]\tTime 0.100 (0.102)\t\n",
      "Test: [1216/2349]\tTime 0.100 (0.102)\t\n",
      "Test: [1232/2349]\tTime 0.101 (0.102)\t\n",
      "Test: [1248/2349]\tTime 0.102 (0.102)\t\n",
      "Test: [1264/2349]\tTime 0.101 (0.102)\t\n",
      "Test: [1280/2349]\tTime 0.103 (0.102)\t\n",
      "Test: [1296/2349]\tTime 0.100 (0.102)\t\n",
      "Test: [1312/2349]\tTime 0.099 (0.102)\t\n",
      "Test: [1328/2349]\tTime 0.100 (0.102)\t\n",
      "Test: [1344/2349]\tTime 0.101 (0.102)\t\n",
      "Test: [1360/2349]\tTime 0.101 (0.102)\t\n",
      "Test: [1376/2349]\tTime 0.100 (0.102)\t\n",
      "Test: [1392/2349]\tTime 0.100 (0.102)\t\n",
      "Test: [1408/2349]\tTime 0.100 (0.102)\t\n",
      "Test: [1424/2349]\tTime 0.100 (0.102)\t\n",
      "Test: [1440/2349]\tTime 0.100 (0.102)\t\n",
      "Test: [1456/2349]\tTime 0.100 (0.102)\t\n",
      "Test: [1472/2349]\tTime 0.100 (0.102)\t\n",
      "Test: [1488/2349]\tTime 0.099 (0.102)\t\n",
      "Test: [1504/2349]\tTime 0.101 (0.102)\t\n",
      "Test: [1520/2349]\tTime 0.100 (0.102)\t\n",
      "Test: [1536/2349]\tTime 0.100 (0.102)\t\n",
      "Test: [1552/2349]\tTime 0.107 (0.102)\t\n",
      "Test: [1568/2349]\tTime 0.101 (0.102)\t\n",
      "Test: [1584/2349]\tTime 0.107 (0.102)\t\n",
      "Test: [1600/2349]\tTime 0.101 (0.102)\t\n",
      "Test: [1616/2349]\tTime 0.100 (0.102)\t\n",
      "Test: [1632/2349]\tTime 0.100 (0.102)\t\n",
      "Test: [1648/2349]\tTime 0.100 (0.102)\t\n",
      "Test: [1664/2349]\tTime 0.101 (0.102)\t\n",
      "Test: [1680/2349]\tTime 0.100 (0.102)\t\n",
      "Test: [1696/2349]\tTime 0.101 (0.102)\t\n",
      "Test: [1712/2349]\tTime 0.101 (0.102)\t\n",
      "Test: [1728/2349]\tTime 0.100 (0.102)\t\n",
      "Test: [1744/2349]\tTime 0.099 (0.102)\t\n",
      "Test: [1760/2349]\tTime 0.101 (0.102)\t\n",
      "Test: [1776/2349]\tTime 0.100 (0.102)\t\n",
      "Test: [1792/2349]\tTime 0.100 (0.102)\t\n",
      "Test: [1808/2349]\tTime 0.100 (0.102)\t\n",
      "Test: [1824/2349]\tTime 0.100 (0.102)\t\n",
      "Test: [1840/2349]\tTime 0.101 (0.102)\t\n",
      "Test: [1856/2349]\tTime 0.100 (0.102)\t\n",
      "Test: [1872/2349]\tTime 0.100 (0.102)\t\n",
      "Test: [1888/2349]\tTime 0.100 (0.102)\t\n",
      "Test: [1904/2349]\tTime 0.101 (0.102)\t\n",
      "Test: [1920/2349]\tTime 0.101 (0.102)\t\n",
      "Test: [1936/2349]\tTime 0.100 (0.102)\t\n",
      "Test: [1952/2349]\tTime 0.100 (0.102)\t\n",
      "Test: [1968/2349]\tTime 0.100 (0.102)\t\n",
      "Test: [1984/2349]\tTime 0.100 (0.102)\t\n",
      "Test: [2000/2349]\tTime 0.100 (0.102)\t\n",
      "Test: [2016/2349]\tTime 0.100 (0.102)\t\n",
      "Test: [2032/2349]\tTime 0.099 (0.102)\t\n",
      "Test: [2048/2349]\tTime 0.101 (0.102)\t\n",
      "Test: [2064/2349]\tTime 0.100 (0.102)\t\n",
      "Test: [2080/2349]\tTime 0.099 (0.102)\t\n",
      "Test: [2096/2349]\tTime 0.101 (0.102)\t\n",
      "Test: [2112/2349]\tTime 0.101 (0.102)\t\n",
      "Test: [2128/2349]\tTime 0.101 (0.102)\t\n",
      "Test: [2144/2349]\tTime 0.101 (0.102)\t\n",
      "Test: [2160/2349]\tTime 0.100 (0.102)\t\n",
      "Test: [2176/2349]\tTime 0.100 (0.102)\t\n",
      "Test: [2192/2349]\tTime 0.100 (0.102)\t\n",
      "Test: [2208/2349]\tTime 0.102 (0.102)\t\n",
      "Test: [2224/2349]\tTime 0.100 (0.102)\t\n",
      "Test: [2240/2349]\tTime 0.101 (0.102)\t\n",
      "Test: [2256/2349]\tTime 0.101 (0.102)\t\n",
      "Test: [2272/2349]\tTime 0.100 (0.102)\t\n",
      "Test: [2288/2349]\tTime 0.099 (0.102)\t\n",
      "Test: [2304/2349]\tTime 0.100 (0.102)\t\n",
      "Test: [2320/2349]\tTime 0.101 (0.102)\t\n",
      "Test: [2336/2349]\tTime 0.117 (0.102)\t\n",
      "Output written to /data/datasets/kaggle_fashion/data/output/submissions/000_output_deccanlearners_resnet101_sourabhd-desktop_20180528015708795145.csv\n",
      "\n",
      "Program parameters written to /data/datasets/kaggle_fashion/data/output/submissions/000_params_deccanlearners_resnet101_sourabhd-desktop_20180528015708795145.json\n",
      "\n",
      "Epoch: [1][0/4]\tTime 1.051 (1.051)\tData 0.610 (0.610)\tLoss 0.2857 (0.2857)\tPrecision 0.471\tRecall 0.512\tF1 0.491\n",
      "tensor(1.00000e-03 *\n",
      "       [ 0.0013, -0.0014,  0.0477, -0.0039,  0.0539, -0.1631,  0.0257,\n",
      "        -0.0075, -0.0231,  0.0300,  0.0627,  0.2478, -0.0040, -0.0634,\n",
      "         0.2478,  0.0031, -0.0946,  0.0972,  0.0250, -0.0673,  0.1775,\n",
      "         0.0602,  0.0424,  0.1749,  0.0044, -0.1264,  0.2853,  0.0222,\n",
      "         0.1189, -0.2229,  0.1083, -0.0698, -0.0430,  0.0255, -0.0471,\n",
      "         0.2191,  0.0597, -0.0335,  0.0551,  0.0378,  0.0647, -0.0277,\n",
      "         0.0557,  0.0218, -0.0277,  0.1426,  0.1523, -0.1455,  0.1408,\n",
      "        -0.0168,  0.0324,  0.1326,  0.0053, -0.0745,  0.0966,  0.0337,\n",
      "        -0.1697,  0.0962, -0.0199,  0.1096,  0.0573, -0.0446, -0.1146,\n",
      "         0.0455, -0.0198,  0.0311,  0.0612,  0.0095, -0.0098,  0.0635,\n",
      "         0.0822, -0.0370,  0.0455,  0.0036, -0.0217,  0.1123,  0.0122,\n",
      "        -0.0781,  0.0704,  0.0830,  0.4196,  0.1183,  0.1909,  0.4196,\n",
      "         0.6939, -0.0074,  0.4733,  1.1323,  0.0935, -0.3280,  0.5104,\n",
      "        -0.1722, -0.1369,  0.3359,  0.0567, -0.1267,  0.4251, -0.0456,\n",
      "         0.0542,  0.2199, -0.0321, -0.3017,  0.4413, -0.0007,  0.0766,\n",
      "         0.6603,  0.0712, -0.0380,  0.3938,  0.0008, -0.1755,  0.3250,\n",
      "         0.1166, -0.3628,  0.5366,  0.0481,  0.0116,  0.2942,  0.0698,\n",
      "        -0.1656,  0.2222, -0.0463,  0.0810,  0.3473, -0.0849,  0.1806,\n",
      "         0.1975, -0.0403, -0.0019,  0.2150,  0.0163,  0.0641,  0.3814,\n",
      "         0.0061,  0.0706,  0.2092, -0.1501, -0.1068,  0.1894, -0.0158,\n",
      "         0.0819,  0.2562,  0.0277, -0.0567,  0.1750,  0.0067, -0.2545,\n",
      "         0.1966,  0.0603, -0.0862,  0.2547,  0.0261,  0.0543,  0.1602,\n",
      "         0.1026, -0.1257,  0.2302,  0.0393,  0.0104,  0.2726,  0.0187,\n",
      "        -0.0367,  0.1871,  0.1432, -0.2409,  0.1593,  0.0030,  0.0067,\n",
      "         0.2277,  0.0448, -0.0970,  0.1660,  0.1806, -0.4145,  0.1939,\n",
      "         0.0093, -0.0076,  0.2154,  0.0428, -0.1314,  0.1644,  0.1184,\n",
      "        -0.3914,  0.1579,  0.0169, -0.0015,  0.2210,  0.0178, -0.1405,\n",
      "         0.1627,  0.1546, -0.5055,  0.1609, -0.0060,  0.0218,  0.2410,\n",
      "         0.0520, -0.1143,  0.1637,  0.0125, -0.4281,  0.1260,  0.0098,\n",
      "        -0.0427,  0.2260, -0.0042,  0.0124,  0.1578,  0.0352, -0.4622,\n",
      "         0.1545,  0.0367, -0.0451,  0.2791, -0.0240,  0.0785,  0.2078,\n",
      "        -0.0155, -0.5247,  0.1458, -0.0890,  0.2177,  0.2779, -0.0097,\n",
      "         0.1073,  0.2209, -0.0920, -0.3900,  0.1316,  0.0065, -0.0413,\n",
      "         0.2733,  0.0727, -0.2312,  0.1887,  0.0785, -0.3428,  0.1077,\n",
      "         0.0746, -0.2099,  0.2534,  0.0092, -0.1256,  0.1802,  0.0775,\n",
      "        -0.2853,  0.0805,  0.0194, -0.0648,  0.2135, -0.0161,  0.0158,\n",
      "         0.1730,  0.0672, -0.3303,  0.0652,  0.0389, -0.0908,  0.2116,\n",
      "         0.0936, -0.1859,  0.1769,  0.1274, -0.3645,  0.0558,  0.0648,\n",
      "        -0.0838,  0.2053,  0.1221, -0.2308,  0.1872,  0.1368, -0.4717,\n",
      "         0.0263,  0.0480, -0.0569,  0.1891,  0.0071,  0.0471,  0.1688,\n",
      "         0.2335, -0.5793,  0.0979,  0.2229, -0.3800,  0.3542,  0.2939,\n",
      "        -1.1939,  0.2139,  0.4890, -3.2070,  0.3465,  0.5096, -3.2070,\n",
      "         0.1877,  0.1378, -0.3989,  0.2706,  0.2393, -0.8298,  0.2432,\n",
      "         0.4751, -4.1688,  0.1398,  0.4205, -0.8054,  0.6094,  0.3186,\n",
      "        -1.6926,  0.3151,  0.3234,  0.0809,  2.3263,  0.8241])\n",
      "Test: [0/619]\tTime 1.314 (1.314)\tLoss 0.2808 (0.2808)\tPrecision 0.543\tRecall 0.188\tF1 0.279\n",
      "Test: [16/619]\tTime 0.386 (0.234)\tLoss 0.2830 (0.2772)\tPrecision 0.495\tRecall 0.181\tF1 0.265\n",
      "Test: [32/619]\tTime 0.389 (0.205)\tLoss 0.2749 (0.2761)\tPrecision 0.487\tRecall 0.184\tF1 0.267\n"
     ]
    },
    {
     "name": "stdout",
     "output_type": "stream",
     "text": [
      "Test: [48/619]\tTime 0.451 (0.200)\tLoss 0.2760 (0.2766)\tPrecision 0.494\tRecall 0.183\tF1 0.267\n",
      "Test: [64/619]\tTime 0.189 (0.197)\tLoss 0.2774 (0.2767)\tPrecision 0.488\tRecall 0.181\tF1 0.264\n",
      "Test: [80/619]\tTime 0.240 (0.190)\tLoss 0.2779 (0.2764)\tPrecision 0.494\tRecall 0.182\tF1 0.266\n",
      "Test: [96/619]\tTime 0.099 (0.181)\tLoss 0.2769 (0.2762)\tPrecision 0.494\tRecall 0.183\tF1 0.267\n",
      "Test: [112/619]\tTime 0.104 (0.177)\tLoss 0.2739 (0.2763)\tPrecision 0.496\tRecall 0.182\tF1 0.267\n",
      "Test: [128/619]\tTime 0.106 (0.182)\tLoss 0.2706 (0.2759)\tPrecision 0.497\tRecall 0.183\tF1 0.268\n",
      "Test: [144/619]\tTime 0.100 (0.178)\tLoss 0.2770 (0.2761)\tPrecision 0.496\tRecall 0.183\tF1 0.267\n",
      "Test: [160/619]\tTime 0.099 (0.175)\tLoss 0.2715 (0.2760)\tPrecision 0.496\tRecall 0.184\tF1 0.268\n",
      "Test: [176/619]\tTime 0.098 (0.171)\tLoss 0.2747 (0.2759)\tPrecision 0.495\tRecall 0.183\tF1 0.268\n",
      "Test: [192/619]\tTime 0.103 (0.175)\tLoss 0.2807 (0.2759)\tPrecision 0.496\tRecall 0.183\tF1 0.268\n",
      "Test: [208/619]\tTime 0.100 (0.172)\tLoss 0.2769 (0.2759)\tPrecision 0.495\tRecall 0.183\tF1 0.267\n",
      "Test: [224/619]\tTime 0.102 (0.170)\tLoss 0.2712 (0.2760)\tPrecision 0.494\tRecall 0.182\tF1 0.266\n",
      "Test: [240/619]\tTime 0.104 (0.168)\tLoss 0.2758 (0.2762)\tPrecision 0.496\tRecall 0.183\tF1 0.267\n",
      "Test: [256/619]\tTime 0.099 (0.167)\tLoss 0.2870 (0.2762)\tPrecision 0.496\tRecall 0.182\tF1 0.266\n",
      "Test: [272/619]\tTime 0.099 (0.165)\tLoss 0.2730 (0.2761)\tPrecision 0.494\tRecall 0.181\tF1 0.265\n",
      "Test: [288/619]\tTime 0.100 (0.165)\tLoss 0.2768 (0.2761)\tPrecision 0.492\tRecall 0.180\tF1 0.264\n",
      "Test: [304/619]\tTime 0.102 (0.167)\tLoss 0.2794 (0.2761)\tPrecision 0.492\tRecall 0.180\tF1 0.263\n",
      "Test: [320/619]\tTime 0.101 (0.166)\tLoss 0.2816 (0.2762)\tPrecision 0.492\tRecall 0.179\tF1 0.262\n",
      "Test: [336/619]\tTime 0.099 (0.171)\tLoss 0.2786 (0.2763)\tPrecision 0.492\tRecall 0.178\tF1 0.262\n",
      "Test: [352/619]\tTime 0.101 (0.172)\tLoss 0.2842 (0.2764)\tPrecision 0.491\tRecall 0.177\tF1 0.261\n",
      "Test: [368/619]\tTime 0.101 (0.171)\tLoss 0.2729 (0.2763)\tPrecision 0.490\tRecall 0.177\tF1 0.260\n",
      "Test: [384/619]\tTime 0.101 (0.170)\tLoss 0.2742 (0.2763)\tPrecision 0.488\tRecall 0.177\tF1 0.260\n",
      "Test: [400/619]\tTime 0.100 (0.169)\tLoss 0.2732 (0.2762)\tPrecision 0.488\tRecall 0.177\tF1 0.260\n",
      "Test: [416/619]\tTime 0.101 (0.169)\tLoss 0.2777 (0.2762)\tPrecision 0.487\tRecall 0.177\tF1 0.259\n",
      "Test: [432/619]\tTime 0.547 (0.170)\tLoss 0.2758 (0.2762)\tPrecision 0.487\tRecall 0.176\tF1 0.259\n",
      "Test: [448/619]\tTime 0.101 (0.176)\tLoss 0.2822 (0.2763)\tPrecision 0.486\tRecall 0.176\tF1 0.258\n",
      "Test: [464/619]\tTime 0.100 (0.177)\tLoss 0.2821 (0.2762)\tPrecision 0.485\tRecall 0.175\tF1 0.258\n",
      "Test: [480/619]\tTime 0.101 (0.177)\tLoss 0.2686 (0.2762)\tPrecision 0.485\tRecall 0.175\tF1 0.258\n",
      "Test: [496/619]\tTime 0.100 (0.177)\tLoss 0.2683 (0.2761)\tPrecision 0.484\tRecall 0.175\tF1 0.257\n"
     ]
    }
   ],
   "source": [
    "train_loop(train_loader, val_loader, test_loader, test_dset, args, optimizer, scheduler, model, criterion, threshold=args.threshold)"
   ]
  },
  {
   "cell_type": "markdown",
   "metadata": {},
   "source": [
    "# Inference"
   ]
  },
  {
   "cell_type": "code",
   "execution_count": null,
   "metadata": {},
   "outputs": [],
   "source": [
    "# Move inference inside training loop for results from partially trained model\n",
    "#test(args.output_file, args.params_file, args, test_dset, test_loader, args.best, model, threshold=args.threshold)"
   ]
  },
  {
   "cell_type": "markdown",
   "metadata": {
    "colab_type": "text",
    "id": "gevaiXFORuTH"
   },
   "source": [
    "# Save Results"
   ]
  },
  {
   "cell_type": "markdown",
   "metadata": {
    "colab_type": "text",
    "id": "XlL1brDNRucP"
   },
   "source": []
  },
  {
   "cell_type": "code",
   "execution_count": null,
   "metadata": {},
   "outputs": [],
   "source": []
  },
  {
   "cell_type": "markdown",
   "metadata": {
    "colab": {
     "autoexec": {
      "startup": false,
      "wait_interval": 0
     }
    },
    "colab_type": "code",
    "id": "PT9Shf_MRhui"
   },
   "source": []
  }
 ],
 "metadata": {
  "accelerator": "GPU",
  "colab": {
   "collapsed_sections": [],
   "default_view": {},
   "name": "TrainLoop.ipynb",
   "provenance": [],
   "version": "0.3.2",
   "views": {}
  },
  "kernelspec": {
   "display_name": "Python 3",
   "language": "python",
   "name": "python3"
  },
  "language_info": {
   "codemirror_mode": {
    "name": "ipython",
    "version": 3
   },
   "file_extension": ".py",
   "mimetype": "text/x-python",
   "name": "python",
   "nbconvert_exporter": "python",
   "pygments_lexer": "ipython3",
   "version": "3.6.5"
  }
 },
 "nbformat": 4,
 "nbformat_minor": 1
}
