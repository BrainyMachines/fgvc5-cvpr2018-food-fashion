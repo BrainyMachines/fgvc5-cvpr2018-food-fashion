{
  "nbformat": 4,
  "nbformat_minor": 0,
  "metadata": {
    "colab": {
      "name": "TrainLoop.ipynb",
      "version": "0.3.2",
      "views": {},
      "default_view": {},
      "provenance": [],
      "collapsed_sections": []
    },
    "kernelspec": {
      "name": "python3",
      "display_name": "Python 3"
    },
    "accelerator": "GPU"
  },
  "cells": [
    {
      "metadata": {
        "id": "4OGEu9nITbnO",
        "colab_type": "text"
      },
      "cell_type": "markdown",
      "source": [
        "# Install Torch"
      ]
    },
    {
      "metadata": {
        "id": "z85P4eDZNSdu",
        "colab_type": "code",
        "colab": {
          "autoexec": {
            "startup": false,
            "wait_interval": 0
          },
          "base_uri": "https://localhost:8080/",
          "height": 187
        },
        "outputId": "2c91720a-faa9-40f3-c724-b1d3974c5b89",
        "executionInfo": {
          "status": "ok",
          "timestamp": 1526928150222,
          "user_tz": -330,
          "elapsed": 5379,
          "user": {
            "displayName": "Sourabh Daptardar",
            "photoUrl": "//lh4.googleusercontent.com/-onn5Q0_MiKQ/AAAAAAAAAAI/AAAAAAAACDI/iOxkSEz16nA/s50-c-k-no/photo.jpg",
            "userId": "115812262388010820083"
          }
        }
      },
      "cell_type": "code",
      "source": [
        "!pip uninstall -y pillow\n",
        "!CC=\"cc -mavx2\" pip install -U --force-reinstall pillow-simd\n"
      ],
      "execution_count": 1,
      "outputs": [
        {
          "output_type": "stream",
          "text": [
            "Uninstalling Pillow-5.1.0:\r\n",
            "  Successfully uninstalled Pillow-5.1.0\n",
            "Collecting pillow-simd\n",
            "\u001b[31mtorchvision 0.2.1 requires pillow>=4.1.1, which is not installed.\u001b[0m\n",
            "\u001b[31mscikit-image 0.13.1 requires pillow>=2.1.0, which is not installed.\u001b[0m\n",
            "Installing collected packages: pillow-simd\n",
            "  Found existing installation: Pillow-SIMD 5.1.1.post0\n",
            "    Uninstalling Pillow-SIMD-5.1.1.post0:\n",
            "      Successfully uninstalled Pillow-SIMD-5.1.1.post0\n",
            "Successfully installed pillow-simd-5.1.1.post0\n"
          ],
          "name": "stdout"
        }
      ]
    },
    {
      "metadata": {
        "id": "7FiDFXCiT8wS",
        "colab_type": "code",
        "colab": {
          "autoexec": {
            "startup": false,
            "wait_interval": 0
          },
          "base_uri": "https://localhost:8080/",
          "height": 34
        },
        "outputId": "9c476ae0-3325-4e4e-9a9e-7e27eb69f073",
        "executionInfo": {
          "status": "ok",
          "timestamp": 1526928154410,
          "user_tz": -330,
          "elapsed": 4153,
          "user": {
            "displayName": "Sourabh Daptardar",
            "photoUrl": "//lh4.googleusercontent.com/-onn5Q0_MiKQ/AAAAAAAAAAI/AAAAAAAACDI/iOxkSEz16nA/s50-c-k-no/photo.jpg",
            "userId": "115812262388010820083"
          }
        }
      },
      "cell_type": "code",
      "source": [
        "# http://pytorch.org/\n",
        "from os import path\n",
        "from wheel.pep425tags import get_abbr_impl, get_impl_ver, get_abi_tag\n",
        "platform = '{}{}-{}'.format(get_abbr_impl(), get_impl_ver(), get_abi_tag())\n",
        "\n",
        "accelerator = 'cu80' if path.exists('/opt/bin/nvidia-smi') else 'cpu'\n",
        "\n",
        "!pip install -q http://download.pytorch.org/whl/{accelerator}/torch-0.3.0.post4-{platform}-linux_x86_64.whl torchvision\n",
        "import torch\n",
        "import torchvision\n",
        "print(torchvision.get_image_backend())"
      ],
      "execution_count": 2,
      "outputs": [
        {
          "output_type": "stream",
          "text": [
            "PIL\n"
          ],
          "name": "stdout"
        }
      ]
    },
    {
      "metadata": {
        "id": "a4CFa1WLgoUX",
        "colab_type": "code",
        "colab": {
          "autoexec": {
            "startup": false,
            "wait_interval": 0
          },
          "base_uri": "https://localhost:8080/",
          "height": 34
        },
        "outputId": "7a36eae8-9e8a-4ed9-8e72-eb4d19cf84ed",
        "executionInfo": {
          "status": "ok",
          "timestamp": 1526928157719,
          "user_tz": -330,
          "elapsed": 2878,
          "user": {
            "displayName": "Sourabh Daptardar",
            "photoUrl": "//lh4.googleusercontent.com/-onn5Q0_MiKQ/AAAAAAAAAAI/AAAAAAAACDI/iOxkSEz16nA/s50-c-k-no/photo.jpg",
            "userId": "115812262388010820083"
          }
        }
      },
      "cell_type": "code",
      "source": [
        "!pip install tqdm"
      ],
      "execution_count": 3,
      "outputs": [
        {
          "output_type": "stream",
          "text": [
            "Requirement already satisfied: tqdm in /usr/local/lib/python3.6/dist-packages (4.23.3)\r\n"
          ],
          "name": "stdout"
        }
      ]
    },
    {
      "metadata": {
        "id": "GZt8MRT5RfK6",
        "colab_type": "text"
      },
      "cell_type": "markdown",
      "source": [
        "# Imports"
      ]
    },
    {
      "metadata": {
        "id": "ZptSyG9oSN1c",
        "colab_type": "code",
        "colab": {
          "autoexec": {
            "startup": false,
            "wait_interval": 0
          }
        }
      },
      "cell_type": "code",
      "source": [
        "import torch\n",
        "import os\n",
        "import sys\n",
        "import logging\n",
        "import io\n",
        "from tqdm import tqdm\n",
        "from matplotlib.pyplot import imshow\n",
        "import numpy as np\n",
        "from PIL import Image\n",
        "import torch\n",
        "import torch.nn as nn\n",
        "import torch.nn.parallel\n",
        "import torch.backends.cudnn as cudnn\n",
        "import torch.distributed as dist\n",
        "import torch.optim\n",
        "import torch.utils.data\n",
        "import torch.utils.data.distributed\n",
        "import torchvision.transforms as transforms\n",
        "import torchvision.datasets as datasets\n",
        "import torchvision.models as models"
      ],
      "execution_count": 0,
      "outputs": []
    },
    {
      "metadata": {
        "id": "IEEo0VYsZhvO",
        "colab_type": "code",
        "colab": {
          "autoexec": {
            "startup": false,
            "wait_interval": 0
          }
        }
      },
      "cell_type": "code",
      "source": [
        "%matplotlib inline"
      ],
      "execution_count": 0,
      "outputs": []
    },
    {
      "metadata": {
        "id": "N1BQLwQTWcKU",
        "colab_type": "text"
      },
      "cell_type": "markdown",
      "source": [
        "# Parameters"
      ]
    },
    {
      "metadata": {
        "id": "eM2a7qmqWh3Q",
        "colab_type": "code",
        "colab": {
          "autoexec": {
            "startup": false,
            "wait_interval": 0
          }
        }
      },
      "cell_type": "code",
      "source": [
        "base_dir = '/content/fashion'\n",
        "data_dir = base_dir + os.sep + 'data'\n",
        "input_dir = data_dir + os.sep + 'input'\n",
        "output_dir = data_dir + os.sep + 'output'\n",
        "train_zip = input_dir + os.sep + 'train_data.zip'\n",
        "val_zip = input_dir + os.sep + 'validation_data.zip'\n",
        "train_dir = input_dir + os.sep + 'train_data'\n",
        "val_dir = input_dir + os.sep + 'validation_data'\n",
        "train_id = \"1rx1rL8RUAggN4hKlrYLtpdQagtUWmIbO\"\n",
        "val_id = \"1U19eWiBFJ6wGcFk47l6g9mmoWp1i4hPY\"\n",
        "# train_labels_id = \"1NOoWniR3ioqPKbVWoaWGy4HPDzZAAJX9\"\n",
        "train_labels_id = \"1X7TpWyxxtmCT5rw__7OKus_W4fh8xpKO\" # small dataset\n",
        "val_labels_id = \"1d9RuQTx5E8qFxraIu6B4rDTOC4sx2xXT\"\n",
        "test_labels_id = \"1VwzGCJfOL13pk1Wi-xPHQ6mVnofy9_Z4\"\n",
        "# train_labels_json = input_dir + os.sep + 'train.json'\n",
        "train_labels_json = input_dir + os.sep + 'train_small.json' \n",
        "val_labels_json = input_dir + os.sep + 'validation.json'\n",
        "test_labels_json = input_dir + os.sep + 'test.json'\n",
        "num_labels = 228\n",
        "batch_size = 16\n",
        "image_min_size = 256\n",
        "nw_input_size = 224\n",
        "num_workers = 4\n",
        "imagenet_mean = [0.485, 0.456, 0.406]\n",
        "imagenet_std = [0.229, 0.224, 0.225]\n",
        "pretrain_dset_mean = imagenet_mean\n",
        "pretrain_dset_std = imagenet_std\n",
        "world_size = 1\n",
        "dist_url = 'file://' + output_dir + os.sep + 'dfile'\n",
        "dist_backend = 'gloo'\n",
        "distributed = world_size > 1\n",
        "arch = 'resnet50'\n",
        "pretrained = True\n",
        "resume = False"
      ],
      "execution_count": 0,
      "outputs": []
    },
    {
      "metadata": {
        "id": "90hY9m66UYPd",
        "colab_type": "code",
        "colab": {
          "autoexec": {
            "startup": false,
            "wait_interval": 0
          },
          "base_uri": "https://localhost:8080/",
          "height": 68
        },
        "outputId": "ceabf989-4e99-4437-b131-683cc61a12f3",
        "executionInfo": {
          "status": "ok",
          "timestamp": 1526928163556,
          "user_tz": -330,
          "elapsed": 1985,
          "user": {
            "displayName": "Sourabh Daptardar",
            "photoUrl": "//lh4.googleusercontent.com/-onn5Q0_MiKQ/AAAAAAAAAAI/AAAAAAAACDI/iOxkSEz16nA/s50-c-k-no/photo.jpg",
            "userId": "115812262388010820083"
          }
        }
      },
      "cell_type": "code",
      "source": [
        "print(torch.backends.cudnn.version())\n",
        "print(torch.cuda.is_available())\n",
        "print(torch.cuda.get_device_name(0))\n"
      ],
      "execution_count": 7,
      "outputs": [
        {
          "output_type": "stream",
          "text": [
            "7003\n",
            "True\n",
            "Tesla K80\n"
          ],
          "name": "stdout"
        }
      ]
    },
    {
      "metadata": {
        "id": "Kc-OLRcoHDBl",
        "colab_type": "code",
        "colab": {
          "autoexec": {
            "startup": false,
            "wait_interval": 0
          }
        }
      },
      "cell_type": "code",
      "source": [
        "cudnn.benchmark = True"
      ],
      "execution_count": 0,
      "outputs": []
    },
    {
      "metadata": {
        "id": "jB9hgpyUfbqG",
        "colab_type": "code",
        "colab": {
          "autoexec": {
            "startup": false,
            "wait_interval": 0
          }
        }
      },
      "cell_type": "code",
      "source": [
        "os.makedirs(base_dir, exist_ok=True)\n",
        "os.makedirs(data_dir, exist_ok=True)\n",
        "os.makedirs(input_dir, exist_ok=True)\n",
        "os.makedirs(output_dir, exist_ok=True)"
      ],
      "execution_count": 0,
      "outputs": []
    },
    {
      "metadata": {
        "id": "dBC_aI1vRknn",
        "colab_type": "text"
      },
      "cell_type": "markdown",
      "source": [
        "# Download Dataset"
      ]
    },
    {
      "metadata": {
        "id": "g5eP3RxWV5L5",
        "colab_type": "code",
        "colab": {
          "autoexec": {
            "startup": false,
            "wait_interval": 0
          }
        }
      },
      "cell_type": "code",
      "source": [
        "from google.colab import auth\n",
        "auth.authenticate_user()"
      ],
      "execution_count": 0,
      "outputs": []
    },
    {
      "metadata": {
        "id": "68MYkyHJWP0m",
        "colab_type": "code",
        "colab": {
          "autoexec": {
            "startup": false,
            "wait_interval": 0
          }
        }
      },
      "cell_type": "code",
      "source": [
        "from googleapiclient.discovery import build\n",
        "import io\n",
        "from googleapiclient.http import MediaIoBaseDownload\n",
        "import json\n",
        "\n",
        "def md5_hash(fname, blocksize=4096):\n",
        "    \"\"\" compute md5hash of a file \"\"\"\n",
        "    import hashlib\n",
        "    hash = ''\n",
        "    if not os.path.exists(fname):\n",
        "        errmsg = \"File %s does not exist\" % (fname)\n",
        "        print(errmsg)\n",
        "        return ''\n",
        "    try:\n",
        "        hasher = hashlib.md5()\n",
        "        with open(fname, 'rb') as f:\n",
        "            buf = f.read(blocksize)\n",
        "            while len(buf) > 0:\n",
        "                hasher.update(buf)\n",
        "                buf = f.read(blocksize)\n",
        "        hash = hasher.hexdigest()\n",
        "    except:\n",
        "        print(\"Exception in hashing file\")\n",
        "        raise\n",
        "    return hash\n",
        "\n",
        "def _download(drive_service, file_id, loc):\n",
        "  request = drive_service.files().get_media(fileId=file_id)\n",
        "  fh = io.FileIO(loc, mode='wb')\n",
        "  downloader = MediaIoBaseDownload(fh, request, chunksize=1024*1024)\n",
        "  prev_progress = 0\n",
        "  done = False\n",
        "  with tqdm(total=100) as pbar:\n",
        "    while done is False:\n",
        "      status, done = downloader.next_chunk()\n",
        "      if status:\n",
        "        # print(\"Download %d%%.\" % int(status.progress() * 100))\n",
        "        pbar.update(int(100 *(status.progress() - prev_progress)))\n",
        "        prev_progress = status.progress()\n",
        "  print(\"Download Complete!\")\n",
        "  file_size = os.path.getsize(loc)\n",
        "  print(\"Downloaded %d bytes\" % (file_size))\n",
        "\n",
        "def download(file_id, loc):\n",
        "  \"\"\"Downloads a file to local file system.\"\"\"  \n",
        "  drive_service = build('drive', 'v3')\n",
        "  \n",
        "  request_mdata = drive_service.files().list(fields=\"files(md5Checksum, originalFilename, id)\")\n",
        "  rh = io.BytesIO()\n",
        "  downloader_mdata = MediaIoBaseDownload(rh, request_mdata, chunksize=1024*1024)\n",
        "  done = False\n",
        "  while not done:\n",
        "    _, done = downloader_mdata.next_chunk()\n",
        "  mdata = json.loads(rh.getvalue())\n",
        "  found = False\n",
        "  md5drive = ''\n",
        "  fname = ''\n",
        "  for x in mdata['files']:\n",
        "    if x['id'] == file_id:\n",
        "      found = True\n",
        "      md5drive = x['md5Checksum']\n",
        "      fname = x['originalFilename']\n",
        "      break\n",
        "  if not found:\n",
        "    print(\"{:s} : not found on gdrive\".format(file_id))\n",
        "  else:\n",
        "    if os.path.exists(loc):\n",
        "      if md5drive == md5_hash(loc):\n",
        "        print(\"{:s} : file already present on colab\".format(loc))\n",
        "      else:\n",
        "        print(\"{:s} [gdrive] and {:s} [colab] : md5 mismatch ... downloading\".format(fname, loc))\n",
        "        _download(drive_service, file_id, loc)\n",
        "    else:\n",
        "      print(\"{:s} not present on colab ... downloading ...\".format(loc))\n",
        "      _download(drive_service, file_id, loc)\n",
        "        \n"
      ],
      "execution_count": 0,
      "outputs": []
    },
    {
      "metadata": {
        "id": "jOBHlpMKaE-F",
        "colab_type": "code",
        "colab": {
          "autoexec": {
            "startup": false,
            "wait_interval": 0
          },
          "base_uri": "https://localhost:8080/",
          "height": 357
        },
        "outputId": "561b860a-c507-4fbd-e4b7-acff5368eae0",
        "executionInfo": {
          "status": "ok",
          "timestamp": 1526928592719,
          "user_tz": -330,
          "elapsed": 389652,
          "user": {
            "displayName": "Sourabh Daptardar",
            "photoUrl": "//lh4.googleusercontent.com/-onn5Q0_MiKQ/AAAAAAAAAAI/AAAAAAAACDI/iOxkSEz16nA/s50-c-k-no/photo.jpg",
            "userId": "115812262388010820083"
          }
        }
      },
      "cell_type": "code",
      "source": [
        "download(train_id, train_zip)\n",
        "download(val_id, val_zip)\n",
        "download(train_labels_id, train_labels_json)\n",
        "download(val_labels_id, val_labels_json)\n",
        "download(test_labels_id, test_labels_json)"
      ],
      "execution_count": 12,
      "outputs": [
        {
          "output_type": "stream",
          "text": [
            "\r  0%|          | 0/100 [00:00<?, ?it/s]"
          ],
          "name": "stderr"
        },
        {
          "output_type": "stream",
          "text": [
            "/content/fashion/data/input/train_data.zip not present on colab ... downloading ...\n"
          ],
          "name": "stdout"
        },
        {
          "output_type": "stream",
          "text": [
            "  0%|          | 0/100 [03:00<?, ?it/s]\n"
          ],
          "name": "stderr"
        },
        {
          "output_type": "stream",
          "text": [
            "Download Complete!\n",
            "Downloaded 623133900 bytes\n"
          ],
          "name": "stdout"
        },
        {
          "output_type": "stream",
          "text": [
            "\r  0%|          | 0/100 [00:00<?, ?it/s]"
          ],
          "name": "stderr"
        },
        {
          "output_type": "stream",
          "text": [
            "/content/fashion/data/input/validation_data.zip not present on colab ... downloading ...\n"
          ],
          "name": "stdout"
        },
        {
          "output_type": "stream",
          "text": [
            "  0%|          | 0/100 [03:16<?, ?it/s]\n"
          ],
          "name": "stderr"
        },
        {
          "output_type": "stream",
          "text": [
            "Download Complete!\n",
            "Downloaded 649513008 bytes\n"
          ],
          "name": "stdout"
        },
        {
          "output_type": "stream",
          "text": [
            "\r  0%|          | 0/100 [00:00<?, ?it/s]"
          ],
          "name": "stderr"
        },
        {
          "output_type": "stream",
          "text": [
            "/content/fashion/data/input/train_small.json not present on colab ... downloading ...\n"
          ],
          "name": "stdout"
        },
        {
          "output_type": "stream",
          "text": [
            " 99%|█████████▉| 99/100 [00:01<00:00, 51.87it/s]\n"
          ],
          "name": "stderr"
        },
        {
          "output_type": "stream",
          "text": [
            "Download Complete!\n",
            "Downloaded 3740426 bytes\n"
          ],
          "name": "stdout"
        },
        {
          "output_type": "stream",
          "text": [
            "\r  0%|          | 0/100 [00:00<?, ?it/s]"
          ],
          "name": "stderr"
        },
        {
          "output_type": "stream",
          "text": [
            "/content/fashion/data/input/validation.json not present on colab ... downloading ...\n"
          ],
          "name": "stdout"
        },
        {
          "output_type": "stream",
          "text": [
            " 96%|█████████▌| 96/100 [00:02<00:00, 40.72it/s]\n"
          ],
          "name": "stderr"
        },
        {
          "output_type": "stream",
          "text": [
            "Download Complete!\n",
            "Downloaded 4222518 bytes\n"
          ],
          "name": "stdout"
        },
        {
          "output_type": "stream",
          "text": [
            "\r  0%|          | 0/100 [00:00<?, ?it/s]"
          ],
          "name": "stderr"
        },
        {
          "output_type": "stream",
          "text": [
            "/content/fashion/data/input/test.json not present on colab ... downloading ...\n"
          ],
          "name": "stdout"
        },
        {
          "output_type": "stream",
          "text": [
            " 99%|█████████▉| 99/100 [00:02<00:00, 33.47it/s]"
          ],
          "name": "stderr"
        },
        {
          "output_type": "stream",
          "text": [
            "Download Complete!\n",
            "Downloaded 5785993 bytes\n"
          ],
          "name": "stdout"
        },
        {
          "output_type": "stream",
          "text": [
            "\n"
          ],
          "name": "stderr"
        }
      ]
    },
    {
      "metadata": {
        "id": "mA1kgVVEdSWI",
        "colab_type": "code",
        "colab": {
          "autoexec": {
            "startup": false,
            "wait_interval": 0
          }
        }
      },
      "cell_type": "code",
      "source": [
        "import shutil\n",
        "shutil.unpack_archive(train_zip, input_dir)\n",
        "shutil.unpack_archive(val_zip, input_dir)\n"
      ],
      "execution_count": 0,
      "outputs": []
    },
    {
      "metadata": {
        "id": "X4Eugqw2fJRQ",
        "colab_type": "code",
        "colab": {
          "autoexec": {
            "startup": false,
            "wait_interval": 0
          },
          "base_uri": "https://localhost:8080/",
          "height": 153
        },
        "outputId": "b36b7987-0f0b-4dcb-9806-dd9acd66d9aa",
        "executionInfo": {
          "status": "ok",
          "timestamp": 1526928607856,
          "user_tz": -330,
          "elapsed": 2026,
          "user": {
            "displayName": "Sourabh Daptardar",
            "photoUrl": "//lh4.googleusercontent.com/-onn5Q0_MiKQ/AAAAAAAAAAI/AAAAAAAACDI/iOxkSEz16nA/s50-c-k-no/photo.jpg",
            "userId": "115812262388010820083"
          }
        }
      },
      "cell_type": "code",
      "source": [
        "!ls -ltr /content/fashion/data/input"
      ],
      "execution_count": 14,
      "outputs": [
        {
          "output_type": "stream",
          "text": [
            "total 1256744\r\n",
            "-rw-r--r-- 1 root root 623133900 May 21 18:46 train_data.zip\r\n",
            "-rw-r--r-- 1 root root 649513008 May 21 18:49 validation_data.zip\r\n",
            "-rw-r--r-- 1 root root   3740426 May 21 18:49 train_small.json\r\n",
            "-rw-r--r-- 1 root root   4222518 May 21 18:49 validation.json\r\n",
            "-rw-r--r-- 1 root root   5785993 May 21 18:49 test.json\r\n",
            "drwxr-xr-x 2 root root    241664 May 21 18:49 train_data\r\n",
            "drwxr-xr-x 2 root root    241664 May 21 18:50 validation_data\r\n"
          ],
          "name": "stdout"
        }
      ]
    },
    {
      "metadata": {
        "id": "_XnHDCmclB9B",
        "colab_type": "code",
        "colab": {
          "autoexec": {
            "startup": false,
            "wait_interval": 0
          },
          "base_uri": "https://localhost:8080/",
          "height": 204
        },
        "outputId": "8a0c9c7d-d0ae-4dfa-dd44-3760ff3fa16a",
        "executionInfo": {
          "status": "ok",
          "timestamp": 1526928610154,
          "user_tz": -330,
          "elapsed": 2276,
          "user": {
            "displayName": "Sourabh Daptardar",
            "photoUrl": "//lh4.googleusercontent.com/-onn5Q0_MiKQ/AAAAAAAAAAI/AAAAAAAACDI/iOxkSEz16nA/s50-c-k-no/photo.jpg",
            "userId": "115812262388010820083"
          }
        }
      },
      "cell_type": "code",
      "source": [
        "!ls -ltr /content/fashion/data/input/train_data | head"
      ],
      "execution_count": 15,
      "outputs": [
        {
          "output_type": "stream",
          "text": [
            "total 636932\r\n",
            "-rw-r--r-- 1 root root  61060 May 21 18:49 1.jpg\r\n",
            "-rw-r--r-- 1 root root  61806 May 21 18:49 10.jpg\r\n",
            "-rw-r--r-- 1 root root  97998 May 21 18:49 100.jpg\r\n",
            "-rw-r--r-- 1 root root  42627 May 21 18:49 1000.jpg\r\n",
            "-rw-r--r-- 1 root root 105654 May 21 18:49 10000.jpg\r\n",
            "-rw-r--r-- 1 root root  24032 May 21 18:49 1002.jpg\r\n",
            "-rw-r--r-- 1 root root  49370 May 21 18:49 1001.jpg\r\n",
            "-rw-r--r-- 1 root root  68407 May 21 18:49 1004.jpg\r\n",
            "-rw-r--r-- 1 root root  95681 May 21 18:49 1003.jpg\r\n",
            "ls: write error: Broken pipe\r\n"
          ],
          "name": "stdout"
        }
      ]
    },
    {
      "metadata": {
        "id": "4bmRgA9ilISL",
        "colab_type": "code",
        "colab": {
          "autoexec": {
            "startup": false,
            "wait_interval": 0
          },
          "base_uri": "https://localhost:8080/",
          "height": 204
        },
        "outputId": "8b8a6fd1-c9ff-4b34-b784-bdf1be09b293",
        "executionInfo": {
          "status": "ok",
          "timestamp": 1526928612447,
          "user_tz": -330,
          "elapsed": 2258,
          "user": {
            "displayName": "Sourabh Daptardar",
            "photoUrl": "//lh4.googleusercontent.com/-onn5Q0_MiKQ/AAAAAAAAAAI/AAAAAAAACDI/iOxkSEz16nA/s50-c-k-no/photo.jpg",
            "userId": "115812262388010820083"
          }
        }
      },
      "cell_type": "code",
      "source": [
        "!ls -ltr /content/fashion/data/input/validation_data | head"
      ],
      "execution_count": 16,
      "outputs": [
        {
          "output_type": "stream",
          "text": [
            "total 663036\r\n",
            "-rw-r--r-- 1 root root  89139 May 21 18:49 1.jpg\r\n",
            "-rw-r--r-- 1 root root  61895 May 21 18:49 10.jpg\r\n",
            "-rw-r--r-- 1 root root  56745 May 21 18:49 100.jpg\r\n",
            "-rw-r--r-- 1 root root  53685 May 21 18:49 1001.jpg\r\n",
            "-rw-r--r-- 1 root root  55370 May 21 18:49 1000.jpg\r\n",
            "-rw-r--r-- 1 root root  81057 May 21 18:49 1002.jpg\r\n",
            "-rw-r--r-- 1 root root  70008 May 21 18:49 1005.jpg\r\n",
            "-rw-r--r-- 1 root root  38732 May 21 18:49 1004.jpg\r\n",
            "-rw-r--r-- 1 root root  56689 May 21 18:49 1003.jpg\r\n",
            "ls: write error: Broken pipe\r\n"
          ],
          "name": "stdout"
        }
      ]
    },
    {
      "metadata": {
        "id": "c6LY5l-SRtWw",
        "colab_type": "text"
      },
      "cell_type": "markdown",
      "source": [
        "# Dataset"
      ]
    },
    {
      "metadata": {
        "id": "VMcIw45smeZE",
        "colab_type": "code",
        "colab": {
          "autoexec": {
            "startup": false,
            "wait_interval": 0
          }
        }
      },
      "cell_type": "code",
      "source": [
        "import torch.utils.data as data\n",
        "from copy import copy\n",
        "import numpy as np\n",
        "\n",
        "def fetch_labels(annotations, num_labels):\n",
        "  labels = {}\n",
        "  for x in annotations:\n",
        "    arr = np.zeros((num_labels,), dtype=np.float32)\n",
        "    for y in map(int, x['labelId']):\n",
        "      arr[y-1] = 1.0\n",
        "    # 0-indexed\n",
        "    labels[int(x['imageId'])-1] = copy(arr)\n",
        "  return labels\n",
        "\n",
        "def json_to_dict(fpath):\n",
        "  import json\n",
        "  with open(fpath) as f: \n",
        "    D = json.load(f)\n",
        "  return D\n",
        "\n",
        "def get_labelinfo(annotations):\n",
        "  from collections import namedtuple\n",
        "  labelinfo = namedtuple('labelinfo', \"set min max count\")\n",
        "  labelinfo.set = set()\n",
        "  for x in annotations:\n",
        "    labelinfo.set.update(map(int, x['labelId']))\n",
        "  labelinfo.min = min(labelinfo.set)\n",
        "  labelinfo.max = max(labelinfo.set)\n",
        "  labelinfo.count = len(labelinfo.set)\n",
        "  return labelinfo\n",
        "\n",
        "def has_file_allowed_extension(filename, extensions):\n",
        "    \"\"\"Checks if a file is an allowed extension.\n",
        "    Args:\n",
        "        filename (string): path to a file\n",
        "    Returns:\n",
        "        bool: True if the filename ends with a known image extension\n",
        "    \"\"\"\n",
        "    filename_lower = filename.lower()\n",
        "    return any(filename_lower.endswith(ext) for ext in extensions)\n",
        "\n",
        "\n",
        "def pil_loader(path):\n",
        "    from PIL import Image \n",
        "    # open path as file to avoid ResourceWarning (https://github.com/python-pillow/Pillow/issues/835)\n",
        "    with open(path, 'rb') as f:\n",
        "        img = Image.open(f)\n",
        "        return img.convert('RGB')\n",
        "\n",
        "\n",
        "def accimage_loader(path):\n",
        "    import accimage\n",
        "    try:\n",
        "        return accimage.Image(path)\n",
        "    except IOError:\n",
        "        # Potentially a decoding problem, fall back to PIL.Image\n",
        "        return pil_loader(path)\n",
        "\n",
        "\n",
        "def default_loader(path):\n",
        "    from torchvision import get_image_backend\n",
        "    if get_image_backend() == 'accimage':\n",
        "        return accimage_loader(path)\n",
        "    else:\n",
        "        return pil_loader(path)\n",
        "\n",
        "      \n",
        "class FashionDataset(data.Dataset):\n",
        "  \"\"\"Fashion dataset CVPR challenge.\n",
        "     Adapted from torchvision ImageFolder.\n",
        "     Similar to ImageFolder with the following differences:\n",
        "     1. Multilabel\n",
        "     2. Directory structure where all images are directly in the root folder\n",
        "     3. Labels are read from json file\n",
        "   \n",
        "  Args:\n",
        "        root (string): Root directory path.\n",
        "        loader (callable): A function to load a sample given its path.\n",
        "        extensions (list[string]): A list of allowed extensions.\n",
        "        transform (callable, optional): A function/transform that takes in\n",
        "            a sample and returns a transformed version.\n",
        "            E.g, ``transforms.RandomCrop`` for images.\n",
        "        target_transform (callable, optional): A function/transform that takes\n",
        "            in the target and transforms it.\n",
        "    \n",
        "  \"\"\"\n",
        "\n",
        "  def __init__(self, root, metadata_file, num_labels=228, transform=None, target_transform=None,\n",
        "               loader=default_loader):\n",
        "    extensions = ['.jpg', '.jpeg', '.png', '.ppm', '.bmp', '.pgm', '.tif']\n",
        "    self.num_labels = num_labels\n",
        "    self.images = {}\n",
        "    self.metadata_file = metadata_file\n",
        "    self.metadata = json_to_dict(self.metadata_file)\n",
        "    self.transform = transform\n",
        "    self.root = root\n",
        "    self.target_transform = target_transform\n",
        "    self.loader = loader\n",
        "    self.labelinfo = get_labelinfo(self.metadata['annotations'])\n",
        "    self.labels = fetch_labels(self.metadata['annotations'], self.num_labels)\n",
        "\n",
        "    for x in self.metadata['images']:\n",
        "      # 0-indexed\n",
        "      self.images[int(x['imageId'])-1] = '%s%s%d.jpg' % (root, os.sep, int(x['imageId']))  \n",
        "    \n",
        "\n",
        "  def __getitem__(self, index):\n",
        "        \"\"\"\n",
        "        Args:\n",
        "            index (int): Index\n",
        "        Returns:\n",
        "            tuple: (sample, target) where target is class_index of the target class.\n",
        "        \"\"\"\n",
        "        path, target = self.images[index], self.labels[index]\n",
        "        sample = self.loader(path)\n",
        "        if self.transform is not None:\n",
        "            sample = self.transform(sample)\n",
        "        if self.target_transform is not None:\n",
        "            target = self.target_transform(target)\n",
        "\n",
        "        return sample, target\n",
        "\n",
        "  def __len__(self):\n",
        "    return len(self.images)\n",
        "  \n",
        "  def __repr__(self):\n",
        "    fmt_str = 'Dataset ' + self.__class__.__name__ + '\\n'\n",
        "    fmt_str += '    Number of datapoints: {}\\n'.format(self.__len__())\n",
        "    fmt_str += '    Number of labels: {}\\n'.format(self.labelinfo.count)\n",
        "    fmt_str += '    Root Location: {}\\n'.format(self.root)\n",
        "    fmt_str += '    Metadata file: {}\\n'.format(self.metadata_file)\n",
        "    tmp = '    Transforms (if any): '\n",
        "    fmt_str += '{0}{1}\\n'.format(tmp, self.transform.__repr__().replace('\\n', '\\n' + ' ' * len(tmp)))\n",
        "    tmp = '    Target Transforms (if any): '\n",
        "    fmt_str += '{0}{1}'.format(tmp, self.target_transform.__repr__().replace('\\n', '\\n' + ' ' * len(tmp)))\n",
        "    tmp = '    Loader: '\n",
        "    fmt_str += '\\n{0}{1}'.format(tmp, self.loader.__name__)\n",
        "    return fmt_str\n",
        "\n",
        "  "
      ],
      "execution_count": 0,
      "outputs": []
    },
    {
      "metadata": {
        "id": "BuB8IhRXrZzK",
        "colab_type": "code",
        "colab": {
          "autoexec": {
            "startup": false,
            "wait_interval": 0
          }
        }
      },
      "cell_type": "code",
      "source": [
        "import torchvision.transforms as transforms\n",
        "\n",
        "train_tform = transforms.Compose([transforms.RandomResizedCrop(nw_input_size),\n",
        "                                  transforms.RandomHorizontalFlip(),\n",
        "                                  transforms.ToTensor(),\n",
        "                                  transforms.Normalize(mean=pretrain_dset_mean,\n",
        "                                                        std=pretrain_dset_std)\n",
        "                                 ])\n",
        "\n",
        "val_tform = transforms.Compose([transforms.Resize(image_min_size),\n",
        "                                transforms.CenterCrop(nw_input_size),\n",
        "                                transforms.ToTensor(),\n",
        "                                transforms.Normalize(mean=pretrain_dset_mean,\n",
        "                                                     std=pretrain_dset_std)\n",
        "                               ])"
      ],
      "execution_count": 0,
      "outputs": []
    },
    {
      "metadata": {
        "id": "b7JjnbO4a1bU",
        "colab_type": "code",
        "colab": {
          "autoexec": {
            "startup": false,
            "wait_interval": 0
          },
          "base_uri": "https://localhost:8080/",
          "height": 459
        },
        "outputId": "11015be8-509f-4ddc-b6ab-1e7cd41a8f6b",
        "executionInfo": {
          "status": "ok",
          "timestamp": 1526928619334,
          "user_tz": -330,
          "elapsed": 4151,
          "user": {
            "displayName": "Sourabh Daptardar",
            "photoUrl": "//lh4.googleusercontent.com/-onn5Q0_MiKQ/AAAAAAAAAAI/AAAAAAAACDI/iOxkSEz16nA/s50-c-k-no/photo.jpg",
            "userId": "115812262388010820083"
          }
        }
      },
      "cell_type": "code",
      "source": [
        "train_dset = FashionDataset(train_dir, train_labels_json, num_labels, transform=train_tform)\n",
        "val_dset = FashionDataset(val_dir, val_labels_json, num_labels, transform=val_tform)\n",
        "\n",
        "\n",
        "print(train_dset)\n",
        "print(val_dset)"
      ],
      "execution_count": 19,
      "outputs": [
        {
          "output_type": "stream",
          "text": [
            "Dataset FashionDataset\n",
            "    Number of datapoints: 10000\n",
            "    Number of labels: 221\n",
            "    Root Location: /content/fashion/data/input/train_data\n",
            "    Metadata file: /content/fashion/data/input/train_small.json\n",
            "    Transforms (if any): Compose(\n",
            "                             RandomResizedCrop(size=(224, 224), scale=(0.08, 1.0), ratio=(0.75, 1.3333), interpolation=PIL.Image.BILINEAR)\n",
            "                             RandomHorizontalFlip(p=0.5)\n",
            "                             ToTensor()\n",
            "                             Normalize(mean=[0.485, 0.456, 0.406], std=[0.229, 0.224, 0.225])\n",
            "                         )\n",
            "    Target Transforms (if any): None\n",
            "    Loader: default_loader\n",
            "Dataset FashionDataset\n",
            "    Number of datapoints: 9897\n",
            "    Number of labels: 225\n",
            "    Root Location: /content/fashion/data/input/validation_data\n",
            "    Metadata file: /content/fashion/data/input/validation.json\n",
            "    Transforms (if any): Compose(\n",
            "                             Resize(size=256, interpolation=PIL.Image.BILINEAR)\n",
            "                             CenterCrop(size=(224, 224))\n",
            "                             ToTensor()\n",
            "                             Normalize(mean=[0.485, 0.456, 0.406], std=[0.229, 0.224, 0.225])\n",
            "                         )\n",
            "    Target Transforms (if any): None\n",
            "    Loader: default_loader\n"
          ],
          "name": "stdout"
        }
      ]
    },
    {
      "metadata": {
        "id": "-EoLW0no-em7",
        "colab_type": "code",
        "colab": {
          "autoexec": {
            "startup": false,
            "wait_interval": 0
          }
        }
      },
      "cell_type": "code",
      "source": [
        "def tensor_to_numpy(t, avg, std):\n",
        "  return (255.0 * (np.transpose(np.asarray(t), (1, 2, 0)) * std + avg)).astype(np.uint8)\n",
        "  "
      ],
      "execution_count": 0,
      "outputs": []
    },
    {
      "metadata": {
        "id": "L8qbOaD8HvYi",
        "colab_type": "code",
        "colab": {
          "autoexec": {
            "startup": false,
            "wait_interval": 0
          },
          "base_uri": "https://localhost:8080/",
          "height": 439
        },
        "outputId": "ebe753ee-6917-40d4-9fee-c9ea16f27d4d",
        "executionInfo": {
          "status": "ok",
          "timestamp": 1526928622682,
          "user_tz": -330,
          "elapsed": 1405,
          "user": {
            "displayName": "Sourabh Daptardar",
            "photoUrl": "//lh4.googleusercontent.com/-onn5Q0_MiKQ/AAAAAAAAAAI/AAAAAAAACDI/iOxkSEz16nA/s50-c-k-no/photo.jpg",
            "userId": "115812262388010820083"
          }
        }
      },
      "cell_type": "code",
      "source": [
        "rnd1 = np.random.randint(len(train_dset))\n",
        "im1, lbl1 = train_dset[rnd1]\n",
        "imshow(tensor_to_numpy(im1, pretrain_dset_mean, pretrain_dset_std))\n",
        "print(lbl1)"
      ],
      "execution_count": 21,
      "outputs": [
        {
          "output_type": "stream",
          "text": [
            "[0. 0. 0. 0. 0. 0. 0. 0. 0. 0. 0. 0. 0. 0. 0. 0. 0. 1. 0. 0. 0. 0. 0. 0.\n",
            " 0. 0. 0. 0. 0. 0. 0. 0. 0. 0. 0. 0. 0. 0. 0. 0. 0. 0. 0. 0. 0. 0. 0. 0.\n",
            " 0. 0. 0. 0. 0. 0. 0. 0. 0. 0. 0. 0. 0. 0. 0. 0. 0. 1. 0. 0. 0. 0. 0. 0.\n",
            " 0. 0. 0. 0. 0. 0. 0. 0. 0. 0. 0. 0. 0. 0. 0. 0. 0. 0. 0. 0. 0. 0. 0. 0.\n",
            " 0. 0. 0. 0. 0. 0. 0. 0. 0. 0. 0. 0. 0. 0. 0. 0. 0. 0. 0. 0. 0. 0. 0. 0.\n",
            " 0. 0. 0. 0. 0. 0. 0. 1. 0. 0. 0. 0. 0. 0. 0. 0. 0. 0. 0. 0. 0. 0. 0. 0.\n",
            " 0. 0. 0. 0. 0. 0. 0. 0. 1. 0. 0. 0. 0. 0. 0. 0. 0. 0. 0. 0. 0. 0. 0. 0.\n",
            " 0. 0. 1. 0. 0. 0. 0. 0. 0. 0. 0. 0. 0. 0. 0. 0. 0. 0. 0. 0. 0. 0. 0. 0.\n",
            " 0. 0. 0. 0. 0. 0. 0. 0. 0. 0. 0. 0. 0. 0. 0. 0. 0. 0. 0. 0. 0. 0. 0. 0.\n",
            " 0. 0. 0. 0. 0. 0. 0. 0. 0. 0. 0. 0.]\n"
          ],
          "name": "stdout"
        },
        {
          "output_type": "display_data",
          "data": {
            "image/png": "[encoded data removed]",
            "text/plain": [
              "<matplotlib.figure.Figure at 0x7f698a3d75f8>"
            ]
          },
          "metadata": {
            "tags": []
          }
        }
      ]
    },
    {
      "metadata": {
        "id": "3h5_M6G0QBYZ",
        "colab_type": "code",
        "colab": {
          "autoexec": {
            "startup": false,
            "wait_interval": 0
          },
          "base_uri": "https://localhost:8080/",
          "height": 439
        },
        "outputId": "265511bc-913c-421c-a0ef-1df4171ae192",
        "executionInfo": {
          "status": "ok",
          "timestamp": 1526928624725,
          "user_tz": -330,
          "elapsed": 1827,
          "user": {
            "displayName": "Sourabh Daptardar",
            "photoUrl": "//lh4.googleusercontent.com/-onn5Q0_MiKQ/AAAAAAAAAAI/AAAAAAAACDI/iOxkSEz16nA/s50-c-k-no/photo.jpg",
            "userId": "115812262388010820083"
          }
        }
      },
      "cell_type": "code",
      "source": [
        "rnd2 = np.random.randint(len(val_dset))\n",
        "im2, lbl2 = val_dset[rnd2]\n",
        "imshow(tensor_to_numpy(im2, pretrain_dset_mean, pretrain_dset_std))\n",
        "print(lbl2)"
      ],
      "execution_count": 22,
      "outputs": [
        {
          "output_type": "stream",
          "text": [
            "[0. 0. 0. 0. 0. 0. 0. 0. 0. 0. 0. 0. 0. 0. 0. 0. 0. 0. 1. 1. 0. 0. 0. 0.\n",
            " 0. 0. 0. 0. 0. 0. 0. 0. 0. 0. 0. 0. 0. 0. 0. 0. 0. 0. 0. 0. 0. 0. 0. 0.\n",
            " 0. 0. 0. 0. 0. 0. 0. 0. 0. 0. 0. 0. 0. 0. 0. 0. 0. 1. 0. 0. 0. 0. 0. 0.\n",
            " 0. 1. 0. 0. 0. 0. 0. 0. 0. 0. 0. 0. 0. 0. 0. 0. 0. 0. 0. 0. 0. 0. 0. 0.\n",
            " 0. 0. 0. 0. 0. 0. 0. 0. 0. 0. 0. 0. 0. 0. 0. 0. 0. 0. 0. 0. 0. 0. 0. 0.\n",
            " 0. 0. 0. 0. 0. 0. 0. 0. 0. 0. 0. 0. 0. 0. 0. 0. 1. 0. 0. 0. 0. 0. 0. 0.\n",
            " 0. 0. 0. 0. 0. 0. 0. 0. 0. 0. 0. 0. 0. 0. 0. 0. 0. 0. 0. 0. 0. 0. 0. 0.\n",
            " 0. 0. 1. 0. 0. 0. 0. 0. 0. 0. 0. 0. 0. 0. 0. 0. 0. 0. 0. 0. 0. 0. 0. 0.\n",
            " 1. 0. 0. 0. 0. 0. 0. 0. 0. 0. 0. 0. 0. 0. 0. 0. 0. 1. 0. 0. 0. 0. 0. 0.\n",
            " 0. 0. 0. 0. 0. 1. 0. 0. 0. 0. 0. 0.]\n"
          ],
          "name": "stdout"
        },
        {
          "output_type": "display_data",
          "data": {
            "image/png": "[encoded data removed]",
            "text/plain": [
              "<matplotlib.figure.Figure at 0x7f69ee1aeef0>"
            ]
          },
          "metadata": {
            "tags": []
          }
        }
      ]
    },
    {
      "metadata": {
        "id": "iU_VDQm2Rtro",
        "colab_type": "text"
      },
      "cell_type": "markdown",
      "source": [
        "# DataLoader"
      ]
    },
    {
      "metadata": {
        "id": "4KcwWuuHoxoo",
        "colab_type": "code",
        "colab": {
          "autoexec": {
            "startup": false,
            "wait_interval": 0
          }
        }
      },
      "cell_type": "code",
      "source": [
        "if distributed:\n",
        "    dist.init_process_group(backend=dist_backend,\n",
        "                            init_method=dist_url,\n",
        "                            world_size=world_size)\n"
      ],
      "execution_count": 0,
      "outputs": []
    },
    {
      "metadata": {
        "id": "EjMlN6vqHtsE",
        "colab_type": "code",
        "colab": {
          "autoexec": {
            "startup": false,
            "wait_interval": 0
          }
        }
      },
      "cell_type": "code",
      "source": [
        "from torch.utils.data.distributed import DistributedSampler \n",
        "\n",
        "\n",
        "if distributed:\n",
        "  train_sampler = DistributedSampler(train_dset)\n",
        "else:\n",
        "  train_sampler = None\n",
        "\n",
        "train_loader = torch.utils.data.DataLoader(train_dset,\n",
        "                                           batch_size=batch_size,\n",
        "                                           shuffle=(train_sampler is None),\n",
        "                                           num_workers=num_workers,\n",
        "                                           pin_memory=True,\n",
        "                                           sampler=train_sampler\n",
        "                                          )\n",
        "\n",
        "val_loader = torch.utils.data.DataLoader(val_dset,\n",
        "                                         batch_size=batch_size,\n",
        "                                         shuffle=False,\n",
        "                                         num_workers=num_workers,\n",
        "                                         pin_memory=True\n",
        "                                        )\n"
      ],
      "execution_count": 0,
      "outputs": []
    },
    {
      "metadata": {
        "id": "uzNG4-7x6Ovt",
        "colab_type": "code",
        "colab": {
          "autoexec": {
            "startup": false,
            "wait_interval": 0
          }
        }
      },
      "cell_type": "code",
      "source": [
        "train_images, train_labels = next(iter(train_loader))"
      ],
      "execution_count": 0,
      "outputs": []
    },
    {
      "metadata": {
        "id": "CDOOVYOHbcbl",
        "colab_type": "code",
        "colab": {
          "autoexec": {
            "startup": false,
            "wait_interval": 0
          },
          "base_uri": "https://localhost:8080/",
          "height": 4437
        },
        "outputId": "7717a021-ceb5-463d-80b9-b21cb3b86516",
        "executionInfo": {
          "status": "ok",
          "timestamp": 1526918572675,
          "user_tz": -330,
          "elapsed": 879,
          "user": {
            "displayName": "Sourabh Daptardar",
            "photoUrl": "//lh4.googleusercontent.com/-onn5Q0_MiKQ/AAAAAAAAAAI/AAAAAAAACDI/iOxkSEz16nA/s50-c-k-no/photo.jpg",
            "userId": "115812262388010820083"
          }
        }
      },
      "cell_type": "code",
      "source": [
        "rnd11 = np.random.randint(batch_size)\n",
        "print(train_images[rnd11,:,:,:])\n",
        "print(train_labels[rnd11, :])"
      ],
      "execution_count": 26,
      "outputs": [
        {
          "output_type": "stream",
          "text": [
            "\n",
            "( 0 ,.,.) = \n",
            "  1.0159  1.0159  1.0673  ...   2.2318  2.2318  2.2318\n",
            "  1.1872  1.2043  1.0331  ...   2.2318  2.2318  2.2318\n",
            "  1.4612  1.4612  1.2043  ...   2.2318  2.2318  2.2318\n",
            "           ...             ⋱             ...          \n",
            " -0.0116  0.2282  0.3823  ...   0.4337  0.3309 -0.9877\n",
            "  0.0227  0.2282  0.3652  ...   0.4166  0.5022 -0.6109\n",
            " -0.0458  0.1768  0.2624  ...   0.4166  0.5193 -0.0801\n",
            "\n",
            "( 1 ,.,.) = \n",
            "  0.2927  0.2927  0.3277  ...   2.4286  2.4286  2.4286\n",
            "  0.4328  0.4503  0.2752  ...   2.4286  2.4286  2.4286\n",
            "  0.7479  0.7304  0.4678  ...   2.4286  2.4286  2.4286\n",
            "           ...             ⋱             ...          \n",
            " -0.2500  0.0301  0.1877  ...   0.4328  0.3803 -0.9503\n",
            " -0.2325  0.0126  0.1702  ...   0.4153  0.5378 -0.5826\n",
            " -0.2325  0.0126  0.1001  ...   0.4328  0.5378 -0.0399\n",
            "\n",
            "( 2 ,.,.) = \n",
            " -0.1835 -0.1835 -0.0790  ...   2.6400  2.6400  2.6400\n",
            " -0.0615 -0.0267 -0.1487  ...   2.6400  2.6400  2.6400\n",
            "  0.2173  0.2348  0.0256  ...   2.6400  2.6400  2.6400\n",
            "           ...             ⋱             ...          \n",
            " -0.2707 -0.0092  0.1476  ...   0.4091  0.2871 -1.0550\n",
            " -0.2532 -0.0441  0.1128  ...   0.3916  0.4439 -0.6890\n",
            " -0.2881 -0.0615  0.0256  ...   0.3568  0.4439 -0.1487\n",
            "[torch.FloatTensor of size 3x224x224]\n",
            "\n",
            "\n",
            " 0\n",
            " 0\n",
            " 0\n",
            " 0\n",
            " 0\n",
            " 0\n",
            " 0\n",
            " 0\n",
            " 0\n",
            " 0\n",
            " 0\n",
            " 0\n",
            " 0\n",
            " 0\n",
            " 0\n",
            " 0\n",
            " 0\n",
            " 0\n",
            " 0\n",
            " 0\n",
            " 0\n",
            " 0\n",
            " 0\n",
            " 0\n",
            " 0\n",
            " 0\n",
            " 0\n",
            " 0\n",
            " 0\n",
            " 0\n",
            " 0\n",
            " 0\n",
            " 0\n",
            " 0\n",
            " 0\n",
            " 0\n",
            " 0\n",
            " 0\n",
            " 0\n",
            " 0\n",
            " 0\n",
            " 0\n",
            " 0\n",
            " 0\n",
            " 0\n",
            " 0\n",
            " 0\n",
            " 0\n",
            " 0\n",
            " 0\n",
            " 0\n",
            " 0\n",
            " 1\n",
            " 0\n",
            " 0\n",
            " 0\n",
            " 0\n",
            " 0\n",
            " 0\n",
            " 0\n",
            " 0\n",
            " 1\n",
            " 0\n",
            " 0\n",
            " 0\n",
            " 1\n",
            " 0\n",
            " 0\n",
            " 0\n",
            " 0\n",
            " 0\n",
            " 0\n",
            " 0\n",
            " 0\n",
            " 0\n",
            " 0\n",
            " 0\n",
            " 0\n",
            " 0\n",
            " 0\n",
            " 0\n",
            " 0\n",
            " 0\n",
            " 0\n",
            " 0\n",
            " 0\n",
            " 0\n",
            " 0\n",
            " 0\n",
            " 0\n",
            " 0\n",
            " 0\n",
            " 0\n",
            " 0\n",
            " 0\n",
            " 0\n",
            " 0\n",
            " 0\n",
            " 0\n",
            " 0\n",
            " 0\n",
            " 0\n",
            " 0\n",
            " 0\n",
            " 1\n",
            " 0\n",
            " 0\n",
            " 0\n",
            " 0\n",
            " 0\n",
            " 0\n",
            " 0\n",
            " 0\n",
            " 0\n",
            " 0\n",
            " 0\n",
            " 0\n",
            " 0\n",
            " 0\n",
            " 0\n",
            " 0\n",
            " 0\n",
            " 0\n",
            " 0\n",
            " 0\n",
            " 0\n",
            " 0\n",
            " 0\n",
            " 0\n",
            " 0\n",
            " 0\n",
            " 0\n",
            " 1\n",
            " 0\n",
            " 0\n",
            " 0\n",
            " 0\n",
            " 0\n",
            " 0\n",
            " 0\n",
            " 0\n",
            " 0\n",
            " 0\n",
            " 0\n",
            " 0\n",
            " 0\n",
            " 0\n",
            " 0\n",
            " 0\n",
            " 0\n",
            " 0\n",
            " 0\n",
            " 1\n",
            " 0\n",
            " 0\n",
            " 0\n",
            " 0\n",
            " 0\n",
            " 0\n",
            " 0\n",
            " 0\n",
            " 0\n",
            " 0\n",
            " 0\n",
            " 0\n",
            " 0\n",
            " 0\n",
            " 0\n",
            " 0\n",
            " 0\n",
            " 0\n",
            " 0\n",
            " 0\n",
            " 0\n",
            " 0\n",
            " 0\n",
            " 0\n",
            " 0\n",
            " 0\n",
            " 0\n",
            " 0\n",
            " 0\n",
            " 0\n",
            " 0\n",
            " 0\n",
            " 0\n",
            " 0\n",
            " 0\n",
            " 0\n",
            " 0\n",
            " 0\n",
            " 0\n",
            " 0\n",
            " 0\n",
            " 0\n",
            " 0\n",
            " 0\n",
            " 0\n",
            " 0\n",
            " 0\n",
            " 0\n",
            " 0\n",
            " 0\n",
            " 0\n",
            " 0\n",
            " 0\n",
            " 0\n",
            " 0\n",
            " 0\n",
            " 0\n",
            " 0\n",
            " 0\n",
            " 0\n",
            " 0\n",
            " 0\n",
            " 0\n",
            " 0\n",
            " 0\n",
            " 0\n",
            " 0\n",
            " 0\n",
            " 0\n",
            " 0\n",
            " 0\n",
            " 0\n",
            " 0\n",
            " 0\n",
            " 0\n",
            "[torch.FloatTensor of size 228]\n",
            "\n"
          ],
          "name": "stdout"
        }
      ]
    },
    {
      "metadata": {
        "id": "IZ7R4Mgb7F3b",
        "colab_type": "code",
        "colab": {
          "autoexec": {
            "startup": false,
            "wait_interval": 0
          }
        }
      },
      "cell_type": "code",
      "source": [
        "val_images, val_labels = next(iter(val_loader))"
      ],
      "execution_count": 0,
      "outputs": []
    },
    {
      "metadata": {
        "id": "CIOHOwAqaRkX",
        "colab_type": "code",
        "colab": {
          "autoexec": {
            "startup": false,
            "wait_interval": 0
          },
          "base_uri": "https://localhost:8080/",
          "height": 4437
        },
        "outputId": "4abd8539-f9c3-4401-e415-41d36dce29e8",
        "executionInfo": {
          "status": "ok",
          "timestamp": 1526928692215,
          "user_tz": -330,
          "elapsed": 2351,
          "user": {
            "displayName": "Sourabh Daptardar",
            "photoUrl": "//lh4.googleusercontent.com/-onn5Q0_MiKQ/AAAAAAAAAAI/AAAAAAAACDI/iOxkSEz16nA/s50-c-k-no/photo.jpg",
            "userId": "115812262388010820083"
          }
        }
      },
      "cell_type": "code",
      "source": [
        "rnd21 = np.random.randint(batch_size)\n",
        "print(val_images[rnd21,:,:,:])\n",
        "print(val_labels[rnd21, :])"
      ],
      "execution_count": 28,
      "outputs": [
        {
          "output_type": "stream",
          "text": [
            "\n",
            "( 0 ,.,.) = \n",
            "  2.2318  2.2318  2.2318  ...  -0.9363 -1.1760 -1.2103\n",
            "  2.2318  2.2147  2.2489  ...  -1.0390 -1.2959 -1.0562\n",
            "  2.0948  2.0263  2.0434  ...  -1.1589 -1.3815 -1.2103\n",
            "           ...             ⋱             ...          \n",
            "  0.8618  0.9646  0.9646  ...   2.2489  2.2489  2.2489\n",
            "  0.8104  0.9817  1.1358  ...   2.2489  2.2489  2.2489\n",
            "  0.9646  0.9817  1.3070  ...   2.2489  2.2489  2.2489\n",
            "\n",
            "( 1 ,.,.) = \n",
            "  2.3936  2.3936  2.4111  ...  -0.7577 -1.0553 -1.1078\n",
            "  2.4111  2.3936  2.4286  ...  -0.8627 -1.1779 -0.9328\n",
            "  2.2710  2.2185  2.2185  ...  -0.9853 -1.2829 -1.1078\n",
            "           ...             ⋱             ...          \n",
            "  1.0280  1.1155  0.9930  ...   2.4286  2.4286  2.4286\n",
            "  0.9755  1.1331  1.1681  ...   2.4286  2.4286  2.4286\n",
            "  1.1506  1.1331  1.3606  ...   2.4286  2.4286  2.4286\n",
            "\n",
            "( 2 ,.,.) = \n",
            "  2.6051  2.5877  2.6051  ...  -0.6193 -0.8633 -0.8981\n",
            "  2.6051  2.5703  2.6051  ...  -0.7413 -1.0201 -0.7936\n",
            "  2.4831  2.3786  2.3611  ...  -0.8458 -1.1247 -0.9504\n",
            "           ...             ⋱             ...          \n",
            "  1.2980  1.3851  1.2108  ...   2.6400  2.6400  2.6400\n",
            "  1.2631  1.4025  1.3851  ...   2.6400  2.6400  2.6400\n",
            "  1.4200  1.4025  1.5768  ...   2.6400  2.6400  2.6400\n",
            "[torch.FloatTensor of size 3x224x224]\n",
            "\n",
            "\n",
            " 0\n",
            " 0\n",
            " 0\n",
            " 0\n",
            " 0\n",
            " 0\n",
            " 0\n",
            " 0\n",
            " 0\n",
            " 0\n",
            " 0\n",
            " 0\n",
            " 0\n",
            " 0\n",
            " 0\n",
            " 0\n",
            " 0\n",
            " 0\n",
            " 0\n",
            " 1\n",
            " 0\n",
            " 0\n",
            " 0\n",
            " 0\n",
            " 0\n",
            " 0\n",
            " 0\n",
            " 0\n",
            " 0\n",
            " 0\n",
            " 0\n",
            " 0\n",
            " 0\n",
            " 0\n",
            " 0\n",
            " 1\n",
            " 0\n",
            " 0\n",
            " 0\n",
            " 0\n",
            " 0\n",
            " 0\n",
            " 0\n",
            " 0\n",
            " 0\n",
            " 0\n",
            " 0\n",
            " 0\n",
            " 0\n",
            " 0\n",
            " 0\n",
            " 0\n",
            " 1\n",
            " 0\n",
            " 0\n",
            " 0\n",
            " 0\n",
            " 0\n",
            " 0\n",
            " 0\n",
            " 0\n",
            " 0\n",
            " 0\n",
            " 0\n",
            " 0\n",
            " 1\n",
            " 0\n",
            " 0\n",
            " 0\n",
            " 0\n",
            " 0\n",
            " 0\n",
            " 0\n",
            " 0\n",
            " 0\n",
            " 0\n",
            " 0\n",
            " 1\n",
            " 0\n",
            " 0\n",
            " 0\n",
            " 0\n",
            " 0\n",
            " 0\n",
            " 0\n",
            " 0\n",
            " 0\n",
            " 0\n",
            " 0\n",
            " 0\n",
            " 0\n",
            " 0\n",
            " 0\n",
            " 0\n",
            " 0\n",
            " 0\n",
            " 0\n",
            " 0\n",
            " 0\n",
            " 0\n",
            " 0\n",
            " 0\n",
            " 0\n",
            " 0\n",
            " 0\n",
            " 0\n",
            " 0\n",
            " 0\n",
            " 0\n",
            " 0\n",
            " 0\n",
            " 0\n",
            " 0\n",
            " 0\n",
            " 0\n",
            " 0\n",
            " 0\n",
            " 0\n",
            " 0\n",
            " 0\n",
            " 0\n",
            " 0\n",
            " 0\n",
            " 0\n",
            " 0\n",
            " 0\n",
            " 0\n",
            " 0\n",
            " 0\n",
            " 0\n",
            " 0\n",
            " 0\n",
            " 0\n",
            " 0\n",
            " 0\n",
            " 0\n",
            " 0\n",
            " 0\n",
            " 0\n",
            " 0\n",
            " 0\n",
            " 0\n",
            " 0\n",
            " 0\n",
            " 0\n",
            " 0\n",
            " 0\n",
            " 0\n",
            " 0\n",
            " 0\n",
            " 0\n",
            " 0\n",
            " 0\n",
            " 0\n",
            " 0\n",
            " 0\n",
            " 0\n",
            " 0\n",
            " 0\n",
            " 0\n",
            " 0\n",
            " 0\n",
            " 0\n",
            " 0\n",
            " 0\n",
            " 0\n",
            " 0\n",
            " 0\n",
            " 0\n",
            " 0\n",
            " 1\n",
            " 0\n",
            " 0\n",
            " 0\n",
            " 0\n",
            " 0\n",
            " 0\n",
            " 0\n",
            " 0\n",
            " 0\n",
            " 1\n",
            " 0\n",
            " 0\n",
            " 0\n",
            " 0\n",
            " 0\n",
            " 0\n",
            " 0\n",
            " 0\n",
            " 0\n",
            " 0\n",
            " 0\n",
            " 0\n",
            " 0\n",
            " 0\n",
            " 0\n",
            " 0\n",
            " 0\n",
            " 0\n",
            " 0\n",
            " 0\n",
            " 0\n",
            " 0\n",
            " 0\n",
            " 0\n",
            " 0\n",
            " 0\n",
            " 0\n",
            " 0\n",
            " 0\n",
            " 0\n",
            " 0\n",
            " 0\n",
            " 1\n",
            " 0\n",
            " 0\n",
            " 0\n",
            " 0\n",
            " 0\n",
            " 0\n",
            " 0\n",
            " 1\n",
            " 0\n",
            " 0\n",
            " 0\n",
            " 0\n",
            " 0\n",
            " 0\n",
            "[torch.FloatTensor of size 228]\n",
            "\n"
          ],
          "name": "stdout"
        }
      ]
    },
    {
      "metadata": {
        "id": "cQAQrfMJRtv3",
        "colab_type": "text"
      },
      "cell_type": "markdown",
      "source": [
        "\n",
        "# Model"
      ]
    },
    {
      "metadata": {
        "id": "jNxCNVyu98GF",
        "colab_type": "code",
        "colab": {
          "autoexec": {
            "startup": false,
            "wait_interval": 0
          }
        }
      },
      "cell_type": "code",
      "source": [
        "def create_model(arch, pretrained=True, resume=False, distributed=False):\n",
        "  if pretrained:\n",
        "      print(\"=> using pre-trained model '{}'\".format(arch))\n",
        "      model = models.__dict__[arch](pretrained=True)\n",
        "  else:\n",
        "      print(\"=> creating model '{}'\".format(arch))\n",
        "      model = models.__dict__[arch]()\n",
        "\n",
        "  if not distributed:\n",
        "      if arch.startswith('alexnet') or arch.startswith('vgg'):\n",
        "          model.features = torch.nn.DataParallel(model.features)\n",
        "          model.cuda()\n",
        "      else:\n",
        "          model = torch.nn.DataParallel(model).cuda()\n",
        "  else:\n",
        "      model.cuda()\n",
        "      model = torch.nn.parallel.DistributedDataParallel(model)\n"
      ],
      "execution_count": 0,
      "outputs": []
    },
    {
      "metadata": {
        "id": "CDhvVsKk_cNI",
        "colab_type": "code",
        "colab": {
          "autoexec": {
            "startup": false,
            "wait_interval": 0
          },
          "base_uri": "https://localhost:8080/",
          "height": 68
        },
        "outputId": "b6b1b8de-2085-4fdb-c66c-ef089a54bab4",
        "executionInfo": {
          "status": "ok",
          "timestamp": 1526928778787,
          "user_tz": -330,
          "elapsed": 6276,
          "user": {
            "displayName": "Sourabh Daptardar",
            "photoUrl": "//lh4.googleusercontent.com/-onn5Q0_MiKQ/AAAAAAAAAAI/AAAAAAAACDI/iOxkSEz16nA/s50-c-k-no/photo.jpg",
            "userId": "115812262388010820083"
          }
        }
      },
      "cell_type": "code",
      "source": [
        "model = create_model(arch, pretrained=pretrained, resume=resume, distributed=distributed)"
      ],
      "execution_count": 33,
      "outputs": [
        {
          "output_type": "stream",
          "text": [
            "=> using pre-trained model 'resnet50'\n"
          ],
          "name": "stdout"
        },
        {
          "output_type": "stream",
          "text": [
            "Downloading: \"https://download.pytorch.org/models/resnet50-19c8e357.pth\" to /content/.torch/models/resnet50-19c8e357.pth\n",
            "100%|██████████| 102502400/102502400 [00:02<00:00, 38249334.18it/s]\n"
          ],
          "name": "stderr"
        }
      ]
    },
    {
      "metadata": {
        "id": "VIILcEp9Rtz-",
        "colab_type": "text"
      },
      "cell_type": "markdown",
      "source": [
        "# Loss Function\n"
      ]
    },
    {
      "metadata": {
        "id": "PICCxotzRt4z",
        "colab_type": "text"
      },
      "cell_type": "markdown",
      "source": [
        "# Update Rule"
      ]
    },
    {
      "metadata": {
        "id": "tCm_msJ0RuIu",
        "colab_type": "text"
      },
      "cell_type": "markdown",
      "source": [
        "# Training Loop\n"
      ]
    },
    {
      "metadata": {
        "id": "gevaiXFORuTH",
        "colab_type": "text"
      },
      "cell_type": "markdown",
      "source": [
        "# Save Results"
      ]
    },
    {
      "metadata": {
        "id": "XlL1brDNRucP",
        "colab_type": "text"
      },
      "cell_type": "markdown",
      "source": [
        ""
      ]
    },
    {
      "metadata": {
        "id": "PT9Shf_MRhui",
        "colab_type": "code",
        "colab": {
          "autoexec": {
            "startup": false,
            "wait_interval": 0
          }
        }
      },
      "cell_type": "code",
      "source": [
        ""
      ],
      "execution_count": 0,
      "outputs": []
    }
  ]
}