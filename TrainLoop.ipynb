{
 "cells": [
  {
   "cell_type": "markdown",
   "metadata": {
    "colab_type": "text",
    "id": "4OGEu9nITbnO"
   },
   "source": [
    "# Install Torch"
   ]
  },
  {
   "cell_type": "code",
   "execution_count": 1,
   "metadata": {
    "colab": {
     "autoexec": {
      "startup": false,
      "wait_interval": 0
     }
    },
    "colab_type": "code",
    "id": "uX687hj69g9g"
   },
   "outputs": [],
   "source": [
    "torchver = \"0.4.0\""
   ]
  },
  {
   "cell_type": "code",
   "execution_count": 2,
   "metadata": {
    "colab": {
     "autoexec": {
      "startup": false,
      "wait_interval": 0
     },
     "base_uri": "https://localhost:8080/",
     "height": 306
    },
    "colab_type": "code",
    "executionInfo": {
     "elapsed": 1967,
     "status": "ok",
     "timestamp": 1527015382182,
     "user": {
      "displayName": "Sourabh Daptardar",
      "photoUrl": "//lh4.googleusercontent.com/-onn5Q0_MiKQ/AAAAAAAAAAI/AAAAAAAACDI/iOxkSEz16nA/s50-c-k-no/photo.jpg",
      "userId": "115812262388010820083"
     },
     "user_tz": -330
    },
    "id": "_gX52NUpzIYC",
    "outputId": "311649d4-8385-4c39-b984-1846818c2388"
   },
   "outputs": [
    {
     "name": "stdout",
     "output_type": "stream",
     "text": [
      "/bin/sh: 1: /opt/bin/nvidia-smi: not found\n",
      "Sun May 27 18:53:02 2018       \n",
      "+-----------------------------------------------------------------------------+\n",
      "| NVIDIA-SMI 390.25                 Driver Version: 390.25                    |\n",
      "|-------------------------------+----------------------+----------------------+\n",
      "| GPU  Name        Persistence-M| Bus-Id        Disp.A | Volatile Uncorr. ECC |\n",
      "| Fan  Temp  Perf  Pwr:Usage/Cap|         Memory-Usage | GPU-Util  Compute M. |\n",
      "|===============================+======================+======================|\n",
      "|   0  GeForce GTX 980     Off  | 00000000:01:00.0  On |                  N/A |\n",
      "|  0%   53C    P5    18W / 185W |    573MiB /  4038MiB |      2%      Default |\n",
      "+-------------------------------+----------------------+----------------------+\n",
      "                                                                               \n",
      "+-----------------------------------------------------------------------------+\n",
      "| Processes:                                                       GPU Memory |\n",
      "|  GPU       PID   Type   Process name                             Usage      |\n",
      "|=============================================================================|\n",
      "|    0      1387      G   /usr/lib/xorg/Xorg                           163MiB |\n",
      "|    0     11196      G   ...-token=799BC3DDF92D7A8F377A757122025ED4   406MiB |\n",
      "+-----------------------------------------------------------------------------+\n"
     ]
    }
   ],
   "source": [
    "!/opt/bin/nvidia-smi || /usr/bin/nvidia-smi"
   ]
  },
  {
   "cell_type": "code",
   "execution_count": 3,
   "metadata": {
    "colab": {
     "autoexec": {
      "startup": false,
      "wait_interval": 0
     },
     "base_uri": "https://localhost:8080/",
     "height": 51
    },
    "colab_type": "code",
    "executionInfo": {
     "elapsed": 2037,
     "status": "ok",
     "timestamp": 1527015384289,
     "user": {
      "displayName": "Sourabh Daptardar",
      "photoUrl": "//lh4.googleusercontent.com/-onn5Q0_MiKQ/AAAAAAAAAAI/AAAAAAAACDI/iOxkSEz16nA/s50-c-k-no/photo.jpg",
      "userId": "115812262388010820083"
     },
     "user_tz": -330
    },
    "id": "Z0wFaqgbE4wI",
    "outputId": "feb79b53-fdc9-45eb-92c7-7dff6334c183"
   },
   "outputs": [
    {
     "name": "stdout",
     "output_type": "stream",
     "text": [
      "ls: cannot access '/colabtools': No such file or directory\r\n"
     ]
    }
   ],
   "source": [
    "!ls /colabtools"
   ]
  },
  {
   "cell_type": "code",
   "execution_count": 4,
   "metadata": {
    "colab": {
     "autoexec": {
      "startup": false,
      "wait_interval": 0
     },
     "base_uri": "https://localhost:8080/",
     "height": 34
    },
    "colab_type": "code",
    "executionInfo": {
     "elapsed": 2121,
     "status": "ok",
     "timestamp": 1527015386438,
     "user": {
      "displayName": "Sourabh Daptardar",
      "photoUrl": "//lh4.googleusercontent.com/-onn5Q0_MiKQ/AAAAAAAAAAI/AAAAAAAACDI/iOxkSEz16nA/s50-c-k-no/photo.jpg",
      "userId": "115812262388010820083"
     },
     "user_tz": -330
    },
    "id": "G4WvjiCDzWPR",
    "outputId": "708f088a-9f78-4a08-9811-145b8874105b"
   },
   "outputs": [
    {
     "name": "stdout",
     "output_type": "stream",
     "text": [
      "Python 3.6.5 :: Anaconda, Inc.\r\n"
     ]
    }
   ],
   "source": [
    "!python --version"
   ]
  },
  {
   "cell_type": "code",
   "execution_count": null,
   "metadata": {
    "colab": {
     "autoexec": {
      "startup": false,
      "wait_interval": 0
     }
    },
    "colab_type": "code",
    "id": "g7awEd2R91eS"
   },
   "outputs": [],
   "source": []
  },
  {
   "cell_type": "code",
   "execution_count": 5,
   "metadata": {
    "colab": {
     "autoexec": {
      "startup": false,
      "wait_interval": 0
     },
     "base_uri": "https://localhost:8080/",
     "height": 187
    },
    "colab_type": "code",
    "executionInfo": {
     "elapsed": 5041,
     "status": "ok",
     "timestamp": 1527015392777,
     "user": {
      "displayName": "Sourabh Daptardar",
      "photoUrl": "//lh4.googleusercontent.com/-onn5Q0_MiKQ/AAAAAAAAAAI/AAAAAAAACDI/iOxkSEz16nA/s50-c-k-no/photo.jpg",
      "userId": "115812262388010820083"
     },
     "user_tz": -330
    },
    "id": "z85P4eDZNSdu",
    "outputId": "26542569-3f96-4bc5-de5b-3d8c51c98f75"
   },
   "outputs": [
    {
     "name": "stdout",
     "output_type": "stream",
     "text": [
      "Uninstalling Pillow-5.1.0:\n",
      "  Successfully uninstalled Pillow-5.1.0\n",
      "Collecting pillow-simd\n",
      "\u001b[31mtensorflow 1.3.0 requires tensorflow-tensorboard<0.2.0,>=0.1.0, which is not installed.\u001b[0m\n",
      "\u001b[31mscikit-image 0.13.0 requires pillow>=2.1.0, which is not installed.\u001b[0m\n",
      "\u001b[31mtorchvision 0.2.0 requires pillow>=4.1.1, which is not installed.\u001b[0m\n",
      "\u001b[31mdjango-haystack 2.8.1 has requirement Django>=1.11, but you'll have django 1.7.11 which is incompatible.\u001b[0m\n",
      "Installing collected packages: pillow-simd\n",
      "  Found existing installation: Pillow-SIMD 5.1.1.post0\n",
      "    Uninstalling Pillow-SIMD-5.1.1.post0:\n",
      "      Successfully uninstalled Pillow-SIMD-5.1.1.post0\n",
      "Successfully installed pillow-simd-5.1.1.post0\n"
     ]
    }
   ],
   "source": [
    "!pip3 uninstall -y pillow\n",
    "!CC=\"cc -mavx2\" pip3 install -U --force-reinstall pillow-simd\n"
   ]
  },
  {
   "cell_type": "code",
   "execution_count": 6,
   "metadata": {
    "colab": {
     "autoexec": {
      "startup": false,
      "wait_interval": 0
     },
     "base_uri": "https://localhost:8080/",
     "height": 309
    },
    "colab_type": "code",
    "executionInfo": {
     "elapsed": 3414,
     "status": "ok",
     "timestamp": 1527015396225,
     "user": {
      "displayName": "Sourabh Daptardar",
      "photoUrl": "//lh4.googleusercontent.com/-onn5Q0_MiKQ/AAAAAAAAAAI/AAAAAAAACDI/iOxkSEz16nA/s50-c-k-no/photo.jpg",
      "userId": "115812262388010820083"
     },
     "user_tz": -330
    },
    "id": "7FiDFXCiT8wS",
    "outputId": "6a582c41-86d8-4fac-bdfd-b1008bba2099"
   },
   "outputs": [
    {
     "name": "stdout",
     "output_type": "stream",
     "text": [
      "Requirement already satisfied: ipdb in /home/sourabhd/installs/miniconda3/envs/py3k/lib/python3.6/site-packages (0.11)\n",
      "Requirement already satisfied: ipython>=5.0.0; python_version >= \"3.3\" in /home/sourabhd/installs/miniconda3/envs/py3k/lib/python3.6/site-packages (from ipdb) (6.4.0)\n",
      "Requirement already satisfied: setuptools in /home/sourabhd/installs/miniconda3/envs/py3k/lib/python3.6/site-packages (from ipdb) (39.2.0)\n",
      "Requirement already satisfied: pexpect; sys_platform != \"win32\" in /home/sourabhd/installs/miniconda3/envs/py3k/lib/python3.6/site-packages (from ipython>=5.0.0; python_version >= \"3.3\"->ipdb) (4.5.0)\n",
      "Requirement already satisfied: pickleshare in /home/sourabhd/installs/miniconda3/envs/py3k/lib/python3.6/site-packages (from ipython>=5.0.0; python_version >= \"3.3\"->ipdb) (0.7.4)\n",
      "Requirement already satisfied: backcall in /home/sourabhd/installs/miniconda3/envs/py3k/lib/python3.6/site-packages (from ipython>=5.0.0; python_version >= \"3.3\"->ipdb) (0.1.0)\n",
      "Requirement already satisfied: decorator in /home/sourabhd/installs/miniconda3/envs/py3k/lib/python3.6/site-packages (from ipython>=5.0.0; python_version >= \"3.3\"->ipdb) (4.3.0)\n",
      "Requirement already satisfied: simplegeneric>0.8 in /home/sourabhd/installs/miniconda3/envs/py3k/lib/python3.6/site-packages (from ipython>=5.0.0; python_version >= \"3.3\"->ipdb) (0.8.1)\n",
      "Requirement already satisfied: traitlets>=4.2 in /home/sourabhd/installs/miniconda3/envs/py3k/lib/python3.6/site-packages (from ipython>=5.0.0; python_version >= \"3.3\"->ipdb) (4.3.2)\n",
      "Requirement already satisfied: prompt-toolkit<2.0.0,>=1.0.15 in /home/sourabhd/installs/miniconda3/envs/py3k/lib/python3.6/site-packages (from ipython>=5.0.0; python_version >= \"3.3\"->ipdb) (1.0.15)\n",
      "Requirement already satisfied: jedi>=0.10 in /home/sourabhd/installs/miniconda3/envs/py3k/lib/python3.6/site-packages (from ipython>=5.0.0; python_version >= \"3.3\"->ipdb) (0.12.0)\n",
      "Requirement already satisfied: pygments in /home/sourabhd/installs/miniconda3/envs/py3k/lib/python3.6/site-packages (from ipython>=5.0.0; python_version >= \"3.3\"->ipdb) (2.2.0)\n",
      "Requirement already satisfied: ptyprocess>=0.5 in /home/sourabhd/installs/miniconda3/envs/py3k/lib/python3.6/site-packages (from pexpect; sys_platform != \"win32\"->ipython>=5.0.0; python_version >= \"3.3\"->ipdb) (0.5.2)\n",
      "Requirement already satisfied: ipython_genutils in /home/sourabhd/installs/miniconda3/envs/py3k/lib/python3.6/site-packages (from traitlets>=4.2->ipython>=5.0.0; python_version >= \"3.3\"->ipdb) (0.2.0)\n",
      "Requirement already satisfied: six in /home/sourabhd/installs/miniconda3/envs/py3k/lib/python3.6/site-packages (from traitlets>=4.2->ipython>=5.0.0; python_version >= \"3.3\"->ipdb) (1.11.0)\n",
      "Requirement already satisfied: wcwidth in /home/sourabhd/installs/miniconda3/envs/py3k/lib/python3.6/site-packages (from prompt-toolkit<2.0.0,>=1.0.15->ipython>=5.0.0; python_version >= \"3.3\"->ipdb) (0.1.7)\n",
      "Requirement already satisfied: parso>=0.2.0 in /home/sourabhd/installs/miniconda3/envs/py3k/lib/python3.6/site-packages (from jedi>=0.10->ipython>=5.0.0; python_version >= \"3.3\"->ipdb) (0.2.0)\n",
      "\u001b[31mtensorflow 1.3.0 requires tensorflow-tensorboard<0.2.0,>=0.1.0, which is not installed.\u001b[0m\n",
      "\u001b[31mscikit-image 0.13.0 requires pillow>=2.1.0, which is not installed.\u001b[0m\n",
      "\u001b[31mtorchvision 0.2.0 requires pillow>=4.1.1, which is not installed.\u001b[0m\n",
      "\u001b[31mdjango-haystack 2.8.1 has requirement Django>=1.11, but you'll have django 1.7.11 which is incompatible.\u001b[0m\n"
     ]
    }
   ],
   "source": [
    "\n",
    "!pip3 install ipdb\n"
   ]
  },
  {
   "cell_type": "code",
   "execution_count": 7,
   "metadata": {
    "colab": {
     "autoexec": {
      "startup": false,
      "wait_interval": 0
     },
     "base_uri": "https://localhost:8080/",
     "height": 272
    },
    "colab_type": "code",
    "executionInfo": {
     "elapsed": 6145,
     "status": "ok",
     "timestamp": 1527015402414,
     "user": {
      "displayName": "Sourabh Daptardar",
      "photoUrl": "//lh4.googleusercontent.com/-onn5Q0_MiKQ/AAAAAAAAAAI/AAAAAAAACDI/iOxkSEz16nA/s50-c-k-no/photo.jpg",
      "userId": "115812262388010820083"
     },
     "user_tz": -330
    },
    "id": "TAP3KzaO_3mr",
    "outputId": "d48fd867-01ff-479d-a37e-82c0ac00ce44"
   },
   "outputs": [
    {
     "name": "stdout",
     "output_type": "stream",
     "text": [
      "36\n",
      "cu91\n",
      "http://download.pytorch.org/whl/cu91/torch-0.4.0-cp36-cp36m-linux_x86_64.whl\n",
      "Requirement already satisfied: torch==0.4.0 from http://download.pytorch.org/whl/cu91/torch-0.4.0-cp36-cp36m-linux_x86_64.whl in /home/sourabhd/installs/miniconda3/envs/py3k/lib/python3.6/site-packages (0.4.0)\n",
      "\u001b[31mtensorflow 1.3.0 requires tensorflow-tensorboard<0.2.0,>=0.1.0, which is not installed.\u001b[0m\n",
      "\u001b[31mscikit-image 0.13.0 requires pillow>=2.1.0, which is not installed.\u001b[0m\n",
      "\u001b[31mtorchvision 0.2.0 requires pillow>=4.1.1, which is not installed.\u001b[0m\n",
      "\u001b[31mdjango-haystack 2.8.1 has requirement Django>=1.11, but you'll have django 1.7.11 which is incompatible.\u001b[0m\n",
      "Requirement already satisfied: torchvision in /home/sourabhd/installs/miniconda3/envs/py3k/lib/python3.6/site-packages/torchvision-0.2.0-py3.6.egg (0.2.0)\n",
      "Requirement already satisfied: numpy in /home/sourabhd/installs/miniconda3/envs/py3k/lib/python3.6/site-packages (from torchvision) (1.14.3)\n",
      "Collecting pillow>=4.1.1 (from torchvision)\n",
      "  Using cached https://files.pythonhosted.org/packages/5f/4b/8b54ab9d37b93998c81b364557dff9f61972c0f650efa0ceaf470b392740/Pillow-5.1.0-cp36-cp36m-manylinux1_x86_64.whl\n",
      "Requirement already satisfied: six in /home/sourabhd/installs/miniconda3/envs/py3k/lib/python3.6/site-packages (from torchvision) (1.11.0)\n",
      "Requirement already satisfied: torch in /home/sourabhd/installs/miniconda3/envs/py3k/lib/python3.6/site-packages (from torchvision) (0.4.0)\n",
      "\u001b[31mtensorflow 1.3.0 requires tensorflow-tensorboard<0.2.0,>=0.1.0, which is not installed.\u001b[0m\n",
      "\u001b[31mdjango-haystack 2.8.1 has requirement Django>=1.11, but you'll have django 1.7.11 which is incompatible.\u001b[0m\n",
      "Installing collected packages: pillow\n",
      "Successfully installed pillow-5.1.0\n",
      "PIL\n"
     ]
    }
   ],
   "source": [
    "\n",
    "from os import path\n",
    "from wheel.pep425tags import get_abbr_impl, get_impl_ver, get_abi_tag\n",
    "platform = '{}{}-{}'.format(get_abbr_impl(), get_impl_ver(), get_abi_tag())\n",
    "\n",
    "pver = !python --version |& awk '{print $2 }' | awk -F. '{ print $1$2}'\n",
    "pyver = pver[0]\n",
    "print(pyver)\n",
    "\n",
    "# cver = !echo \"cu`nvcc --version | sed \"s/ /\\n/g\" | grep -i release -A 1 | tail -n 1 | tr -d [\\.,]`\"\n",
    "# cudaver = cver[0]\n",
    "cudaver = 'cu91'\n",
    "\n",
    "accelerator =  cudaver if path.exists('/opt/bin/nvidia-smi') or path.exists('/usr/bin/nvidia-smi') else 'cpu'\n",
    "print(accelerator)\n",
    "\n",
    "torchurl = \"http://download.pytorch.org/whl/{0}/torch-{1}-cp{2}-cp{2}m-linux_x86_64.whl\".format(accelerator, torchver, pyver)\n",
    "print(torchurl)\n",
    "\n",
    "!pip3 install http://download.pytorch.org/whl/cu91/torch-0.4.0-cp36-cp36m-linux_x86_64.whl \n",
    "!pip3 install torchvision\n",
    "\n",
    "import torch\n",
    "import torchvision\n",
    "print(torchvision.get_image_backend())"
   ]
  },
  {
   "cell_type": "code",
   "execution_count": 8,
   "metadata": {
    "colab": {
     "autoexec": {
      "startup": false,
      "wait_interval": 0
     },
     "base_uri": "https://localhost:8080/",
     "height": 34
    },
    "colab_type": "code",
    "executionInfo": {
     "elapsed": 3083,
     "status": "ok",
     "timestamp": 1527015405574,
     "user": {
      "displayName": "Sourabh Daptardar",
      "photoUrl": "//lh4.googleusercontent.com/-onn5Q0_MiKQ/AAAAAAAAAAI/AAAAAAAACDI/iOxkSEz16nA/s50-c-k-no/photo.jpg",
      "userId": "115812262388010820083"
     },
     "user_tz": -330
    },
    "id": "a4CFa1WLgoUX",
    "outputId": "cd632861-265b-4c66-bc57-fd7e2d6228ff"
   },
   "outputs": [
    {
     "name": "stdout",
     "output_type": "stream",
     "text": [
      "Requirement already satisfied: tqdm in /home/sourabhd/installs/miniconda3/envs/py3k/lib/python3.6/site-packages (4.19.4)\n",
      "\u001b[31mtensorflow 1.3.0 requires tensorflow-tensorboard<0.2.0,>=0.1.0, which is not installed.\u001b[0m\n",
      "\u001b[31mdjango-haystack 2.8.1 has requirement Django>=1.11, but you'll have django 1.7.11 which is incompatible.\u001b[0m\n"
     ]
    }
   ],
   "source": [
    "!pip3 install tqdm"
   ]
  },
  {
   "cell_type": "markdown",
   "metadata": {
    "colab_type": "text",
    "id": "GZt8MRT5RfK6"
   },
   "source": [
    "# Imports"
   ]
  },
  {
   "cell_type": "code",
   "execution_count": 9,
   "metadata": {
    "colab": {
     "autoexec": {
      "startup": false,
      "wait_interval": 0
     }
    },
    "colab_type": "code",
    "id": "ZptSyG9oSN1c"
   },
   "outputs": [],
   "source": [
    "import torch\n",
    "import os\n",
    "import sys\n",
    "import logging\n",
    "import io\n",
    "import time\n",
    "import shutil\n",
    "from tqdm import tqdm\n",
    "from matplotlib.pyplot import imshow\n",
    "import numpy as np\n",
    "from PIL import Image\n",
    "import torch\n",
    "import torch.nn as nn\n",
    "import torch.nn.parallel\n",
    "import torch.backends.cudnn as cudnn\n",
    "import torch.distributed as dist\n",
    "import torch.optim as optim\n",
    "import torch.optim.lr_scheduler as lr_scheduler\n",
    "import torch.utils.data\n",
    "import torch.utils.data.distributed\n",
    "import torchvision.transforms as transforms\n",
    "import torchvision.datasets as datasets\n",
    "import torchvision.models as models\n",
    "from argparse import Namespace\n",
    "from collections import OrderedDict"
   ]
  },
  {
   "cell_type": "code",
   "execution_count": 10,
   "metadata": {
    "colab": {
     "autoexec": {
      "startup": false,
      "wait_interval": 0
     }
    },
    "colab_type": "code",
    "id": "IEEo0VYsZhvO"
   },
   "outputs": [],
   "source": [
    "%matplotlib inline"
   ]
  },
  {
   "cell_type": "markdown",
   "metadata": {
    "colab_type": "text",
    "id": "N1BQLwQTWcKU"
   },
   "source": [
    "# Parameters"
   ]
  },
  {
   "cell_type": "code",
   "execution_count": null,
   "metadata": {},
   "outputs": [],
   "source": []
  },
  {
   "cell_type": "code",
   "execution_count": 11,
   "metadata": {
    "colab": {
     "autoexec": {
      "startup": false,
      "wait_interval": 0
     }
    },
    "colab_type": "code",
    "id": "eM2a7qmqWh3Q"
   },
   "outputs": [],
   "source": [
    "args = Namespace()\n",
    "# base_dir = '/content/fashion'\n",
    "args.base_dir = '/data/datasets/kaggle_fashion'\n",
    "args.data_dir = args.base_dir + os.sep + 'data'\n",
    "args.input_dir = args.data_dir + os.sep + 'input'\n",
    "args.output_dir = args.data_dir + os.sep + 'output'\n",
    "args.train_zip = args.input_dir + os.sep + 'train_data.zip'\n",
    "args.val_zip = args.input_dir + os.sep + 'validation_data.zip'\n",
    "args.train_dir = args.input_dir + os.sep + 'img_train'\n",
    "args.val_dir = args.input_dir + os.sep + 'img_val'\n",
    "args.test_dir = args.input_dir + os.sep + 'img_test'\n",
    "args.train_id = \"1rx1rL8RUAggN4hKlrYLtpdQagtUWmIbO\"\n",
    "args.val_id = \"1U19eWiBFJ6wGcFk47l6g9mmoWp1i4hPY\"\n",
    "# args.train_labels_id = \"1NOoWniR3ioqPKbVWoaWGy4HPDzZAAJX9\"\n",
    "args.train_labels_id = \"1X7TpWyxxtmCT5rw__7OKus_W4fh8xpKO\" # small dataset\n",
    "args.val_labels_id = \"1d9RuQTx5E8qFxraIu6B4rDTOC4sx2xXT\"\n",
    "args.test_labels_id = \"1VwzGCJfOL13pk1Wi-xPHQ6mVnofy9_Z4\"\n",
    "# args.train_labels_json = args.input_dir + os.sep + 'train.json'\n",
    "# args.train_labels_json = args.input_dir + os.sep + 'train_small.json' \n",
    "args.train_labels_json = args.input_dir + os.sep + 'train_tiny.json' \n",
    "args.val_labels_json = args.input_dir + os.sep + 'validation.json'\n",
    "args.test_labels_json = args.input_dir + os.sep + 'test.json'\n",
    "args.debug_weights = True\n",
    "args.test_overfit = True\n",
    "args.num_labels = 228\n",
    "args.batch_size = 16\n",
    "args.image_min_size = 256\n",
    "args.nw_input_size = 224\n",
    "args.num_workers = 4\n",
    "args.imagenet_mean = [0.485, 0.456, 0.406]\n",
    "args.imagenet_std = [0.229, 0.224, 0.225]\n",
    "args.pretrain_dset_mean = args.imagenet_mean\n",
    "args.pretrain_dset_std = args.imagenet_std\n",
    "args.world_size = 1\n",
    "args.dist_url = 'file://' + args.output_dir + os.sep + 'dfile'\n",
    "args.dist_backend = 'gloo'\n",
    "args.distributed = args.world_size > 1\n",
    "args.arch = 'resnet101'\n",
    "args.fv_size = 2048\n",
    "args.pretrained = True\n",
    "args.resume = False\n",
    "args.start_epoch = 0\n",
    "args.small=1e-12                         # small value used for avoiding div by zero\n",
    "args.optimizer_learning_rate = 1e-4      # Adam optimizer initial learning rate\n",
    "args.scheduler_patience = 1              # Number of epochs with no improvement after which learning rate will be reduced\n",
    "args.scheduler_threshold = 1e-6          # learning rate scheduler threshold for measuring the new optimum, to only focus on significant changes\n",
    "args.scheduler_factor = 0.1        # learning rate scheduler factor by which the learning rate will be reduced. new_lr = lr * factor\n",
    "args.earlystopping_patience = 1          # early stopping patience is the number of epochs with no improvement after which training will be stopped\n",
    "args.earlystopping_min_delta = 1e-5      # minimum change in the monitored quantity to qualify as an improvement, i.e. an absolute change of less than min_delta, will count as no improvement\n",
    "args.evaluate = False\n",
    "args.epochs = 2\n",
    "args.print_freq = args.batch_size\n",
    "args.ckpt_dir = args.output_dir + os.sep + 'ckpt'\n",
    "args.ckpt = args.ckpt_dir + os.sep + 'ckpt_%s.pth.tar' % (args.arch,)\n",
    "args.best = args.ckpt_dir + os.sep + 'best_%s.pth.tar' % (args.arch,)"
   ]
  },
  {
   "cell_type": "code",
   "execution_count": 12,
   "metadata": {
    "colab": {
     "autoexec": {
      "startup": false,
      "wait_interval": 0
     },
     "base_uri": "https://localhost:8080/",
     "height": 928
    },
    "colab_type": "code",
    "executionInfo": {
     "elapsed": 1332,
     "status": "error",
     "timestamp": 1527015425722,
     "user": {
      "displayName": "Sourabh Daptardar",
      "photoUrl": "//lh4.googleusercontent.com/-onn5Q0_MiKQ/AAAAAAAAAAI/AAAAAAAACDI/iOxkSEz16nA/s50-c-k-no/photo.jpg",
      "userId": "115812262388010820083"
     },
     "user_tz": -330
    },
    "id": "90hY9m66UYPd",
    "outputId": "de44a4f5-386e-4243-b3bb-2da97134ce99"
   },
   "outputs": [
    {
     "name": "stdout",
     "output_type": "stream",
     "text": [
      "7102\n",
      "True\n",
      "GeForce GTX 980\n"
     ]
    }
   ],
   "source": [
    "print(torch.backends.cudnn.version())\n",
    "print(torch.cuda.is_available())\n",
    "print(torch.cuda.get_device_name(0))\n"
   ]
  },
  {
   "cell_type": "code",
   "execution_count": 13,
   "metadata": {
    "colab": {
     "autoexec": {
      "startup": false,
      "wait_interval": 0
     }
    },
    "colab_type": "code",
    "id": "Kc-OLRcoHDBl"
   },
   "outputs": [],
   "source": [
    "cudnn.benchmark = True"
   ]
  },
  {
   "cell_type": "code",
   "execution_count": 14,
   "metadata": {
    "colab": {
     "autoexec": {
      "startup": false,
      "wait_interval": 0
     }
    },
    "colab_type": "code",
    "id": "jB9hgpyUfbqG"
   },
   "outputs": [],
   "source": [
    "os.makedirs(args.base_dir, exist_ok=True)\n",
    "os.makedirs(args.data_dir, exist_ok=True)\n",
    "os.makedirs(args.input_dir, exist_ok=True)\n",
    "os.makedirs(args.output_dir, exist_ok=True)\n",
    "os.makedirs(args.ckpt_dir, exist_ok=True)"
   ]
  },
  {
   "cell_type": "markdown",
   "metadata": {
    "colab_type": "text",
    "id": "dBC_aI1vRknn"
   },
   "source": [
    "# Download Dataset"
   ]
  },
  {
   "cell_type": "code",
   "execution_count": 15,
   "metadata": {
    "colab": {
     "autoexec": {
      "startup": false,
      "wait_interval": 0
     }
    },
    "colab_type": "code",
    "id": "g5eP3RxWV5L5"
   },
   "outputs": [],
   "source": [
    "# from google.colab import auth\n",
    "# auth.authenticate_user()"
   ]
  },
  {
   "cell_type": "code",
   "execution_count": 16,
   "metadata": {
    "colab": {
     "autoexec": {
      "startup": false,
      "wait_interval": 0
     }
    },
    "colab_type": "code",
    "id": "68MYkyHJWP0m"
   },
   "outputs": [],
   "source": [
    "# from googleapiclient.discovery import build\n",
    "# import io\n",
    "# from googleapiclient.http import MediaIoBaseDownload\n",
    "# import json\n",
    "\n",
    "# def md5_hash(fname, blocksize=4096):\n",
    "#     \"\"\" compute md5hash of a file \"\"\"\n",
    "#     import hashlib\n",
    "#     hash = ''\n",
    "#     if not os.path.exists(fname):\n",
    "#         errmsg = \"File %s does not exist\" % (fname)\n",
    "#         print(errmsg)\n",
    "#         return ''\n",
    "#     try:\n",
    "#         hasher = hashlib.md5()\n",
    "#         with open(fname, 'rb') as f:\n",
    "#             buf = f.read(blocksize)\n",
    "#             while len(buf) > 0:\n",
    "#                 hasher.update(buf)\n",
    "#                 buf = f.read(blocksize)\n",
    "#         hash = hasher.hexdigest()\n",
    "#     except:\n",
    "#         print(\"Exception in hashing file\")\n",
    "#         raise\n",
    "#     return hash\n",
    "\n",
    "# def _download(drive_service, file_id, loc):\n",
    "#   request = drive_service.files().get_media(fileId=file_id)\n",
    "#   fh = io.FileIO(loc, mode='wb')\n",
    "#   downloader = MediaIoBaseDownload(fh, request, chunksize=1024*1024)\n",
    "#   prev_progress = 0\n",
    "#   done = False\n",
    "#   with tqdm(total=100) as pbar:\n",
    "#     while done is False:\n",
    "#       status, done = downloader.next_chunk()\n",
    "#       if status:\n",
    "#         # print(\"Download %d%%.\" % int(status.progress() * 100))\n",
    "#         pbar.update(int(100 *(status.progress() - prev_progress)))\n",
    "#         prev_progress = status.progress()\n",
    "#   print(\"Download Complete!\")\n",
    "#   file_size = os.path.getsize(loc)\n",
    "#   print(\"Downloaded %d bytes\" % (file_size))\n",
    "\n",
    "# def download(file_id, loc):\n",
    "#   \"\"\"Downloads a file to local file system.\"\"\"  \n",
    "#   drive_service = build('drive', 'v3')\n",
    "  \n",
    "#   request_mdata = drive_service.files().list(fields=\"files(md5Checksum, originalFilename, id)\")\n",
    "#   rh = io.BytesIO()\n",
    "#   downloader_mdata = MediaIoBaseDownload(rh, request_mdata, chunksize=1024*1024)\n",
    "#   done = False\n",
    "#   while not done:\n",
    "#     _, done = downloader_mdata.next_chunk()\n",
    "#   mdata = json.loads(rh.getvalue())\n",
    "#   found = False\n",
    "#   md5drive = ''\n",
    "#   fname = ''\n",
    "#   for x in mdata['files']:\n",
    "#     if x['id'] == file_id:\n",
    "#       found = True\n",
    "#       md5drive = x['md5Checksum']\n",
    "#       fname = x['originalFilename']\n",
    "#       break\n",
    "#   if not found:\n",
    "#     print(\"{:s} : not found on gdrive\".format(file_id))\n",
    "#   else:\n",
    "#     if os.path.exists(loc):\n",
    "#       if md5drive == md5_hash(loc):\n",
    "#         print(\"{:s} : file already present on colab\".format(loc))\n",
    "#       else:\n",
    "#         print(\"{:s} [gdrive] and {:s} [colab] : md5 mismatch ... downloading\".format(fname, loc))\n",
    "#         _download(drive_service, file_id, loc)\n",
    "#     else:\n",
    "#       print(\"{:s} not present on colab ... downloading ...\".format(loc))\n",
    "#       _download(drive_service, file_id, loc)\n",
    "        \n"
   ]
  },
  {
   "cell_type": "code",
   "execution_count": 17,
   "metadata": {
    "colab": {
     "autoexec": {
      "startup": false,
      "wait_interval": 0
     },
     "base_uri": "https://localhost:8080/",
     "height": 102
    },
    "colab_type": "code",
    "executionInfo": {
     "elapsed": 8187,
     "status": "ok",
     "timestamp": 1527001525917,
     "user": {
      "displayName": "Sourabh Daptardar",
      "photoUrl": "//lh4.googleusercontent.com/-onn5Q0_MiKQ/AAAAAAAAAAI/AAAAAAAACDI/iOxkSEz16nA/s50-c-k-no/photo.jpg",
      "userId": "115812262388010820083"
     },
     "user_tz": -330
    },
    "id": "jOBHlpMKaE-F",
    "outputId": "71d5fe19-81cd-4428-90c7-8e0f720772b4"
   },
   "outputs": [],
   "source": [
    "# download(args.train_id, args.train_zip)\n",
    "# download(args.val_id, args.val_zip)\n",
    "# download(args.train_labels_id, args.train_labels_json)\n",
    "# download(args.val_labels_id, args.val_labels_json)\n",
    "# download(args.test_labels_id, args.test_labels_json)"
   ]
  },
  {
   "cell_type": "code",
   "execution_count": 18,
   "metadata": {
    "colab": {
     "autoexec": {
      "startup": false,
      "wait_interval": 0
     }
    },
    "colab_type": "code",
    "id": "mA1kgVVEdSWI"
   },
   "outputs": [],
   "source": [
    "# import shutil\n",
    "# shutil.unpack_archive(args.train_zip, args.input_dir)\n",
    "# shutil.unpack_archive(args.val_zip, args.input_dir)\n"
   ]
  },
  {
   "cell_type": "code",
   "execution_count": 19,
   "metadata": {
    "colab": {
     "autoexec": {
      "startup": false,
      "wait_interval": 0
     },
     "base_uri": "https://localhost:8080/",
     "height": 153
    },
    "colab_type": "code",
    "executionInfo": {
     "elapsed": 2944,
     "status": "ok",
     "timestamp": 1527001543581,
     "user": {
      "displayName": "Sourabh Daptardar",
      "photoUrl": "//lh4.googleusercontent.com/-onn5Q0_MiKQ/AAAAAAAAAAI/AAAAAAAACDI/iOxkSEz16nA/s50-c-k-no/photo.jpg",
      "userId": "115812262388010820083"
     },
     "user_tz": -330
    },
    "id": "X4Eugqw2fJRQ",
    "outputId": "76b1998f-7f77-4cfb-ea39-39fa50283aca"
   },
   "outputs": [],
   "source": [
    "# !ls -ltr /content/fashion/data/input"
   ]
  },
  {
   "cell_type": "code",
   "execution_count": 20,
   "metadata": {
    "colab": {
     "autoexec": {
      "startup": false,
      "wait_interval": 0
     },
     "base_uri": "https://localhost:8080/",
     "height": 204
    },
    "colab_type": "code",
    "executionInfo": {
     "elapsed": 2245,
     "status": "ok",
     "timestamp": 1527001545898,
     "user": {
      "displayName": "Sourabh Daptardar",
      "photoUrl": "//lh4.googleusercontent.com/-onn5Q0_MiKQ/AAAAAAAAAAI/AAAAAAAACDI/iOxkSEz16nA/s50-c-k-no/photo.jpg",
      "userId": "115812262388010820083"
     },
     "user_tz": -330
    },
    "id": "_XnHDCmclB9B",
    "outputId": "7a665530-a452-41d9-ba5f-578562e6da35"
   },
   "outputs": [],
   "source": [
    "# !ls -ltr /content/fashion/data/input/train_data | head"
   ]
  },
  {
   "cell_type": "code",
   "execution_count": 21,
   "metadata": {
    "colab": {
     "autoexec": {
      "startup": false,
      "wait_interval": 0
     },
     "base_uri": "https://localhost:8080/",
     "height": 204
    },
    "colab_type": "code",
    "executionInfo": {
     "elapsed": 2216,
     "status": "ok",
     "timestamp": 1527001548219,
     "user": {
      "displayName": "Sourabh Daptardar",
      "photoUrl": "//lh4.googleusercontent.com/-onn5Q0_MiKQ/AAAAAAAAAAI/AAAAAAAACDI/iOxkSEz16nA/s50-c-k-no/photo.jpg",
      "userId": "115812262388010820083"
     },
     "user_tz": -330
    },
    "id": "4bmRgA9ilISL",
    "outputId": "db0b777e-bbc6-4326-c467-64779ca51b3b"
   },
   "outputs": [],
   "source": [
    "# !ls -ltr /content/fashion/data/input/validation_data | head"
   ]
  },
  {
   "cell_type": "markdown",
   "metadata": {
    "colab_type": "text",
    "id": "c6LY5l-SRtWw"
   },
   "source": [
    "# Dataset"
   ]
  },
  {
   "cell_type": "code",
   "execution_count": 22,
   "metadata": {
    "colab": {
     "autoexec": {
      "startup": false,
      "wait_interval": 0
     }
    },
    "colab_type": "code",
    "id": "VMcIw45smeZE"
   },
   "outputs": [],
   "source": [
    "import torch.utils.data as data\n",
    "from copy import copy\n",
    "import numpy as np\n",
    "\n",
    "def fetch_labels(annotations, num_labels):\n",
    "  labels = {}\n",
    "  for x in annotations:\n",
    "    arr = np.zeros((num_labels,), dtype=np.float32)\n",
    "    for y in map(int, x['labelId']):\n",
    "      arr[y-1] = 1.0\n",
    "    # 0-indexed\n",
    "    labels[int(x['imageId'])-1] = copy(arr)\n",
    "  return labels\n",
    "\n",
    "def json_to_dict(fpath):\n",
    "  import json\n",
    "  with open(fpath) as f: \n",
    "    D = json.load(f)\n",
    "  return D\n",
    "\n",
    "def get_labelinfo(annotations):\n",
    "  from collections import namedtuple\n",
    "  labelinfo = namedtuple('labelinfo', \"set min max count\")\n",
    "  labelinfo.set = set()\n",
    "  for x in annotations:\n",
    "    labelinfo.set.update(map(int, x['labelId']))\n",
    "  labelinfo.min = min(labelinfo.set)\n",
    "  labelinfo.max = max(labelinfo.set)\n",
    "  labelinfo.count = len(labelinfo.set)\n",
    "  return labelinfo\n",
    "\n",
    "def has_file_allowed_extension(filename, extensions):\n",
    "    \"\"\"Checks if a file is an allowed extension.\n",
    "    Args:\n",
    "        filename (string): path to a file\n",
    "    Returns:\n",
    "        bool: True if the filename ends with a known image extension\n",
    "    \"\"\"\n",
    "    filename_lower = filename.lower()\n",
    "    return any(filename_lower.endswith(ext) for ext in extensions)\n",
    "\n",
    "\n",
    "def pil_loader(path):\n",
    "    from PIL import Image \n",
    "    # open path as file to avoid ResourceWarning (https://github.com/python-pillow/Pillow/issues/835)\n",
    "    with open(path, 'rb') as f:\n",
    "        img = Image.open(f)\n",
    "        return img.convert('RGB')\n",
    "\n",
    "\n",
    "def accimage_loader(path):\n",
    "    import accimage\n",
    "    try:\n",
    "        return accimage.Image(path)\n",
    "    except IOError:\n",
    "        # Potentially a decoding problem, fall back to PIL.Image\n",
    "        return pil_loader(path)\n",
    "\n",
    "\n",
    "def default_loader(path):\n",
    "    from torchvision import get_image_backend\n",
    "    if get_image_backend() == 'accimage':\n",
    "        return accimage_loader(path)\n",
    "    else:\n",
    "        return pil_loader(path)\n",
    "\n",
    "      \n",
    "class FashionDataset(data.Dataset):\n",
    "  \"\"\"Fashion dataset CVPR challenge.\n",
    "     Adapted from torchvision ImageFolder.\n",
    "     Similar to ImageFolder with the following differences:\n",
    "     1. Multilabel\n",
    "     2. Directory structure where all images are directly in the root folder\n",
    "     3. Labels are read from json file\n",
    "   \n",
    "  Args:\n",
    "        root (string): Root directory path.\n",
    "        loader (callable): A function to load a sample given its path.\n",
    "        extensions (list[string]): A list of allowed extensions.\n",
    "        transform (callable, optional): A function/transform that takes in\n",
    "            a sample and returns a transformed version.\n",
    "            E.g, ``transforms.RandomCrop`` for images.\n",
    "        target_transform (callable, optional): A function/transform that takes\n",
    "            in the target and transforms it.\n",
    "    \n",
    "  \"\"\"\n",
    "\n",
    "  def __init__(self, root, metadata_file, num_labels=228, transform=None, target_transform=None,\n",
    "               loader=default_loader, test=False):\n",
    "    extensions = ['.jpg', '.jpeg', '.png', '.ppm', '.bmp', '.pgm', '.tif']\n",
    "    self.test = test\n",
    "    self.num_labels = num_labels\n",
    "    self.images_ = OrderedDict()\n",
    "    self.images = OrderedDict()\n",
    "    self.metadata_file = metadata_file\n",
    "    self.metadata = json_to_dict(self.metadata_file)\n",
    "    self.transform = transform\n",
    "    self.root = root\n",
    "    self.target_transform = target_transform\n",
    "    self.loader = loader\n",
    "    self.corrupt = 0\n",
    "    self.corrupt_ids = set()\n",
    "    self.labels = OrderedDict()\n",
    "    self.labels_ = OrderedDict()\n",
    "    \n",
    "    # Fetch labels\n",
    "    if not self.test:\n",
    "        self.labels_ = fetch_labels(self.metadata['annotations'], self.num_labels)\n",
    "\n",
    "    # Create Image list\n",
    "    for x in self.metadata['images']:\n",
    "      # 0-indexed\n",
    "      self.images_[int(x['imageId'])-1] = '%s%s%d.jpg' % (root, os.sep, int(x['imageId']))\n",
    "        \n",
    "    # Remove corrupt image files\n",
    "    ids = self.images_.keys()\n",
    "    for i in ids:\n",
    "        try:\n",
    "            img = self.loader(self.images_[i])\n",
    "            img.close()\n",
    "        except:\n",
    "            self.corrupt += 1\n",
    "            self.corrupt_ids.add(i)\n",
    "    \n",
    "    for i in ids:\n",
    "        if i not in self.corrupt_ids:\n",
    "            self.images[i] = copy(self.images_[i])\n",
    "            if not self.test:\n",
    "                self.labels[i] = copy(self.labels_[i])\n",
    "    self.image_ids = list(self.images.keys())\n",
    "    \n",
    "    if not self.test:\n",
    "        self.labelinfo = get_labelinfo(self.metadata['annotations'])\n",
    "    \n",
    "  def __getitem__(self, index):\n",
    "        \"\"\"\n",
    "        Args:\n",
    "            index (int): Index\n",
    "        Returns:\n",
    "            tuple: (sample, target) where target is class_index of the target class.\n",
    "        \"\"\"\n",
    "        if not self.test:\n",
    "            path, target = self.images[self.image_ids[index]], self.labels[self.image_ids[index]]\n",
    "        else:\n",
    "            path = self.images[self.image_ids[index]]\n",
    "        sample = self.loader(path)\n",
    "        if self.transform is not None:\n",
    "            sample = self.transform(sample)\n",
    "        if not self.test:\n",
    "            if self.target_transform is not None:\n",
    "                target = self.target_transform(target)\n",
    "        \n",
    "        if self.test:\n",
    "            return sample\n",
    "        else:\n",
    "            return sample, target\n",
    "\n",
    "  def __len__(self):\n",
    "    return len(self.images)\n",
    "  \n",
    "  def __repr__(self):\n",
    "    fmt_str = 'Dataset ' + self.__class__.__name__ + '\\n'\n",
    "    fmt_str += '    Number of datapoints: {}\\n'.format(self.__len__())\n",
    "    fmt_str += '    Number of corrupt datapoints discarded: {}\\n'.format(self.corrupt)\n",
    "    if not self.test:\n",
    "        fmt_str += '    Number of labels: {}\\n'.format(self.labelinfo.count)\n",
    "    fmt_str += '    Root Location: {}\\n'.format(self.root)\n",
    "    fmt_str += '    Metadata file: {}\\n'.format(self.metadata_file)\n",
    "    tmp = '    Transforms (if any): '\n",
    "    fmt_str += '{0}{1}\\n'.format(tmp, self.transform.__repr__().replace('\\n', '\\n' + ' ' * len(tmp)))\n",
    "    if not self.test:\n",
    "        tmp = '    Target Transforms (if any): '\n",
    "        fmt_str += '{0}{1}'.format(tmp, self.target_transform.__repr__().replace('\\n', '\\n' + ' ' * len(tmp)))\n",
    "    tmp = '    Loader: '\n",
    "    fmt_str += '\\n{0}{1}'.format(tmp, self.loader.__name__)\n",
    "    return fmt_str\n",
    "\n",
    "  "
   ]
  },
  {
   "cell_type": "code",
   "execution_count": 23,
   "metadata": {
    "colab": {
     "autoexec": {
      "startup": false,
      "wait_interval": 0
     }
    },
    "colab_type": "code",
    "id": "BuB8IhRXrZzK"
   },
   "outputs": [],
   "source": [
    "import torchvision.transforms as transforms\n",
    "\n",
    "def create_transforms(args):\n",
    "    if args.test_overfit:\n",
    "        train_tform = transforms.Compose([transforms.Resize(args.image_min_size),\n",
    "                                          transforms.CenterCrop(args.nw_input_size),\n",
    "                                          transforms.ToTensor(),\n",
    "                                          transforms.Normalize(mean=args.pretrain_dset_mean,\n",
    "                                                                std=args.pretrain_dset_std)\n",
    "                                         ])\n",
    "    else:\n",
    "        train_tform = transforms.Compose([transforms.RandomResizedCrop(args.nw_input_size),\n",
    "                                          transforms.RandomHorizontalFlip(),\n",
    "                                          transforms.ToTensor(),\n",
    "                                          transforms.Normalize(mean=args.pretrain_dset_mean,\n",
    "                                                                std=args.pretrain_dset_std)\n",
    "                                         ])\n",
    "\n",
    "    val_tform = transforms.Compose([transforms.Resize(args.image_min_size),\n",
    "                                    transforms.CenterCrop(args.nw_input_size),\n",
    "                                    transforms.ToTensor(),\n",
    "                                    transforms.Normalize(mean=args.pretrain_dset_mean,\n",
    "                                                         std=args.pretrain_dset_std)\n",
    "                                   ])\n",
    "    return (train_tform, val_tform)"
   ]
  },
  {
   "cell_type": "code",
   "execution_count": 24,
   "metadata": {},
   "outputs": [],
   "source": [
    "train_tform, val_tform = create_transforms(args)"
   ]
  },
  {
   "cell_type": "code",
   "execution_count": 25,
   "metadata": {
    "colab": {
     "autoexec": {
      "startup": false,
      "wait_interval": 0
     },
     "base_uri": "https://localhost:8080/",
     "height": 459
    },
    "colab_type": "code",
    "executionInfo": {
     "elapsed": 981,
     "status": "ok",
     "timestamp": 1527001551536,
     "user": {
      "displayName": "Sourabh Daptardar",
      "photoUrl": "//lh4.googleusercontent.com/-onn5Q0_MiKQ/AAAAAAAAAAI/AAAAAAAACDI/iOxkSEz16nA/s50-c-k-no/photo.jpg",
      "userId": "115812262388010820083"
     },
     "user_tz": -330
    },
    "id": "b7JjnbO4a1bU",
    "outputId": "d20390c8-2b46-4399-bd70-7486521b4976"
   },
   "outputs": [
    {
     "name": "stdout",
     "output_type": "stream",
     "text": [
      "Dataset FashionDataset\n",
      "    Number of datapoints: 49\n",
      "    Number of corrupt datapoints discarded: 79\n",
      "    Number of labels: 122\n",
      "    Root Location: /data/datasets/kaggle_fashion/data/input/img_train\n",
      "    Metadata file: /data/datasets/kaggle_fashion/data/input/train_tiny.json\n",
      "    Transforms (if any): <torchvision.transforms.transforms.Compose object at 0x7f1833a72390>\n",
      "    Target Transforms (if any): None\n",
      "    Loader: default_loader\n",
      "Dataset FashionDataset\n",
      "    Number of datapoints: 9897\n",
      "    Number of corrupt datapoints discarded: 0\n",
      "    Number of labels: 225\n",
      "    Root Location: /data/datasets/kaggle_fashion/data/input/img_val\n",
      "    Metadata file: /data/datasets/kaggle_fashion/data/input/validation.json\n",
      "    Transforms (if any): <torchvision.transforms.transforms.Compose object at 0x7f1833a72828>\n",
      "    Target Transforms (if any): None\n",
      "    Loader: default_loader\n",
      "Dataset FashionDataset\n",
      "    Number of datapoints: 37577\n",
      "    Number of corrupt datapoints discarded: 2129\n",
      "    Root Location: /data/datasets/kaggle_fashion/data/input/img_test\n",
      "    Metadata file: /data/datasets/kaggle_fashion/data/input/test.json\n",
      "    Transforms (if any): <torchvision.transforms.transforms.Compose object at 0x7f1833a72828>\n",
      "\n",
      "    Loader: default_loader\n"
     ]
    }
   ],
   "source": [
    "train_dset = FashionDataset(args.train_dir, args.train_labels_json, args.num_labels, transform=train_tform)\n",
    "val_dset = FashionDataset(args.val_dir, args.val_labels_json, args.num_labels, transform=val_tform)\n",
    "test_dset = FashionDataset(args.test_dir, args.test_labels_json, args.num_labels, transform=val_tform, test=True) # same transform as validation\n",
    "\n",
    "\n",
    "print(train_dset)\n",
    "print(val_dset)\n",
    "print(test_dset)"
   ]
  },
  {
   "cell_type": "code",
   "execution_count": 26,
   "metadata": {
    "colab": {
     "autoexec": {
      "startup": false,
      "wait_interval": 0
     }
    },
    "colab_type": "code",
    "id": "-EoLW0no-em7"
   },
   "outputs": [],
   "source": [
    "def tensor_to_numpy(t, avg, std):\n",
    "  return (255.0 * (np.transpose(np.asarray(t), (1, 2, 0)) * std + avg)).astype(np.uint8)\n",
    "  "
   ]
  },
  {
   "cell_type": "code",
   "execution_count": 27,
   "metadata": {
    "colab": {
     "autoexec": {
      "startup": false,
      "wait_interval": 0
     },
     "base_uri": "https://localhost:8080/",
     "height": 439
    },
    "colab_type": "code",
    "executionInfo": {
     "elapsed": 1703,
     "status": "ok",
     "timestamp": 1527001554370,
     "user": {
      "displayName": "Sourabh Daptardar",
      "photoUrl": "//lh4.googleusercontent.com/-onn5Q0_MiKQ/AAAAAAAAAAI/AAAAAAAACDI/iOxkSEz16nA/s50-c-k-no/photo.jpg",
      "userId": "115812262388010820083"
     },
     "user_tz": -330
    },
    "id": "L8qbOaD8HvYi",
    "outputId": "4e64893b-2094-4f5f-c9cd-6469eb2eaa8e"
   },
   "outputs": [
    {
     "name": "stdout",
     "output_type": "stream",
     "text": [
      "[0. 0. 0. 0. 0. 0. 0. 0. 0. 0. 0. 0. 0. 0. 0. 0. 0. 0. 0. 0. 0. 0. 0. 0.\n",
      " 0. 0. 0. 0. 0. 0. 0. 0. 0. 0. 0. 0. 0. 0. 0. 0. 0. 0. 0. 0. 0. 0. 0. 0.\n",
      " 0. 0. 0. 0. 0. 0. 0. 0. 0. 0. 0. 0. 0. 0. 0. 0. 0. 1. 0. 0. 0. 0. 0. 0.\n",
      " 0. 0. 0. 0. 0. 0. 0. 0. 0. 0. 0. 0. 0. 0. 0. 0. 0. 0. 0. 0. 0. 0. 0. 0.\n",
      " 0. 0. 0. 0. 0. 0. 0. 0. 0. 0. 0. 0. 0. 0. 0. 0. 0. 0. 0. 1. 0. 0. 0. 0.\n",
      " 0. 1. 0. 0. 0. 0. 0. 0. 0. 0. 0. 0. 0. 0. 0. 0. 0. 0. 0. 0. 0. 0. 0. 0.\n",
      " 0. 0. 0. 1. 0. 0. 0. 0. 0. 0. 0. 0. 0. 0. 0. 0. 0. 0. 0. 0. 0. 0. 0. 0.\n",
      " 0. 0. 1. 0. 0. 0. 0. 1. 0. 0. 0. 0. 0. 0. 0. 0. 0. 0. 0. 0. 0. 0. 0. 0.\n",
      " 0. 0. 0. 0. 0. 0. 0. 0. 0. 0. 0. 0. 0. 0. 0. 0. 0. 0. 0. 0. 0. 0. 0. 0.\n",
      " 0. 1. 0. 0. 0. 0. 0. 0. 0. 0. 0. 0.]\n"
     ]
    },
    {
     "data": {
      "image/png": "[encoded data removed]",
      "text/plain": [
       "<Figure size 432x288 with 1 Axes>"
      ]
     },
     "metadata": {},
     "output_type": "display_data"
    }
   ],
   "source": [
    "rnd1 = np.random.randint(len(train_dset))\n",
    "im1, lbl1 = train_dset[rnd1]\n",
    "imshow(tensor_to_numpy(im1, args.pretrain_dset_mean, args.pretrain_dset_std))\n",
    "print(lbl1)"
   ]
  },
  {
   "cell_type": "code",
   "execution_count": 28,
   "metadata": {
    "colab": {
     "autoexec": {
      "startup": false,
      "wait_interval": 0
     },
     "base_uri": "https://localhost:8080/",
     "height": 439
    },
    "colab_type": "code",
    "executionInfo": {
     "elapsed": 1502,
     "status": "ok",
     "timestamp": 1527001555965,
     "user": {
      "displayName": "Sourabh Daptardar",
      "photoUrl": "//lh4.googleusercontent.com/-onn5Q0_MiKQ/AAAAAAAAAAI/AAAAAAAACDI/iOxkSEz16nA/s50-c-k-no/photo.jpg",
      "userId": "115812262388010820083"
     },
     "user_tz": -330
    },
    "id": "3h5_M6G0QBYZ",
    "outputId": "01e18eb7-caf7-4bcb-82b1-b296b9784185"
   },
   "outputs": [
    {
     "name": "stdout",
     "output_type": "stream",
     "text": [
      "[0. 0. 0. 0. 0. 0. 0. 0. 0. 0. 0. 0. 0. 0. 0. 0. 1. 0. 1. 1. 0. 0. 0. 0.\n",
      " 0. 0. 0. 0. 0. 0. 0. 0. 0. 0. 0. 0. 0. 0. 0. 0. 0. 0. 0. 0. 0. 0. 0. 0.\n",
      " 0. 0. 0. 0. 0. 0. 0. 0. 0. 0. 0. 0. 0. 0. 0. 0. 0. 1. 0. 0. 0. 0. 0. 1.\n",
      " 0. 0. 0. 0. 0. 0. 0. 0. 0. 0. 0. 0. 0. 0. 0. 0. 0. 0. 0. 0. 0. 0. 0. 0.\n",
      " 0. 0. 0. 0. 0. 0. 0. 0. 1. 0. 0. 0. 0. 0. 0. 0. 0. 0. 0. 0. 0. 0. 0. 0.\n",
      " 0. 0. 0. 0. 0. 0. 0. 0. 0. 0. 0. 0. 0. 0. 0. 0. 1. 0. 0. 0. 0. 0. 0. 0.\n",
      " 0. 0. 0. 0. 0. 0. 0. 0. 1. 0. 0. 0. 0. 0. 0. 0. 0. 0. 0. 0. 0. 0. 0. 0.\n",
      " 1. 0. 0. 0. 0. 0. 0. 0. 0. 0. 0. 0. 0. 0. 0. 0. 0. 0. 0. 0. 0. 0. 0. 0.\n",
      " 0. 0. 0. 0. 0. 0. 0. 0. 0. 0. 0. 0. 0. 0. 0. 0. 0. 0. 0. 0. 0. 0. 0. 0.\n",
      " 0. 0. 0. 0. 0. 0. 0. 0. 0. 0. 0. 0.]\n"
     ]
    },
    {
     "data": {
      "image/png": "[encoded data removed]",
      "text/plain": [
       "<Figure size 432x288 with 1 Axes>"
      ]
     },
     "metadata": {},
     "output_type": "display_data"
    }
   ],
   "source": [
    "rnd2 = np.random.randint(len(val_dset))\n",
    "im2, lbl2 = val_dset[rnd2]\n",
    "imshow(tensor_to_numpy(im2, args.pretrain_dset_mean, args.pretrain_dset_std))\n",
    "print(lbl2)"
   ]
  },
  {
   "cell_type": "code",
   "execution_count": 29,
   "metadata": {},
   "outputs": [
    {
     "data": {
      "text/plain": [
       "<matplotlib.image.AxesImage at 0x7f18207ffa20>"
      ]
     },
     "execution_count": 29,
     "metadata": {},
     "output_type": "execute_result"
    },
    {
     "data": {
      "image/png": "[encoded data removed]",
      "text/plain": [
       "<Figure size 432x288 with 1 Axes>"
      ]
     },
     "metadata": {},
     "output_type": "display_data"
    }
   ],
   "source": [
    "rnd3 = np.random.randint(len(test_dset))\n",
    "im3 = test_dset[rnd3]\n",
    "imshow(tensor_to_numpy(im3, args.pretrain_dset_mean, args.pretrain_dset_std))\n"
   ]
  },
  {
   "cell_type": "markdown",
   "metadata": {
    "colab_type": "text",
    "id": "iU_VDQm2Rtro"
   },
   "source": [
    "# DataLoader"
   ]
  },
  {
   "cell_type": "code",
   "execution_count": 30,
   "metadata": {
    "colab": {
     "autoexec": {
      "startup": false,
      "wait_interval": 0
     }
    },
    "colab_type": "code",
    "id": "4KcwWuuHoxoo"
   },
   "outputs": [],
   "source": [
    "if args.distributed:\n",
    "    dist.init_process_group(backend=args.dist_backend,\n",
    "                            init_method=args.dist_url,\n",
    "                            world_size=args.world_size)\n"
   ]
  },
  {
   "cell_type": "code",
   "execution_count": 31,
   "metadata": {
    "colab": {
     "autoexec": {
      "startup": false,
      "wait_interval": 0
     }
    },
    "colab_type": "code",
    "id": "EjMlN6vqHtsE"
   },
   "outputs": [],
   "source": [
    "from torch.utils.data.distributed import DistributedSampler \n",
    "\n",
    "\n",
    "if args.distributed:\n",
    "  train_sampler = DistributedSampler(train_dset)\n",
    "else:\n",
    "  train_sampler = None\n",
    "\n",
    "train_loader = torch.utils.data.DataLoader(train_dset,\n",
    "                                           batch_size=args.batch_size,\n",
    "                                           shuffle=(train_sampler is None),\n",
    "                                           num_workers=args.num_workers,\n",
    "                                           pin_memory=True,\n",
    "                                           sampler=train_sampler\n",
    "                                          )\n",
    "\n",
    "val_loader = torch.utils.data.DataLoader(val_dset,\n",
    "                                         batch_size=args.batch_size,\n",
    "                                         shuffle=False,\n",
    "                                         num_workers=args.num_workers,\n",
    "                                         pin_memory=True\n",
    "                                        )\n",
    "\n",
    "test_loader = torch.utils.data.DataLoader(test_dset,\n",
    "                                         batch_size=args.batch_size,\n",
    "                                         shuffle=False,\n",
    "                                         num_workers=args.num_workers,\n",
    "                                         pin_memory=True\n",
    "                                        )\n",
    "\n"
   ]
  },
  {
   "cell_type": "code",
   "execution_count": 32,
   "metadata": {
    "colab": {
     "autoexec": {
      "startup": false,
      "wait_interval": 0
     }
    },
    "colab_type": "code",
    "id": "uzNG4-7x6Ovt"
   },
   "outputs": [],
   "source": [
    "# train_images, train_labels = next(iter(train_loader))"
   ]
  },
  {
   "cell_type": "code",
   "execution_count": 33,
   "metadata": {
    "colab": {
     "autoexec": {
      "startup": false,
      "wait_interval": 0
     },
     "base_uri": "https://localhost:8080/",
     "height": 731
    },
    "colab_type": "code",
    "executionInfo": {
     "elapsed": 1409,
     "status": "ok",
     "timestamp": 1527001561251,
     "user": {
      "displayName": "Sourabh Daptardar",
      "photoUrl": "//lh4.googleusercontent.com/-onn5Q0_MiKQ/AAAAAAAAAAI/AAAAAAAACDI/iOxkSEz16nA/s50-c-k-no/photo.jpg",
      "userId": "115812262388010820083"
     },
     "user_tz": -330
    },
    "id": "CDOOVYOHbcbl",
    "outputId": "46f258e9-ee85-4435-8df8-57b8912d5ced"
   },
   "outputs": [],
   "source": [
    "# rnd11 = np.random.randint(args.batch_size)\n",
    "# print(train_images[rnd11,:,:,:])\n",
    "# print(train_labels[rnd11, :])"
   ]
  },
  {
   "cell_type": "code",
   "execution_count": 34,
   "metadata": {
    "colab": {
     "autoexec": {
      "startup": false,
      "wait_interval": 0
     }
    },
    "colab_type": "code",
    "id": "IZ7R4Mgb7F3b"
   },
   "outputs": [],
   "source": [
    "# val_images, val_labels = next(iter(val_loader))"
   ]
  },
  {
   "cell_type": "code",
   "execution_count": 35,
   "metadata": {
    "colab": {
     "autoexec": {
      "startup": false,
      "wait_interval": 0
     },
     "base_uri": "https://localhost:8080/",
     "height": 731
    },
    "colab_type": "code",
    "executionInfo": {
     "elapsed": 918,
     "status": "ok",
     "timestamp": 1527001564208,
     "user": {
      "displayName": "Sourabh Daptardar",
      "photoUrl": "//lh4.googleusercontent.com/-onn5Q0_MiKQ/AAAAAAAAAAI/AAAAAAAACDI/iOxkSEz16nA/s50-c-k-no/photo.jpg",
      "userId": "115812262388010820083"
     },
     "user_tz": -330
    },
    "id": "CIOHOwAqaRkX",
    "outputId": "7b674419-1de5-4765-c7e4-c2db097f3170"
   },
   "outputs": [],
   "source": [
    "# rnd21 = np.random.randint(args.batch_size)\n",
    "# print(val_images[rnd21,:,:,:])\n",
    "# print(val_labels[rnd21, :])"
   ]
  },
  {
   "cell_type": "markdown",
   "metadata": {
    "colab_type": "text",
    "id": "cQAQrfMJRtv3"
   },
   "source": [
    "\n",
    "# Model"
   ]
  },
  {
   "cell_type": "code",
   "execution_count": 36,
   "metadata": {
    "colab": {
     "autoexec": {
      "startup": false,
      "wait_interval": 0
     }
    },
    "colab_type": "code",
    "id": "jNxCNVyu98GF"
   },
   "outputs": [],
   "source": [
    "import torch.nn.init as weight_init\n",
    "\n",
    "\n",
    "class FCWithLogSigmoid(nn.Module):\n",
    "  \n",
    "  def __init__(self, num_inputs, num_outputs):\n",
    "    super(FCWithLogSigmoid, self).__init__()\n",
    "    self.linear = nn.Linear(num_inputs, num_outputs)\n",
    "    self.logsigmoid = nn.LogSigmoid()\n",
    "    \n",
    "  def forward(self, x):\n",
    "    return self.logsigmoid(self.linear(x))\n",
    "\n",
    "\n",
    "def create_model(arch, num_labels=228, fv_size=2048, pretrained=True, resume=False, distributed=False):\n",
    "  if pretrained:\n",
    "      print(\"=> using pre-trained model '{}'\".format(arch))\n",
    "      model = models.__dict__[arch](pretrained=True)\n",
    "  else:\n",
    "      print(\"=> creating model '{}'\".format(arch))\n",
    "      model = models.__dict__[arch]()\n",
    "  model.fc = FCWithLogSigmoid(fv_size, num_labels)\n",
    "  if not distributed:\n",
    "      if arch.startswith('alexnet') or arch.startswith('vgg'):\n",
    "          model.features = torch.nn.DataParallel(model.features)\n",
    "          model.cuda()\n",
    "      else:\n",
    "          model = torch.nn.DataParallel(model).cuda()\n",
    "  else:\n",
    "      model.cuda()\n",
    "      model = torch.nn.parallel.DistributedDataParallel(model)\n",
    "  return model\n"
   ]
  },
  {
   "cell_type": "code",
   "execution_count": 37,
   "metadata": {
    "colab": {
     "autoexec": {
      "startup": false,
      "wait_interval": 0
     }
    },
    "colab_type": "code",
    "id": "9eMpjddlO6BC"
   },
   "outputs": [],
   "source": [
    "def count_parameters(model):\n",
    "  \"\"\"source: https://discuss.pytorch.org/t/how-do-i-check-the-number-of-parameters-of-a-model/4325/9\"\"\"\n",
    "  return sum(p.numel() for p in model.parameters() if p.requires_grad)"
   ]
  },
  {
   "cell_type": "code",
   "execution_count": 38,
   "metadata": {
    "colab": {
     "autoexec": {
      "startup": false,
      "wait_interval": 0
     },
     "base_uri": "https://localhost:8080/",
     "height": 34
    },
    "colab_type": "code",
    "executionInfo": {
     "elapsed": 1945,
     "status": "ok",
     "timestamp": 1527001568263,
     "user": {
      "displayName": "Sourabh Daptardar",
      "photoUrl": "//lh4.googleusercontent.com/-onn5Q0_MiKQ/AAAAAAAAAAI/AAAAAAAACDI/iOxkSEz16nA/s50-c-k-no/photo.jpg",
      "userId": "115812262388010820083"
     },
     "user_tz": -330
    },
    "id": "CDhvVsKk_cNI",
    "outputId": "e3b9d484-4d9e-4fbd-c7d2-799d0d838ab9"
   },
   "outputs": [
    {
     "name": "stdout",
     "output_type": "stream",
     "text": [
      "=> using pre-trained model 'resnet101'\n"
     ]
    }
   ],
   "source": [
    "model = create_model(args.arch,\n",
    "                     num_labels=args.num_labels,\n",
    "                     fv_size=args.fv_size,\n",
    "                     pretrained=args.pretrained,\n",
    "                     resume=args.resume,\n",
    "                     distributed=args.distributed)"
   ]
  },
  {
   "cell_type": "code",
   "execution_count": 39,
   "metadata": {
    "colab": {
     "autoexec": {
      "startup": false,
      "wait_interval": 0
     },
     "base_uri": "https://localhost:8080/",
     "height": 34
    },
    "colab_type": "code",
    "executionInfo": {
     "elapsed": 990,
     "status": "ok",
     "timestamp": 1527001569282,
     "user": {
      "displayName": "Sourabh Daptardar",
      "photoUrl": "//lh4.googleusercontent.com/-onn5Q0_MiKQ/AAAAAAAAAAI/AAAAAAAACDI/iOxkSEz16nA/s50-c-k-no/photo.jpg",
      "userId": "115812262388010820083"
     },
     "user_tz": -330
    },
    "id": "yG1C75oXPLx8",
    "outputId": "c1d7369f-4563-4fbf-d155-62227edccd93"
   },
   "outputs": [
    {
     "name": "stdout",
     "output_type": "stream",
     "text": [
      "Neural Network has  42967332  trainable parameters\n"
     ]
    }
   ],
   "source": [
    "print(\"Neural Network has \", count_parameters(model), \" trainable parameters\")"
   ]
  },
  {
   "cell_type": "code",
   "execution_count": 40,
   "metadata": {},
   "outputs": [],
   "source": [
    "class WeightUpdateTracker:\n",
    "    \n",
    "    def __init__(self, model):\n",
    "        with torch.no_grad():\n",
    "            self.num_param_tensors = len(list(model.parameters()))\n",
    "            self.prev_pnorms = torch.zeros(self.num_param_tensors) \n",
    "            self.curr_pnorms = self.parameter_norms(model) \n",
    "\n",
    "    def parameter_norms(self, model):\n",
    "        with torch.no_grad():\n",
    "            pnorms = torch.zeros(self.num_param_tensors)\n",
    "            for i, x in enumerate(list(model.parameters())):\n",
    "                pnorms[i] = x.norm().item()\n",
    "            return pnorms\n",
    "        \n",
    "    def track(self, model):\n",
    "        with torch.no_grad():\n",
    "            self.prev_pnorms = self.curr_pnorms.clone()\n",
    "            self.curr_pnorms = self.parameter_norms(model)\n",
    "            self.delta = (self.curr_pnorms - self.prev_pnorms) / self.prev_pnorms\n",
    "\n",
    "            \n",
    "    def __repr__(self):\n",
    "        with torch.no_grad():\n",
    "            return self.delta.__repr__()\n",
    "        "
   ]
  },
  {
   "cell_type": "markdown",
   "metadata": {
    "colab_type": "text",
    "id": "VIILcEp9Rtz-"
   },
   "source": [
    "# Loss Function\n"
   ]
  },
  {
   "cell_type": "code",
   "execution_count": 41,
   "metadata": {
    "colab": {
     "autoexec": {
      "startup": false,
      "wait_interval": 0
     }
    },
    "colab_type": "code",
    "id": "4RGOgfHjGnJz"
   },
   "outputs": [],
   "source": [
    "criterion = torch.nn.BCEWithLogitsLoss().cuda()"
   ]
  },
  {
   "cell_type": "markdown",
   "metadata": {
    "colab_type": "text",
    "id": "PICCxotzRt4z"
   },
   "source": [
    "# Update Rule"
   ]
  },
  {
   "cell_type": "code",
   "execution_count": 42,
   "metadata": {
    "colab": {
     "autoexec": {
      "startup": false,
      "wait_interval": 0
     }
    },
    "colab_type": "code",
    "id": "zaX2mCHTDgSi"
   },
   "outputs": [],
   "source": [
    "optimizer = optim.Adam(model.parameters(),\n",
    "                       amsgrad=True,\n",
    "                       lr=args.optimizer_learning_rate,\n",
    "                       betas=(0.9, 0.999),\n",
    "                       eps=1e-8,\n",
    "                       weight_decay=0.0\n",
    "                      )\n",
    "scheduler = lr_scheduler.ReduceLROnPlateau(optimizer,\n",
    "                                           mode='max',   # F1 measure\n",
    "                                           patience=args.scheduler_patience,\n",
    "                                           threshold=args.scheduler_threshold,\n",
    "                                           factor=args.scheduler_factor,\n",
    "                                           verbose=1\n",
    "                                          )\n"
   ]
  },
  {
   "cell_type": "markdown",
   "metadata": {
    "colab_type": "text",
    "id": "tCm_msJ0RuIu"
   },
   "source": [
    "# Training Loop\n"
   ]
  },
  {
   "cell_type": "code",
   "execution_count": 43,
   "metadata": {},
   "outputs": [],
   "source": [
    "def load_checkpoint(model, optimizer, scheduler, args, resume=True, ckpt=None):\n",
    "    \"\"\"optionally resume from a checkpoint.\"\"\"\n",
    "    best_f1 = 0\n",
    "    if args.resume:\n",
    "        if os.path.isfile(ckpt):\n",
    "            print(\"=> loading checkpoint '{}'\".format(ckpt))\n",
    "            checkpoint = torch.load(ckpt)\n",
    "            args.start_epoch = checkpoint['epoch']\n",
    "            best_f1 = checkpoint['best_f1']\n",
    "            model.load_state_dict(checkpoint['state_dict'])\n",
    "            optimizer.load_state_dict(checkpoint['optimizer'])\n",
    "          #  scheduler.load_state_dict(checkpoint['scheduler'])\n",
    "            print(\"=> loaded checkpoint '{}' (epoch {})\"\n",
    "                  .format(args.resume, checkpoint['epoch']))\n",
    "        else:\n",
    "            print(\"=> no checkpoint found at '{}'\".format(ckpt))\n",
    "            best_f1 = 0\n",
    "    return (model, optimizer, scheduler, args, best_f1)"
   ]
  },
  {
   "cell_type": "code",
   "execution_count": 44,
   "metadata": {},
   "outputs": [],
   "source": [
    "def save_checkpoint(state, is_best, filename='checkpoint.pth.tar', best_model_filename='model_best.pth.tar'):\n",
    "    torch.save(state, filename)\n",
    "    if is_best:\n",
    "        shutil.copyfile(filename, best_model_filename)"
   ]
  },
  {
   "cell_type": "code",
   "execution_count": 45,
   "metadata": {},
   "outputs": [],
   "source": [
    "class F1MicroAverageMeter(object):\n",
    "    \"\"\"Computes and stores F1 store\"\"\"\n",
    "    def __init__(self, threshold=0.5, small=1e-12):\n",
    "        self.threshold = threshold\n",
    "        self.small = small\n",
    "        self.reset()\n",
    "\n",
    "    def reset(self):\n",
    "        self.TP = 0.0\n",
    "        self.FP = 0.0\n",
    "        self.FN = 0.0\n",
    "        self.TN = 0.0\n",
    "        self.precision = 0.0\n",
    "        self.recall = 0.0\n",
    "        self.f1 = 0.0\n",
    "\n",
    "    def update(self, labels, pred):\n",
    "        tp, fp, fn, tn = self.confusion_matrix_(labels, pred)\n",
    "        self.TP += tp\n",
    "        self.FP += fp\n",
    "        self.FN += fn\n",
    "        self.TN += tn\n",
    "        self.precision = self.TP / (self.small + self.TP + self.FP)\n",
    "        self.recall = self.TP / (self.small + self.TP + self.FN)\n",
    "        self.f1 = (2.0 * self.precision * self.recall) / (self.small + self.precision + self.recall)\n",
    "        \n",
    "    def confusion_matrix_(self, labels, pred):\n",
    "        with torch.no_grad():\n",
    "            real = labels\n",
    "            fake = 1.0 - real\n",
    "            pos = pred.ge(self.threshold).float()\n",
    "            neg = 1.0 - pos\n",
    "            tp = torch.sum(real * pos).item()\n",
    "            fp = torch.sum(fake * pos).item()\n",
    "            fn = torch.sum(real * neg).item()\n",
    "            tn = torch.sum(fake * neg).item()\n",
    "            return (tp, fp, fn, tn)\n",
    "              "
   ]
  },
  {
   "cell_type": "code",
   "execution_count": 46,
   "metadata": {},
   "outputs": [],
   "source": [
    "class AverageMeter(object):\n",
    "    \"\"\"Computes and stores the average and current value\"\"\"\n",
    "    def __init__(self):\n",
    "        self.reset()\n",
    "\n",
    "    def reset(self):\n",
    "        self.val = 0\n",
    "        self.avg = 0\n",
    "        self.sum = 0\n",
    "        self.count = 0\n",
    "\n",
    "    def update(self, val, n=1):\n",
    "        self.val = val\n",
    "        self.sum += val * n\n",
    "        self.count += n\n",
    "        self.avg = self.sum / self.count"
   ]
  },
  {
   "cell_type": "code",
   "execution_count": 47,
   "metadata": {},
   "outputs": [],
   "source": [
    "def adjust_learning_rate(optimizer, scheduler, epoch, measure, args):\n",
    "    if not args.test_overfit:\n",
    "        scheduler.step(measure)\n"
   ]
  },
  {
   "cell_type": "code",
   "execution_count": 48,
   "metadata": {},
   "outputs": [],
   "source": [
    "def train(train_loader, model, criterion, optimizer, epoch):\n",
    "    batch_time = AverageMeter()\n",
    "    data_time = AverageMeter()\n",
    "    losses = AverageMeter()\n",
    "    cmpoint5 = F1MicroAverageMeter(threshold=0.5)\n",
    "\n",
    "    # switch to train mode\n",
    "    model.train()\n",
    "\n",
    "    end = time.time()\n",
    "    for i, (input, target) in enumerate(train_loader):\n",
    "        # measure data loading time\n",
    "        data_time.update(time.time() - end)\n",
    "\n",
    "        target = target.cuda(non_blocking=True)\n",
    "\n",
    "        # compute output\n",
    "        output = model(input)\n",
    "        loss = criterion(output, target)\n",
    "\n",
    "        # measure F1 and record loss\n",
    "        losses.update(loss.item(), input.size(0))\n",
    "        cmpoint5.update(target, torch.exp(output))\n",
    "\n",
    "        # compute gradient and do SGD step\n",
    "        optimizer.zero_grad()\n",
    "        loss.backward()\n",
    "        optimizer.step()\n",
    "\n",
    "        # measure elapsed time\n",
    "        batch_time.update(time.time() - end)\n",
    "        end = time.time()\n",
    "        \n",
    "        \n",
    "\n",
    "        if i % args.print_freq == 0:\n",
    "            print('Epoch: [{0}][{1}/{2}]\\t'\n",
    "                  'Time {batch_time.val:.3f} ({batch_time.avg:.3f})\\t'\n",
    "                  'Data {data_time.val:.3f} ({data_time.avg:.3f})\\t'\n",
    "                  'Loss {loss.val:.4f} ({loss.avg:.4f})\\t'\n",
    "                  'Precision {cmpoint5.precision:.3f}\\t'\n",
    "                  'Recall {cmpoint5.recall:.3f}\\t'\n",
    "                  'F1 {cmpoint5.f1:.3f}'.format(\n",
    "                   epoch, i, len(train_loader), batch_time=batch_time,\n",
    "                   data_time=data_time, loss=losses, cmpoint5=cmpoint5))"
   ]
  },
  {
   "cell_type": "code",
   "execution_count": 49,
   "metadata": {},
   "outputs": [],
   "source": [
    "def validate(val_loader, model, criterion):\n",
    "    batch_time = AverageMeter()\n",
    "    losses = AverageMeter()\n",
    "    cmpoint5 = F1MicroAverageMeter(threshold=0.5)\n",
    "\n",
    "    # switch to evaluate mode\n",
    "    model.eval()\n",
    "\n",
    "    with torch.no_grad():\n",
    "        end = time.time()\n",
    "        for i, (input, target) in enumerate(val_loader):\n",
    "            target = target.cuda(non_blocking=True)\n",
    "\n",
    "            # compute output\n",
    "            output = model(input)\n",
    "            loss = criterion(output, target)\n",
    "\n",
    "            # measure F1 and record loss\n",
    "            losses.update(loss.item(), input.size(0))\n",
    "            cmpoint5.update(target, torch.exp(output))\n",
    "            \n",
    "            # measure elapsed time\n",
    "            batch_time.update(time.time() - end)\n",
    "            end = time.time()\n",
    "\n",
    "            if i % args.print_freq == 0:\n",
    "                 print('Test: [{0}/{1}]\\t'\n",
    "                      'Time {batch_time.val:.3f} ({batch_time.avg:.3f})\\t'\n",
    "                      'Loss {loss.val:.4f} ({loss.avg:.4f})\\t'\n",
    "                      'Precision {cmpoint5.precision:.3f}\\t'\n",
    "                      'Recall {cmpoint5.recall:.3f}\\t'\n",
    "                      'F1 {cmpoint5.f1:.3f}'.format(\n",
    "                       i, len(val_loader), batch_time=batch_time, loss=losses,\n",
    "                       cmpoint5=cmpoint5))\n",
    "\n",
    "        print(' * Precision {cmpoint5.precision:.3f} Recall {cmpoint5.recall:.3f} F1 {cmpoint5.f1:.3f}'\n",
    "              .format(cmpoint5=cmpoint5))\n",
    "\n",
    "    return cmpoint5.f1"
   ]
  },
  {
   "cell_type": "code",
   "execution_count": 54,
   "metadata": {},
   "outputs": [],
   "source": [
    "def test(test_loader, best_model_ckpt, model):\n",
    "    \n",
    "    checkpoint = torch.load(best_model_ckpt)\n",
    "    args.start_epoch = checkpoint['epoch']\n",
    "    best_f1 = checkpoint['best_f1']\n",
    "    model.load_state_dict(checkpoint['state_dict'])\n",
    "    \n",
    "    batch_time = AverageMeter()\n",
    "\n",
    "    # switch to evaluate mode\n",
    "    model.eval()\n",
    "\n",
    "    with torch.no_grad():\n",
    "        end = time.time()\n",
    "        for i, input in enumerate(test_loader):\n",
    "\n",
    "            # compute output\n",
    "            output = model(input)\n",
    "\n",
    "            # measure elapsed time\n",
    "            batch_time.update(time.time() - end)\n",
    "            end = time.time()\n",
    "\n",
    "            if i % args.print_freq == 0:\n",
    "                 print('Test: [{0}/{1}]\\t'\n",
    "                      'Time {batch_time.val:.3f} ({batch_time.avg:.3f})\\t'.format(\n",
    "                       i, len(test_loader), batch_time=batch_time))"
   ]
  },
  {
   "cell_type": "code",
   "execution_count": 51,
   "metadata": {},
   "outputs": [],
   "source": [
    "def train_loop(train_loader, val_loader, args, optimizer, scheduler, model, criterion):\n",
    "    if args.evaluate:\n",
    "        validate(val_loader, model, criterion)\n",
    "    else:\n",
    "        model, optimizer, scheduler, args, best_f1 = load_checkpoint(model, optimizer, scheduler, args, resume=args.resume, ckpt=args.ckpt)\n",
    "        wut = WeightUpdateTracker(model)\n",
    "        for epoch in range(args.start_epoch, args.epochs):\n",
    "            if args.distributed:\n",
    "                train_sampler.set_epoch(epoch)\n",
    "    #         adjust_learning_rate(optimizer, epoch)\n",
    "\n",
    "            # train for one epoch\n",
    "            train(train_loader, model, criterion, optimizer, epoch)\n",
    "\n",
    "            # debug: track weight updates\n",
    "            wut.track(model)\n",
    "            print(wut)\n",
    "\n",
    "            # evaluate on validation set\n",
    "            f1 = validate(val_loader, model, criterion)\n",
    "\n",
    "            # remember best f1 and save checkpoint\n",
    "            is_best = f1 > best_f1\n",
    "            best_f1 = max(f1, best_f1)\n",
    "            save_checkpoint({\n",
    "                'epoch': epoch + 1,\n",
    "                'arch': args.arch,\n",
    "                'state_dict': model.state_dict(),\n",
    "                'best_f1': best_f1,\n",
    "                'optimizer' : optimizer.state_dict(),\n",
    "               # 'scheduler' : scheduler.state_dict(),\n",
    "            }, is_best, filename=args.ckpt, best_model_filename=args.best)\n",
    "\n",
    "            adjust_learning_rate(optimizer, scheduler, epoch, f1, args)\n",
    "        \n"
   ]
  },
  {
   "cell_type": "code",
   "execution_count": 52,
   "metadata": {},
   "outputs": [
    {
     "name": "stdout",
     "output_type": "stream",
     "text": [
      "Epoch: [0][0/4]\tTime 9.019 (9.019)\tData 2.109 (2.109)\tLoss 0.4279 (0.4279)\tPrecision 0.025\tRecall 0.533\tF1 0.048\n",
      "tensor(1.00000e-03 *\n",
      "       [ 0.0060, -0.0384, -0.0816, -0.0505,  0.0047,  0.0099,  0.0507,\n",
      "        -0.0307, -0.2443, -0.0280,  0.0511,  0.1325, -0.0007, -0.0457,\n",
      "         0.1325,  0.0130,  0.0877,  0.1247,  0.0196, -0.2624, -0.1944,\n",
      "        -0.0426,  0.0734,  0.1185,  0.1210,  0.0283, -0.5252,  0.0286,\n",
      "         0.0388, -0.2238,  0.0239,  0.1236,  0.0993,  0.0479,  0.0468,\n",
      "        -0.2147,  0.0583,  0.0271,  0.1279,  0.0085, -0.1910,  0.3745,\n",
      "         0.0301, -0.0954,  0.3745,  0.0506, -0.0298, -0.3977,  0.0569,\n",
      "        -0.2123,  0.7570, -0.0058,  0.2484, -0.0495, -0.0132,  0.0108,\n",
      "        -0.2483,  0.0338, -0.0183,  0.3676,  0.0228,  0.1081,  0.0579,\n",
      "         0.0329,  0.0003, -0.2192,  0.0516, -0.0229, -0.1666,  0.0382,\n",
      "         0.1904,  0.0879,  0.0263,  0.0134, -0.0505,  0.0807, -0.0853,\n",
      "         0.2330,  0.0268, -0.0059, -0.0110,  0.0831,  0.0412, -0.0110,\n",
      "         0.3920,  0.4193, -0.7741,  0.7725,  0.2012, -0.2977,  0.4087,\n",
      "        -0.2613, -0.3072,  0.2683,  0.0454, -0.1537,  0.3219, -0.1057,\n",
      "         0.0677,  0.1386,  0.0066,  0.0863,  0.3328,  0.0315,  0.0050,\n",
      "         0.4945, -0.0828,  0.3312,  0.2429,  0.1311, -0.0298,  0.2919,\n",
      "        -0.0069,  0.1548,  0.4133, -0.1554,  0.2636,  0.2304,  0.1522,\n",
      "        -0.0911,  0.1625, -0.0961,  0.0639,  0.2953, -0.0399,  0.1779,\n",
      "         0.1207, -0.0685,  0.1103,  0.1602,  0.0339, -0.2199,  0.2717,\n",
      "         0.0301,  0.0354,  0.1788, -0.0395, -0.0107,  0.1519, -0.0453,\n",
      "         0.0647,  0.1714, -0.0953, -0.0713,  0.0963,  0.0888, -0.2168,\n",
      "         0.1390,  0.0227,  0.0365,  0.1722, -0.0192,  0.1611,  0.1273,\n",
      "         0.0190, -0.0991,  0.1264,  0.0968, -0.0125,  0.1990, -0.1160,\n",
      "         0.2132,  0.1318, -0.1022,  0.0082,  0.1149, -0.1053,  0.2095,\n",
      "         0.1754, -0.0659, -0.0086,  0.0741, -0.0744, -0.0449,  0.1330,\n",
      "         0.1072, -0.2918,  0.1715, -0.0776,  0.1068,  0.1093,  0.0192,\n",
      "        -0.1188,  0.1058,  0.0622,  0.0176,  0.1875, -0.1369, -0.0079,\n",
      "         0.1079, -0.0277, -0.0679,  0.0862,  0.0773, -0.2579,  0.1818,\n",
      "         0.0341, -0.1360,  0.1074,  0.0462, -0.1602,  0.1052, -0.0081,\n",
      "         0.0247,  0.2250,  0.0119,  0.1660,  0.1354,  0.1168,  0.0361,\n",
      "         0.1167,  0.0211,  0.1491,  0.2250,  0.1005, -0.2053,  0.1416,\n",
      "         0.0042, -0.0209,  0.1347, -0.0228,  0.0787,  0.2472,  0.0715,\n",
      "        -0.1564,  0.1606,  0.0280,  0.0144,  0.1360,  0.0197,  0.1671,\n",
      "         0.2261,  0.0954, -0.0565,  0.1524, -0.0141,  0.0932,  0.1214,\n",
      "         0.0239,  0.0112,  0.1660,  0.0252, -0.1456,  0.1526, -0.1882,\n",
      "         0.1248,  0.0620, -0.0440,  0.0716,  0.1765,  0.0340, -0.0696,\n",
      "         0.1015,  0.0858, -0.0778,  0.0517, -0.1131,  0.1161,  0.1471,\n",
      "         0.1115, -0.1518,  0.1449,  0.0125, -0.0373,  0.0868, -0.0426,\n",
      "        -0.0443,  0.1508, -0.0448, -0.0414,  0.1135,  0.2742, -0.1501,\n",
      "         0.0730,  0.0098, -0.0935,  0.1262, -0.0267,  0.0984,  0.1003,\n",
      "         0.0316, -0.1623,  0.0714,  0.0669, -0.1272,  0.1896,  0.0328,\n",
      "        -0.1434,  0.1035,  0.0587, -0.3036,  0.2192,  0.0587, -0.3036,\n",
      "         0.1211,  0.0432, -0.1171,  0.1798,  0.0628, -0.1017,  0.1240,\n",
      "         0.0568, -0.3383,  0.0744,  0.0879, -0.2344,  0.2846,  0.0324,\n",
      "        -0.3550,  0.1582,  0.0382,  0.8789,  0.3680,  1.9785])\n",
      "Test: [0/619]\tTime 1.657 (1.657)\tLoss 0.3773 (0.3773)\tPrecision 0.065\tRecall 0.293\tF1 0.107\n",
      "Test: [16/619]\tTime 0.438 (0.310)\tLoss 0.3796 (0.3764)\tPrecision 0.056\tRecall 0.280\tF1 0.093\n",
      "Test: [32/619]\tTime 0.392 (0.243)\tLoss 0.3712 (0.3758)\tPrecision 0.055\tRecall 0.280\tF1 0.091\n",
      "Test: [48/619]\tTime 0.357 (0.219)\tLoss 0.3768 (0.3761)\tPrecision 0.055\tRecall 0.278\tF1 0.092\n",
      "Test: [64/619]\tTime 0.156 (0.210)\tLoss 0.3755 (0.3762)\tPrecision 0.055\tRecall 0.275\tF1 0.092\n",
      "Test: [80/619]\tTime 0.330 (0.197)\tLoss 0.3791 (0.3762)\tPrecision 0.056\tRecall 0.277\tF1 0.093\n",
      "Test: [96/619]\tTime 0.231 (0.187)\tLoss 0.3787 (0.3760)\tPrecision 0.056\tRecall 0.278\tF1 0.093\n",
      "Test: [112/619]\tTime 0.273 (0.180)\tLoss 0.3761 (0.3760)\tPrecision 0.057\tRecall 0.280\tF1 0.094\n",
      "Test: [128/619]\tTime 0.268 (0.175)\tLoss 0.3743 (0.3759)\tPrecision 0.057\tRecall 0.281\tF1 0.094\n",
      "Test: [144/619]\tTime 0.202 (0.170)\tLoss 0.3764 (0.3760)\tPrecision 0.056\tRecall 0.279\tF1 0.093\n",
      "Test: [160/619]\tTime 0.255 (0.169)\tLoss 0.3713 (0.3759)\tPrecision 0.056\tRecall 0.279\tF1 0.094\n",
      "Test: [176/619]\tTime 0.239 (0.166)\tLoss 0.3726 (0.3759)\tPrecision 0.056\tRecall 0.279\tF1 0.093\n",
      "Test: [192/619]\tTime 0.158 (0.164)\tLoss 0.3767 (0.3759)\tPrecision 0.056\tRecall 0.278\tF1 0.093\n",
      "Test: [208/619]\tTime 0.188 (0.162)\tLoss 0.3775 (0.3759)\tPrecision 0.056\tRecall 0.277\tF1 0.093\n",
      "Test: [224/619]\tTime 0.219 (0.160)\tLoss 0.3711 (0.3759)\tPrecision 0.056\tRecall 0.276\tF1 0.092\n",
      "Test: [240/619]\tTime 0.258 (0.158)\tLoss 0.3759 (0.3759)\tPrecision 0.055\tRecall 0.276\tF1 0.092\n",
      "Test: [256/619]\tTime 0.155 (0.157)\tLoss 0.3841 (0.3760)\tPrecision 0.056\tRecall 0.276\tF1 0.092\n",
      "Test: [272/619]\tTime 0.232 (0.156)\tLoss 0.3829 (0.3761)\tPrecision 0.055\tRecall 0.275\tF1 0.092\n",
      "Test: [288/619]\tTime 0.192 (0.155)\tLoss 0.3763 (0.3762)\tPrecision 0.055\tRecall 0.273\tF1 0.092\n",
      "Test: [304/619]\tTime 0.294 (0.155)\tLoss 0.3797 (0.3762)\tPrecision 0.055\tRecall 0.273\tF1 0.092\n",
      "Test: [320/619]\tTime 0.227 (0.154)\tLoss 0.3803 (0.3764)\tPrecision 0.055\tRecall 0.272\tF1 0.092\n",
      "Test: [336/619]\tTime 0.281 (0.154)\tLoss 0.3808 (0.3765)\tPrecision 0.055\tRecall 0.271\tF1 0.092\n",
      "Test: [352/619]\tTime 0.239 (0.153)\tLoss 0.3777 (0.3766)\tPrecision 0.055\tRecall 0.271\tF1 0.092\n",
      "Test: [368/619]\tTime 0.199 (0.152)\tLoss 0.3765 (0.3766)\tPrecision 0.055\tRecall 0.270\tF1 0.092\n",
      "Test: [384/619]\tTime 0.221 (0.152)\tLoss 0.3772 (0.3767)\tPrecision 0.055\tRecall 0.270\tF1 0.092\n",
      "Test: [400/619]\tTime 0.244 (0.151)\tLoss 0.3796 (0.3767)\tPrecision 0.055\tRecall 0.270\tF1 0.091\n",
      "Test: [416/619]\tTime 0.285 (0.151)\tLoss 0.3755 (0.3767)\tPrecision 0.055\tRecall 0.270\tF1 0.091\n",
      "Test: [432/619]\tTime 0.182 (0.150)\tLoss 0.3770 (0.3767)\tPrecision 0.055\tRecall 0.270\tF1 0.091\n",
      "Test: [448/619]\tTime 0.194 (0.150)\tLoss 0.3789 (0.3767)\tPrecision 0.055\tRecall 0.270\tF1 0.092\n",
      "Test: [464/619]\tTime 0.100 (0.150)\tLoss 0.3778 (0.3768)\tPrecision 0.055\tRecall 0.269\tF1 0.091\n",
      "Test: [480/619]\tTime 0.102 (0.150)\tLoss 0.3748 (0.3768)\tPrecision 0.055\tRecall 0.269\tF1 0.091\n",
      "Test: [496/619]\tTime 0.101 (0.149)\tLoss 0.3765 (0.3768)\tPrecision 0.055\tRecall 0.269\tF1 0.091\n",
      "Test: [512/619]\tTime 0.115 (0.149)\tLoss 0.3731 (0.3768)\tPrecision 0.055\tRecall 0.269\tF1 0.091\n",
      "Test: [528/619]\tTime 0.285 (0.149)\tLoss 0.3745 (0.3768)\tPrecision 0.055\tRecall 0.269\tF1 0.091\n",
      "Test: [544/619]\tTime 0.255 (0.149)\tLoss 0.3727 (0.3768)\tPrecision 0.055\tRecall 0.269\tF1 0.091\n",
      "Test: [560/619]\tTime 0.214 (0.149)\tLoss 0.3770 (0.3768)\tPrecision 0.055\tRecall 0.269\tF1 0.091\n",
      "Test: [576/619]\tTime 0.286 (0.148)\tLoss 0.3742 (0.3769)\tPrecision 0.055\tRecall 0.269\tF1 0.091\n",
      "Test: [592/619]\tTime 0.199 (0.148)\tLoss 0.3793 (0.3769)\tPrecision 0.055\tRecall 0.268\tF1 0.091\n",
      "Test: [608/619]\tTime 0.421 (0.148)\tLoss 0.3781 (0.3769)\tPrecision 0.055\tRecall 0.268\tF1 0.091\n",
      " * Precision 0.055 Recall 0.268 F1 0.091\n",
      "Epoch: [1][0/4]\tTime 1.545 (1.545)\tData 1.088 (1.088)\tLoss 0.3634 (0.3634)\tPrecision 0.086\tRecall 0.570\tF1 0.150\n",
      "tensor(1.00000e-03 *\n",
      "       [ 0.0061,  0.0013, -0.0595, -0.0436, -0.0454,  0.0324,  0.0389,\n",
      "         0.0010,  0.0012,  0.0015, -0.0067,  0.2046, -0.0147, -0.0173,\n",
      "         0.2046, -0.0007,  0.1182, -0.0808,  0.0655,  0.0214, -0.0967,\n",
      "         0.0743,  0.0383, -0.2054,  0.0781,  0.0047, -0.2647,  0.0146,\n",
      "        -0.0392, -0.1900,  0.0531, -0.0910,  0.1080,  0.0166,  0.0725,\n",
      "        -0.2058,  0.0924, -0.0048,  0.0584,  0.0200, -0.0621,  0.2354,\n",
      "         0.0392, -0.0635,  0.2354,  0.1146, -0.2084,  0.0419,  0.0839,\n",
      "         0.0098,  0.1742,  0.0443,  0.0729, -0.0997,  0.0522, -0.0382,\n",
      "         0.0522,  0.0448, -0.0484,  0.2119,  0.0654,  0.0686,  0.0739,\n",
      "         0.0479,  0.0600, -0.3663,  0.0624,  0.0192, -0.0236,  0.0536,\n",
      "         0.0498, -0.1063,  0.0378, -0.0093,  0.0025,  0.1036,  0.0111,\n",
      "        -0.0716,  0.0602, -0.0061,  0.3286,  0.1222,  0.0380,  0.3286,\n",
      "         0.6522,  0.1670, -0.6818,  1.1982,  0.0799, -0.1566,  0.4889,\n",
      "        -0.1731, -0.2774,  0.2341,  0.0005, -0.1583,  0.4348,  0.0414,\n",
      "        -0.0782,  0.1918,  0.1267,  0.0312,  0.3957,  0.0165,  0.0164,\n",
      "         0.6616, -0.0258,  0.3078,  0.3399,  0.1059,  0.0072,  0.3249,\n",
      "         0.1068, -0.2924,  0.5643, -0.0670,  0.0002,  0.3019,  0.1024,\n",
      "        -0.0229,  0.2045, -0.0722,  0.0703,  0.3821,  0.0118,  0.0419,\n",
      "         0.1961,  0.0796, -0.0734,  0.1854, -0.0062, -0.0246,  0.3483,\n",
      "         0.0899, -0.0948,  0.2009, -0.1579, -0.1607,  0.1605, -0.0500,\n",
      "         0.0792,  0.2547, -0.0106, -0.1385,  0.1497,  0.0695, -0.0736,\n",
      "         0.1601, -0.0158,  0.0442,  0.2607, -0.0092,  0.0545,  0.1542,\n",
      "         0.0685, -0.1982,  0.1888,  0.0068,  0.1225,  0.2471, -0.0234,\n",
      "        -0.0183,  0.1892,  0.0921, -0.1571,  0.1497, -0.1000, -0.0084,\n",
      "         0.2216,  0.0205, -0.0487,  0.1279,  0.0742, -0.3415,  0.1673,\n",
      "         0.1098, -0.0884,  0.2223, -0.0140,  0.0354,  0.1360,  0.0669,\n",
      "        -0.2830,  0.1516, -0.0356, -0.0369,  0.2344, -0.0107, -0.1097,\n",
      "         0.1610,  0.1193, -0.3569,  0.1306,  0.0543, -0.1797,  0.2263,\n",
      "        -0.0094, -0.0870,  0.1322,  0.0853, -0.3357,  0.1215,  0.0166,\n",
      "        -0.0403,  0.2441, -0.0403,  0.1428,  0.1512,  0.0917, -0.2150,\n",
      "         0.1513, -0.0506,  0.1655,  0.2589,  0.0152, -0.0413,  0.1936,\n",
      "         0.0342, -0.4159,  0.1588,  0.0071, -0.1087,  0.2884, -0.0375,\n",
      "         0.1748,  0.1896,  0.0176, -0.1162,  0.1222, -0.0389,  0.2031,\n",
      "         0.2484, -0.0349,  0.1517,  0.1729,  0.0450, -0.0764,  0.1120,\n",
      "         0.0628, -0.2205,  0.2176,  0.0799, -0.1335,  0.1707, -0.1221,\n",
      "        -0.0164,  0.0677,  0.0184, -0.0032,  0.2336, -0.0360,  0.0928,\n",
      "         0.1193,  0.1448, -0.1541,  0.0904,  0.0171, -0.0772,  0.1881,\n",
      "         0.0307, -0.0536,  0.1768, -0.0198, -0.1347,  0.0594,  0.0002,\n",
      "        -0.0547,  0.1850,  0.0378, -0.1292,  0.1584,  0.2410, -0.3185,\n",
      "         0.0513,  0.0034,  0.0089,  0.1463, -0.0036,  0.0879,  0.1454,\n",
      "         0.1287, -0.3864,  0.1067,  0.2027, -0.3179,  0.3233,  0.1950,\n",
      "        -0.8235,  0.1878,  0.2403, -1.5343,  0.2990,  0.2660, -1.5343,\n",
      "         0.1983,  0.1167, -0.3483,  0.2474,  0.1416, -0.4160,  0.1923,\n",
      "         0.2401, -1.8952,  0.1226,  0.3593, -0.7163,  0.5833,  0.1864,\n",
      "        -1.2394,  0.2375,  0.1581,  0.5702,  1.3040,  2.7258])\n"
     ]
    },
    {
     "name": "stdout",
     "output_type": "stream",
     "text": [
      "Test: [0/619]\tTime 1.433 (1.433)\tLoss 0.3325 (0.3325)\tPrecision 0.207\tRecall 0.180\tF1 0.193\n",
      "Test: [16/619]\tTime 0.387 (0.258)\tLoss 0.3383 (0.3329)\tPrecision 0.186\tRecall 0.193\tF1 0.190\n",
      "Test: [32/619]\tTime 0.690 (0.224)\tLoss 0.3280 (0.3321)\tPrecision 0.188\tRecall 0.198\tF1 0.193\n",
      "Test: [48/619]\tTime 0.231 (0.209)\tLoss 0.3345 (0.3325)\tPrecision 0.193\tRecall 0.197\tF1 0.195\n",
      "Test: [64/619]\tTime 0.100 (0.196)\tLoss 0.3328 (0.3326)\tPrecision 0.192\tRecall 0.194\tF1 0.193\n",
      "Test: [80/619]\tTime 0.101 (0.186)\tLoss 0.3356 (0.3326)\tPrecision 0.195\tRecall 0.196\tF1 0.195\n",
      "Test: [96/619]\tTime 0.101 (0.178)\tLoss 0.3353 (0.3324)\tPrecision 0.194\tRecall 0.195\tF1 0.194\n",
      "Test: [112/619]\tTime 0.102 (0.172)\tLoss 0.3317 (0.3324)\tPrecision 0.195\tRecall 0.196\tF1 0.196\n",
      "Test: [128/619]\tTime 0.114 (0.168)\tLoss 0.3298 (0.3321)\tPrecision 0.195\tRecall 0.196\tF1 0.196\n",
      "Test: [144/619]\tTime 0.110 (0.164)\tLoss 0.3328 (0.3322)\tPrecision 0.195\tRecall 0.195\tF1 0.195\n",
      "Test: [160/619]\tTime 0.101 (0.162)\tLoss 0.3264 (0.3321)\tPrecision 0.195\tRecall 0.196\tF1 0.196\n",
      "Test: [176/619]\tTime 0.101 (0.160)\tLoss 0.3285 (0.3322)\tPrecision 0.195\tRecall 0.196\tF1 0.195\n",
      "Test: [192/619]\tTime 0.108 (0.158)\tLoss 0.3334 (0.3322)\tPrecision 0.195\tRecall 0.196\tF1 0.196\n",
      "Test: [208/619]\tTime 0.102 (0.157)\tLoss 0.3332 (0.3321)\tPrecision 0.194\tRecall 0.196\tF1 0.195\n",
      "Test: [224/619]\tTime 0.101 (0.156)\tLoss 0.3260 (0.3322)\tPrecision 0.194\tRecall 0.195\tF1 0.194\n",
      "Test: [240/619]\tTime 0.101 (0.155)\tLoss 0.3328 (0.3322)\tPrecision 0.194\tRecall 0.195\tF1 0.195\n",
      "Test: [256/619]\tTime 0.103 (0.153)\tLoss 0.3423 (0.3323)\tPrecision 0.194\tRecall 0.195\tF1 0.194\n",
      "Test: [272/619]\tTime 0.102 (0.152)\tLoss 0.3389 (0.3324)\tPrecision 0.193\tRecall 0.193\tF1 0.193\n",
      "Test: [288/619]\tTime 0.102 (0.152)\tLoss 0.3339 (0.3325)\tPrecision 0.192\tRecall 0.192\tF1 0.192\n",
      "Test: [304/619]\tTime 0.103 (0.151)\tLoss 0.3359 (0.3325)\tPrecision 0.191\tRecall 0.191\tF1 0.191\n",
      "Test: [320/619]\tTime 0.101 (0.150)\tLoss 0.3376 (0.3327)\tPrecision 0.191\tRecall 0.191\tF1 0.191\n",
      "Test: [336/619]\tTime 0.107 (0.152)\tLoss 0.3370 (0.3328)\tPrecision 0.191\tRecall 0.190\tF1 0.190\n",
      "Test: [352/619]\tTime 0.107 (0.152)\tLoss 0.3368 (0.3329)\tPrecision 0.192\tRecall 0.189\tF1 0.190\n",
      "Test: [368/619]\tTime 0.113 (0.153)\tLoss 0.3330 (0.3330)\tPrecision 0.191\tRecall 0.189\tF1 0.190\n",
      "Test: [384/619]\tTime 0.103 (0.153)\tLoss 0.3322 (0.3330)\tPrecision 0.191\tRecall 0.189\tF1 0.190\n",
      "Test: [400/619]\tTime 0.101 (0.153)\tLoss 0.3343 (0.3330)\tPrecision 0.190\tRecall 0.189\tF1 0.189\n",
      "Test: [416/619]\tTime 0.102 (0.153)\tLoss 0.3326 (0.3330)\tPrecision 0.190\tRecall 0.188\tF1 0.189\n",
      "Test: [432/619]\tTime 0.109 (0.152)\tLoss 0.3329 (0.3330)\tPrecision 0.189\tRecall 0.188\tF1 0.189\n",
      "Test: [448/619]\tTime 0.104 (0.152)\tLoss 0.3375 (0.3331)\tPrecision 0.189\tRecall 0.187\tF1 0.188\n",
      "Test: [464/619]\tTime 0.103 (0.152)\tLoss 0.3359 (0.3331)\tPrecision 0.189\tRecall 0.187\tF1 0.188\n",
      "Test: [480/619]\tTime 0.100 (0.156)\tLoss 0.3305 (0.3331)\tPrecision 0.189\tRecall 0.187\tF1 0.188\n",
      "Test: [496/619]\tTime 0.101 (0.160)\tLoss 0.3303 (0.3331)\tPrecision 0.189\tRecall 0.187\tF1 0.188\n",
      "Test: [512/619]\tTime 0.115 (0.160)\tLoss 0.3301 (0.3331)\tPrecision 0.189\tRecall 0.186\tF1 0.188\n",
      "Test: [528/619]\tTime 0.108 (0.160)\tLoss 0.3295 (0.3331)\tPrecision 0.189\tRecall 0.186\tF1 0.188\n",
      "Test: [544/619]\tTime 0.102 (0.159)\tLoss 0.3281 (0.3331)\tPrecision 0.189\tRecall 0.186\tF1 0.188\n",
      "Test: [560/619]\tTime 0.108 (0.159)\tLoss 0.3332 (0.3331)\tPrecision 0.189\tRecall 0.187\tF1 0.188\n",
      "Test: [576/619]\tTime 0.110 (0.159)\tLoss 0.3286 (0.3332)\tPrecision 0.189\tRecall 0.186\tF1 0.188\n",
      "Test: [592/619]\tTime 0.107 (0.159)\tLoss 0.3361 (0.3332)\tPrecision 0.189\tRecall 0.186\tF1 0.188\n",
      "Test: [608/619]\tTime 0.103 (0.158)\tLoss 0.3341 (0.3332)\tPrecision 0.189\tRecall 0.186\tF1 0.188\n",
      " * Precision 0.189 Recall 0.186 F1 0.188\n"
     ]
    }
   ],
   "source": [
    "train_loop(train_loader, val_loader, args, optimizer, scheduler, model, criterion)"
   ]
  },
  {
   "cell_type": "markdown",
   "metadata": {},
   "source": [
    "# Inference"
   ]
  },
  {
   "cell_type": "code",
   "execution_count": 55,
   "metadata": {},
   "outputs": [
    {
     "name": "stdout",
     "output_type": "stream",
     "text": [
      "Test: [0/2349]\tTime 0.646 (0.646)\t\n",
      "Test: [16/2349]\tTime 0.098 (0.123)\t\n",
      "Test: [32/2349]\tTime 0.098 (0.111)\t\n",
      "Test: [48/2349]\tTime 0.098 (0.107)\t\n",
      "Test: [64/2349]\tTime 0.098 (0.105)\t\n",
      "Test: [80/2349]\tTime 0.097 (0.104)\t\n",
      "Test: [96/2349]\tTime 0.098 (0.103)\t\n",
      "Test: [112/2349]\tTime 0.097 (0.102)\t\n",
      "Test: [128/2349]\tTime 0.099 (0.102)\t\n",
      "Test: [144/2349]\tTime 0.098 (0.101)\t\n",
      "Test: [160/2349]\tTime 0.098 (0.101)\t\n",
      "Test: [176/2349]\tTime 0.098 (0.101)\t\n",
      "Test: [192/2349]\tTime 0.098 (0.101)\t\n",
      "Test: [208/2349]\tTime 0.098 (0.100)\t\n",
      "Test: [224/2349]\tTime 0.098 (0.100)\t\n",
      "Test: [240/2349]\tTime 0.100 (0.100)\t\n",
      "Test: [256/2349]\tTime 0.098 (0.100)\t\n",
      "Test: [272/2349]\tTime 0.098 (0.100)\t\n",
      "Test: [288/2349]\tTime 0.098 (0.100)\t\n",
      "Test: [304/2349]\tTime 0.098 (0.100)\t\n",
      "Test: [320/2349]\tTime 0.021 (0.102)\t\n",
      "Test: [336/2349]\tTime 0.100 (0.102)\t\n",
      "Test: [352/2349]\tTime 0.108 (0.102)\t\n",
      "Test: [368/2349]\tTime 0.107 (0.102)\t\n",
      "Test: [384/2349]\tTime 0.099 (0.102)\t\n",
      "Test: [400/2349]\tTime 0.098 (0.102)\t\n",
      "Test: [416/2349]\tTime 0.098 (0.102)\t\n",
      "Test: [432/2349]\tTime 0.099 (0.102)\t\n",
      "Test: [448/2349]\tTime 0.098 (0.102)\t\n",
      "Test: [464/2349]\tTime 0.099 (0.102)\t\n",
      "Test: [480/2349]\tTime 0.100 (0.102)\t\n",
      "Test: [496/2349]\tTime 0.098 (0.101)\t\n",
      "Test: [512/2349]\tTime 0.099 (0.101)\t\n",
      "Test: [528/2349]\tTime 0.098 (0.101)\t\n",
      "Test: [544/2349]\tTime 0.099 (0.101)\t\n",
      "Test: [560/2349]\tTime 0.099 (0.101)\t\n",
      "Test: [576/2349]\tTime 0.099 (0.101)\t\n",
      "Test: [592/2349]\tTime 0.099 (0.101)\t\n",
      "Test: [608/2349]\tTime 0.098 (0.101)\t\n",
      "Test: [624/2349]\tTime 0.104 (0.101)\t\n",
      "Test: [640/2349]\tTime 0.102 (0.101)\t\n",
      "Test: [656/2349]\tTime 0.099 (0.101)\t\n",
      "Test: [672/2349]\tTime 0.099 (0.101)\t\n",
      "Test: [688/2349]\tTime 0.098 (0.101)\t\n",
      "Test: [704/2349]\tTime 0.099 (0.101)\t\n",
      "Test: [720/2349]\tTime 0.099 (0.101)\t\n",
      "Test: [736/2349]\tTime 0.098 (0.101)\t\n",
      "Test: [752/2349]\tTime 0.103 (0.101)\t\n",
      "Test: [768/2349]\tTime 0.097 (0.101)\t\n",
      "Test: [784/2349]\tTime 0.099 (0.101)\t\n",
      "Test: [800/2349]\tTime 0.099 (0.101)\t\n",
      "Test: [816/2349]\tTime 0.100 (0.101)\t\n",
      "Test: [832/2349]\tTime 0.100 (0.101)\t\n",
      "Test: [848/2349]\tTime 0.099 (0.101)\t\n",
      "Test: [864/2349]\tTime 0.099 (0.101)\t\n",
      "Test: [880/2349]\tTime 0.100 (0.101)\t\n",
      "Test: [896/2349]\tTime 0.100 (0.101)\t\n",
      "Test: [912/2349]\tTime 0.100 (0.101)\t\n",
      "Test: [928/2349]\tTime 0.100 (0.101)\t\n",
      "Test: [944/2349]\tTime 0.101 (0.101)\t\n",
      "Test: [960/2349]\tTime 0.100 (0.101)\t\n",
      "Test: [976/2349]\tTime 0.100 (0.101)\t\n",
      "Test: [992/2349]\tTime 0.100 (0.101)\t\n",
      "Test: [1008/2349]\tTime 0.099 (0.101)\t\n",
      "Test: [1024/2349]\tTime 0.098 (0.101)\t\n",
      "Test: [1040/2349]\tTime 0.100 (0.101)\t\n",
      "Test: [1056/2349]\tTime 0.099 (0.101)\t\n",
      "Test: [1072/2349]\tTime 0.100 (0.101)\t\n",
      "Test: [1088/2349]\tTime 0.099 (0.101)\t\n",
      "Test: [1104/2349]\tTime 0.100 (0.100)\t\n",
      "Test: [1120/2349]\tTime 0.100 (0.100)\t\n",
      "Test: [1136/2349]\tTime 0.101 (0.100)\t\n",
      "Test: [1152/2349]\tTime 0.100 (0.100)\t\n",
      "Test: [1168/2349]\tTime 0.099 (0.101)\t\n",
      "Test: [1184/2349]\tTime 0.100 (0.101)\t\n",
      "Test: [1200/2349]\tTime 0.101 (0.101)\t\n",
      "Test: [1216/2349]\tTime 0.100 (0.101)\t\n",
      "Test: [1232/2349]\tTime 0.100 (0.101)\t\n",
      "Test: [1248/2349]\tTime 0.100 (0.101)\t\n",
      "Test: [1264/2349]\tTime 0.100 (0.101)\t\n",
      "Test: [1280/2349]\tTime 0.100 (0.100)\t\n",
      "Test: [1296/2349]\tTime 0.100 (0.100)\t\n",
      "Test: [1312/2349]\tTime 0.100 (0.100)\t\n",
      "Test: [1328/2349]\tTime 0.102 (0.100)\t\n",
      "Test: [1344/2349]\tTime 0.101 (0.100)\t\n",
      "Test: [1360/2349]\tTime 0.101 (0.100)\t\n",
      "Test: [1376/2349]\tTime 0.101 (0.101)\t\n",
      "Test: [1392/2349]\tTime 0.101 (0.101)\t\n",
      "Test: [1408/2349]\tTime 0.101 (0.101)\t\n",
      "Test: [1424/2349]\tTime 0.100 (0.101)\t\n",
      "Test: [1440/2349]\tTime 0.101 (0.101)\t\n",
      "Test: [1456/2349]\tTime 0.099 (0.101)\t\n",
      "Test: [1472/2349]\tTime 0.101 (0.101)\t\n",
      "Test: [1488/2349]\tTime 0.100 (0.101)\t\n",
      "Test: [1504/2349]\tTime 0.100 (0.101)\t\n",
      "Test: [1520/2349]\tTime 0.100 (0.101)\t\n",
      "Test: [1536/2349]\tTime 0.099 (0.101)\t\n",
      "Test: [1552/2349]\tTime 0.100 (0.101)\t\n",
      "Test: [1568/2349]\tTime 0.101 (0.101)\t\n",
      "Test: [1584/2349]\tTime 0.100 (0.101)\t\n",
      "Test: [1600/2349]\tTime 0.101 (0.101)\t\n",
      "Test: [1616/2349]\tTime 0.098 (0.101)\t\n",
      "Test: [1632/2349]\tTime 0.101 (0.101)\t\n",
      "Test: [1648/2349]\tTime 0.100 (0.101)\t\n",
      "Test: [1664/2349]\tTime 0.100 (0.101)\t\n",
      "Test: [1680/2349]\tTime 0.101 (0.101)\t\n",
      "Test: [1696/2349]\tTime 0.100 (0.101)\t\n",
      "Test: [1712/2349]\tTime 0.100 (0.101)\t\n",
      "Test: [1728/2349]\tTime 0.100 (0.101)\t\n",
      "Test: [1744/2349]\tTime 0.100 (0.101)\t\n",
      "Test: [1760/2349]\tTime 0.101 (0.101)\t\n",
      "Test: [1776/2349]\tTime 0.101 (0.101)\t\n",
      "Test: [1792/2349]\tTime 0.101 (0.101)\t\n",
      "Test: [1808/2349]\tTime 0.100 (0.101)\t\n",
      "Test: [1824/2349]\tTime 0.099 (0.101)\t\n",
      "Test: [1840/2349]\tTime 0.101 (0.101)\t\n",
      "Test: [1856/2349]\tTime 0.100 (0.101)\t\n",
      "Test: [1872/2349]\tTime 0.100 (0.101)\t\n",
      "Test: [1888/2349]\tTime 0.100 (0.101)\t\n",
      "Test: [1904/2349]\tTime 0.098 (0.101)\t\n",
      "Test: [1920/2349]\tTime 0.101 (0.101)\t\n",
      "Test: [1936/2349]\tTime 0.100 (0.101)\t\n",
      "Test: [1952/2349]\tTime 0.101 (0.101)\t\n",
      "Test: [1968/2349]\tTime 0.101 (0.101)\t\n",
      "Test: [1984/2349]\tTime 0.109 (0.101)\t\n",
      "Test: [2000/2349]\tTime 0.112 (0.101)\t\n",
      "Test: [2016/2349]\tTime 0.099 (0.101)\t\n",
      "Test: [2032/2349]\tTime 0.100 (0.101)\t\n",
      "Test: [2048/2349]\tTime 0.098 (0.101)\t\n",
      "Test: [2064/2349]\tTime 0.100 (0.101)\t\n",
      "Test: [2080/2349]\tTime 0.100 (0.101)\t\n",
      "Test: [2096/2349]\tTime 0.101 (0.101)\t\n",
      "Test: [2112/2349]\tTime 0.101 (0.101)\t\n",
      "Test: [2128/2349]\tTime 0.099 (0.101)\t\n",
      "Test: [2144/2349]\tTime 0.101 (0.101)\t\n",
      "Test: [2160/2349]\tTime 0.103 (0.101)\t\n",
      "Test: [2176/2349]\tTime 0.100 (0.101)\t\n",
      "Test: [2192/2349]\tTime 0.100 (0.101)\t\n",
      "Test: [2208/2349]\tTime 0.100 (0.101)\t\n",
      "Test: [2224/2349]\tTime 0.101 (0.101)\t\n",
      "Test: [2240/2349]\tTime 0.099 (0.101)\t\n",
      "Test: [2256/2349]\tTime 0.100 (0.101)\t\n",
      "Test: [2272/2349]\tTime 0.100 (0.101)\t\n",
      "Test: [2288/2349]\tTime 0.112 (0.101)\t\n",
      "Test: [2304/2349]\tTime 0.099 (0.101)\t\n",
      "Test: [2320/2349]\tTime 0.100 (0.101)\t\n",
      "Test: [2336/2349]\tTime 0.101 (0.101)\t\n"
     ]
    }
   ],
   "source": [
    "test(test_loader, args.best, model)"
   ]
  },
  {
   "cell_type": "markdown",
   "metadata": {
    "colab_type": "text",
    "id": "gevaiXFORuTH"
   },
   "source": [
    "# Save Results"
   ]
  },
  {
   "cell_type": "markdown",
   "metadata": {
    "colab_type": "text",
    "id": "XlL1brDNRucP"
   },
   "source": []
  },
  {
   "cell_type": "code",
   "execution_count": null,
   "metadata": {},
   "outputs": [],
   "source": []
  },
  {
   "cell_type": "markdown",
   "metadata": {
    "colab": {
     "autoexec": {
      "startup": false,
      "wait_interval": 0
     }
    },
    "colab_type": "code",
    "id": "PT9Shf_MRhui"
   },
   "source": []
  }
 ],
 "metadata": {
  "accelerator": "GPU",
  "colab": {
   "collapsed_sections": [],
   "default_view": {},
   "name": "TrainLoop.ipynb",
   "provenance": [],
   "version": "0.3.2",
   "views": {}
  },
  "kernelspec": {
   "display_name": "Python 3",
   "language": "python",
   "name": "python3"
  },
  "language_info": {
   "codemirror_mode": {
    "name": "ipython",
    "version": 3
   },
   "file_extension": ".py",
   "mimetype": "text/x-python",
   "name": "python",
   "nbconvert_exporter": "python",
   "pygments_lexer": "ipython3",
   "version": "3.6.5"
  }
 },
 "nbformat": 4,
 "nbformat_minor": 1
}
