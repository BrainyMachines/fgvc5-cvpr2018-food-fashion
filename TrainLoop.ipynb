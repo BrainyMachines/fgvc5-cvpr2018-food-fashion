{
 "cells": [
  {
   "cell_type": "markdown",
   "metadata": {
    "colab_type": "text",
    "id": "4OGEu9nITbnO"
   },
   "source": [
    "# Install Torch"
   ]
  },
  {
   "cell_type": "code",
   "execution_count": 1,
   "metadata": {
    "colab": {
     "autoexec": {
      "startup": false,
      "wait_interval": 0
     }
    },
    "colab_type": "code",
    "id": "uX687hj69g9g"
   },
   "outputs": [],
   "source": [
    "torchver = \"0.4.0\""
   ]
  },
  {
   "cell_type": "code",
   "execution_count": 2,
   "metadata": {
    "colab": {
     "autoexec": {
      "startup": false,
      "wait_interval": 0
     },
     "base_uri": "https://localhost:8080/",
     "height": 306
    },
    "colab_type": "code",
    "executionInfo": {
     "elapsed": 1967,
     "status": "ok",
     "timestamp": 1527015382182,
     "user": {
      "displayName": "Sourabh Daptardar",
      "photoUrl": "//lh4.googleusercontent.com/-onn5Q0_MiKQ/AAAAAAAAAAI/AAAAAAAACDI/iOxkSEz16nA/s50-c-k-no/photo.jpg",
      "userId": "115812262388010820083"
     },
     "user_tz": -330
    },
    "id": "_gX52NUpzIYC",
    "outputId": "311649d4-8385-4c39-b984-1846818c2388"
   },
   "outputs": [
    {
     "name": "stdout",
     "output_type": "stream",
     "text": [
      "/bin/sh: 1: /opt/bin/nvidia-smi: not found\r\n",
      "Thu May 24 00:30:13 2018       \r\n",
      "+-----------------------------------------------------------------------------+\r\n",
      "| NVIDIA-SMI 390.25                 Driver Version: 390.25                    |\r\n",
      "|-------------------------------+----------------------+----------------------+\r\n",
      "| GPU  Name        Persistence-M| Bus-Id        Disp.A | Volatile Uncorr. ECC |\r\n",
      "| Fan  Temp  Perf  Pwr:Usage/Cap|         Memory-Usage | GPU-Util  Compute M. |\r\n",
      "|===============================+======================+======================|\r\n",
      "|   0  GeForce GTX 980     Off  | 00000000:01:00.0  On |                  N/A |\r\n",
      "| 26%   61C    P8    16W / 185W |    230MiB /  4038MiB |      5%      Default |\r\n",
      "+-------------------------------+----------------------+----------------------+\r\n",
      "                                                                               \r\n",
      "+-----------------------------------------------------------------------------+\r\n",
      "| Processes:                                                       GPU Memory |\r\n",
      "|  GPU       PID   Type   Process name                             Usage      |\r\n",
      "|=============================================================================|\r\n",
      "|    0      1549      G   /usr/lib/xorg/Xorg                           135MiB |\r\n",
      "|    0      2582      G   ...-token=BFE3581D32FC5453F311FA070D42939F    14MiB |\r\n",
      "|    0      2686      G   ...-token=6AAE23E137A1088647C7B6DF40F2389F    76MiB |\r\n",
      "+-----------------------------------------------------------------------------+\r\n"
     ]
    }
   ],
   "source": [
    "!/opt/bin/nvidia-smi || /usr/bin/nvidia-smi"
   ]
  },
  {
   "cell_type": "code",
   "execution_count": 3,
   "metadata": {
    "colab": {
     "autoexec": {
      "startup": false,
      "wait_interval": 0
     },
     "base_uri": "https://localhost:8080/",
     "height": 51
    },
    "colab_type": "code",
    "executionInfo": {
     "elapsed": 2037,
     "status": "ok",
     "timestamp": 1527015384289,
     "user": {
      "displayName": "Sourabh Daptardar",
      "photoUrl": "//lh4.googleusercontent.com/-onn5Q0_MiKQ/AAAAAAAAAAI/AAAAAAAACDI/iOxkSEz16nA/s50-c-k-no/photo.jpg",
      "userId": "115812262388010820083"
     },
     "user_tz": -330
    },
    "id": "Z0wFaqgbE4wI",
    "outputId": "feb79b53-fdc9-45eb-92c7-7dff6334c183"
   },
   "outputs": [
    {
     "name": "stdout",
     "output_type": "stream",
     "text": [
      "ls: cannot access '/colabtools': No such file or directory\r\n"
     ]
    }
   ],
   "source": [
    "!ls /colabtools"
   ]
  },
  {
   "cell_type": "code",
   "execution_count": 4,
   "metadata": {
    "colab": {
     "autoexec": {
      "startup": false,
      "wait_interval": 0
     },
     "base_uri": "https://localhost:8080/",
     "height": 34
    },
    "colab_type": "code",
    "executionInfo": {
     "elapsed": 2121,
     "status": "ok",
     "timestamp": 1527015386438,
     "user": {
      "displayName": "Sourabh Daptardar",
      "photoUrl": "//lh4.googleusercontent.com/-onn5Q0_MiKQ/AAAAAAAAAAI/AAAAAAAACDI/iOxkSEz16nA/s50-c-k-no/photo.jpg",
      "userId": "115812262388010820083"
     },
     "user_tz": -330
    },
    "id": "G4WvjiCDzWPR",
    "outputId": "708f088a-9f78-4a08-9811-145b8874105b"
   },
   "outputs": [
    {
     "name": "stdout",
     "output_type": "stream",
     "text": [
      "Python 3.6.5 :: Anaconda, Inc.\r\n"
     ]
    }
   ],
   "source": [
    "!python --version"
   ]
  },
  {
   "cell_type": "code",
   "execution_count": null,
   "metadata": {
    "colab": {
     "autoexec": {
      "startup": false,
      "wait_interval": 0
     }
    },
    "colab_type": "code",
    "id": "g7awEd2R91eS"
   },
   "outputs": [],
   "source": []
  },
  {
   "cell_type": "code",
   "execution_count": 5,
   "metadata": {
    "colab": {
     "autoexec": {
      "startup": false,
      "wait_interval": 0
     },
     "base_uri": "https://localhost:8080/",
     "height": 187
    },
    "colab_type": "code",
    "executionInfo": {
     "elapsed": 5041,
     "status": "ok",
     "timestamp": 1527015392777,
     "user": {
      "displayName": "Sourabh Daptardar",
      "photoUrl": "//lh4.googleusercontent.com/-onn5Q0_MiKQ/AAAAAAAAAAI/AAAAAAAACDI/iOxkSEz16nA/s50-c-k-no/photo.jpg",
      "userId": "115812262388010820083"
     },
     "user_tz": -330
    },
    "id": "z85P4eDZNSdu",
    "outputId": "26542569-3f96-4bc5-de5b-3d8c51c98f75"
   },
   "outputs": [
    {
     "name": "stdout",
     "output_type": "stream",
     "text": [
      "Uninstalling Pillow-5.1.0:\n",
      "  Successfully uninstalled Pillow-5.1.0\n",
      "Collecting pillow-simd\n",
      "\u001b[31mtensorflow 1.3.0 requires tensorflow-tensorboard<0.2.0,>=0.1.0, which is not installed.\u001b[0m\n",
      "\u001b[31mscikit-image 0.13.0 requires pillow>=2.1.0, which is not installed.\u001b[0m\n",
      "\u001b[31mtorchvision 0.2.0 requires pillow>=4.1.1, which is not installed.\u001b[0m\n",
      "\u001b[31mdjango-haystack 2.8.1 has requirement Django>=1.11, but you'll have django 1.7.11 which is incompatible.\u001b[0m\n",
      "Installing collected packages: pillow-simd\n",
      "  Found existing installation: Pillow-SIMD 5.1.1.post0\n",
      "    Uninstalling Pillow-SIMD-5.1.1.post0:\n",
      "      Successfully uninstalled Pillow-SIMD-5.1.1.post0\n",
      "Successfully installed pillow-simd-5.1.1.post0\n"
     ]
    }
   ],
   "source": [
    "!pip3 uninstall -y pillow\n",
    "!CC=\"cc -mavx2\" pip3 install -U --force-reinstall pillow-simd\n"
   ]
  },
  {
   "cell_type": "code",
   "execution_count": 6,
   "metadata": {
    "colab": {
     "autoexec": {
      "startup": false,
      "wait_interval": 0
     },
     "base_uri": "https://localhost:8080/",
     "height": 309
    },
    "colab_type": "code",
    "executionInfo": {
     "elapsed": 3414,
     "status": "ok",
     "timestamp": 1527015396225,
     "user": {
      "displayName": "Sourabh Daptardar",
      "photoUrl": "//lh4.googleusercontent.com/-onn5Q0_MiKQ/AAAAAAAAAAI/AAAAAAAACDI/iOxkSEz16nA/s50-c-k-no/photo.jpg",
      "userId": "115812262388010820083"
     },
     "user_tz": -330
    },
    "id": "7FiDFXCiT8wS",
    "outputId": "6a582c41-86d8-4fac-bdfd-b1008bba2099"
   },
   "outputs": [
    {
     "name": "stdout",
     "output_type": "stream",
     "text": [
      "Requirement already satisfied: ipdb in /home/sourabhd/installs/miniconda3/envs/py3k/lib/python3.6/site-packages (0.11)\n",
      "Requirement already satisfied: setuptools in /home/sourabhd/installs/miniconda3/envs/py3k/lib/python3.6/site-packages (from ipdb) (39.2.0)\n",
      "Requirement already satisfied: ipython>=5.0.0; python_version >= \"3.3\" in /home/sourabhd/installs/miniconda3/envs/py3k/lib/python3.6/site-packages (from ipdb) (6.4.0)\n",
      "Requirement already satisfied: backcall in /home/sourabhd/installs/miniconda3/envs/py3k/lib/python3.6/site-packages (from ipython>=5.0.0; python_version >= \"3.3\"->ipdb) (0.1.0)\n",
      "Requirement already satisfied: pygments in /home/sourabhd/installs/miniconda3/envs/py3k/lib/python3.6/site-packages (from ipython>=5.0.0; python_version >= \"3.3\"->ipdb) (2.2.0)\n",
      "Requirement already satisfied: decorator in /home/sourabhd/installs/miniconda3/envs/py3k/lib/python3.6/site-packages (from ipython>=5.0.0; python_version >= \"3.3\"->ipdb) (4.3.0)\n",
      "Requirement already satisfied: prompt-toolkit<2.0.0,>=1.0.15 in /home/sourabhd/installs/miniconda3/envs/py3k/lib/python3.6/site-packages (from ipython>=5.0.0; python_version >= \"3.3\"->ipdb) (1.0.15)\n",
      "Requirement already satisfied: simplegeneric>0.8 in /home/sourabhd/installs/miniconda3/envs/py3k/lib/python3.6/site-packages (from ipython>=5.0.0; python_version >= \"3.3\"->ipdb) (0.8.1)\n",
      "Requirement already satisfied: pexpect; sys_platform != \"win32\" in /home/sourabhd/installs/miniconda3/envs/py3k/lib/python3.6/site-packages (from ipython>=5.0.0; python_version >= \"3.3\"->ipdb) (4.5.0)\n",
      "Requirement already satisfied: jedi>=0.10 in /home/sourabhd/installs/miniconda3/envs/py3k/lib/python3.6/site-packages (from ipython>=5.0.0; python_version >= \"3.3\"->ipdb) (0.12.0)\n",
      "Requirement already satisfied: pickleshare in /home/sourabhd/installs/miniconda3/envs/py3k/lib/python3.6/site-packages (from ipython>=5.0.0; python_version >= \"3.3\"->ipdb) (0.7.4)\n",
      "Requirement already satisfied: traitlets>=4.2 in /home/sourabhd/installs/miniconda3/envs/py3k/lib/python3.6/site-packages (from ipython>=5.0.0; python_version >= \"3.3\"->ipdb) (4.3.2)\n",
      "Requirement already satisfied: wcwidth in /home/sourabhd/installs/miniconda3/envs/py3k/lib/python3.6/site-packages (from prompt-toolkit<2.0.0,>=1.0.15->ipython>=5.0.0; python_version >= \"3.3\"->ipdb) (0.1.7)\n",
      "Requirement already satisfied: six>=1.9.0 in /home/sourabhd/installs/miniconda3/envs/py3k/lib/python3.6/site-packages (from prompt-toolkit<2.0.0,>=1.0.15->ipython>=5.0.0; python_version >= \"3.3\"->ipdb) (1.11.0)\n",
      "Requirement already satisfied: ptyprocess>=0.5 in /home/sourabhd/installs/miniconda3/envs/py3k/lib/python3.6/site-packages (from pexpect; sys_platform != \"win32\"->ipython>=5.0.0; python_version >= \"3.3\"->ipdb) (0.5.2)\n",
      "Requirement already satisfied: parso>=0.2.0 in /home/sourabhd/installs/miniconda3/envs/py3k/lib/python3.6/site-packages (from jedi>=0.10->ipython>=5.0.0; python_version >= \"3.3\"->ipdb) (0.2.0)\n",
      "Requirement already satisfied: ipython_genutils in /home/sourabhd/installs/miniconda3/envs/py3k/lib/python3.6/site-packages (from traitlets>=4.2->ipython>=5.0.0; python_version >= \"3.3\"->ipdb) (0.2.0)\n",
      "\u001b[31mtensorflow 1.3.0 requires tensorflow-tensorboard<0.2.0,>=0.1.0, which is not installed.\u001b[0m\n",
      "\u001b[31mscikit-image 0.13.0 requires pillow>=2.1.0, which is not installed.\u001b[0m\n",
      "\u001b[31mtorchvision 0.2.0 requires pillow>=4.1.1, which is not installed.\u001b[0m\n",
      "\u001b[31mdjango-haystack 2.8.1 has requirement Django>=1.11, but you'll have django 1.7.11 which is incompatible.\u001b[0m\n"
     ]
    }
   ],
   "source": [
    "\n",
    "!pip3 install ipdb\n"
   ]
  },
  {
   "cell_type": "code",
   "execution_count": 7,
   "metadata": {
    "colab": {
     "autoexec": {
      "startup": false,
      "wait_interval": 0
     },
     "base_uri": "https://localhost:8080/",
     "height": 272
    },
    "colab_type": "code",
    "executionInfo": {
     "elapsed": 6145,
     "status": "ok",
     "timestamp": 1527015402414,
     "user": {
      "displayName": "Sourabh Daptardar",
      "photoUrl": "//lh4.googleusercontent.com/-onn5Q0_MiKQ/AAAAAAAAAAI/AAAAAAAACDI/iOxkSEz16nA/s50-c-k-no/photo.jpg",
      "userId": "115812262388010820083"
     },
     "user_tz": -330
    },
    "id": "TAP3KzaO_3mr",
    "outputId": "d48fd867-01ff-479d-a37e-82c0ac00ce44"
   },
   "outputs": [
    {
     "name": "stdout",
     "output_type": "stream",
     "text": [
      "36\n",
      "cu91\n",
      "http://download.pytorch.org/whl/cu91/torch-0.4.0-cp36-cp36m-linux_x86_64.whl\n",
      "Requirement already satisfied: torch==0.4.0 from http://download.pytorch.org/whl/cu91/torch-0.4.0-cp36-cp36m-linux_x86_64.whl in /home/sourabhd/installs/miniconda3/envs/py3k/lib/python3.6/site-packages (0.4.0)\n",
      "\u001b[31mtensorflow 1.3.0 requires tensorflow-tensorboard<0.2.0,>=0.1.0, which is not installed.\u001b[0m\n",
      "\u001b[31mscikit-image 0.13.0 requires pillow>=2.1.0, which is not installed.\u001b[0m\n",
      "\u001b[31mtorchvision 0.2.0 requires pillow>=4.1.1, which is not installed.\u001b[0m\n",
      "\u001b[31mdjango-haystack 2.8.1 has requirement Django>=1.11, but you'll have django 1.7.11 which is incompatible.\u001b[0m\n",
      "Requirement already satisfied: torchvision in /home/sourabhd/installs/miniconda3/envs/py3k/lib/python3.6/site-packages/torchvision-0.2.0-py3.6.egg (0.2.0)\n",
      "Requirement already satisfied: numpy in /home/sourabhd/installs/miniconda3/envs/py3k/lib/python3.6/site-packages (from torchvision) (1.14.3)\n",
      "Collecting pillow>=4.1.1 (from torchvision)\n",
      "  Using cached https://files.pythonhosted.org/packages/5f/4b/8b54ab9d37b93998c81b364557dff9f61972c0f650efa0ceaf470b392740/Pillow-5.1.0-cp36-cp36m-manylinux1_x86_64.whl\n",
      "Requirement already satisfied: six in /home/sourabhd/installs/miniconda3/envs/py3k/lib/python3.6/site-packages (from torchvision) (1.11.0)\n",
      "Requirement already satisfied: torch in /home/sourabhd/installs/miniconda3/envs/py3k/lib/python3.6/site-packages (from torchvision) (0.4.0)\n",
      "\u001b[31mtensorflow 1.3.0 requires tensorflow-tensorboard<0.2.0,>=0.1.0, which is not installed.\u001b[0m\n",
      "\u001b[31mdjango-haystack 2.8.1 has requirement Django>=1.11, but you'll have django 1.7.11 which is incompatible.\u001b[0m\n",
      "Installing collected packages: pillow\n",
      "Successfully installed pillow-5.1.0\n",
      "PIL\n"
     ]
    }
   ],
   "source": [
    "\n",
    "from os import path\n",
    "from wheel.pep425tags import get_abbr_impl, get_impl_ver, get_abi_tag\n",
    "platform = '{}{}-{}'.format(get_abbr_impl(), get_impl_ver(), get_abi_tag())\n",
    "\n",
    "pver = !python --version |& awk '{print $2 }' | awk -F. '{ print $1$2}'\n",
    "pyver = pver[0]\n",
    "print(pyver)\n",
    "\n",
    "# cver = !echo \"cu`nvcc --version | sed \"s/ /\\n/g\" | grep -i release -A 1 | tail -n 1 | tr -d [\\.,]`\"\n",
    "# cudaver = cver[0]\n",
    "cudaver = 'cu91'\n",
    "\n",
    "accelerator =  cudaver if path.exists('/opt/bin/nvidia-smi') or path.exists('/usr/bin/nvidia-smi') else 'cpu'\n",
    "print(accelerator)\n",
    "\n",
    "torchurl = \"http://download.pytorch.org/whl/{0}/torch-{1}-cp{2}-cp{2}m-linux_x86_64.whl\".format(accelerator, torchver, pyver)\n",
    "print(torchurl)\n",
    "\n",
    "!pip3 install http://download.pytorch.org/whl/cu91/torch-0.4.0-cp36-cp36m-linux_x86_64.whl \n",
    "!pip3 install torchvision\n",
    "\n",
    "import torch\n",
    "import torchvision\n",
    "print(torchvision.get_image_backend())"
   ]
  },
  {
   "cell_type": "code",
   "execution_count": 8,
   "metadata": {
    "colab": {
     "autoexec": {
      "startup": false,
      "wait_interval": 0
     },
     "base_uri": "https://localhost:8080/",
     "height": 34
    },
    "colab_type": "code",
    "executionInfo": {
     "elapsed": 3083,
     "status": "ok",
     "timestamp": 1527015405574,
     "user": {
      "displayName": "Sourabh Daptardar",
      "photoUrl": "//lh4.googleusercontent.com/-onn5Q0_MiKQ/AAAAAAAAAAI/AAAAAAAACDI/iOxkSEz16nA/s50-c-k-no/photo.jpg",
      "userId": "115812262388010820083"
     },
     "user_tz": -330
    },
    "id": "a4CFa1WLgoUX",
    "outputId": "cd632861-265b-4c66-bc57-fd7e2d6228ff"
   },
   "outputs": [
    {
     "name": "stdout",
     "output_type": "stream",
     "text": [
      "Requirement already satisfied: tqdm in /home/sourabhd/installs/miniconda3/envs/py3k/lib/python3.6/site-packages (4.19.4)\n",
      "\u001b[31mtensorflow 1.3.0 requires tensorflow-tensorboard<0.2.0,>=0.1.0, which is not installed.\u001b[0m\n",
      "\u001b[31mdjango-haystack 2.8.1 has requirement Django>=1.11, but you'll have django 1.7.11 which is incompatible.\u001b[0m\n"
     ]
    }
   ],
   "source": [
    "!pip3 install tqdm"
   ]
  },
  {
   "cell_type": "markdown",
   "metadata": {
    "colab_type": "text",
    "id": "GZt8MRT5RfK6"
   },
   "source": [
    "# Imports"
   ]
  },
  {
   "cell_type": "code",
   "execution_count": 9,
   "metadata": {
    "colab": {
     "autoexec": {
      "startup": false,
      "wait_interval": 0
     }
    },
    "colab_type": "code",
    "id": "ZptSyG9oSN1c"
   },
   "outputs": [],
   "source": [
    "import torch\n",
    "import os\n",
    "import sys\n",
    "import logging\n",
    "import io\n",
    "import time\n",
    "import shutil\n",
    "from tqdm import tqdm\n",
    "from matplotlib.pyplot import imshow\n",
    "import numpy as np\n",
    "from PIL import Image\n",
    "import torch\n",
    "import torch.nn as nn\n",
    "import torch.nn.parallel\n",
    "import torch.backends.cudnn as cudnn\n",
    "import torch.distributed as dist\n",
    "import torch.optim as optim\n",
    "import torch.optim.lr_scheduler as lr_scheduler\n",
    "import torch.utils.data\n",
    "import torch.utils.data.distributed\n",
    "import torchvision.transforms as transforms\n",
    "import torchvision.datasets as datasets\n",
    "import torchvision.models as models\n",
    "from argparse import Namespace"
   ]
  },
  {
   "cell_type": "code",
   "execution_count": 10,
   "metadata": {
    "colab": {
     "autoexec": {
      "startup": false,
      "wait_interval": 0
     }
    },
    "colab_type": "code",
    "id": "IEEo0VYsZhvO"
   },
   "outputs": [],
   "source": [
    "%matplotlib inline"
   ]
  },
  {
   "cell_type": "markdown",
   "metadata": {
    "colab_type": "text",
    "id": "N1BQLwQTWcKU"
   },
   "source": [
    "# Parameters"
   ]
  },
  {
   "cell_type": "code",
   "execution_count": null,
   "metadata": {},
   "outputs": [],
   "source": []
  },
  {
   "cell_type": "code",
   "execution_count": 11,
   "metadata": {
    "colab": {
     "autoexec": {
      "startup": false,
      "wait_interval": 0
     }
    },
    "colab_type": "code",
    "id": "eM2a7qmqWh3Q"
   },
   "outputs": [],
   "source": [
    "args = Namespace()\n",
    "# base_dir = '/content/fashion'\n",
    "args.base_dir = '/data/datasets/kaggle_fashion'\n",
    "args.data_dir = args.base_dir + os.sep + 'data'\n",
    "args.input_dir = args.data_dir + os.sep + 'input'\n",
    "args.output_dir = args.data_dir + os.sep + 'output'\n",
    "args.train_zip = args.input_dir + os.sep + 'train_data.zip'\n",
    "args.val_zip = args.input_dir + os.sep + 'validation_data.zip'\n",
    "args.train_dir = args.input_dir + os.sep + 'train_data'\n",
    "args.val_dir = args.input_dir + os.sep + 'validation_data'\n",
    "args.train_id = \"1rx1rL8RUAggN4hKlrYLtpdQagtUWmIbO\"\n",
    "args.val_id = \"1U19eWiBFJ6wGcFk47l6g9mmoWp1i4hPY\"\n",
    "# args.train_labels_id = \"1NOoWniR3ioqPKbVWoaWGy4HPDzZAAJX9\"\n",
    "args.train_labels_id = \"1X7TpWyxxtmCT5rw__7OKus_W4fh8xpKO\" # small dataset\n",
    "args.val_labels_id = \"1d9RuQTx5E8qFxraIu6B4rDTOC4sx2xXT\"\n",
    "args.test_labels_id = \"1VwzGCJfOL13pk1Wi-xPHQ6mVnofy9_Z4\"\n",
    "# args.train_labels_json = args.input_dir + os.sep + 'train.json'\n",
    "args.train_labels_json = args.input_dir + os.sep + 'train_small.json' \n",
    "args.val_labels_json = args.input_dir + os.sep + 'validation.json'\n",
    "args.test_labels_json = args.input_dir + os.sep + 'test.json'\n",
    "args.num_labels = 228\n",
    "args.batch_size = 16\n",
    "args.image_min_size = 256\n",
    "args.nw_input_size = 224\n",
    "args.num_workers = 4\n",
    "args.imagenet_mean = [0.485, 0.456, 0.406]\n",
    "args.imagenet_std = [0.229, 0.224, 0.225]\n",
    "args.pretrain_dset_mean = args.imagenet_mean\n",
    "args.pretrain_dset_std = args.imagenet_std\n",
    "args.world_size = 1\n",
    "args.dist_url = 'file://' + args.output_dir + os.sep + 'dfile'\n",
    "args.dist_backend = 'gloo'\n",
    "args.distributed = args.world_size > 1\n",
    "args.arch = 'resnet50'\n",
    "args.fv_size = 2048\n",
    "args.pretrained = True\n",
    "args.resume = False\n",
    "args.start_epoch = 0\n",
    "args.small=1e-12                         # small value used for avoiding div by zero\n",
    "args.optimizer_learning_rate = 1e-3      # Adam optimizer initial learning rate\n",
    "args.scheduler_patience = 1              # Number of epochs with no improvement after which learning rate will be reduced\n",
    "args.scheduler_threshold = 1e-3          # learning rate scheduler threshold for measuring the new optimum, to only focus on significant changes\n",
    "args.scheduler_factor = 0.1              # learning rate scheduler factor by which the learning rate will be reduced. new_lr = lr * factor\n",
    "args.earlystopping_patience = 1          # early stopping patience is the number of epochs with no improvement after which training will be stopped\n",
    "args.earlystopping_min_delta = 1e-5      # minimum change in the monitored quantity to qualify as an improvement, i.e. an absolute change of less than min_delta, will count as no improvement\n",
    "args.evaluate = False\n",
    "args.epochs = 100\n",
    "args.print_freq = 100\n",
    "args.ckpt_dir = args.output_dir + os.sep + 'ckpt'\n",
    "args.ckpt = args.ckpt_dir + os.sep + 'ckpt_%s.pth.tar'"
   ]
  },
  {
   "cell_type": "code",
   "execution_count": 12,
   "metadata": {
    "colab": {
     "autoexec": {
      "startup": false,
      "wait_interval": 0
     },
     "base_uri": "https://localhost:8080/",
     "height": 928
    },
    "colab_type": "code",
    "executionInfo": {
     "elapsed": 1332,
     "status": "error",
     "timestamp": 1527015425722,
     "user": {
      "displayName": "Sourabh Daptardar",
      "photoUrl": "//lh4.googleusercontent.com/-onn5Q0_MiKQ/AAAAAAAAAAI/AAAAAAAACDI/iOxkSEz16nA/s50-c-k-no/photo.jpg",
      "userId": "115812262388010820083"
     },
     "user_tz": -330
    },
    "id": "90hY9m66UYPd",
    "outputId": "de44a4f5-386e-4243-b3bb-2da97134ce99"
   },
   "outputs": [
    {
     "name": "stdout",
     "output_type": "stream",
     "text": [
      "7102\n",
      "True\n",
      "GeForce GTX 980\n"
     ]
    }
   ],
   "source": [
    "print(torch.backends.cudnn.version())\n",
    "print(torch.cuda.is_available())\n",
    "print(torch.cuda.get_device_name(0))\n"
   ]
  },
  {
   "cell_type": "code",
   "execution_count": 13,
   "metadata": {
    "colab": {
     "autoexec": {
      "startup": false,
      "wait_interval": 0
     }
    },
    "colab_type": "code",
    "id": "Kc-OLRcoHDBl"
   },
   "outputs": [],
   "source": [
    "cudnn.benchmark = True"
   ]
  },
  {
   "cell_type": "code",
   "execution_count": 14,
   "metadata": {
    "colab": {
     "autoexec": {
      "startup": false,
      "wait_interval": 0
     }
    },
    "colab_type": "code",
    "id": "jB9hgpyUfbqG"
   },
   "outputs": [],
   "source": [
    "os.makedirs(args.base_dir, exist_ok=True)\n",
    "os.makedirs(args.data_dir, exist_ok=True)\n",
    "os.makedirs(args.input_dir, exist_ok=True)\n",
    "os.makedirs(args.output_dir, exist_ok=True)\n",
    "os.makedirs(args.ckpt_dir, exist_ok=True)"
   ]
  },
  {
   "cell_type": "markdown",
   "metadata": {
    "colab_type": "text",
    "id": "dBC_aI1vRknn"
   },
   "source": [
    "# Download Dataset"
   ]
  },
  {
   "cell_type": "code",
   "execution_count": 15,
   "metadata": {
    "colab": {
     "autoexec": {
      "startup": false,
      "wait_interval": 0
     }
    },
    "colab_type": "code",
    "id": "g5eP3RxWV5L5"
   },
   "outputs": [],
   "source": [
    "# from google.colab import auth\n",
    "# auth.authenticate_user()"
   ]
  },
  {
   "cell_type": "code",
   "execution_count": 16,
   "metadata": {
    "colab": {
     "autoexec": {
      "startup": false,
      "wait_interval": 0
     }
    },
    "colab_type": "code",
    "id": "68MYkyHJWP0m"
   },
   "outputs": [],
   "source": [
    "# from googleapiclient.discovery import build\n",
    "# import io\n",
    "# from googleapiclient.http import MediaIoBaseDownload\n",
    "# import json\n",
    "\n",
    "# def md5_hash(fname, blocksize=4096):\n",
    "#     \"\"\" compute md5hash of a file \"\"\"\n",
    "#     import hashlib\n",
    "#     hash = ''\n",
    "#     if not os.path.exists(fname):\n",
    "#         errmsg = \"File %s does not exist\" % (fname)\n",
    "#         print(errmsg)\n",
    "#         return ''\n",
    "#     try:\n",
    "#         hasher = hashlib.md5()\n",
    "#         with open(fname, 'rb') as f:\n",
    "#             buf = f.read(blocksize)\n",
    "#             while len(buf) > 0:\n",
    "#                 hasher.update(buf)\n",
    "#                 buf = f.read(blocksize)\n",
    "#         hash = hasher.hexdigest()\n",
    "#     except:\n",
    "#         print(\"Exception in hashing file\")\n",
    "#         raise\n",
    "#     return hash\n",
    "\n",
    "# def _download(drive_service, file_id, loc):\n",
    "#   request = drive_service.files().get_media(fileId=file_id)\n",
    "#   fh = io.FileIO(loc, mode='wb')\n",
    "#   downloader = MediaIoBaseDownload(fh, request, chunksize=1024*1024)\n",
    "#   prev_progress = 0\n",
    "#   done = False\n",
    "#   with tqdm(total=100) as pbar:\n",
    "#     while done is False:\n",
    "#       status, done = downloader.next_chunk()\n",
    "#       if status:\n",
    "#         # print(\"Download %d%%.\" % int(status.progress() * 100))\n",
    "#         pbar.update(int(100 *(status.progress() - prev_progress)))\n",
    "#         prev_progress = status.progress()\n",
    "#   print(\"Download Complete!\")\n",
    "#   file_size = os.path.getsize(loc)\n",
    "#   print(\"Downloaded %d bytes\" % (file_size))\n",
    "\n",
    "# def download(file_id, loc):\n",
    "#   \"\"\"Downloads a file to local file system.\"\"\"  \n",
    "#   drive_service = build('drive', 'v3')\n",
    "  \n",
    "#   request_mdata = drive_service.files().list(fields=\"files(md5Checksum, originalFilename, id)\")\n",
    "#   rh = io.BytesIO()\n",
    "#   downloader_mdata = MediaIoBaseDownload(rh, request_mdata, chunksize=1024*1024)\n",
    "#   done = False\n",
    "#   while not done:\n",
    "#     _, done = downloader_mdata.next_chunk()\n",
    "#   mdata = json.loads(rh.getvalue())\n",
    "#   found = False\n",
    "#   md5drive = ''\n",
    "#   fname = ''\n",
    "#   for x in mdata['files']:\n",
    "#     if x['id'] == file_id:\n",
    "#       found = True\n",
    "#       md5drive = x['md5Checksum']\n",
    "#       fname = x['originalFilename']\n",
    "#       break\n",
    "#   if not found:\n",
    "#     print(\"{:s} : not found on gdrive\".format(file_id))\n",
    "#   else:\n",
    "#     if os.path.exists(loc):\n",
    "#       if md5drive == md5_hash(loc):\n",
    "#         print(\"{:s} : file already present on colab\".format(loc))\n",
    "#       else:\n",
    "#         print(\"{:s} [gdrive] and {:s} [colab] : md5 mismatch ... downloading\".format(fname, loc))\n",
    "#         _download(drive_service, file_id, loc)\n",
    "#     else:\n",
    "#       print(\"{:s} not present on colab ... downloading ...\".format(loc))\n",
    "#       _download(drive_service, file_id, loc)\n",
    "        \n"
   ]
  },
  {
   "cell_type": "code",
   "execution_count": 17,
   "metadata": {
    "colab": {
     "autoexec": {
      "startup": false,
      "wait_interval": 0
     },
     "base_uri": "https://localhost:8080/",
     "height": 102
    },
    "colab_type": "code",
    "executionInfo": {
     "elapsed": 8187,
     "status": "ok",
     "timestamp": 1527001525917,
     "user": {
      "displayName": "Sourabh Daptardar",
      "photoUrl": "//lh4.googleusercontent.com/-onn5Q0_MiKQ/AAAAAAAAAAI/AAAAAAAACDI/iOxkSEz16nA/s50-c-k-no/photo.jpg",
      "userId": "115812262388010820083"
     },
     "user_tz": -330
    },
    "id": "jOBHlpMKaE-F",
    "outputId": "71d5fe19-81cd-4428-90c7-8e0f720772b4"
   },
   "outputs": [],
   "source": [
    "# download(args.train_id, args.train_zip)\n",
    "# download(args.val_id, args.val_zip)\n",
    "# download(args.train_labels_id, args.train_labels_json)\n",
    "# download(args.val_labels_id, args.val_labels_json)\n",
    "# download(args.test_labels_id, args.test_labels_json)"
   ]
  },
  {
   "cell_type": "code",
   "execution_count": 18,
   "metadata": {
    "colab": {
     "autoexec": {
      "startup": false,
      "wait_interval": 0
     }
    },
    "colab_type": "code",
    "id": "mA1kgVVEdSWI"
   },
   "outputs": [],
   "source": [
    "# import shutil\n",
    "# shutil.unpack_archive(args.train_zip, args.input_dir)\n",
    "# shutil.unpack_archive(args.val_zip, args.input_dir)\n"
   ]
  },
  {
   "cell_type": "code",
   "execution_count": 19,
   "metadata": {
    "colab": {
     "autoexec": {
      "startup": false,
      "wait_interval": 0
     },
     "base_uri": "https://localhost:8080/",
     "height": 153
    },
    "colab_type": "code",
    "executionInfo": {
     "elapsed": 2944,
     "status": "ok",
     "timestamp": 1527001543581,
     "user": {
      "displayName": "Sourabh Daptardar",
      "photoUrl": "//lh4.googleusercontent.com/-onn5Q0_MiKQ/AAAAAAAAAAI/AAAAAAAACDI/iOxkSEz16nA/s50-c-k-no/photo.jpg",
      "userId": "115812262388010820083"
     },
     "user_tz": -330
    },
    "id": "X4Eugqw2fJRQ",
    "outputId": "76b1998f-7f77-4cfb-ea39-39fa50283aca"
   },
   "outputs": [],
   "source": [
    "# !ls -ltr /content/fashion/data/input"
   ]
  },
  {
   "cell_type": "code",
   "execution_count": 20,
   "metadata": {
    "colab": {
     "autoexec": {
      "startup": false,
      "wait_interval": 0
     },
     "base_uri": "https://localhost:8080/",
     "height": 204
    },
    "colab_type": "code",
    "executionInfo": {
     "elapsed": 2245,
     "status": "ok",
     "timestamp": 1527001545898,
     "user": {
      "displayName": "Sourabh Daptardar",
      "photoUrl": "//lh4.googleusercontent.com/-onn5Q0_MiKQ/AAAAAAAAAAI/AAAAAAAACDI/iOxkSEz16nA/s50-c-k-no/photo.jpg",
      "userId": "115812262388010820083"
     },
     "user_tz": -330
    },
    "id": "_XnHDCmclB9B",
    "outputId": "7a665530-a452-41d9-ba5f-578562e6da35"
   },
   "outputs": [],
   "source": [
    "# !ls -ltr /content/fashion/data/input/train_data | head"
   ]
  },
  {
   "cell_type": "code",
   "execution_count": 21,
   "metadata": {
    "colab": {
     "autoexec": {
      "startup": false,
      "wait_interval": 0
     },
     "base_uri": "https://localhost:8080/",
     "height": 204
    },
    "colab_type": "code",
    "executionInfo": {
     "elapsed": 2216,
     "status": "ok",
     "timestamp": 1527001548219,
     "user": {
      "displayName": "Sourabh Daptardar",
      "photoUrl": "//lh4.googleusercontent.com/-onn5Q0_MiKQ/AAAAAAAAAAI/AAAAAAAACDI/iOxkSEz16nA/s50-c-k-no/photo.jpg",
      "userId": "115812262388010820083"
     },
     "user_tz": -330
    },
    "id": "4bmRgA9ilISL",
    "outputId": "db0b777e-bbc6-4326-c467-64779ca51b3b"
   },
   "outputs": [],
   "source": [
    "# !ls -ltr /content/fashion/data/input/validation_data | head"
   ]
  },
  {
   "cell_type": "markdown",
   "metadata": {
    "colab_type": "text",
    "id": "c6LY5l-SRtWw"
   },
   "source": [
    "# Dataset"
   ]
  },
  {
   "cell_type": "code",
   "execution_count": 22,
   "metadata": {
    "colab": {
     "autoexec": {
      "startup": false,
      "wait_interval": 0
     }
    },
    "colab_type": "code",
    "id": "VMcIw45smeZE"
   },
   "outputs": [],
   "source": [
    "import torch.utils.data as data\n",
    "from copy import copy\n",
    "import numpy as np\n",
    "\n",
    "def fetch_labels(annotations, num_labels):\n",
    "  labels = {}\n",
    "  for x in annotations:\n",
    "    arr = np.zeros((num_labels,), dtype=np.float32)\n",
    "    for y in map(int, x['labelId']):\n",
    "      arr[y-1] = 1.0\n",
    "    # 0-indexed\n",
    "    labels[int(x['imageId'])-1] = copy(arr)\n",
    "  return labels\n",
    "\n",
    "def json_to_dict(fpath):\n",
    "  import json\n",
    "  with open(fpath) as f: \n",
    "    D = json.load(f)\n",
    "  return D\n",
    "\n",
    "def get_labelinfo(annotations):\n",
    "  from collections import namedtuple\n",
    "  labelinfo = namedtuple('labelinfo', \"set min max count\")\n",
    "  labelinfo.set = set()\n",
    "  for x in annotations:\n",
    "    labelinfo.set.update(map(int, x['labelId']))\n",
    "  labelinfo.min = min(labelinfo.set)\n",
    "  labelinfo.max = max(labelinfo.set)\n",
    "  labelinfo.count = len(labelinfo.set)\n",
    "  return labelinfo\n",
    "\n",
    "def has_file_allowed_extension(filename, extensions):\n",
    "    \"\"\"Checks if a file is an allowed extension.\n",
    "    Args:\n",
    "        filename (string): path to a file\n",
    "    Returns:\n",
    "        bool: True if the filename ends with a known image extension\n",
    "    \"\"\"\n",
    "    filename_lower = filename.lower()\n",
    "    return any(filename_lower.endswith(ext) for ext in extensions)\n",
    "\n",
    "\n",
    "def pil_loader(path):\n",
    "    from PIL import Image \n",
    "    # open path as file to avoid ResourceWarning (https://github.com/python-pillow/Pillow/issues/835)\n",
    "    with open(path, 'rb') as f:\n",
    "        img = Image.open(f)\n",
    "        return img.convert('RGB')\n",
    "\n",
    "\n",
    "def accimage_loader(path):\n",
    "    import accimage\n",
    "    try:\n",
    "        return accimage.Image(path)\n",
    "    except IOError:\n",
    "        # Potentially a decoding problem, fall back to PIL.Image\n",
    "        return pil_loader(path)\n",
    "\n",
    "\n",
    "def default_loader(path):\n",
    "    from torchvision import get_image_backend\n",
    "    if get_image_backend() == 'accimage':\n",
    "        return accimage_loader(path)\n",
    "    else:\n",
    "        return pil_loader(path)\n",
    "\n",
    "      \n",
    "class FashionDataset(data.Dataset):\n",
    "  \"\"\"Fashion dataset CVPR challenge.\n",
    "     Adapted from torchvision ImageFolder.\n",
    "     Similar to ImageFolder with the following differences:\n",
    "     1. Multilabel\n",
    "     2. Directory structure where all images are directly in the root folder\n",
    "     3. Labels are read from json file\n",
    "   \n",
    "  Args:\n",
    "        root (string): Root directory path.\n",
    "        loader (callable): A function to load a sample given its path.\n",
    "        extensions (list[string]): A list of allowed extensions.\n",
    "        transform (callable, optional): A function/transform that takes in\n",
    "            a sample and returns a transformed version.\n",
    "            E.g, ``transforms.RandomCrop`` for images.\n",
    "        target_transform (callable, optional): A function/transform that takes\n",
    "            in the target and transforms it.\n",
    "    \n",
    "  \"\"\"\n",
    "\n",
    "  def __init__(self, root, metadata_file, num_labels=228, transform=None, target_transform=None,\n",
    "               loader=default_loader):\n",
    "    extensions = ['.jpg', '.jpeg', '.png', '.ppm', '.bmp', '.pgm', '.tif']\n",
    "    self.num_labels = num_labels\n",
    "    self.images = {}\n",
    "    self.metadata_file = metadata_file\n",
    "    self.metadata = json_to_dict(self.metadata_file)\n",
    "    self.transform = transform\n",
    "    self.root = root\n",
    "    self.target_transform = target_transform\n",
    "    self.loader = loader\n",
    "    self.labelinfo = get_labelinfo(self.metadata['annotations'])\n",
    "    self.labels = fetch_labels(self.metadata['annotations'], self.num_labels)\n",
    "\n",
    "    for x in self.metadata['images']:\n",
    "      # 0-indexed\n",
    "      self.images[int(x['imageId'])-1] = '%s%s%d.jpg' % (root, os.sep, int(x['imageId']))  \n",
    "    \n",
    "\n",
    "  def __getitem__(self, index):\n",
    "        \"\"\"\n",
    "        Args:\n",
    "            index (int): Index\n",
    "        Returns:\n",
    "            tuple: (sample, target) where target is class_index of the target class.\n",
    "        \"\"\"\n",
    "        path, target = self.images[index], self.labels[index]\n",
    "        sample = self.loader(path)\n",
    "        if self.transform is not None:\n",
    "            sample = self.transform(sample)\n",
    "        if self.target_transform is not None:\n",
    "            target = self.target_transform(target)\n",
    "\n",
    "        return sample, target\n",
    "\n",
    "  def __len__(self):\n",
    "    return len(self.images)\n",
    "  \n",
    "  def __repr__(self):\n",
    "    fmt_str = 'Dataset ' + self.__class__.__name__ + '\\n'\n",
    "    fmt_str += '    Number of datapoints: {}\\n'.format(self.__len__())\n",
    "    fmt_str += '    Number of labels: {}\\n'.format(self.labelinfo.count)\n",
    "    fmt_str += '    Root Location: {}\\n'.format(self.root)\n",
    "    fmt_str += '    Metadata file: {}\\n'.format(self.metadata_file)\n",
    "    tmp = '    Transforms (if any): '\n",
    "    fmt_str += '{0}{1}\\n'.format(tmp, self.transform.__repr__().replace('\\n', '\\n' + ' ' * len(tmp)))\n",
    "    tmp = '    Target Transforms (if any): '\n",
    "    fmt_str += '{0}{1}'.format(tmp, self.target_transform.__repr__().replace('\\n', '\\n' + ' ' * len(tmp)))\n",
    "    tmp = '    Loader: '\n",
    "    fmt_str += '\\n{0}{1}'.format(tmp, self.loader.__name__)\n",
    "    return fmt_str\n",
    "\n",
    "  "
   ]
  },
  {
   "cell_type": "code",
   "execution_count": 23,
   "metadata": {
    "colab": {
     "autoexec": {
      "startup": false,
      "wait_interval": 0
     }
    },
    "colab_type": "code",
    "id": "BuB8IhRXrZzK"
   },
   "outputs": [],
   "source": [
    "import torchvision.transforms as transforms\n",
    "\n",
    "train_tform = transforms.Compose([transforms.RandomResizedCrop(args.nw_input_size),\n",
    "                                  transforms.RandomHorizontalFlip(),\n",
    "                                  transforms.ToTensor(),\n",
    "                                  transforms.Normalize(mean=args.pretrain_dset_mean,\n",
    "                                                        std=args.pretrain_dset_std)\n",
    "                                 ])\n",
    "\n",
    "val_tform = transforms.Compose([transforms.Resize(args.image_min_size),\n",
    "                                transforms.CenterCrop(args.nw_input_size),\n",
    "                                transforms.ToTensor(),\n",
    "                                transforms.Normalize(mean=args.pretrain_dset_mean,\n",
    "                                                     std=args.pretrain_dset_std)\n",
    "                               ])"
   ]
  },
  {
   "cell_type": "code",
   "execution_count": 24,
   "metadata": {
    "colab": {
     "autoexec": {
      "startup": false,
      "wait_interval": 0
     },
     "base_uri": "https://localhost:8080/",
     "height": 459
    },
    "colab_type": "code",
    "executionInfo": {
     "elapsed": 981,
     "status": "ok",
     "timestamp": 1527001551536,
     "user": {
      "displayName": "Sourabh Daptardar",
      "photoUrl": "//lh4.googleusercontent.com/-onn5Q0_MiKQ/AAAAAAAAAAI/AAAAAAAACDI/iOxkSEz16nA/s50-c-k-no/photo.jpg",
      "userId": "115812262388010820083"
     },
     "user_tz": -330
    },
    "id": "b7JjnbO4a1bU",
    "outputId": "d20390c8-2b46-4399-bd70-7486521b4976"
   },
   "outputs": [
    {
     "name": "stdout",
     "output_type": "stream",
     "text": [
      "Dataset FashionDataset\n",
      "    Number of datapoints: 10000\n",
      "    Number of labels: 221\n",
      "    Root Location: /data/datasets/kaggle_fashion/data/input/train_data\n",
      "    Metadata file: /data/datasets/kaggle_fashion/data/input/train_small.json\n",
      "    Transforms (if any): <torchvision.transforms.transforms.Compose object at 0x7f6add4b6908>\n",
      "    Target Transforms (if any): None\n",
      "    Loader: default_loader\n",
      "Dataset FashionDataset\n",
      "    Number of datapoints: 9897\n",
      "    Number of labels: 225\n",
      "    Root Location: /data/datasets/kaggle_fashion/data/input/validation_data\n",
      "    Metadata file: /data/datasets/kaggle_fashion/data/input/validation.json\n",
      "    Transforms (if any): <torchvision.transforms.transforms.Compose object at 0x7f6add4b6a90>\n",
      "    Target Transforms (if any): None\n",
      "    Loader: default_loader\n"
     ]
    }
   ],
   "source": [
    "train_dset = FashionDataset(args.train_dir, args.train_labels_json, args.num_labels, transform=train_tform)\n",
    "val_dset = FashionDataset(args.val_dir, args.val_labels_json, args.num_labels, transform=val_tform)\n",
    "\n",
    "\n",
    "print(train_dset)\n",
    "print(val_dset)"
   ]
  },
  {
   "cell_type": "code",
   "execution_count": 25,
   "metadata": {
    "colab": {
     "autoexec": {
      "startup": false,
      "wait_interval": 0
     }
    },
    "colab_type": "code",
    "id": "-EoLW0no-em7"
   },
   "outputs": [],
   "source": [
    "def tensor_to_numpy(t, avg, std):\n",
    "  return (255.0 * (np.transpose(np.asarray(t), (1, 2, 0)) * std + avg)).astype(np.uint8)\n",
    "  "
   ]
  },
  {
   "cell_type": "code",
   "execution_count": 26,
   "metadata": {
    "colab": {
     "autoexec": {
      "startup": false,
      "wait_interval": 0
     },
     "base_uri": "https://localhost:8080/",
     "height": 439
    },
    "colab_type": "code",
    "executionInfo": {
     "elapsed": 1703,
     "status": "ok",
     "timestamp": 1527001554370,
     "user": {
      "displayName": "Sourabh Daptardar",
      "photoUrl": "//lh4.googleusercontent.com/-onn5Q0_MiKQ/AAAAAAAAAAI/AAAAAAAACDI/iOxkSEz16nA/s50-c-k-no/photo.jpg",
      "userId": "115812262388010820083"
     },
     "user_tz": -330
    },
    "id": "L8qbOaD8HvYi",
    "outputId": "4e64893b-2094-4f5f-c9cd-6469eb2eaa8e"
   },
   "outputs": [
    {
     "name": "stdout",
     "output_type": "stream",
     "text": [
      "[0. 0. 0. 0. 0. 0. 0. 0. 0. 0. 0. 0. 0. 0. 0. 0. 0. 0. 0. 1. 0. 0. 0. 0.\n",
      " 0. 0. 0. 0. 0. 0. 0. 0. 0. 0. 0. 0. 0. 0. 0. 0. 0. 0. 0. 0. 0. 0. 0. 0.\n",
      " 0. 0. 0. 0. 0. 0. 0. 0. 0. 0. 0. 0. 0. 0. 0. 0. 0. 1. 0. 0. 0. 0. 0. 0.\n",
      " 0. 0. 0. 0. 0. 0. 0. 0. 0. 0. 0. 0. 0. 0. 0. 0. 0. 0. 0. 0. 0. 0. 0. 0.\n",
      " 0. 0. 0. 0. 0. 0. 0. 0. 1. 0. 0. 0. 0. 1. 0. 0. 0. 0. 0. 0. 0. 0. 0. 0.\n",
      " 0. 1. 0. 0. 0. 0. 0. 0. 0. 0. 0. 0. 0. 0. 0. 0. 1. 0. 0. 0. 0. 0. 0. 0.\n",
      " 0. 0. 0. 0. 0. 0. 0. 0. 0. 0. 0. 0. 0. 0. 0. 0. 0. 0. 0. 0. 0. 0. 0. 0.\n",
      " 0. 0. 0. 0. 0. 0. 0. 0. 0. 0. 0. 0. 0. 0. 0. 0. 0. 0. 0. 0. 0. 0. 0. 0.\n",
      " 0. 0. 0. 0. 0. 0. 0. 0. 0. 0. 0. 0. 0. 0. 0. 0. 0. 0. 0. 0. 0. 1. 0. 0.\n",
      " 0. 0. 0. 0. 0. 0. 0. 0. 0. 0. 0. 0.]\n"
     ]
    },
    {
     "data": {
      "image/png": "[encoded data removed]",
      "text/plain": [
       "<Figure size 432x288 with 1 Axes>"
      ]
     },
     "metadata": {},
     "output_type": "display_data"
    }
   ],
   "source": [
    "rnd1 = np.random.randint(len(train_dset))\n",
    "im1, lbl1 = train_dset[rnd1]\n",
    "imshow(tensor_to_numpy(im1, args.pretrain_dset_mean, args.pretrain_dset_std))\n",
    "print(lbl1)"
   ]
  },
  {
   "cell_type": "code",
   "execution_count": 27,
   "metadata": {
    "colab": {
     "autoexec": {
      "startup": false,
      "wait_interval": 0
     },
     "base_uri": "https://localhost:8080/",
     "height": 439
    },
    "colab_type": "code",
    "executionInfo": {
     "elapsed": 1502,
     "status": "ok",
     "timestamp": 1527001555965,
     "user": {
      "displayName": "Sourabh Daptardar",
      "photoUrl": "//lh4.googleusercontent.com/-onn5Q0_MiKQ/AAAAAAAAAAI/AAAAAAAACDI/iOxkSEz16nA/s50-c-k-no/photo.jpg",
      "userId": "115812262388010820083"
     },
     "user_tz": -330
    },
    "id": "3h5_M6G0QBYZ",
    "outputId": "01e18eb7-caf7-4bcb-82b1-b296b9784185"
   },
   "outputs": [
    {
     "name": "stdout",
     "output_type": "stream",
     "text": [
      "[0. 0. 0. 0. 0. 0. 0. 0. 0. 0. 0. 0. 0. 1. 0. 0. 0. 0. 0. 1. 0. 0. 0. 0.\n",
      " 0. 0. 0. 0. 0. 0. 0. 0. 0. 0. 0. 0. 0. 0. 0. 0. 0. 0. 0. 0. 0. 0. 0. 0.\n",
      " 0. 0. 0. 0. 0. 0. 0. 0. 0. 0. 0. 0. 0. 0. 0. 0. 1. 1. 0. 0. 0. 0. 0. 0.\n",
      " 1. 0. 0. 0. 0. 0. 0. 0. 0. 0. 0. 0. 0. 0. 0. 0. 0. 0. 0. 0. 0. 0. 0. 0.\n",
      " 0. 0. 0. 0. 0. 0. 0. 0. 0. 0. 0. 0. 0. 0. 0. 0. 0. 0. 0. 0. 0. 0. 0. 0.\n",
      " 0. 0. 0. 0. 0. 0. 0. 0. 0. 0. 0. 0. 0. 0. 0. 0. 0. 0. 0. 0. 0. 0. 0. 0.\n",
      " 0. 0. 0. 0. 0. 0. 0. 0. 0. 0. 0. 0. 0. 0. 0. 0. 0. 0. 0. 0. 0. 0. 0. 0.\n",
      " 0. 0. 0. 0. 0. 0. 0. 0. 0. 0. 0. 0. 0. 0. 0. 0. 0. 0. 0. 0. 0. 0. 0. 0.\n",
      " 0. 0. 0. 0. 0. 0. 0. 0. 0. 0. 0. 0. 0. 0. 0. 0. 0. 0. 0. 0. 0. 0. 0. 0.\n",
      " 1. 0. 0. 0. 0. 1. 0. 0. 0. 0. 0. 0.]\n"
     ]
    },
    {
     "data": {
      "image/png": "[encoded data removed]",
      "text/plain": [
       "<Figure size 432x288 with 1 Axes>"
      ]
     },
     "metadata": {},
     "output_type": "display_data"
    }
   ],
   "source": [
    "rnd2 = np.random.randint(len(val_dset))\n",
    "im2, lbl2 = val_dset[rnd2]\n",
    "imshow(tensor_to_numpy(im2, args.pretrain_dset_mean, args.pretrain_dset_std))\n",
    "print(lbl2)"
   ]
  },
  {
   "cell_type": "markdown",
   "metadata": {
    "colab_type": "text",
    "id": "iU_VDQm2Rtro"
   },
   "source": [
    "# DataLoader"
   ]
  },
  {
   "cell_type": "code",
   "execution_count": 28,
   "metadata": {
    "colab": {
     "autoexec": {
      "startup": false,
      "wait_interval": 0
     }
    },
    "colab_type": "code",
    "id": "4KcwWuuHoxoo"
   },
   "outputs": [],
   "source": [
    "if args.distributed:\n",
    "    dist.init_process_group(backend=args.dist_backend,\n",
    "                            init_method=args.dist_url,\n",
    "                            world_size=args.world_size)\n"
   ]
  },
  {
   "cell_type": "code",
   "execution_count": 29,
   "metadata": {
    "colab": {
     "autoexec": {
      "startup": false,
      "wait_interval": 0
     }
    },
    "colab_type": "code",
    "id": "EjMlN6vqHtsE"
   },
   "outputs": [],
   "source": [
    "from torch.utils.data.distributed import DistributedSampler \n",
    "\n",
    "\n",
    "if args.distributed:\n",
    "  train_sampler = DistributedSampler(train_dset)\n",
    "else:\n",
    "  train_sampler = None\n",
    "\n",
    "train_loader = torch.utils.data.DataLoader(train_dset,\n",
    "                                           batch_size=args.batch_size,\n",
    "                                           shuffle=(train_sampler is None),\n",
    "                                           num_workers=args.num_workers,\n",
    "                                           pin_memory=True,\n",
    "                                           sampler=train_sampler\n",
    "                                          )\n",
    "\n",
    "val_loader = torch.utils.data.DataLoader(val_dset,\n",
    "                                         batch_size=args.batch_size,\n",
    "                                         shuffle=False,\n",
    "                                         num_workers=args.num_workers,\n",
    "                                         pin_memory=True\n",
    "                                        )\n"
   ]
  },
  {
   "cell_type": "code",
   "execution_count": 30,
   "metadata": {
    "colab": {
     "autoexec": {
      "startup": false,
      "wait_interval": 0
     }
    },
    "colab_type": "code",
    "id": "uzNG4-7x6Ovt"
   },
   "outputs": [],
   "source": [
    "# train_images, train_labels = next(iter(train_loader))"
   ]
  },
  {
   "cell_type": "code",
   "execution_count": 31,
   "metadata": {
    "colab": {
     "autoexec": {
      "startup": false,
      "wait_interval": 0
     },
     "base_uri": "https://localhost:8080/",
     "height": 731
    },
    "colab_type": "code",
    "executionInfo": {
     "elapsed": 1409,
     "status": "ok",
     "timestamp": 1527001561251,
     "user": {
      "displayName": "Sourabh Daptardar",
      "photoUrl": "//lh4.googleusercontent.com/-onn5Q0_MiKQ/AAAAAAAAAAI/AAAAAAAACDI/iOxkSEz16nA/s50-c-k-no/photo.jpg",
      "userId": "115812262388010820083"
     },
     "user_tz": -330
    },
    "id": "CDOOVYOHbcbl",
    "outputId": "46f258e9-ee85-4435-8df8-57b8912d5ced"
   },
   "outputs": [],
   "source": [
    "# rnd11 = np.random.randint(args.batch_size)\n",
    "# print(train_images[rnd11,:,:,:])\n",
    "# print(train_labels[rnd11, :])"
   ]
  },
  {
   "cell_type": "code",
   "execution_count": 32,
   "metadata": {
    "colab": {
     "autoexec": {
      "startup": false,
      "wait_interval": 0
     }
    },
    "colab_type": "code",
    "id": "IZ7R4Mgb7F3b"
   },
   "outputs": [],
   "source": [
    "# val_images, val_labels = next(iter(val_loader))"
   ]
  },
  {
   "cell_type": "code",
   "execution_count": 33,
   "metadata": {
    "colab": {
     "autoexec": {
      "startup": false,
      "wait_interval": 0
     },
     "base_uri": "https://localhost:8080/",
     "height": 731
    },
    "colab_type": "code",
    "executionInfo": {
     "elapsed": 918,
     "status": "ok",
     "timestamp": 1527001564208,
     "user": {
      "displayName": "Sourabh Daptardar",
      "photoUrl": "//lh4.googleusercontent.com/-onn5Q0_MiKQ/AAAAAAAAAAI/AAAAAAAACDI/iOxkSEz16nA/s50-c-k-no/photo.jpg",
      "userId": "115812262388010820083"
     },
     "user_tz": -330
    },
    "id": "CIOHOwAqaRkX",
    "outputId": "7b674419-1de5-4765-c7e4-c2db097f3170"
   },
   "outputs": [],
   "source": [
    "# rnd21 = np.random.randint(args.batch_size)\n",
    "# print(val_images[rnd21,:,:,:])\n",
    "# print(val_labels[rnd21, :])"
   ]
  },
  {
   "cell_type": "markdown",
   "metadata": {
    "colab_type": "text",
    "id": "cQAQrfMJRtv3"
   },
   "source": [
    "\n",
    "# Model"
   ]
  },
  {
   "cell_type": "code",
   "execution_count": 34,
   "metadata": {
    "colab": {
     "autoexec": {
      "startup": false,
      "wait_interval": 0
     }
    },
    "colab_type": "code",
    "id": "jNxCNVyu98GF"
   },
   "outputs": [],
   "source": [
    "import torch.nn.init as weight_init\n",
    "\n",
    "\n",
    "class FCWithLogSigmoid(nn.Module):\n",
    "  \n",
    "  def __init__(self, num_inputs, num_outputs):\n",
    "    super(FCWithLogSigmoid, self).__init__()\n",
    "    self.linear = nn.Linear(num_inputs, num_outputs)\n",
    "    self.logsigmoid = nn.LogSigmoid()\n",
    "    \n",
    "  def forward(self, x):\n",
    "    return self.logsigmoid(self.linear(x))\n",
    "\n",
    "\n",
    "def create_model(arch, num_labels=228, fv_size=2048, pretrained=True, resume=False, distributed=False):\n",
    "  if pretrained:\n",
    "      print(\"=> using pre-trained model '{}'\".format(arch))\n",
    "      model = models.__dict__[arch](pretrained=True)\n",
    "  else:\n",
    "      print(\"=> creating model '{}'\".format(arch))\n",
    "      model = models.__dict__[arch]()\n",
    "  model.fc = FCWithLogSigmoid(fv_size, num_labels)\n",
    "  if not distributed:\n",
    "      if arch.startswith('alexnet') or arch.startswith('vgg'):\n",
    "          model.features = torch.nn.DataParallel(model.features)\n",
    "          model.cuda()\n",
    "      else:\n",
    "          model = torch.nn.DataParallel(model).cuda()\n",
    "  else:\n",
    "      model.cuda()\n",
    "      model = torch.nn.parallel.DistributedDataParallel(model)\n",
    "  return model\n"
   ]
  },
  {
   "cell_type": "code",
   "execution_count": 35,
   "metadata": {
    "colab": {
     "autoexec": {
      "startup": false,
      "wait_interval": 0
     }
    },
    "colab_type": "code",
    "id": "9eMpjddlO6BC"
   },
   "outputs": [],
   "source": [
    "def count_parameters(model):\n",
    "  \"\"\"source: https://discuss.pytorch.org/t/how-do-i-check-the-number-of-parameters-of-a-model/4325/9\"\"\"\n",
    "  return sum(p.numel() for p in model.parameters() if p.requires_grad)"
   ]
  },
  {
   "cell_type": "code",
   "execution_count": 36,
   "metadata": {
    "colab": {
     "autoexec": {
      "startup": false,
      "wait_interval": 0
     },
     "base_uri": "https://localhost:8080/",
     "height": 34
    },
    "colab_type": "code",
    "executionInfo": {
     "elapsed": 1945,
     "status": "ok",
     "timestamp": 1527001568263,
     "user": {
      "displayName": "Sourabh Daptardar",
      "photoUrl": "//lh4.googleusercontent.com/-onn5Q0_MiKQ/AAAAAAAAAAI/AAAAAAAACDI/iOxkSEz16nA/s50-c-k-no/photo.jpg",
      "userId": "115812262388010820083"
     },
     "user_tz": -330
    },
    "id": "CDhvVsKk_cNI",
    "outputId": "e3b9d484-4d9e-4fbd-c7d2-799d0d838ab9"
   },
   "outputs": [
    {
     "name": "stdout",
     "output_type": "stream",
     "text": [
      "=> using pre-trained model 'resnet50'\n"
     ]
    }
   ],
   "source": [
    "model = create_model(args.arch,\n",
    "                     num_labels=args.num_labels,\n",
    "                     fv_size=args.fv_size,\n",
    "                     pretrained=args.pretrained,\n",
    "                     resume=args.resume,\n",
    "                     distributed=args.distributed)"
   ]
  },
  {
   "cell_type": "code",
   "execution_count": 37,
   "metadata": {
    "colab": {
     "autoexec": {
      "startup": false,
      "wait_interval": 0
     },
     "base_uri": "https://localhost:8080/",
     "height": 34
    },
    "colab_type": "code",
    "executionInfo": {
     "elapsed": 990,
     "status": "ok",
     "timestamp": 1527001569282,
     "user": {
      "displayName": "Sourabh Daptardar",
      "photoUrl": "//lh4.googleusercontent.com/-onn5Q0_MiKQ/AAAAAAAAAAI/AAAAAAAACDI/iOxkSEz16nA/s50-c-k-no/photo.jpg",
      "userId": "115812262388010820083"
     },
     "user_tz": -330
    },
    "id": "yG1C75oXPLx8",
    "outputId": "c1d7369f-4563-4fbf-d155-62227edccd93"
   },
   "outputs": [
    {
     "name": "stdout",
     "output_type": "stream",
     "text": [
      "Neural Network has  23975204  trainable parameters\n"
     ]
    }
   ],
   "source": [
    "print(\"Neural Network has \", count_parameters(model), \" trainable parameters\")"
   ]
  },
  {
   "cell_type": "markdown",
   "metadata": {
    "colab_type": "text",
    "id": "VIILcEp9Rtz-"
   },
   "source": [
    "# Loss Function\n"
   ]
  },
  {
   "cell_type": "code",
   "execution_count": 38,
   "metadata": {
    "colab": {
     "autoexec": {
      "startup": false,
      "wait_interval": 0
     }
    },
    "colab_type": "code",
    "id": "4RGOgfHjGnJz"
   },
   "outputs": [],
   "source": [
    "criterion = torch.nn.BCEWithLogitsLoss().cuda()"
   ]
  },
  {
   "cell_type": "markdown",
   "metadata": {
    "colab_type": "text",
    "id": "PICCxotzRt4z"
   },
   "source": [
    "# Update Rule"
   ]
  },
  {
   "cell_type": "code",
   "execution_count": 39,
   "metadata": {
    "colab": {
     "autoexec": {
      "startup": false,
      "wait_interval": 0
     }
    },
    "colab_type": "code",
    "id": "zaX2mCHTDgSi"
   },
   "outputs": [],
   "source": [
    "optimizer = optim.Adam(model.parameters(),\n",
    "                       amsgrad=True,\n",
    "                       lr=args.optimizer_learning_rate,\n",
    "                       betas=(0.9, 0.999),\n",
    "                       eps=1e-8,\n",
    "                       weight_decay=0.0\n",
    "                      )\n",
    "scheduler = lr_scheduler.ReduceLROnPlateau(optimizer,\n",
    "                                           mode='max',   # F1 measure\n",
    "                                           patience=args.scheduler_patience,\n",
    "                                           threshold=args.scheduler_threshold,\n",
    "                                           factor=args.scheduler_factor,\n",
    "                                           verbose=1\n",
    "                                          )\n"
   ]
  },
  {
   "cell_type": "markdown",
   "metadata": {
    "colab_type": "text",
    "id": "tCm_msJ0RuIu"
   },
   "source": [
    "# Training Loop\n"
   ]
  },
  {
   "cell_type": "code",
   "execution_count": 40,
   "metadata": {},
   "outputs": [],
   "source": [
    "def load_checkpoint(model, optimizer, scheduler, args, resume=True, ckpt=None):\n",
    "    \"\"\"optionally resume from a checkpoint.\"\"\"\n",
    "    best_f1 = 0\n",
    "    if args.resume:\n",
    "        if os.path.isfile(ckpt):\n",
    "            print(\"=> loading checkpoint '{}'\".format(ckpt))\n",
    "            checkpoint = torch.load(ckpt)\n",
    "            args.start_epoch = checkpoint['epoch']\n",
    "            best_f1 = checkpoint['best_f1']\n",
    "            model.load_state_dict(checkpoint['state_dict'])\n",
    "            optimizer.load_state_dict(checkpoint['optimizer'])\n",
    "          #  scheduler.load_state_dict(checkpoint['scheduler'])\n",
    "            print(\"=> loaded checkpoint '{}' (epoch {})\"\n",
    "                  .format(args.resume, checkpoint['epoch']))\n",
    "        else:\n",
    "            print(\"=> no checkpoint found at '{}'\".format(ckpt))\n",
    "            best_f1 = 0\n",
    "    return (model, optimizer, scheduler, args, best_f1)"
   ]
  },
  {
   "cell_type": "code",
   "execution_count": 41,
   "metadata": {},
   "outputs": [],
   "source": [
    "def save_checkpoint(state, is_best, filename='checkpoint.pth.tar'):\n",
    "    torch.save(state, filename)\n",
    "    if is_best:\n",
    "        shutil.copyfile(filename, 'model_best.pth.tar')"
   ]
  },
  {
   "cell_type": "code",
   "execution_count": 42,
   "metadata": {},
   "outputs": [],
   "source": [
    "class F1MicroAverageMeter(object):\n",
    "    \"\"\"Computes and stores F1 store\"\"\"\n",
    "    def __init__(self, threshold=0.5, small=1e-12):\n",
    "        self.threshold = threshold\n",
    "        self.small = small\n",
    "        self.reset()\n",
    "\n",
    "    def reset(self):\n",
    "        self.TP = 0.0\n",
    "        self.FP = 0.0\n",
    "        self.FN = 0.0\n",
    "        self.TN = 0.0\n",
    "        self.precision = 0.0\n",
    "        self.recall = 0.0\n",
    "        self.f1 = 0.0\n",
    "\n",
    "    def update(self, labels, pred):\n",
    "        tp, fp, fn, tn = self.confusion_matrix_(labels, pred)\n",
    "        self.TP += tp\n",
    "        self.FP += fp\n",
    "        self.FN += fn\n",
    "        self.TN += tn\n",
    "        self.precision = self.TP / (self.small + self.TP + self.FP)\n",
    "        self.recall = self.TP / (self.small + self.TP + self.FN)\n",
    "        self.f1 = (2.0 * self.precision * self.recall) / (self.small + self.precision + self.recall)\n",
    "        \n",
    "    def confusion_matrix_(self, labels, pred):\n",
    "        with torch.no_grad():\n",
    "            real = labels\n",
    "            fake = 1.0 - real\n",
    "            pos = pred.ge(self.threshold).float()\n",
    "            neg = 1.0 - pos\n",
    "            tp = torch.sum(real * pos).item()\n",
    "            fp = torch.sum(fake * pos).item()\n",
    "            fn = torch.sum(real * neg).item()\n",
    "            tn = torch.sum(fake * neg).item()\n",
    "            return (tp, fp, fn, tn)\n",
    "              "
   ]
  },
  {
   "cell_type": "code",
   "execution_count": 43,
   "metadata": {},
   "outputs": [],
   "source": [
    "class AverageMeter(object):\n",
    "    \"\"\"Computes and stores the average and current value\"\"\"\n",
    "    def __init__(self):\n",
    "        self.reset()\n",
    "\n",
    "    def reset(self):\n",
    "        self.val = 0\n",
    "        self.avg = 0\n",
    "        self.sum = 0\n",
    "        self.count = 0\n",
    "\n",
    "    def update(self, val, n=1):\n",
    "        self.val = val\n",
    "        self.sum += val * n\n",
    "        self.count += n\n",
    "        self.avg = self.sum / self.count"
   ]
  },
  {
   "cell_type": "code",
   "execution_count": 44,
   "metadata": {},
   "outputs": [],
   "source": [
    "def adjust_learning_rate(optimizer, scheduler, epoch, measure):\n",
    "    scheduler.step(measure)\n"
   ]
  },
  {
   "cell_type": "code",
   "execution_count": 45,
   "metadata": {},
   "outputs": [],
   "source": [
    "def train(train_loader, model, criterion, optimizer, epoch):\n",
    "    batch_time = AverageMeter()\n",
    "    data_time = AverageMeter()\n",
    "    losses = AverageMeter()\n",
    "    cmpoint5 = F1MicroAverageMeter(threshold=0.5)\n",
    "\n",
    "    # switch to train mode\n",
    "    model.train()\n",
    "\n",
    "    end = time.time()\n",
    "    for i, (input, target) in enumerate(train_loader):\n",
    "        # measure data loading time\n",
    "        data_time.update(time.time() - end)\n",
    "\n",
    "        target = target.cuda(non_blocking=True)\n",
    "\n",
    "        # compute output\n",
    "        output = model(input)\n",
    "        loss = criterion(output, target)\n",
    "\n",
    "        # measure F1 and record loss\n",
    "        losses.update(loss.item(), input.size(0))\n",
    "        cmpoint5.update(target, torch.exp(output))\n",
    "\n",
    "        # compute gradient and do SGD step\n",
    "        optimizer.zero_grad()\n",
    "        loss.backward()\n",
    "        optimizer.step()\n",
    "\n",
    "        # measure elapsed time\n",
    "        batch_time.update(time.time() - end)\n",
    "        end = time.time()\n",
    "\n",
    "        if i % args.print_freq == 0:\n",
    "            print('Epoch: [{0}][{1}/{2}]\\t'\n",
    "                  'Time {batch_time.val:.3f} ({batch_time.avg:.3f})\\t'\n",
    "                  'Data {data_time.val:.3f} ({data_time.avg:.3f})\\t'\n",
    "                  'Loss {loss.val:.4f} ({loss.avg:.4f})\\t'\n",
    "                  'Precision {cmpoint5.precision:.3f}\\t'\n",
    "                  'Recall {cmpoint5.recall:.3f}\\t'\n",
    "                  'F1 {cmpoint5.f1:.3f}'.format(\n",
    "                   epoch, i, len(train_loader), batch_time=batch_time,\n",
    "                   data_time=data_time, loss=losses, cmpoint5=cmpoint5))"
   ]
  },
  {
   "cell_type": "code",
   "execution_count": 46,
   "metadata": {},
   "outputs": [],
   "source": [
    "def validate(val_loader, model, criterion):\n",
    "    batch_time = AverageMeter()\n",
    "    losses = AverageMeter()\n",
    "    cmpoint5 = F1MicroAverageMeter(threshold=0.5)\n",
    "\n",
    "    # switch to evaluate mode\n",
    "    model.eval()\n",
    "\n",
    "    with torch.no_grad():\n",
    "        end = time.time()\n",
    "        for i, (input, target) in enumerate(val_loader):\n",
    "            target = target.cuda(non_blocking=True)\n",
    "\n",
    "            # compute output\n",
    "            output = model(input)\n",
    "            loss = criterion(output, target)\n",
    "\n",
    "            # measure F1 and record loss\n",
    "            losses.update(loss.item(), input.size(0))\n",
    "            cmpoint5.update(target, torch.exp(output))\n",
    "            \n",
    "\n",
    "            # measure elapsed time\n",
    "            batch_time.update(time.time() - end)\n",
    "            end = time.time()\n",
    "\n",
    "            if i % args.print_freq == 0:\n",
    "                print('Test: [{0}/{1}]\\t'\n",
    "                      'Time {batch_time.val:.3f} ({batch_time.avg:.3f})\\t'\n",
    "                      'Loss {loss.val:.4f} ({loss.avg:.4f})\\t'\n",
    "                      'Precision {cmpoint5.precision:.3f}\\t'\n",
    "                      'Recall {cmpoint5.recall:.3f}\\t'\n",
    "                      'F1 {cmpoint5.f1:.3f}'.format(\n",
    "                       i, len(val_loader), batch_time=batch_time, loss=losses,\n",
    "                       cmpoint5=cmpoint5))\n",
    "\n",
    "        print(' * Precision {cmpoint5.precision:.3f} Recall {cmpoint5.recall:.3f} F1 {cmpoint5.f1:.3f}'\n",
    "              .format(cmpoint5=cmpoint5))\n",
    "\n",
    "    return cmpoint5.f1"
   ]
  },
  {
   "cell_type": "code",
   "execution_count": 47,
   "metadata": {},
   "outputs": [
    {
     "name": "stdout",
     "output_type": "stream",
     "text": [
      "Epoch: [0][0/625]\tTime 3.966 (3.966)\tData 0.590 (0.590)\tLoss 0.4217 (0.4217)\tPrecision 0.025\tRecall 0.479\tF1 0.047\n",
      "Epoch: [0][100/625]\tTime 0.202 (0.239)\tData 0.000 (0.006)\tLoss 0.0913 (0.0929)\tPrecision 0.358\tRecall 0.230\tF1 0.280\n",
      "Epoch: [0][200/625]\tTime 0.201 (0.220)\tData 0.000 (0.003)\tLoss 0.0837 (0.0890)\tPrecision 0.420\tRecall 0.224\tF1 0.292\n",
      "Epoch: [0][300/625]\tTime 0.202 (0.214)\tData 0.000 (0.002)\tLoss 0.0893 (0.0874)\tPrecision 0.452\tRecall 0.222\tF1 0.298\n",
      "Epoch: [0][400/625]\tTime 0.202 (0.211)\tData 0.000 (0.002)\tLoss 0.0817 (0.0867)\tPrecision 0.472\tRecall 0.220\tF1 0.300\n",
      "Epoch: [0][500/625]\tTime 0.202 (0.209)\tData 0.000 (0.001)\tLoss 0.0892 (0.0862)\tPrecision 0.484\tRecall 0.219\tF1 0.301\n",
      "Epoch: [0][600/625]\tTime 0.202 (0.208)\tData 0.000 (0.001)\tLoss 0.0855 (0.0857)\tPrecision 0.492\tRecall 0.219\tF1 0.303\n",
      "Test: [0/619]\tTime 0.755 (0.755)\tLoss 0.1592 (0.1592)\tPrecision 0.667\tRecall 0.150\tF1 0.245\n",
      "Test: [100/619]\tTime 0.220 (0.108)\tLoss 0.2005 (0.1668)\tPrecision 0.605\tRecall 0.157\tF1 0.250\n",
      "Test: [200/619]\tTime 0.127 (0.105)\tLoss 0.2306 (0.1618)\tPrecision 0.613\tRecall 0.159\tF1 0.252\n",
      "Test: [300/619]\tTime 0.145 (0.105)\tLoss 0.1632 (0.1659)\tPrecision 0.609\tRecall 0.156\tF1 0.249\n",
      "Test: [400/619]\tTime 0.347 (0.106)\tLoss 0.3669 (0.1689)\tPrecision 0.603\tRecall 0.154\tF1 0.246\n",
      "Test: [500/619]\tTime 0.151 (0.106)\tLoss 0.1682 (0.1732)\tPrecision 0.597\tRecall 0.153\tF1 0.243\n",
      "Test: [600/619]\tTime 0.318 (0.109)\tLoss 0.2031 (0.1749)\tPrecision 0.596\tRecall 0.152\tF1 0.242\n",
      " * Precision 0.596 Recall 0.152 F1 0.242\n",
      "Epoch: [1][0/625]\tTime 1.302 (1.302)\tData 1.094 (1.094)\tLoss 0.0914 (0.0914)\tPrecision 0.607\tRecall 0.181\tF1 0.279\n",
      "Epoch: [1][100/625]\tTime 0.202 (0.217)\tData 0.000 (0.016)\tLoss 0.0753 (0.0823)\tPrecision 0.556\tRecall 0.216\tF1 0.311\n",
      "Epoch: [1][200/625]\tTime 0.201 (0.219)\tData 0.000 (0.018)\tLoss 0.0876 (0.0822)\tPrecision 0.562\tRecall 0.216\tF1 0.312\n",
      "Epoch: [1][300/625]\tTime 0.201 (0.213)\tData 0.000 (0.012)\tLoss 0.0819 (0.0822)\tPrecision 0.560\tRecall 0.221\tF1 0.317\n",
      "Epoch: [1][400/625]\tTime 0.202 (0.211)\tData 0.001 (0.009)\tLoss 0.0833 (0.0824)\tPrecision 0.553\tRecall 0.220\tF1 0.315\n",
      "Epoch: [1][500/625]\tTime 0.216 (0.210)\tData 0.000 (0.008)\tLoss 0.0851 (0.0825)\tPrecision 0.553\tRecall 0.220\tF1 0.315\n",
      "Epoch: [1][600/625]\tTime 0.202 (0.209)\tData 0.000 (0.007)\tLoss 0.0812 (0.0828)\tPrecision 0.552\tRecall 0.219\tF1 0.314\n",
      "Test: [0/619]\tTime 0.835 (0.835)\tLoss 0.1082 (0.1082)\tPrecision 0.622\tRecall 0.173\tF1 0.271\n",
      "Test: [100/619]\tTime 0.263 (0.111)\tLoss 0.1000 (0.1149)\tPrecision 0.580\tRecall 0.175\tF1 0.269\n",
      "Test: [200/619]\tTime 0.245 (0.107)\tLoss 0.1178 (0.1140)\tPrecision 0.582\tRecall 0.177\tF1 0.271\n",
      "Test: [300/619]\tTime 0.204 (0.106)\tLoss 0.1259 (0.1152)\tPrecision 0.576\tRecall 0.173\tF1 0.267\n",
      "Test: [400/619]\tTime 0.203 (0.107)\tLoss 0.1266 (0.1168)\tPrecision 0.573\tRecall 0.171\tF1 0.263\n",
      "Test: [500/619]\tTime 0.061 (0.108)\tLoss 0.1151 (0.1175)\tPrecision 0.567\tRecall 0.169\tF1 0.260\n",
      "Test: [600/619]\tTime 0.060 (0.109)\tLoss 0.1156 (0.1180)\tPrecision 0.566\tRecall 0.168\tF1 0.259\n",
      " * Precision 0.566 Recall 0.168 F1 0.259\n",
      "Epoch: [2][0/625]\tTime 0.830 (0.830)\tData 0.623 (0.623)\tLoss 0.0885 (0.0885)\tPrecision 0.576\tRecall 0.194\tF1 0.290\n",
      "Epoch: [2][100/625]\tTime 0.202 (0.210)\tData 0.000 (0.009)\tLoss 0.0771 (0.0827)\tPrecision 0.564\tRecall 0.211\tF1 0.307\n",
      "Epoch: [2][200/625]\tTime 0.204 (0.206)\tData 0.000 (0.004)\tLoss 0.0927 (0.0816)\tPrecision 0.552\tRecall 0.220\tF1 0.314\n",
      "Epoch: [2][300/625]\tTime 0.202 (0.205)\tData 0.000 (0.003)\tLoss 0.0815 (0.0817)\tPrecision 0.554\tRecall 0.224\tF1 0.319\n",
      "Epoch: [2][400/625]\tTime 0.203 (0.205)\tData 0.000 (0.002)\tLoss 0.0783 (0.0821)\tPrecision 0.555\tRecall 0.224\tF1 0.319\n",
      "Epoch: [2][500/625]\tTime 0.203 (0.204)\tData 0.001 (0.002)\tLoss 0.0813 (0.0824)\tPrecision 0.555\tRecall 0.220\tF1 0.315\n",
      "Epoch: [2][600/625]\tTime 0.201 (0.204)\tData 0.001 (0.002)\tLoss 0.0781 (0.0826)\tPrecision 0.555\tRecall 0.219\tF1 0.315\n",
      "Test: [0/619]\tTime 1.369 (1.369)\tLoss 0.1066 (0.1066)\tPrecision 0.568\tRecall 0.188\tF1 0.282\n",
      "Test: [100/619]\tTime 0.060 (0.230)\tLoss 0.0965 (0.1118)\tPrecision 0.535\tRecall 0.190\tF1 0.281\n",
      "Test: [200/619]\tTime 0.061 (0.179)\tLoss 0.1146 (0.1109)\tPrecision 0.538\tRecall 0.191\tF1 0.282\n",
      "Test: [300/619]\tTime 0.166 (0.162)\tLoss 0.1225 (0.1121)\tPrecision 0.529\tRecall 0.187\tF1 0.276\n",
      "Test: [400/619]\tTime 0.061 (0.153)\tLoss 0.1216 (0.1135)\tPrecision 0.522\tRecall 0.183\tF1 0.271\n",
      "Test: [500/619]\tTime 0.067 (0.147)\tLoss 0.1117 (0.1142)\tPrecision 0.516\tRecall 0.181\tF1 0.267\n",
      "Test: [600/619]\tTime 0.060 (0.142)\tLoss 0.1122 (0.1147)\tPrecision 0.514\tRecall 0.180\tF1 0.266\n",
      " * Precision 0.513 Recall 0.180 F1 0.266\n",
      "Epoch: [3][0/625]\tTime 1.213 (1.213)\tData 1.014 (1.014)\tLoss 0.0875 (0.0875)\tPrecision 0.556\tRecall 0.248\tF1 0.342\n",
      "Epoch: [3][100/625]\tTime 0.203 (0.212)\tData 0.000 (0.011)\tLoss 0.0850 (0.0815)\tPrecision 0.557\tRecall 0.226\tF1 0.321\n",
      "Epoch: [3][200/625]\tTime 0.201 (0.207)\tData 0.000 (0.006)\tLoss 0.0809 (0.0816)\tPrecision 0.557\tRecall 0.222\tF1 0.317\n",
      "Epoch: [3][300/625]\tTime 0.203 (0.206)\tData 0.000 (0.004)\tLoss 0.0802 (0.0817)\tPrecision 0.561\tRecall 0.222\tF1 0.319\n",
      "Epoch: [3][400/625]\tTime 0.203 (0.205)\tData 0.000 (0.003)\tLoss 0.0897 (0.0819)\tPrecision 0.557\tRecall 0.224\tF1 0.320\n",
      "Epoch: [3][500/625]\tTime 0.203 (0.205)\tData 0.000 (0.003)\tLoss 0.0841 (0.0819)\tPrecision 0.555\tRecall 0.227\tF1 0.323\n",
      "Epoch: [3][600/625]\tTime 0.202 (0.204)\tData 0.000 (0.002)\tLoss 0.0897 (0.0819)\tPrecision 0.556\tRecall 0.226\tF1 0.321\n",
      "Test: [0/619]\tTime 1.329 (1.329)\tLoss 0.1100 (0.1100)\tPrecision 0.697\tRecall 0.173\tF1 0.277\n",
      "Test: [100/619]\tTime 0.068 (0.154)\tLoss 0.0964 (0.1125)\tPrecision 0.620\tRecall 0.176\tF1 0.274\n",
      "Test: [200/619]\tTime 0.061 (0.140)\tLoss 0.1180 (0.1116)\tPrecision 0.620\tRecall 0.177\tF1 0.275\n",
      "Test: [300/619]\tTime 0.061 (0.135)\tLoss 0.1221 (0.1128)\tPrecision 0.615\tRecall 0.173\tF1 0.271\n",
      "Test: [400/619]\tTime 0.060 (0.132)\tLoss 0.1204 (0.1143)\tPrecision 0.608\tRecall 0.171\tF1 0.266\n",
      "Test: [500/619]\tTime 0.066 (0.128)\tLoss 0.1135 (0.1149)\tPrecision 0.604\tRecall 0.169\tF1 0.264\n",
      "Test: [600/619]\tTime 0.060 (0.126)\tLoss 0.1116 (0.1153)\tPrecision 0.602\tRecall 0.168\tF1 0.262\n",
      " * Precision 0.602 Recall 0.168 F1 0.262\n",
      "Epoch: [4][0/625]\tTime 0.810 (0.810)\tData 0.603 (0.603)\tLoss 0.0838 (0.0838)\tPrecision 0.500\tRecall 0.191\tF1 0.277\n",
      "Epoch: [4][100/625]\tTime 0.202 (0.208)\tData 0.000 (0.006)\tLoss 0.0739 (0.0811)\tPrecision 0.558\tRecall 0.232\tF1 0.328\n",
      "Epoch: [4][200/625]\tTime 0.201 (0.205)\tData 0.000 (0.003)\tLoss 0.0778 (0.0816)\tPrecision 0.548\tRecall 0.226\tF1 0.320\n",
      "Epoch: [4][300/625]\tTime 0.203 (0.204)\tData 0.000 (0.002)\tLoss 0.0912 (0.0814)\tPrecision 0.553\tRecall 0.227\tF1 0.322\n",
      "Epoch: [4][400/625]\tTime 0.201 (0.204)\tData 0.000 (0.002)\tLoss 0.0796 (0.0814)\tPrecision 0.546\tRecall 0.232\tF1 0.326\n",
      "Epoch: [4][500/625]\tTime 0.202 (0.204)\tData 0.001 (0.002)\tLoss 0.0777 (0.0813)\tPrecision 0.548\tRecall 0.231\tF1 0.325\n",
      "Epoch: [4][600/625]\tTime 0.203 (0.204)\tData 0.000 (0.002)\tLoss 0.0915 (0.0812)\tPrecision 0.550\tRecall 0.233\tF1 0.327\n",
      "Test: [0/619]\tTime 1.245 (1.245)\tLoss 0.1107 (0.1107)\tPrecision 0.628\tRecall 0.203\tF1 0.307\n",
      "Test: [100/619]\tTime 0.270 (0.167)\tLoss 0.0940 (0.1109)\tPrecision 0.590\tRecall 0.212\tF1 0.312\n",
      "Test: [200/619]\tTime 0.069 (0.146)\tLoss 0.1119 (0.1099)\tPrecision 0.592\tRecall 0.214\tF1 0.314\n",
      "Test: [300/619]\tTime 0.060 (0.141)\tLoss 0.1220 (0.1110)\tPrecision 0.583\tRecall 0.209\tF1 0.308\n",
      "Test: [400/619]\tTime 0.079 (0.133)\tLoss 0.1233 (0.1125)\tPrecision 0.576\tRecall 0.205\tF1 0.302\n",
      "Test: [500/619]\tTime 0.060 (0.128)\tLoss 0.1110 (0.1131)\tPrecision 0.570\tRecall 0.202\tF1 0.298\n",
      "Test: [600/619]\tTime 0.081 (0.125)\tLoss 0.1076 (0.1136)\tPrecision 0.568\tRecall 0.201\tF1 0.297\n",
      " * Precision 0.568 Recall 0.201 F1 0.297\n",
      "Epoch: [5][0/625]\tTime 1.541 (1.541)\tData 1.332 (1.332)\tLoss 0.0821 (0.0821)\tPrecision 0.439\tRecall 0.194\tF1 0.269\n",
      "Epoch: [5][100/625]\tTime 0.202 (0.220)\tData 0.000 (0.018)\tLoss 0.0767 (0.0807)\tPrecision 0.554\tRecall 0.239\tF1 0.334\n",
      "Epoch: [5][200/625]\tTime 0.204 (0.212)\tData 0.000 (0.009)\tLoss 0.0745 (0.0808)\tPrecision 0.546\tRecall 0.242\tF1 0.336\n",
      "Epoch: [5][300/625]\tTime 0.198 (0.209)\tData 0.000 (0.006)\tLoss 0.0746 (0.0809)\tPrecision 0.542\tRecall 0.237\tF1 0.330\n",
      "Epoch: [5][400/625]\tTime 0.202 (0.207)\tData 0.000 (0.005)\tLoss 0.0873 (0.0807)\tPrecision 0.545\tRecall 0.239\tF1 0.332\n",
      "Epoch: [5][500/625]\tTime 0.203 (0.206)\tData 0.000 (0.004)\tLoss 0.0824 (0.0806)\tPrecision 0.549\tRecall 0.240\tF1 0.334\n"
     ]
    },
    {
     "name": "stdout",
     "output_type": "stream",
     "text": [
      "Epoch: [5][600/625]\tTime 0.198 (0.206)\tData 0.000 (0.003)\tLoss 0.0865 (0.0806)\tPrecision 0.550\tRecall 0.241\tF1 0.335\n",
      "Test: [0/619]\tTime 0.766 (0.766)\tLoss 0.1059 (0.1059)\tPrecision 0.682\tRecall 0.226\tF1 0.339\n",
      "Test: [100/619]\tTime 0.289 (0.113)\tLoss 0.0944 (0.1106)\tPrecision 0.610\tRecall 0.205\tF1 0.307\n",
      "Test: [200/619]\tTime 0.165 (0.110)\tLoss 0.1116 (0.1097)\tPrecision 0.616\tRecall 0.208\tF1 0.310\n",
      "Test: [300/619]\tTime 0.333 (0.113)\tLoss 0.1218 (0.1109)\tPrecision 0.611\tRecall 0.205\tF1 0.306\n",
      "Test: [400/619]\tTime 0.167 (0.113)\tLoss 0.1217 (0.1124)\tPrecision 0.603\tRecall 0.200\tF1 0.300\n",
      "Test: [500/619]\tTime 0.178 (0.111)\tLoss 0.1116 (0.1131)\tPrecision 0.598\tRecall 0.197\tF1 0.297\n",
      "Test: [600/619]\tTime 0.228 (0.111)\tLoss 0.1062 (0.1136)\tPrecision 0.595\tRecall 0.196\tF1 0.295\n",
      " * Precision 0.595 Recall 0.196 F1 0.295\n",
      "Epoch: [6][0/625]\tTime 0.817 (0.817)\tData 0.608 (0.608)\tLoss 0.0858 (0.0858)\tPrecision 0.444\tRecall 0.168\tF1 0.244\n",
      "Epoch: [6][100/625]\tTime 0.202 (0.208)\tData 0.000 (0.006)\tLoss 0.0882 (0.0803)\tPrecision 0.541\tRecall 0.241\tF1 0.333\n",
      "Epoch: [6][200/625]\tTime 0.202 (0.205)\tData 0.000 (0.003)\tLoss 0.0821 (0.0804)\tPrecision 0.552\tRecall 0.241\tF1 0.336\n",
      "Epoch: [6][300/625]\tTime 0.203 (0.204)\tData 0.000 (0.002)\tLoss 0.0839 (0.0804)\tPrecision 0.547\tRecall 0.244\tF1 0.338\n",
      "Epoch: [6][400/625]\tTime 0.203 (0.204)\tData 0.000 (0.002)\tLoss 0.0903 (0.0803)\tPrecision 0.548\tRecall 0.243\tF1 0.337\n",
      "Epoch: [6][500/625]\tTime 0.201 (0.204)\tData 0.000 (0.002)\tLoss 0.0720 (0.0801)\tPrecision 0.551\tRecall 0.242\tF1 0.337\n",
      "Epoch: [6][600/625]\tTime 0.205 (0.203)\tData 0.000 (0.001)\tLoss 0.0784 (0.0801)\tPrecision 0.551\tRecall 0.242\tF1 0.337\n",
      "Test: [0/619]\tTime 0.773 (0.773)\tLoss 0.1088 (0.1088)\tPrecision 0.667\tRecall 0.180\tF1 0.284\n",
      "Test: [100/619]\tTime 0.297 (0.111)\tLoss 0.0966 (0.1126)\tPrecision 0.619\tRecall 0.202\tF1 0.305\n",
      "Test: [200/619]\tTime 0.158 (0.106)\tLoss 0.1169 (0.1114)\tPrecision 0.623\tRecall 0.204\tF1 0.307\n",
      "Test: [300/619]\tTime 0.245 (0.106)\tLoss 0.1253 (0.1126)\tPrecision 0.617\tRecall 0.200\tF1 0.302\n",
      "Test: [400/619]\tTime 0.189 (0.106)\tLoss 0.1192 (0.1141)\tPrecision 0.611\tRecall 0.195\tF1 0.296\n",
      "Test: [500/619]\tTime 0.143 (0.107)\tLoss 0.1128 (0.1149)\tPrecision 0.605\tRecall 0.193\tF1 0.293\n",
      "Test: [600/619]\tTime 0.177 (0.107)\tLoss 0.1084 (0.1154)\tPrecision 0.604\tRecall 0.192\tF1 0.292\n",
      " * Precision 0.604 Recall 0.192 F1 0.292\n",
      "Epoch     6: reducing learning rate of group 0 to 1.0000e-04.\n",
      "Epoch: [7][0/625]\tTime 0.769 (0.769)\tData 0.559 (0.559)\tLoss 0.0828 (0.0828)\tPrecision 0.561\tRecall 0.256\tF1 0.351\n",
      "Epoch: [7][100/625]\tTime 0.201 (0.209)\tData 0.000 (0.006)\tLoss 0.0835 (0.0789)\tPrecision 0.569\tRecall 0.239\tF1 0.337\n",
      "Epoch: [7][200/625]\tTime 0.202 (0.205)\tData 0.000 (0.003)\tLoss 0.0760 (0.0790)\tPrecision 0.573\tRecall 0.240\tF1 0.338\n",
      "Epoch: [7][300/625]\tTime 0.203 (0.204)\tData 0.000 (0.002)\tLoss 0.0776 (0.0791)\tPrecision 0.570\tRecall 0.241\tF1 0.339\n",
      "Epoch: [7][400/625]\tTime 0.201 (0.204)\tData 0.000 (0.002)\tLoss 0.0732 (0.0790)\tPrecision 0.571\tRecall 0.241\tF1 0.339\n",
      "Epoch: [7][500/625]\tTime 0.201 (0.204)\tData 0.000 (0.002)\tLoss 0.0858 (0.0788)\tPrecision 0.571\tRecall 0.242\tF1 0.339\n",
      "Epoch: [7][600/625]\tTime 0.204 (0.204)\tData 0.000 (0.002)\tLoss 0.0937 (0.0788)\tPrecision 0.569\tRecall 0.242\tF1 0.340\n",
      "Test: [0/619]\tTime 0.772 (0.772)\tLoss 0.1051 (0.1051)\tPrecision 0.634\tRecall 0.195\tF1 0.299\n",
      "Test: [100/619]\tTime 0.277 (0.112)\tLoss 0.0943 (0.1094)\tPrecision 0.599\tRecall 0.216\tF1 0.318\n",
      "Test: [200/619]\tTime 0.156 (0.107)\tLoss 0.1114 (0.1085)\tPrecision 0.602\tRecall 0.217\tF1 0.320\n",
      "Test: [300/619]\tTime 0.186 (0.106)\tLoss 0.1212 (0.1097)\tPrecision 0.598\tRecall 0.213\tF1 0.315\n",
      "Test: [400/619]\tTime 0.295 (0.106)\tLoss 0.1197 (0.1112)\tPrecision 0.592\tRecall 0.209\tF1 0.308\n",
      "Test: [500/619]\tTime 0.099 (0.110)\tLoss 0.1110 (0.1119)\tPrecision 0.587\tRecall 0.206\tF1 0.305\n",
      "Test: [600/619]\tTime 0.213 (0.110)\tLoss 0.1057 (0.1123)\tPrecision 0.585\tRecall 0.205\tF1 0.303\n",
      " * Precision 0.585 Recall 0.205 F1 0.303\n",
      "Epoch: [8][0/625]\tTime 0.845 (0.845)\tData 0.640 (0.640)\tLoss 0.0680 (0.0680)\tPrecision 0.543\tRecall 0.294\tF1 0.382\n",
      "Epoch: [8][100/625]\tTime 0.203 (0.208)\tData 0.000 (0.007)\tLoss 0.0776 (0.0778)\tPrecision 0.569\tRecall 0.253\tF1 0.350\n",
      "Epoch: [8][200/625]\tTime 0.202 (0.205)\tData 0.000 (0.004)\tLoss 0.0872 (0.0785)\tPrecision 0.562\tRecall 0.249\tF1 0.345\n",
      "Epoch: [8][300/625]\tTime 0.203 (0.204)\tData 0.000 (0.002)\tLoss 0.0701 (0.0780)\tPrecision 0.563\tRecall 0.250\tF1 0.346\n",
      "Epoch: [8][400/625]\tTime 0.204 (0.204)\tData 0.000 (0.002)\tLoss 0.0708 (0.0784)\tPrecision 0.564\tRecall 0.248\tF1 0.345\n",
      "Epoch: [8][500/625]\tTime 0.201 (0.203)\tData 0.000 (0.002)\tLoss 0.0829 (0.0785)\tPrecision 0.564\tRecall 0.247\tF1 0.344\n",
      "Epoch: [8][600/625]\tTime 0.203 (0.203)\tData 0.000 (0.001)\tLoss 0.0843 (0.0785)\tPrecision 0.565\tRecall 0.248\tF1 0.344\n",
      "Test: [0/619]\tTime 0.763 (0.763)\tLoss 0.1062 (0.1062)\tPrecision 0.605\tRecall 0.195\tF1 0.295\n",
      "Test: [100/619]\tTime 0.196 (0.111)\tLoss 0.0931 (0.1098)\tPrecision 0.605\tRecall 0.221\tF1 0.323\n",
      "Test: [200/619]\tTime 0.094 (0.107)\tLoss 0.1127 (0.1086)\tPrecision 0.608\tRecall 0.222\tF1 0.325\n",
      "Test: [300/619]\tTime 0.198 (0.106)\tLoss 0.1205 (0.1098)\tPrecision 0.604\tRecall 0.219\tF1 0.321\n",
      "Test: [400/619]\tTime 0.268 (0.106)\tLoss 0.1201 (0.1113)\tPrecision 0.598\tRecall 0.214\tF1 0.315\n",
      "Test: [500/619]\tTime 0.153 (0.106)\tLoss 0.1105 (0.1121)\tPrecision 0.594\tRecall 0.211\tF1 0.311\n",
      "Test: [600/619]\tTime 0.184 (0.107)\tLoss 0.1061 (0.1126)\tPrecision 0.591\tRecall 0.210\tF1 0.310\n",
      " * Precision 0.591 Recall 0.210 F1 0.310\n",
      "Epoch: [9][0/625]\tTime 1.032 (1.032)\tData 0.823 (0.823)\tLoss 0.0772 (0.0772)\tPrecision 0.500\tRecall 0.244\tF1 0.328\n",
      "Epoch: [9][100/625]\tTime 0.202 (0.210)\tData 0.000 (0.008)\tLoss 0.0667 (0.0784)\tPrecision 0.577\tRecall 0.249\tF1 0.348\n",
      "Epoch: [9][200/625]\tTime 0.202 (0.206)\tData 0.000 (0.004)\tLoss 0.0772 (0.0782)\tPrecision 0.572\tRecall 0.251\tF1 0.349\n",
      "Epoch: [9][300/625]\tTime 0.202 (0.205)\tData 0.000 (0.003)\tLoss 0.0820 (0.0781)\tPrecision 0.564\tRecall 0.251\tF1 0.347\n",
      "Epoch: [9][400/625]\tTime 0.202 (0.204)\tData 0.000 (0.002)\tLoss 0.0795 (0.0779)\tPrecision 0.566\tRecall 0.251\tF1 0.348\n",
      "Epoch: [9][500/625]\tTime 0.202 (0.204)\tData 0.000 (0.002)\tLoss 0.0820 (0.0782)\tPrecision 0.563\tRecall 0.252\tF1 0.348\n",
      "Epoch: [9][600/625]\tTime 0.203 (0.204)\tData 0.000 (0.002)\tLoss 0.0786 (0.0783)\tPrecision 0.562\tRecall 0.253\tF1 0.349\n",
      "Test: [0/619]\tTime 0.760 (0.760)\tLoss 0.1053 (0.1053)\tPrecision 0.641\tRecall 0.188\tF1 0.291\n",
      "Test: [100/619]\tTime 0.271 (0.117)\tLoss 0.0934 (0.1088)\tPrecision 0.614\tRecall 0.222\tF1 0.326\n",
      "Test: [200/619]\tTime 0.140 (0.109)\tLoss 0.1112 (0.1078)\tPrecision 0.618\tRecall 0.224\tF1 0.329\n",
      "Test: [300/619]\tTime 0.186 (0.108)\tLoss 0.1207 (0.1090)\tPrecision 0.614\tRecall 0.221\tF1 0.325\n",
      "Test: [400/619]\tTime 0.276 (0.108)\tLoss 0.1188 (0.1105)\tPrecision 0.607\tRecall 0.215\tF1 0.318\n",
      "Test: [500/619]\tTime 0.150 (0.108)\tLoss 0.1107 (0.1113)\tPrecision 0.602\tRecall 0.212\tF1 0.314\n",
      "Test: [600/619]\tTime 0.177 (0.108)\tLoss 0.1059 (0.1117)\tPrecision 0.600\tRecall 0.211\tF1 0.312\n",
      " * Precision 0.600 Recall 0.211 F1 0.312\n",
      "Epoch: [10][0/625]\tTime 1.053 (1.053)\tData 0.841 (0.841)\tLoss 0.0762 (0.0762)\tPrecision 0.581\tRecall 0.258\tF1 0.357\n",
      "Epoch: [10][100/625]\tTime 0.200 (0.210)\tData 0.000 (0.009)\tLoss 0.0745 (0.0779)\tPrecision 0.560\tRecall 0.257\tF1 0.352\n",
      "Epoch: [10][200/625]\tTime 0.202 (0.206)\tData 0.000 (0.005)\tLoss 0.0818 (0.0779)\tPrecision 0.562\tRecall 0.258\tF1 0.353\n",
      "Epoch: [10][300/625]\tTime 0.203 (0.205)\tData 0.000 (0.003)\tLoss 0.0722 (0.0779)\tPrecision 0.565\tRecall 0.256\tF1 0.353\n",
      "Epoch: [10][400/625]\tTime 0.201 (0.204)\tData 0.000 (0.002)\tLoss 0.0821 (0.0782)\tPrecision 0.561\tRecall 0.255\tF1 0.351\n",
      "Epoch: [10][500/625]\tTime 0.202 (0.204)\tData 0.000 (0.002)\tLoss 0.0854 (0.0780)\tPrecision 0.562\tRecall 0.256\tF1 0.352\n",
      "Epoch: [10][600/625]\tTime 0.202 (0.204)\tData 0.000 (0.002)\tLoss 0.0789 (0.0781)\tPrecision 0.562\tRecall 0.256\tF1 0.351\n",
      "Test: [0/619]\tTime 0.815 (0.815)\tLoss 0.1067 (0.1067)\tPrecision 0.625\tRecall 0.188\tF1 0.289\n",
      "Test: [100/619]\tTime 0.253 (0.113)\tLoss 0.0927 (0.1098)\tPrecision 0.604\tRecall 0.220\tF1 0.322\n",
      "Test: [200/619]\tTime 0.269 (0.109)\tLoss 0.1118 (0.1086)\tPrecision 0.607\tRecall 0.222\tF1 0.325\n",
      "Test: [300/619]\tTime 0.243 (0.109)\tLoss 0.1206 (0.1099)\tPrecision 0.604\tRecall 0.219\tF1 0.321\n",
      "Test: [400/619]\tTime 0.325 (0.109)\tLoss 0.1196 (0.1114)\tPrecision 0.598\tRecall 0.214\tF1 0.315\n"
     ]
    },
    {
     "name": "stdout",
     "output_type": "stream",
     "text": [
      "Test: [500/619]\tTime 0.130 (0.109)\tLoss 0.1112 (0.1122)\tPrecision 0.592\tRecall 0.211\tF1 0.311\n",
      "Test: [600/619]\tTime 0.267 (0.109)\tLoss 0.1061 (0.1127)\tPrecision 0.589\tRecall 0.210\tF1 0.309\n",
      " * Precision 0.589 Recall 0.210 F1 0.309\n",
      "Epoch: [11][0/625]\tTime 0.805 (0.805)\tData 0.595 (0.595)\tLoss 0.0746 (0.0746)\tPrecision 0.630\tRecall 0.312\tF1 0.417\n",
      "Epoch: [11][100/625]\tTime 0.201 (0.209)\tData 0.000 (0.006)\tLoss 0.0690 (0.0774)\tPrecision 0.567\tRecall 0.254\tF1 0.351\n",
      "Epoch: [11][200/625]\tTime 0.204 (0.207)\tData 0.000 (0.003)\tLoss 0.0797 (0.0780)\tPrecision 0.568\tRecall 0.257\tF1 0.354\n",
      "Epoch: [11][300/625]\tTime 0.200 (0.206)\tData 0.000 (0.002)\tLoss 0.0902 (0.0778)\tPrecision 0.566\tRecall 0.258\tF1 0.355\n",
      "Epoch: [11][400/625]\tTime 0.202 (0.205)\tData 0.000 (0.002)\tLoss 0.0745 (0.0778)\tPrecision 0.564\tRecall 0.259\tF1 0.355\n",
      "Epoch: [11][500/625]\tTime 0.203 (0.205)\tData 0.000 (0.002)\tLoss 0.0764 (0.0778)\tPrecision 0.564\tRecall 0.260\tF1 0.355\n",
      "Epoch: [11][600/625]\tTime 0.201 (0.205)\tData 0.000 (0.001)\tLoss 0.0822 (0.0777)\tPrecision 0.565\tRecall 0.259\tF1 0.355\n",
      "Test: [0/619]\tTime 0.812 (0.812)\tLoss 0.1053 (0.1053)\tPrecision 0.551\tRecall 0.203\tF1 0.297\n",
      "Test: [100/619]\tTime 0.230 (0.111)\tLoss 0.0922 (0.1085)\tPrecision 0.592\tRecall 0.238\tF1 0.339\n",
      "Test: [200/619]\tTime 0.109 (0.108)\tLoss 0.1100 (0.1074)\tPrecision 0.595\tRecall 0.240\tF1 0.342\n",
      "Test: [300/619]\tTime 0.243 (0.107)\tLoss 0.1201 (0.1087)\tPrecision 0.591\tRecall 0.235\tF1 0.336\n",
      "Test: [400/619]\tTime 0.220 (0.108)\tLoss 0.1190 (0.1102)\tPrecision 0.583\tRecall 0.229\tF1 0.329\n",
      "Test: [500/619]\tTime 0.228 (0.108)\tLoss 0.1107 (0.1110)\tPrecision 0.578\tRecall 0.226\tF1 0.324\n",
      "Test: [600/619]\tTime 0.194 (0.108)\tLoss 0.1052 (0.1115)\tPrecision 0.576\tRecall 0.224\tF1 0.323\n",
      " * Precision 0.576 Recall 0.224 F1 0.323\n",
      "Epoch: [12][0/625]\tTime 0.886 (0.886)\tData 0.680 (0.680)\tLoss 0.0841 (0.0841)\tPrecision 0.468\tRecall 0.232\tF1 0.310\n",
      "Epoch: [12][100/625]\tTime 0.201 (0.210)\tData 0.000 (0.007)\tLoss 0.0739 (0.0785)\tPrecision 0.555\tRecall 0.256\tF1 0.350\n",
      "Epoch: [12][200/625]\tTime 0.202 (0.207)\tData 0.000 (0.004)\tLoss 0.0741 (0.0780)\tPrecision 0.559\tRecall 0.262\tF1 0.357\n",
      "Epoch: [12][300/625]\tTime 0.202 (0.206)\tData 0.000 (0.003)\tLoss 0.0833 (0.0780)\tPrecision 0.561\tRecall 0.261\tF1 0.356\n",
      "Epoch: [12][400/625]\tTime 0.201 (0.205)\tData 0.000 (0.002)\tLoss 0.0705 (0.0777)\tPrecision 0.558\tRecall 0.261\tF1 0.356\n",
      "Epoch: [12][500/625]\tTime 0.204 (0.205)\tData 0.000 (0.002)\tLoss 0.0754 (0.0778)\tPrecision 0.557\tRecall 0.261\tF1 0.356\n",
      "Epoch: [12][600/625]\tTime 0.214 (0.205)\tData 0.000 (0.001)\tLoss 0.0710 (0.0777)\tPrecision 0.558\tRecall 0.262\tF1 0.356\n",
      "Test: [0/619]\tTime 0.747 (0.747)\tLoss 0.1061 (0.1061)\tPrecision 0.614\tRecall 0.203\tF1 0.305\n",
      "Test: [100/619]\tTime 0.325 (0.112)\tLoss 0.0925 (0.1088)\tPrecision 0.607\tRecall 0.237\tF1 0.341\n",
      "Test: [200/619]\tTime 0.149 (0.108)\tLoss 0.1104 (0.1077)\tPrecision 0.607\tRecall 0.238\tF1 0.342\n",
      "Test: [300/619]\tTime 0.267 (0.108)\tLoss 0.1197 (0.1090)\tPrecision 0.603\tRecall 0.234\tF1 0.337\n",
      "Test: [400/619]\tTime 0.250 (0.108)\tLoss 0.1187 (0.1105)\tPrecision 0.595\tRecall 0.228\tF1 0.330\n",
      "Test: [500/619]\tTime 0.124 (0.109)\tLoss 0.1107 (0.1113)\tPrecision 0.590\tRecall 0.225\tF1 0.326\n",
      "Test: [600/619]\tTime 0.175 (0.109)\tLoss 0.1052 (0.1119)\tPrecision 0.587\tRecall 0.224\tF1 0.324\n",
      " * Precision 0.587 Recall 0.223 F1 0.324\n",
      "Epoch: [13][0/625]\tTime 0.847 (0.847)\tData 0.636 (0.636)\tLoss 0.0766 (0.0766)\tPrecision 0.595\tRecall 0.301\tF1 0.400\n",
      "Epoch: [13][100/625]\tTime 0.211 (0.212)\tData 0.000 (0.009)\tLoss 0.0790 (0.0778)\tPrecision 0.553\tRecall 0.262\tF1 0.356\n",
      "Epoch: [13][200/625]\tTime 0.207 (0.208)\tData 0.000 (0.005)\tLoss 0.0755 (0.0778)\tPrecision 0.556\tRecall 0.263\tF1 0.358\n",
      "Epoch: [13][300/625]\tTime 0.210 (0.206)\tData 0.000 (0.003)\tLoss 0.0729 (0.0778)\tPrecision 0.559\tRecall 0.263\tF1 0.358\n",
      "Epoch: [13][400/625]\tTime 0.206 (0.206)\tData 0.000 (0.003)\tLoss 0.0810 (0.0777)\tPrecision 0.561\tRecall 0.263\tF1 0.358\n",
      "Epoch: [13][500/625]\tTime 0.202 (0.206)\tData 0.000 (0.002)\tLoss 0.0785 (0.0774)\tPrecision 0.560\tRecall 0.265\tF1 0.360\n",
      "Epoch: [13][600/625]\tTime 0.202 (0.205)\tData 0.000 (0.002)\tLoss 0.0789 (0.0774)\tPrecision 0.560\tRecall 0.266\tF1 0.360\n",
      "Test: [0/619]\tTime 0.827 (0.827)\tLoss 0.1057 (0.1057)\tPrecision 0.619\tRecall 0.195\tF1 0.297\n",
      "Test: [100/619]\tTime 0.199 (0.115)\tLoss 0.0936 (0.1091)\tPrecision 0.598\tRecall 0.230\tF1 0.332\n",
      "Test: [200/619]\tTime 0.117 (0.112)\tLoss 0.1104 (0.1080)\tPrecision 0.599\tRecall 0.231\tF1 0.334\n",
      "Test: [300/619]\tTime 0.227 (0.112)\tLoss 0.1198 (0.1092)\tPrecision 0.594\tRecall 0.227\tF1 0.328\n",
      "Test: [400/619]\tTime 0.255 (0.112)\tLoss 0.1181 (0.1108)\tPrecision 0.588\tRecall 0.221\tF1 0.321\n",
      "Test: [500/619]\tTime 0.213 (0.113)\tLoss 0.1109 (0.1115)\tPrecision 0.582\tRecall 0.218\tF1 0.317\n",
      "Test: [600/619]\tTime 0.161 (0.113)\tLoss 0.1053 (0.1121)\tPrecision 0.579\tRecall 0.216\tF1 0.315\n",
      " * Precision 0.579 Recall 0.216 F1 0.315\n",
      "Epoch: [14][0/625]\tTime 0.804 (0.804)\tData 0.577 (0.577)\tLoss 0.0752 (0.0752)\tPrecision 0.488\tRecall 0.219\tF1 0.302\n",
      "Epoch: [14][100/625]\tTime 0.202 (0.209)\tData 0.007 (0.007)\tLoss 0.0804 (0.0771)\tPrecision 0.576\tRecall 0.271\tF1 0.368\n",
      "Epoch: [14][200/625]\tTime 0.202 (0.205)\tData 0.000 (0.004)\tLoss 0.0746 (0.0773)\tPrecision 0.568\tRecall 0.267\tF1 0.364\n",
      "Epoch: [14][300/625]\tTime 0.201 (0.205)\tData 0.000 (0.003)\tLoss 0.0896 (0.0771)\tPrecision 0.563\tRecall 0.267\tF1 0.363\n",
      "Epoch: [14][400/625]\tTime 0.200 (0.204)\tData 0.000 (0.003)\tLoss 0.0834 (0.0771)\tPrecision 0.559\tRecall 0.268\tF1 0.362\n",
      "Epoch: [14][500/625]\tTime 0.202 (0.204)\tData 0.000 (0.002)\tLoss 0.0837 (0.0771)\tPrecision 0.559\tRecall 0.268\tF1 0.362\n",
      "Epoch: [14][600/625]\tTime 0.204 (0.204)\tData 0.000 (0.002)\tLoss 0.0758 (0.0773)\tPrecision 0.559\tRecall 0.267\tF1 0.361\n",
      "Test: [0/619]\tTime 0.736 (0.736)\tLoss 0.1054 (0.1054)\tPrecision 0.562\tRecall 0.203\tF1 0.298\n",
      "Test: [100/619]\tTime 0.193 (0.111)\tLoss 0.0923 (0.1088)\tPrecision 0.597\tRecall 0.238\tF1 0.340\n",
      "Test: [200/619]\tTime 0.199 (0.108)\tLoss 0.1091 (0.1075)\tPrecision 0.598\tRecall 0.240\tF1 0.342\n",
      "Test: [300/619]\tTime 0.317 (0.108)\tLoss 0.1195 (0.1087)\tPrecision 0.594\tRecall 0.236\tF1 0.338\n",
      "Test: [400/619]\tTime 0.216 (0.109)\tLoss 0.1192 (0.1102)\tPrecision 0.588\tRecall 0.230\tF1 0.331\n",
      "Test: [500/619]\tTime 0.190 (0.110)\tLoss 0.1102 (0.1110)\tPrecision 0.582\tRecall 0.227\tF1 0.327\n",
      "Test: [600/619]\tTime 0.256 (0.111)\tLoss 0.1052 (0.1115)\tPrecision 0.580\tRecall 0.226\tF1 0.325\n",
      " * Precision 0.580 Recall 0.226 F1 0.325\n",
      "Epoch: [15][0/625]\tTime 1.145 (1.145)\tData 0.939 (0.939)\tLoss 0.0807 (0.0807)\tPrecision 0.551\tRecall 0.257\tF1 0.351\n",
      "Epoch: [15][100/625]\tTime 0.201 (0.212)\tData 0.000 (0.011)\tLoss 0.0860 (0.0770)\tPrecision 0.543\tRecall 0.275\tF1 0.365\n",
      "Epoch: [15][200/625]\tTime 0.200 (0.207)\tData 0.000 (0.006)\tLoss 0.0752 (0.0773)\tPrecision 0.554\tRecall 0.273\tF1 0.365\n",
      "Epoch: [15][300/625]\tTime 0.203 (0.208)\tData 0.000 (0.005)\tLoss 0.0749 (0.0771)\tPrecision 0.555\tRecall 0.272\tF1 0.365\n",
      "Epoch: [15][400/625]\tTime 0.202 (0.208)\tData 0.000 (0.004)\tLoss 0.0720 (0.0771)\tPrecision 0.554\tRecall 0.271\tF1 0.364\n",
      "Epoch: [15][500/625]\tTime 0.201 (0.207)\tData 0.000 (0.003)\tLoss 0.0731 (0.0772)\tPrecision 0.557\tRecall 0.271\tF1 0.365\n",
      "Epoch: [15][600/625]\tTime 0.202 (0.206)\tData 0.000 (0.003)\tLoss 0.0698 (0.0772)\tPrecision 0.557\tRecall 0.271\tF1 0.364\n",
      "Test: [0/619]\tTime 0.789 (0.789)\tLoss 0.1057 (0.1057)\tPrecision 0.549\tRecall 0.211\tF1 0.304\n",
      "Test: [100/619]\tTime 0.236 (0.110)\tLoss 0.0912 (0.1084)\tPrecision 0.606\tRecall 0.237\tF1 0.340\n",
      "Test: [200/619]\tTime 0.403 (0.112)\tLoss 0.1085 (0.1070)\tPrecision 0.609\tRecall 0.239\tF1 0.343\n",
      "Test: [300/619]\tTime 0.244 (0.113)\tLoss 0.1185 (0.1083)\tPrecision 0.607\tRecall 0.234\tF1 0.338\n",
      "Test: [400/619]\tTime 0.304 (0.112)\tLoss 0.1172 (0.1098)\tPrecision 0.601\tRecall 0.228\tF1 0.331\n",
      "Test: [500/619]\tTime 0.122 (0.111)\tLoss 0.1088 (0.1105)\tPrecision 0.595\tRecall 0.225\tF1 0.327\n",
      "Test: [600/619]\tTime 0.246 (0.111)\tLoss 0.1038 (0.1110)\tPrecision 0.592\tRecall 0.223\tF1 0.324\n",
      " * Precision 0.592 Recall 0.223 F1 0.324\n",
      "Epoch: [16][0/625]\tTime 0.733 (0.733)\tData 0.526 (0.526)\tLoss 0.0740 (0.0740)\tPrecision 0.630\tRecall 0.345\tF1 0.446\n",
      "Epoch: [16][100/625]\tTime 0.202 (0.207)\tData 0.000 (0.006)\tLoss 0.0734 (0.0772)\tPrecision 0.554\tRecall 0.272\tF1 0.365\n",
      "Epoch: [16][200/625]\tTime 0.201 (0.205)\tData 0.000 (0.003)\tLoss 0.0715 (0.0774)\tPrecision 0.555\tRecall 0.271\tF1 0.364\n",
      "Epoch: [16][300/625]\tTime 0.201 (0.204)\tData 0.000 (0.002)\tLoss 0.0773 (0.0772)\tPrecision 0.560\tRecall 0.270\tF1 0.365\n"
     ]
    },
    {
     "name": "stdout",
     "output_type": "stream",
     "text": [
      "Epoch: [16][400/625]\tTime 0.202 (0.203)\tData 0.000 (0.002)\tLoss 0.0890 (0.0770)\tPrecision 0.558\tRecall 0.272\tF1 0.366\n",
      "Epoch: [16][500/625]\tTime 0.198 (0.203)\tData 0.000 (0.001)\tLoss 0.0867 (0.0768)\tPrecision 0.558\tRecall 0.272\tF1 0.366\n",
      "Epoch: [16][600/625]\tTime 0.202 (0.203)\tData 0.000 (0.001)\tLoss 0.0763 (0.0769)\tPrecision 0.557\tRecall 0.272\tF1 0.366\n",
      "Test: [0/619]\tTime 0.770 (0.770)\tLoss 0.1034 (0.1034)\tPrecision 0.538\tRecall 0.211\tF1 0.303\n",
      "Test: [100/619]\tTime 0.158 (0.109)\tLoss 0.0927 (0.1078)\tPrecision 0.590\tRecall 0.245\tF1 0.346\n",
      "Test: [200/619]\tTime 0.066 (0.105)\tLoss 0.1082 (0.1066)\tPrecision 0.594\tRecall 0.247\tF1 0.349\n",
      "Test: [300/619]\tTime 0.062 (0.105)\tLoss 0.1190 (0.1078)\tPrecision 0.590\tRecall 0.243\tF1 0.344\n",
      "Test: [400/619]\tTime 0.072 (0.106)\tLoss 0.1176 (0.1093)\tPrecision 0.584\tRecall 0.238\tF1 0.338\n",
      "Test: [500/619]\tTime 0.066 (0.106)\tLoss 0.1103 (0.1101)\tPrecision 0.577\tRecall 0.234\tF1 0.333\n",
      "Test: [600/619]\tTime 0.067 (0.107)\tLoss 0.1034 (0.1106)\tPrecision 0.574\tRecall 0.233\tF1 0.331\n",
      " * Precision 0.574 Recall 0.232 F1 0.331\n",
      "Epoch: [17][0/625]\tTime 0.975 (0.975)\tData 0.768 (0.768)\tLoss 0.0750 (0.0750)\tPrecision 0.630\tRecall 0.309\tF1 0.414\n",
      "Epoch: [17][100/625]\tTime 0.202 (0.210)\tData 0.000 (0.008)\tLoss 0.0781 (0.0769)\tPrecision 0.563\tRecall 0.272\tF1 0.367\n",
      "Epoch: [17][200/625]\tTime 0.201 (0.206)\tData 0.000 (0.004)\tLoss 0.0748 (0.0767)\tPrecision 0.558\tRecall 0.275\tF1 0.368\n",
      "Epoch: [17][300/625]\tTime 0.202 (0.205)\tData 0.000 (0.003)\tLoss 0.0821 (0.0766)\tPrecision 0.561\tRecall 0.276\tF1 0.370\n",
      "Epoch: [17][400/625]\tTime 0.204 (0.204)\tData 0.000 (0.002)\tLoss 0.0776 (0.0766)\tPrecision 0.559\tRecall 0.276\tF1 0.369\n",
      "Epoch: [17][500/625]\tTime 0.201 (0.204)\tData 0.000 (0.002)\tLoss 0.0703 (0.0766)\tPrecision 0.558\tRecall 0.276\tF1 0.369\n",
      "Epoch: [17][600/625]\tTime 0.203 (0.204)\tData 0.000 (0.002)\tLoss 0.0859 (0.0766)\tPrecision 0.559\tRecall 0.276\tF1 0.370\n",
      "Test: [0/619]\tTime 0.737 (0.737)\tLoss 0.1029 (0.1029)\tPrecision 0.540\tRecall 0.203\tF1 0.295\n",
      "Test: [100/619]\tTime 0.081 (0.110)\tLoss 0.0920 (0.1084)\tPrecision 0.590\tRecall 0.235\tF1 0.336\n",
      "Test: [200/619]\tTime 0.060 (0.110)\tLoss 0.1081 (0.1072)\tPrecision 0.590\tRecall 0.237\tF1 0.338\n",
      "Test: [300/619]\tTime 0.077 (0.108)\tLoss 0.1179 (0.1084)\tPrecision 0.587\tRecall 0.232\tF1 0.333\n",
      "Test: [400/619]\tTime 0.302 (0.108)\tLoss 0.1162 (0.1098)\tPrecision 0.581\tRecall 0.227\tF1 0.327\n",
      "Test: [500/619]\tTime 0.145 (0.108)\tLoss 0.1109 (0.1106)\tPrecision 0.576\tRecall 0.224\tF1 0.323\n",
      "Test: [600/619]\tTime 0.273 (0.108)\tLoss 0.1052 (0.1110)\tPrecision 0.574\tRecall 0.223\tF1 0.321\n",
      " * Precision 0.574 Recall 0.223 F1 0.321\n",
      "Epoch: [18][0/625]\tTime 0.740 (0.740)\tData 0.533 (0.533)\tLoss 0.0723 (0.0723)\tPrecision 0.510\tRecall 0.278\tF1 0.360\n",
      "Epoch: [18][100/625]\tTime 0.203 (0.207)\tData 0.000 (0.006)\tLoss 0.0714 (0.0764)\tPrecision 0.552\tRecall 0.277\tF1 0.369\n",
      "Epoch: [18][200/625]\tTime 0.201 (0.205)\tData 0.000 (0.003)\tLoss 0.0804 (0.0769)\tPrecision 0.551\tRecall 0.275\tF1 0.367\n",
      "Epoch: [18][300/625]\tTime 0.203 (0.204)\tData 0.000 (0.002)\tLoss 0.0799 (0.0767)\tPrecision 0.556\tRecall 0.276\tF1 0.368\n",
      "Epoch: [18][400/625]\tTime 0.204 (0.204)\tData 0.000 (0.002)\tLoss 0.0811 (0.0769)\tPrecision 0.557\tRecall 0.275\tF1 0.368\n",
      "Epoch: [18][500/625]\tTime 0.202 (0.203)\tData 0.000 (0.001)\tLoss 0.0805 (0.0767)\tPrecision 0.556\tRecall 0.275\tF1 0.368\n",
      "Epoch: [18][600/625]\tTime 0.211 (0.204)\tData 0.000 (0.001)\tLoss 0.0855 (0.0767)\tPrecision 0.557\tRecall 0.275\tF1 0.368\n",
      "Test: [0/619]\tTime 0.811 (0.811)\tLoss 0.1029 (0.1029)\tPrecision 0.547\tRecall 0.218\tF1 0.312\n",
      "Test: [100/619]\tTime 0.319 (0.113)\tLoss 0.0919 (0.1081)\tPrecision 0.595\tRecall 0.242\tF1 0.344\n",
      "Test: [200/619]\tTime 0.131 (0.108)\tLoss 0.1087 (0.1069)\tPrecision 0.597\tRecall 0.243\tF1 0.345\n",
      "Test: [300/619]\tTime 0.348 (0.110)\tLoss 0.1195 (0.1082)\tPrecision 0.593\tRecall 0.239\tF1 0.341\n",
      "Test: [400/619]\tTime 0.340 (0.113)\tLoss 0.1173 (0.1097)\tPrecision 0.588\tRecall 0.234\tF1 0.335\n",
      "Test: [500/619]\tTime 0.304 (0.113)\tLoss 0.1100 (0.1104)\tPrecision 0.583\tRecall 0.231\tF1 0.331\n",
      "Test: [600/619]\tTime 0.251 (0.113)\tLoss 0.1052 (0.1108)\tPrecision 0.581\tRecall 0.230\tF1 0.329\n",
      " * Precision 0.581 Recall 0.229 F1 0.329\n",
      "Epoch    18: reducing learning rate of group 0 to 1.0000e-05.\n",
      "Epoch: [19][0/625]\tTime 0.788 (0.788)\tData 0.578 (0.578)\tLoss 0.0801 (0.0801)\tPrecision 0.630\tRecall 0.299\tF1 0.406\n",
      "Epoch: [19][100/625]\tTime 0.209 (0.215)\tData 0.000 (0.006)\tLoss 0.0827 (0.0758)\tPrecision 0.570\tRecall 0.280\tF1 0.375\n",
      "Epoch: [19][200/625]\tTime 0.210 (0.213)\tData 0.000 (0.003)\tLoss 0.0798 (0.0759)\tPrecision 0.564\tRecall 0.279\tF1 0.373\n",
      "Epoch: [19][300/625]\tTime 0.209 (0.212)\tData 0.000 (0.002)\tLoss 0.0761 (0.0761)\tPrecision 0.564\tRecall 0.277\tF1 0.372\n",
      "Epoch: [19][400/625]\tTime 0.211 (0.212)\tData 0.000 (0.002)\tLoss 0.0724 (0.0762)\tPrecision 0.562\tRecall 0.278\tF1 0.372\n",
      "Epoch: [19][500/625]\tTime 0.210 (0.211)\tData 0.000 (0.002)\tLoss 0.0782 (0.0762)\tPrecision 0.562\tRecall 0.278\tF1 0.372\n",
      "Epoch: [19][600/625]\tTime 0.210 (0.211)\tData 0.000 (0.001)\tLoss 0.0763 (0.0761)\tPrecision 0.561\tRecall 0.278\tF1 0.371\n",
      "Test: [0/619]\tTime 1.238 (1.238)\tLoss 0.1018 (0.1018)\tPrecision 0.545\tRecall 0.226\tF1 0.319\n",
      "Test: [100/619]\tTime 0.061 (0.159)\tLoss 0.0917 (0.1078)\tPrecision 0.593\tRecall 0.247\tF1 0.349\n",
      "Test: [200/619]\tTime 0.072 (0.133)\tLoss 0.1082 (0.1067)\tPrecision 0.593\tRecall 0.247\tF1 0.349\n",
      "Test: [300/619]\tTime 0.077 (0.125)\tLoss 0.1192 (0.1079)\tPrecision 0.590\tRecall 0.243\tF1 0.344\n",
      "Test: [400/619]\tTime 0.061 (0.121)\tLoss 0.1170 (0.1094)\tPrecision 0.585\tRecall 0.237\tF1 0.337\n",
      "Test: [500/619]\tTime 0.073 (0.119)\tLoss 0.1110 (0.1101)\tPrecision 0.579\tRecall 0.233\tF1 0.333\n",
      "Test: [600/619]\tTime 0.061 (0.117)\tLoss 0.1046 (0.1106)\tPrecision 0.577\tRecall 0.232\tF1 0.331\n",
      " * Precision 0.577 Recall 0.232 F1 0.331\n",
      "Epoch: [20][0/625]\tTime 0.800 (0.800)\tData 0.591 (0.591)\tLoss 0.0733 (0.0733)\tPrecision 0.478\tRecall 0.256\tF1 0.333\n",
      "Epoch: [20][100/625]\tTime 0.210 (0.216)\tData 0.000 (0.006)\tLoss 0.0703 (0.0763)\tPrecision 0.554\tRecall 0.272\tF1 0.365\n",
      "Epoch: [20][200/625]\tTime 0.211 (0.213)\tData 0.000 (0.003)\tLoss 0.0766 (0.0762)\tPrecision 0.557\tRecall 0.276\tF1 0.369\n",
      "Epoch: [20][300/625]\tTime 0.211 (0.212)\tData 0.000 (0.002)\tLoss 0.0650 (0.0764)\tPrecision 0.560\tRecall 0.277\tF1 0.370\n",
      "Epoch: [20][400/625]\tTime 0.211 (0.212)\tData 0.001 (0.002)\tLoss 0.0820 (0.0765)\tPrecision 0.557\tRecall 0.275\tF1 0.368\n",
      "Epoch: [20][500/625]\tTime 0.210 (0.211)\tData 0.000 (0.002)\tLoss 0.0698 (0.0763)\tPrecision 0.557\tRecall 0.275\tF1 0.369\n",
      "Epoch: [20][600/625]\tTime 0.209 (0.211)\tData 0.001 (0.002)\tLoss 0.0833 (0.0761)\tPrecision 0.559\tRecall 0.277\tF1 0.371\n",
      "Test: [0/619]\tTime 0.768 (0.768)\tLoss 0.1029 (0.1029)\tPrecision 0.577\tRecall 0.226\tF1 0.324\n",
      "Test: [100/619]\tTime 0.204 (0.113)\tLoss 0.0910 (0.1077)\tPrecision 0.589\tRecall 0.248\tF1 0.349\n",
      "Test: [200/619]\tTime 0.156 (0.109)\tLoss 0.1077 (0.1065)\tPrecision 0.592\tRecall 0.251\tF1 0.352\n",
      "Test: [300/619]\tTime 0.214 (0.109)\tLoss 0.1191 (0.1077)\tPrecision 0.589\tRecall 0.246\tF1 0.347\n",
      "Test: [400/619]\tTime 0.309 (0.110)\tLoss 0.1176 (0.1091)\tPrecision 0.583\tRecall 0.240\tF1 0.340\n",
      "Test: [500/619]\tTime 0.252 (0.110)\tLoss 0.1108 (0.1099)\tPrecision 0.578\tRecall 0.237\tF1 0.336\n",
      "Test: [600/619]\tTime 0.229 (0.110)\tLoss 0.1046 (0.1104)\tPrecision 0.575\tRecall 0.235\tF1 0.334\n",
      " * Precision 0.575 Recall 0.235 F1 0.334\n",
      "Epoch: [21][0/625]\tTime 0.760 (0.760)\tData 0.545 (0.545)\tLoss 0.0821 (0.0821)\tPrecision 0.452\tRecall 0.202\tF1 0.279\n",
      "Epoch: [21][100/625]\tTime 0.210 (0.216)\tData 0.000 (0.006)\tLoss 0.0690 (0.0764)\tPrecision 0.557\tRecall 0.278\tF1 0.371\n",
      "Epoch: [21][200/625]\tTime 0.210 (0.213)\tData 0.000 (0.003)\tLoss 0.0827 (0.0765)\tPrecision 0.561\tRecall 0.277\tF1 0.371\n",
      "Epoch: [21][300/625]\tTime 0.212 (0.212)\tData 0.000 (0.002)\tLoss 0.0800 (0.0763)\tPrecision 0.558\tRecall 0.277\tF1 0.370\n",
      "Epoch: [21][400/625]\tTime 0.211 (0.212)\tData 0.000 (0.002)\tLoss 0.0758 (0.0761)\tPrecision 0.558\tRecall 0.278\tF1 0.371\n",
      "Epoch: [21][500/625]\tTime 0.202 (0.211)\tData 0.000 (0.001)\tLoss 0.0777 (0.0761)\tPrecision 0.559\tRecall 0.277\tF1 0.371\n",
      "Epoch: [21][600/625]\tTime 0.203 (0.209)\tData 0.000 (0.001)\tLoss 0.0759 (0.0761)\tPrecision 0.561\tRecall 0.278\tF1 0.372\n",
      "Test: [0/619]\tTime 0.763 (0.763)\tLoss 0.1022 (0.1022)\tPrecision 0.475\tRecall 0.211\tF1 0.292\n",
      "Test: [100/619]\tTime 0.072 (0.111)\tLoss 0.0917 (0.1074)\tPrecision 0.599\tRecall 0.250\tF1 0.352\n"
     ]
    },
    {
     "name": "stdout",
     "output_type": "stream",
     "text": [
      "Test: [200/619]\tTime 0.087 (0.107)\tLoss 0.1073 (0.1062)\tPrecision 0.599\tRecall 0.251\tF1 0.354\n",
      "Test: [300/619]\tTime 0.071 (0.108)\tLoss 0.1189 (0.1074)\tPrecision 0.597\tRecall 0.247\tF1 0.349\n",
      "Test: [400/619]\tTime 0.087 (0.108)\tLoss 0.1162 (0.1089)\tPrecision 0.592\tRecall 0.241\tF1 0.343\n",
      "Test: [500/619]\tTime 0.080 (0.108)\tLoss 0.1099 (0.1096)\tPrecision 0.587\tRecall 0.237\tF1 0.338\n",
      "Test: [600/619]\tTime 0.060 (0.108)\tLoss 0.1052 (0.1101)\tPrecision 0.584\tRecall 0.236\tF1 0.336\n",
      " * Precision 0.584 Recall 0.236 F1 0.336\n",
      "Epoch: [22][0/625]\tTime 0.944 (0.944)\tData 0.737 (0.737)\tLoss 0.0681 (0.0681)\tPrecision 0.532\tRecall 0.305\tF1 0.388\n",
      "Epoch: [22][100/625]\tTime 0.202 (0.210)\tData 0.000 (0.008)\tLoss 0.0679 (0.0749)\tPrecision 0.562\tRecall 0.278\tF1 0.372\n",
      "Epoch: [22][200/625]\tTime 0.202 (0.206)\tData 0.000 (0.004)\tLoss 0.0777 (0.0757)\tPrecision 0.563\tRecall 0.278\tF1 0.372\n",
      "Epoch: [22][300/625]\tTime 0.203 (0.205)\tData 0.000 (0.003)\tLoss 0.0772 (0.0759)\tPrecision 0.563\tRecall 0.277\tF1 0.371\n",
      "Epoch: [22][400/625]\tTime 0.204 (0.204)\tData 0.000 (0.002)\tLoss 0.0733 (0.0759)\tPrecision 0.561\tRecall 0.276\tF1 0.370\n",
      "Epoch: [22][500/625]\tTime 0.205 (0.204)\tData 0.000 (0.002)\tLoss 0.0725 (0.0759)\tPrecision 0.564\tRecall 0.279\tF1 0.373\n",
      "Epoch: [22][600/625]\tTime 0.203 (0.204)\tData 0.000 (0.002)\tLoss 0.0793 (0.0758)\tPrecision 0.563\tRecall 0.279\tF1 0.373\n",
      "Test: [0/619]\tTime 1.334 (1.334)\tLoss 0.1014 (0.1014)\tPrecision 0.525\tRecall 0.233\tF1 0.323\n",
      "Test: [100/619]\tTime 0.360 (0.160)\tLoss 0.0916 (0.1078)\tPrecision 0.597\tRecall 0.250\tF1 0.353\n",
      "Test: [200/619]\tTime 0.137 (0.133)\tLoss 0.1065 (0.1065)\tPrecision 0.598\tRecall 0.251\tF1 0.354\n",
      "Test: [300/619]\tTime 0.302 (0.125)\tLoss 0.1186 (0.1076)\tPrecision 0.595\tRecall 0.247\tF1 0.349\n",
      "Test: [400/619]\tTime 0.316 (0.121)\tLoss 0.1164 (0.1091)\tPrecision 0.589\tRecall 0.241\tF1 0.342\n",
      "Test: [500/619]\tTime 0.152 (0.118)\tLoss 0.1103 (0.1099)\tPrecision 0.584\tRecall 0.238\tF1 0.338\n",
      "Test: [600/619]\tTime 0.165 (0.118)\tLoss 0.1078 (0.1104)\tPrecision 0.581\tRecall 0.236\tF1 0.336\n",
      " * Precision 0.581 Recall 0.236 F1 0.336\n",
      "Epoch: [23][0/625]\tTime 0.816 (0.816)\tData 0.609 (0.609)\tLoss 0.0811 (0.0811)\tPrecision 0.481\tRecall 0.248\tF1 0.327\n",
      "Epoch: [23][100/625]\tTime 0.201 (0.208)\tData 0.000 (0.007)\tLoss 0.0850 (0.0762)\tPrecision 0.560\tRecall 0.274\tF1 0.368\n",
      "Epoch: [23][200/625]\tTime 0.202 (0.206)\tData 0.000 (0.003)\tLoss 0.0710 (0.0763)\tPrecision 0.561\tRecall 0.277\tF1 0.371\n",
      "Epoch: [23][300/625]\tTime 0.203 (0.205)\tData 0.000 (0.003)\tLoss 0.0856 (0.0760)\tPrecision 0.560\tRecall 0.279\tF1 0.372\n",
      "Epoch: [23][400/625]\tTime 0.211 (0.204)\tData 0.000 (0.002)\tLoss 0.0678 (0.0759)\tPrecision 0.559\tRecall 0.280\tF1 0.373\n",
      "Epoch: [23][500/625]\tTime 0.203 (0.204)\tData 0.000 (0.002)\tLoss 0.0839 (0.0759)\tPrecision 0.559\tRecall 0.279\tF1 0.373\n",
      "Epoch: [23][600/625]\tTime 0.204 (0.204)\tData 0.000 (0.001)\tLoss 0.0724 (0.0758)\tPrecision 0.560\tRecall 0.280\tF1 0.373\n",
      "Test: [0/619]\tTime 0.775 (0.775)\tLoss 0.1021 (0.1021)\tPrecision 0.545\tRecall 0.226\tF1 0.319\n",
      "Test: [100/619]\tTime 0.225 (0.111)\tLoss 0.0921 (0.1078)\tPrecision 0.596\tRecall 0.245\tF1 0.347\n",
      "Test: [200/619]\tTime 0.165 (0.108)\tLoss 0.1071 (0.1065)\tPrecision 0.597\tRecall 0.247\tF1 0.349\n",
      "Test: [300/619]\tTime 0.200 (0.108)\tLoss 0.1184 (0.1077)\tPrecision 0.594\tRecall 0.242\tF1 0.344\n",
      "Test: [400/619]\tTime 0.260 (0.108)\tLoss 0.1164 (0.1092)\tPrecision 0.589\tRecall 0.236\tF1 0.337\n",
      "Test: [500/619]\tTime 0.163 (0.109)\tLoss 0.1110 (0.1100)\tPrecision 0.583\tRecall 0.233\tF1 0.333\n",
      "Test: [600/619]\tTime 0.259 (0.109)\tLoss 0.1061 (0.1105)\tPrecision 0.581\tRecall 0.232\tF1 0.331\n",
      " * Precision 0.581 Recall 0.232 F1 0.331\n",
      "Epoch    23: reducing learning rate of group 0 to 1.0000e-06.\n",
      "Epoch: [24][0/625]\tTime 0.775 (0.775)\tData 0.567 (0.567)\tLoss 0.0763 (0.0763)\tPrecision 0.620\tRecall 0.304\tF1 0.408\n",
      "Epoch: [24][100/625]\tTime 0.201 (0.208)\tData 0.000 (0.006)\tLoss 0.0827 (0.0751)\tPrecision 0.565\tRecall 0.284\tF1 0.378\n",
      "Epoch: [24][200/625]\tTime 0.203 (0.205)\tData 0.000 (0.003)\tLoss 0.0645 (0.0758)\tPrecision 0.561\tRecall 0.281\tF1 0.375\n",
      "Epoch: [24][300/625]\tTime 0.203 (0.204)\tData 0.000 (0.002)\tLoss 0.0713 (0.0757)\tPrecision 0.558\tRecall 0.281\tF1 0.374\n",
      "Epoch: [24][400/625]\tTime 0.203 (0.204)\tData 0.000 (0.002)\tLoss 0.0784 (0.0759)\tPrecision 0.558\tRecall 0.281\tF1 0.374\n",
      "Epoch: [24][500/625]\tTime 0.205 (0.204)\tData 0.000 (0.002)\tLoss 0.0781 (0.0760)\tPrecision 0.558\tRecall 0.279\tF1 0.372\n",
      "Epoch: [24][600/625]\tTime 0.205 (0.204)\tData 0.000 (0.001)\tLoss 0.0849 (0.0758)\tPrecision 0.559\tRecall 0.280\tF1 0.373\n",
      "Test: [0/619]\tTime 0.745 (0.745)\tLoss 0.1015 (0.1015)\tPrecision 0.517\tRecall 0.233\tF1 0.321\n",
      "Test: [100/619]\tTime 0.224 (0.113)\tLoss 0.0919 (0.1085)\tPrecision 0.596\tRecall 0.252\tF1 0.354\n",
      "Test: [200/619]\tTime 0.260 (0.109)\tLoss 0.1071 (0.1071)\tPrecision 0.596\tRecall 0.253\tF1 0.355\n",
      "Test: [300/619]\tTime 0.228 (0.109)\tLoss 0.1190 (0.1084)\tPrecision 0.593\tRecall 0.248\tF1 0.350\n",
      "Test: [400/619]\tTime 0.176 (0.109)\tLoss 0.1163 (0.1099)\tPrecision 0.588\tRecall 0.242\tF1 0.343\n",
      "Test: [500/619]\tTime 0.241 (0.109)\tLoss 0.1106 (0.1106)\tPrecision 0.582\tRecall 0.239\tF1 0.339\n",
      "Test: [600/619]\tTime 0.146 (0.110)\tLoss 0.1066 (0.1112)\tPrecision 0.580\tRecall 0.237\tF1 0.337\n",
      " * Precision 0.580 Recall 0.237 F1 0.337\n",
      "Epoch: [25][0/625]\tTime 1.089 (1.089)\tData 0.884 (0.884)\tLoss 0.0781 (0.0781)\tPrecision 0.721\tRecall 0.307\tF1 0.431\n",
      "Epoch: [25][100/625]\tTime 0.205 (0.213)\tData 0.000 (0.009)\tLoss 0.0755 (0.0757)\tPrecision 0.573\tRecall 0.285\tF1 0.380\n",
      "Epoch: [25][200/625]\tTime 0.204 (0.209)\tData 0.000 (0.005)\tLoss 0.0756 (0.0756)\tPrecision 0.568\tRecall 0.284\tF1 0.378\n",
      "Epoch: [25][300/625]\tTime 0.205 (0.208)\tData 0.000 (0.003)\tLoss 0.0635 (0.0756)\tPrecision 0.565\tRecall 0.282\tF1 0.376\n",
      "Epoch: [25][400/625]\tTime 0.204 (0.207)\tData 0.000 (0.003)\tLoss 0.0732 (0.0758)\tPrecision 0.562\tRecall 0.281\tF1 0.375\n",
      "Epoch: [25][500/625]\tTime 0.204 (0.207)\tData 0.000 (0.002)\tLoss 0.0786 (0.0759)\tPrecision 0.563\tRecall 0.280\tF1 0.374\n",
      "Epoch: [25][600/625]\tTime 0.205 (0.207)\tData 0.000 (0.002)\tLoss 0.0689 (0.0760)\tPrecision 0.563\tRecall 0.280\tF1 0.374\n",
      "Test: [0/619]\tTime 0.783 (0.783)\tLoss 0.1018 (0.1018)\tPrecision 0.525\tRecall 0.233\tF1 0.323\n",
      "Test: [100/619]\tTime 0.189 (0.112)\tLoss 0.0919 (0.1072)\tPrecision 0.598\tRecall 0.250\tF1 0.352\n",
      "Test: [200/619]\tTime 0.220 (0.109)\tLoss 0.1067 (0.1060)\tPrecision 0.599\tRecall 0.251\tF1 0.354\n",
      "Test: [300/619]\tTime 0.221 (0.109)\tLoss 0.1187 (0.1072)\tPrecision 0.596\tRecall 0.247\tF1 0.349\n",
      "Test: [400/619]\tTime 0.354 (0.109)\tLoss 0.1165 (0.1087)\tPrecision 0.590\tRecall 0.241\tF1 0.343\n",
      "Test: [500/619]\tTime 0.290 (0.109)\tLoss 0.1102 (0.1094)\tPrecision 0.585\tRecall 0.238\tF1 0.338\n",
      "Test: [600/619]\tTime 0.255 (0.110)\tLoss 0.1038 (0.1099)\tPrecision 0.582\tRecall 0.237\tF1 0.336\n",
      " * Precision 0.582 Recall 0.236 F1 0.336\n",
      "Epoch: [26][0/625]\tTime 0.830 (0.830)\tData 0.598 (0.598)\tLoss 0.0777 (0.0777)\tPrecision 0.651\tRecall 0.283\tF1 0.394\n",
      "Epoch: [26][100/625]\tTime 0.205 (0.211)\tData 0.000 (0.006)\tLoss 0.0713 (0.0752)\tPrecision 0.565\tRecall 0.283\tF1 0.377\n",
      "Epoch: [26][200/625]\tTime 0.203 (0.208)\tData 0.000 (0.003)\tLoss 0.0698 (0.0755)\tPrecision 0.563\tRecall 0.281\tF1 0.375\n",
      "Epoch: [26][300/625]\tTime 0.205 (0.207)\tData 0.000 (0.002)\tLoss 0.0678 (0.0757)\tPrecision 0.564\tRecall 0.280\tF1 0.374\n",
      "Epoch: [26][400/625]\tTime 0.205 (0.206)\tData 0.000 (0.002)\tLoss 0.0803 (0.0757)\tPrecision 0.564\tRecall 0.281\tF1 0.375\n",
      "Epoch: [26][500/625]\tTime 0.205 (0.206)\tData 0.000 (0.002)\tLoss 0.0805 (0.0758)\tPrecision 0.565\tRecall 0.281\tF1 0.375\n",
      "Epoch: [26][600/625]\tTime 0.205 (0.206)\tData 0.000 (0.001)\tLoss 0.0812 (0.0758)\tPrecision 0.565\tRecall 0.281\tF1 0.376\n",
      "Test: [0/619]\tTime 0.744 (0.744)\tLoss 0.1016 (0.1016)\tPrecision 0.508\tRecall 0.233\tF1 0.320\n",
      "Test: [100/619]\tTime 0.290 (0.113)\tLoss 0.0918 (0.1074)\tPrecision 0.593\tRecall 0.253\tF1 0.354\n",
      "Test: [200/619]\tTime 0.167 (0.109)\tLoss 0.1068 (0.1062)\tPrecision 0.595\tRecall 0.254\tF1 0.356\n",
      "Test: [300/619]\tTime 0.317 (0.109)\tLoss 0.1188 (0.1075)\tPrecision 0.591\tRecall 0.249\tF1 0.351\n",
      "Test: [400/619]\tTime 0.244 (0.109)\tLoss 0.1165 (0.1089)\tPrecision 0.586\tRecall 0.243\tF1 0.344\n",
      "Test: [500/619]\tTime 0.229 (0.110)\tLoss 0.1105 (0.1097)\tPrecision 0.579\tRecall 0.239\tF1 0.339\n",
      "Test: [600/619]\tTime 0.192 (0.110)\tLoss 0.1038 (0.1101)\tPrecision 0.577\tRecall 0.238\tF1 0.337\n",
      " * Precision 0.577 Recall 0.238 F1 0.337\n",
      "Epoch    26: reducing learning rate of group 0 to 1.0000e-07.\n"
     ]
    },
    {
     "name": "stdout",
     "output_type": "stream",
     "text": [
      "Epoch: [27][0/625]\tTime 0.815 (0.815)\tData 0.603 (0.603)\tLoss 0.0665 (0.0665)\tPrecision 0.500\tRecall 0.294\tF1 0.370\n",
      "Epoch: [27][100/625]\tTime 0.206 (0.211)\tData 0.000 (0.006)\tLoss 0.0680 (0.0760)\tPrecision 0.548\tRecall 0.278\tF1 0.369\n",
      "Epoch: [27][200/625]\tTime 0.205 (0.208)\tData 0.000 (0.003)\tLoss 0.0861 (0.0757)\tPrecision 0.560\tRecall 0.283\tF1 0.376\n",
      "Epoch: [27][300/625]\tTime 0.205 (0.207)\tData 0.000 (0.002)\tLoss 0.0727 (0.0755)\tPrecision 0.560\tRecall 0.283\tF1 0.376\n",
      "Epoch: [27][400/625]\tTime 0.206 (0.206)\tData 0.000 (0.002)\tLoss 0.0838 (0.0756)\tPrecision 0.560\tRecall 0.283\tF1 0.376\n",
      "Epoch: [27][500/625]\tTime 0.203 (0.206)\tData 0.000 (0.002)\tLoss 0.0743 (0.0757)\tPrecision 0.559\tRecall 0.281\tF1 0.374\n",
      "Epoch: [27][600/625]\tTime 0.203 (0.205)\tData 0.000 (0.001)\tLoss 0.0702 (0.0758)\tPrecision 0.559\tRecall 0.281\tF1 0.374\n",
      "Test: [0/619]\tTime 0.754 (0.754)\tLoss 0.1012 (0.1012)\tPrecision 0.534\tRecall 0.233\tF1 0.325\n",
      "Test: [100/619]\tTime 0.264 (0.112)\tLoss 0.0922 (0.1075)\tPrecision 0.597\tRecall 0.248\tF1 0.350\n",
      "Test: [200/619]\tTime 0.185 (0.109)\tLoss 0.1069 (0.1063)\tPrecision 0.598\tRecall 0.249\tF1 0.351\n",
      "Test: [300/619]\tTime 0.352 (0.112)\tLoss 0.1185 (0.1075)\tPrecision 0.595\tRecall 0.245\tF1 0.347\n",
      "Test: [400/619]\tTime 0.185 (0.112)\tLoss 0.1160 (0.1089)\tPrecision 0.590\tRecall 0.239\tF1 0.341\n",
      "Test: [500/619]\tTime 0.195 (0.112)\tLoss 0.1106 (0.1097)\tPrecision 0.584\tRecall 0.236\tF1 0.336\n",
      "Test: [600/619]\tTime 0.206 (0.112)\tLoss 0.1045 (0.1101)\tPrecision 0.582\tRecall 0.235\tF1 0.335\n",
      " * Precision 0.582 Recall 0.234 F1 0.334\n",
      "Epoch: [28][0/625]\tTime 1.059 (1.059)\tData 0.852 (0.852)\tLoss 0.0775 (0.0775)\tPrecision 0.500\tRecall 0.283\tF1 0.361\n",
      "Epoch: [28][100/625]\tTime 0.203 (0.212)\tData 0.000 (0.009)\tLoss 0.0767 (0.0761)\tPrecision 0.557\tRecall 0.280\tF1 0.372\n",
      "Epoch: [28][200/625]\tTime 0.202 (0.207)\tData 0.000 (0.005)\tLoss 0.0851 (0.0763)\tPrecision 0.560\tRecall 0.279\tF1 0.373\n",
      "Epoch: [28][300/625]\tTime 0.203 (0.206)\tData 0.000 (0.003)\tLoss 0.0736 (0.0759)\tPrecision 0.563\tRecall 0.282\tF1 0.376\n",
      "Epoch: [28][400/625]\tTime 0.204 (0.205)\tData 0.000 (0.003)\tLoss 0.0729 (0.0759)\tPrecision 0.564\tRecall 0.282\tF1 0.376\n",
      "Epoch: [28][500/625]\tTime 0.204 (0.205)\tData 0.000 (0.002)\tLoss 0.0725 (0.0759)\tPrecision 0.563\tRecall 0.282\tF1 0.376\n",
      "Epoch: [28][600/625]\tTime 0.203 (0.205)\tData 0.000 (0.002)\tLoss 0.0744 (0.0759)\tPrecision 0.563\tRecall 0.282\tF1 0.376\n",
      "Test: [0/619]\tTime 0.756 (0.756)\tLoss 0.1022 (0.1022)\tPrecision 0.526\tRecall 0.226\tF1 0.316\n",
      "Test: [100/619]\tTime 0.140 (0.110)\tLoss 0.0922 (0.1075)\tPrecision 0.600\tRecall 0.251\tF1 0.354\n",
      "Test: [200/619]\tTime 0.180 (0.107)\tLoss 0.1071 (0.1063)\tPrecision 0.601\tRecall 0.253\tF1 0.356\n",
      "Test: [300/619]\tTime 0.229 (0.107)\tLoss 0.1192 (0.1075)\tPrecision 0.598\tRecall 0.249\tF1 0.351\n",
      "Test: [400/619]\tTime 0.354 (0.107)\tLoss 0.1167 (0.1090)\tPrecision 0.592\tRecall 0.243\tF1 0.344\n",
      "Test: [500/619]\tTime 0.178 (0.107)\tLoss 0.1107 (0.1098)\tPrecision 0.585\tRecall 0.239\tF1 0.339\n",
      "Test: [600/619]\tTime 0.175 (0.108)\tLoss 0.1045 (0.1102)\tPrecision 0.583\tRecall 0.238\tF1 0.338\n",
      " * Precision 0.583 Recall 0.237 F1 0.337\n",
      "Epoch: [29][0/625]\tTime 0.821 (0.821)\tData 0.608 (0.608)\tLoss 0.0762 (0.0762)\tPrecision 0.373\tRecall 0.221\tF1 0.277\n",
      "Epoch: [29][100/625]\tTime 0.202 (0.209)\tData 0.000 (0.006)\tLoss 0.0680 (0.0758)\tPrecision 0.556\tRecall 0.278\tF1 0.370\n",
      "Epoch: [29][200/625]\tTime 0.203 (0.206)\tData 0.001 (0.003)\tLoss 0.0783 (0.0762)\tPrecision 0.558\tRecall 0.276\tF1 0.370\n",
      "Epoch: [29][300/625]\tTime 0.203 (0.205)\tData 0.000 (0.002)\tLoss 0.0838 (0.0763)\tPrecision 0.558\tRecall 0.276\tF1 0.369\n",
      "Epoch: [29][400/625]\tTime 0.203 (0.205)\tData 0.000 (0.002)\tLoss 0.0738 (0.0761)\tPrecision 0.556\tRecall 0.277\tF1 0.369\n",
      "Epoch: [29][500/625]\tTime 0.203 (0.204)\tData 0.000 (0.002)\tLoss 0.0771 (0.0760)\tPrecision 0.557\tRecall 0.278\tF1 0.371\n",
      "Epoch: [29][600/625]\tTime 0.204 (0.204)\tData 0.000 (0.001)\tLoss 0.0702 (0.0759)\tPrecision 0.559\tRecall 0.280\tF1 0.374\n",
      "Test: [0/619]\tTime 0.786 (0.786)\tLoss 0.1017 (0.1017)\tPrecision 0.544\tRecall 0.233\tF1 0.326\n",
      "Test: [100/619]\tTime 0.068 (0.111)\tLoss 0.0921 (0.1075)\tPrecision 0.598\tRecall 0.248\tF1 0.351\n",
      "Test: [200/619]\tTime 0.061 (0.107)\tLoss 0.1073 (0.1063)\tPrecision 0.600\tRecall 0.250\tF1 0.353\n",
      "Test: [300/619]\tTime 0.071 (0.107)\tLoss 0.1191 (0.1075)\tPrecision 0.597\tRecall 0.246\tF1 0.348\n",
      "Test: [400/619]\tTime 0.076 (0.107)\tLoss 0.1164 (0.1090)\tPrecision 0.592\tRecall 0.240\tF1 0.342\n",
      "Test: [500/619]\tTime 0.093 (0.108)\tLoss 0.1106 (0.1098)\tPrecision 0.586\tRecall 0.237\tF1 0.337\n",
      "Test: [600/619]\tTime 0.070 (0.108)\tLoss 0.1044 (0.1102)\tPrecision 0.584\tRecall 0.235\tF1 0.335\n",
      " * Precision 0.584 Recall 0.235 F1 0.335\n",
      "Epoch: [30][0/625]\tTime 0.849 (0.849)\tData 0.646 (0.646)\tLoss 0.0910 (0.0910)\tPrecision 0.620\tRecall 0.270\tF1 0.376\n",
      "Epoch: [30][100/625]\tTime 0.203 (0.210)\tData 0.000 (0.007)\tLoss 0.0792 (0.0758)\tPrecision 0.561\tRecall 0.276\tF1 0.370\n",
      "Epoch: [30][200/625]\tTime 0.202 (0.206)\tData 0.000 (0.004)\tLoss 0.0781 (0.0756)\tPrecision 0.565\tRecall 0.280\tF1 0.374\n",
      "Epoch: [30][300/625]\tTime 0.202 (0.205)\tData 0.000 (0.003)\tLoss 0.0817 (0.0756)\tPrecision 0.564\tRecall 0.280\tF1 0.374\n",
      "Epoch: [30][400/625]\tTime 0.205 (0.205)\tData 0.000 (0.002)\tLoss 0.0758 (0.0755)\tPrecision 0.562\tRecall 0.281\tF1 0.375\n",
      "Epoch: [30][500/625]\tTime 0.204 (0.205)\tData 0.000 (0.002)\tLoss 0.0786 (0.0756)\tPrecision 0.562\tRecall 0.281\tF1 0.375\n",
      "Epoch: [30][600/625]\tTime 0.204 (0.205)\tData 0.000 (0.001)\tLoss 0.0664 (0.0758)\tPrecision 0.562\tRecall 0.281\tF1 0.375\n",
      "Test: [0/619]\tTime 0.749 (0.749)\tLoss 0.1017 (0.1017)\tPrecision 0.545\tRecall 0.226\tF1 0.319\n",
      "Test: [100/619]\tTime 0.272 (0.110)\tLoss 0.0916 (0.1074)\tPrecision 0.593\tRecall 0.252\tF1 0.354\n",
      "Test: [200/619]\tTime 0.280 (0.109)\tLoss 0.1068 (0.1062)\tPrecision 0.593\tRecall 0.254\tF1 0.355\n",
      "Test: [300/619]\tTime 0.201 (0.108)\tLoss 0.1186 (0.1074)\tPrecision 0.590\tRecall 0.249\tF1 0.351\n",
      "Test: [400/619]\tTime 0.060 (0.108)\tLoss 0.1163 (0.1088)\tPrecision 0.585\tRecall 0.243\tF1 0.344\n",
      "Test: [500/619]\tTime 0.069 (0.109)\tLoss 0.1103 (0.1096)\tPrecision 0.579\tRecall 0.240\tF1 0.339\n",
      "Test: [600/619]\tTime 0.075 (0.109)\tLoss 0.1038 (0.1101)\tPrecision 0.577\tRecall 0.239\tF1 0.338\n",
      " * Precision 0.577 Recall 0.238 F1 0.337\n",
      "Epoch    30: reducing learning rate of group 0 to 1.0000e-08.\n",
      "Epoch: [31][0/625]\tTime 0.893 (0.893)\tData 0.684 (0.684)\tLoss 0.0839 (0.0839)\tPrecision 0.527\tRecall 0.287\tF1 0.372\n",
      "Epoch: [31][100/625]\tTime 0.203 (0.210)\tData 0.000 (0.007)\tLoss 0.0740 (0.0756)\tPrecision 0.560\tRecall 0.281\tF1 0.374\n",
      "Epoch: [31][200/625]\tTime 0.203 (0.207)\tData 0.000 (0.004)\tLoss 0.0708 (0.0759)\tPrecision 0.560\tRecall 0.281\tF1 0.375\n",
      "Epoch: [31][300/625]\tTime 0.204 (0.206)\tData 0.000 (0.003)\tLoss 0.0740 (0.0760)\tPrecision 0.554\tRecall 0.280\tF1 0.372\n",
      "Epoch: [31][400/625]\tTime 0.204 (0.206)\tData 0.000 (0.002)\tLoss 0.0749 (0.0760)\tPrecision 0.558\tRecall 0.280\tF1 0.373\n",
      "Epoch: [31][500/625]\tTime 0.204 (0.205)\tData 0.000 (0.002)\tLoss 0.0731 (0.0759)\tPrecision 0.560\tRecall 0.280\tF1 0.373\n",
      "Epoch: [31][600/625]\tTime 0.204 (0.205)\tData 0.000 (0.002)\tLoss 0.0724 (0.0759)\tPrecision 0.560\tRecall 0.280\tF1 0.373\n",
      "Test: [0/619]\tTime 0.780 (0.780)\tLoss 0.1017 (0.1017)\tPrecision 0.500\tRecall 0.226\tF1 0.311\n",
      "Test: [100/619]\tTime 0.168 (0.110)\tLoss 0.0920 (0.1081)\tPrecision 0.599\tRecall 0.253\tF1 0.355\n",
      "Test: [200/619]\tTime 0.146 (0.106)\tLoss 0.1067 (0.1068)\tPrecision 0.602\tRecall 0.255\tF1 0.358\n",
      "Test: [300/619]\tTime 0.212 (0.106)\tLoss 0.1191 (0.1080)\tPrecision 0.600\tRecall 0.250\tF1 0.353\n",
      "Test: [400/619]\tTime 0.208 (0.109)\tLoss 0.1165 (0.1095)\tPrecision 0.595\tRecall 0.244\tF1 0.346\n",
      "Test: [500/619]\tTime 0.160 (0.108)\tLoss 0.1107 (0.1103)\tPrecision 0.589\tRecall 0.240\tF1 0.342\n",
      "Test: [600/619]\tTime 0.062 (0.110)\tLoss 0.1055 (0.1108)\tPrecision 0.587\tRecall 0.239\tF1 0.340\n",
      " * Precision 0.587 Recall 0.239 F1 0.339\n",
      "Epoch: [32][0/625]\tTime 0.869 (0.869)\tData 0.666 (0.666)\tLoss 0.0688 (0.0688)\tPrecision 0.440\tRecall 0.268\tF1 0.333\n",
      "Epoch: [32][100/625]\tTime 0.204 (0.209)\tData 0.000 (0.007)\tLoss 0.0732 (0.0765)\tPrecision 0.561\tRecall 0.278\tF1 0.372\n",
      "Epoch: [32][200/625]\tTime 0.205 (0.206)\tData 0.000 (0.004)\tLoss 0.0724 (0.0757)\tPrecision 0.566\tRecall 0.283\tF1 0.378\n",
      "Epoch: [32][300/625]\tTime 0.202 (0.205)\tData 0.000 (0.003)\tLoss 0.0791 (0.0756)\tPrecision 0.567\tRecall 0.284\tF1 0.378\n",
      "Epoch: [32][400/625]\tTime 0.201 (0.204)\tData 0.000 (0.002)\tLoss 0.0770 (0.0756)\tPrecision 0.565\tRecall 0.283\tF1 0.377\n"
     ]
    },
    {
     "name": "stdout",
     "output_type": "stream",
     "text": [
      "Epoch: [32][500/625]\tTime 0.203 (0.204)\tData 0.000 (0.002)\tLoss 0.0679 (0.0758)\tPrecision 0.561\tRecall 0.280\tF1 0.374\n",
      "Epoch: [32][600/625]\tTime 0.204 (0.204)\tData 0.000 (0.002)\tLoss 0.0862 (0.0758)\tPrecision 0.559\tRecall 0.279\tF1 0.373\n",
      "Test: [0/619]\tTime 1.230 (1.230)\tLoss 0.1032 (0.1032)\tPrecision 0.547\tRecall 0.218\tF1 0.312\n",
      "Test: [100/619]\tTime 0.288 (0.158)\tLoss 0.0917 (0.1079)\tPrecision 0.592\tRecall 0.253\tF1 0.355\n",
      "Test: [200/619]\tTime 0.061 (0.132)\tLoss 0.1073 (0.1066)\tPrecision 0.594\tRecall 0.255\tF1 0.357\n",
      "Test: [300/619]\tTime 0.078 (0.124)\tLoss 0.1192 (0.1079)\tPrecision 0.591\tRecall 0.250\tF1 0.352\n",
      "Test: [400/619]\tTime 0.061 (0.120)\tLoss 0.1175 (0.1093)\tPrecision 0.586\tRecall 0.244\tF1 0.345\n",
      "Test: [500/619]\tTime 0.071 (0.118)\tLoss 0.1107 (0.1101)\tPrecision 0.581\tRecall 0.241\tF1 0.340\n",
      "Test: [600/619]\tTime 0.071 (0.116)\tLoss 0.1045 (0.1106)\tPrecision 0.578\tRecall 0.239\tF1 0.338\n",
      " * Precision 0.578 Recall 0.239 F1 0.338\n",
      "Epoch: [33][0/625]\tTime 0.807 (0.807)\tData 0.603 (0.603)\tLoss 0.0834 (0.0834)\tPrecision 0.547\tRecall 0.290\tF1 0.379\n",
      "Epoch: [33][100/625]\tTime 0.204 (0.209)\tData 0.000 (0.006)\tLoss 0.0732 (0.0749)\tPrecision 0.570\tRecall 0.288\tF1 0.383\n",
      "Epoch: [33][200/625]\tTime 0.203 (0.206)\tData 0.000 (0.003)\tLoss 0.0746 (0.0755)\tPrecision 0.561\tRecall 0.283\tF1 0.376\n",
      "Epoch: [33][300/625]\tTime 0.203 (0.205)\tData 0.000 (0.002)\tLoss 0.0841 (0.0759)\tPrecision 0.559\tRecall 0.279\tF1 0.372\n",
      "Epoch: [33][400/625]\tTime 0.204 (0.205)\tData 0.000 (0.002)\tLoss 0.0732 (0.0758)\tPrecision 0.560\tRecall 0.280\tF1 0.374\n",
      "Epoch: [33][500/625]\tTime 0.202 (0.205)\tData 0.000 (0.002)\tLoss 0.0761 (0.0757)\tPrecision 0.561\tRecall 0.281\tF1 0.374\n",
      "Epoch: [33][600/625]\tTime 0.202 (0.204)\tData 0.000 (0.001)\tLoss 0.0766 (0.0758)\tPrecision 0.560\tRecall 0.281\tF1 0.374\n",
      "Test: [0/619]\tTime 0.745 (0.745)\tLoss 0.1018 (0.1018)\tPrecision 0.526\tRecall 0.226\tF1 0.316\n",
      "Test: [100/619]\tTime 0.082 (0.111)\tLoss 0.0924 (0.1078)\tPrecision 0.599\tRecall 0.247\tF1 0.350\n",
      "Test: [200/619]\tTime 0.064 (0.109)\tLoss 0.1073 (0.1066)\tPrecision 0.601\tRecall 0.248\tF1 0.351\n",
      "Test: [300/619]\tTime 0.084 (0.109)\tLoss 0.1191 (0.1079)\tPrecision 0.598\tRecall 0.244\tF1 0.347\n",
      "Test: [400/619]\tTime 0.073 (0.109)\tLoss 0.1166 (0.1093)\tPrecision 0.592\tRecall 0.238\tF1 0.340\n",
      "Test: [500/619]\tTime 0.082 (0.109)\tLoss 0.1111 (0.1101)\tPrecision 0.587\tRecall 0.235\tF1 0.335\n",
      "Test: [600/619]\tTime 0.068 (0.108)\tLoss 0.1046 (0.1106)\tPrecision 0.585\tRecall 0.233\tF1 0.334\n",
      " * Precision 0.585 Recall 0.233 F1 0.333\n",
      "Epoch: [34][0/625]\tTime 0.732 (0.732)\tData 0.509 (0.509)\tLoss 0.0710 (0.0710)\tPrecision 0.623\tRecall 0.359\tF1 0.455\n",
      "Epoch: [34][100/625]\tTime 0.204 (0.209)\tData 0.000 (0.006)\tLoss 0.0720 (0.0761)\tPrecision 0.566\tRecall 0.283\tF1 0.377\n",
      "Epoch: [34][200/625]\tTime 0.201 (0.206)\tData 0.000 (0.003)\tLoss 0.0851 (0.0761)\tPrecision 0.564\tRecall 0.281\tF1 0.375\n",
      "Epoch: [34][300/625]\tTime 0.203 (0.205)\tData 0.000 (0.002)\tLoss 0.0716 (0.0761)\tPrecision 0.562\tRecall 0.279\tF1 0.372\n",
      "Epoch: [34][400/625]\tTime 0.203 (0.204)\tData 0.000 (0.002)\tLoss 0.0668 (0.0760)\tPrecision 0.563\tRecall 0.280\tF1 0.374\n",
      "Epoch: [34][500/625]\tTime 0.204 (0.204)\tData 0.000 (0.001)\tLoss 0.0738 (0.0759)\tPrecision 0.562\tRecall 0.280\tF1 0.374\n",
      "Epoch: [34][600/625]\tTime 0.205 (0.204)\tData 0.000 (0.001)\tLoss 0.0712 (0.0759)\tPrecision 0.562\tRecall 0.281\tF1 0.374\n",
      "Test: [0/619]\tTime 0.780 (0.780)\tLoss 0.1025 (0.1025)\tPrecision 0.561\tRecall 0.241\tF1 0.337\n",
      "Test: [100/619]\tTime 0.314 (0.111)\tLoss 0.0921 (0.1075)\tPrecision 0.599\tRecall 0.249\tF1 0.352\n",
      "Test: [200/619]\tTime 0.111 (0.107)\tLoss 0.1073 (0.1063)\tPrecision 0.600\tRecall 0.251\tF1 0.354\n",
      "Test: [300/619]\tTime 0.214 (0.107)\tLoss 0.1194 (0.1075)\tPrecision 0.597\tRecall 0.246\tF1 0.349\n",
      "Test: [400/619]\tTime 0.300 (0.107)\tLoss 0.1167 (0.1091)\tPrecision 0.592\tRecall 0.241\tF1 0.342\n",
      "Test: [500/619]\tTime 0.104 (0.108)\tLoss 0.1113 (0.1098)\tPrecision 0.586\tRecall 0.237\tF1 0.337\n",
      "Test: [600/619]\tTime 0.178 (0.108)\tLoss 0.1041 (0.1103)\tPrecision 0.584\tRecall 0.235\tF1 0.335\n",
      " * Precision 0.584 Recall 0.235 F1 0.335\n",
      "Epoch: [35][0/625]\tTime 0.814 (0.814)\tData 0.604 (0.604)\tLoss 0.0782 (0.0782)\tPrecision 0.568\tRecall 0.258\tF1 0.355\n",
      "Epoch: [35][100/625]\tTime 0.203 (0.209)\tData 0.000 (0.006)\tLoss 0.0777 (0.0762)\tPrecision 0.552\tRecall 0.280\tF1 0.372\n",
      "Epoch: [35][200/625]\tTime 0.204 (0.206)\tData 0.000 (0.003)\tLoss 0.0788 (0.0762)\tPrecision 0.552\tRecall 0.280\tF1 0.372\n",
      "Epoch: [35][300/625]\tTime 0.204 (0.205)\tData 0.000 (0.002)\tLoss 0.0745 (0.0763)\tPrecision 0.552\tRecall 0.279\tF1 0.370\n",
      "Epoch: [35][400/625]\tTime 0.204 (0.205)\tData 0.000 (0.002)\tLoss 0.0637 (0.0761)\tPrecision 0.555\tRecall 0.279\tF1 0.372\n",
      "Epoch: [35][500/625]\tTime 0.199 (0.204)\tData 0.000 (0.002)\tLoss 0.0759 (0.0761)\tPrecision 0.559\tRecall 0.280\tF1 0.373\n",
      "Epoch: [35][600/625]\tTime 0.202 (0.204)\tData 0.000 (0.001)\tLoss 0.0829 (0.0759)\tPrecision 0.561\tRecall 0.281\tF1 0.374\n",
      "Test: [0/619]\tTime 0.789 (0.789)\tLoss 0.1016 (0.1016)\tPrecision 0.544\tRecall 0.233\tF1 0.326\n",
      "Test: [100/619]\tTime 0.190 (0.110)\tLoss 0.0917 (0.1072)\tPrecision 0.599\tRecall 0.249\tF1 0.352\n",
      "Test: [200/619]\tTime 0.136 (0.107)\tLoss 0.1066 (0.1059)\tPrecision 0.600\tRecall 0.251\tF1 0.354\n",
      "Test: [300/619]\tTime 0.226 (0.107)\tLoss 0.1185 (0.1071)\tPrecision 0.597\tRecall 0.246\tF1 0.349\n",
      "Test: [400/619]\tTime 0.182 (0.108)\tLoss 0.1164 (0.1086)\tPrecision 0.591\tRecall 0.240\tF1 0.342\n",
      "Test: [500/619]\tTime 0.265 (0.113)\tLoss 0.1102 (0.1093)\tPrecision 0.585\tRecall 0.237\tF1 0.337\n",
      "Test: [600/619]\tTime 0.250 (0.115)\tLoss 0.1039 (0.1098)\tPrecision 0.583\tRecall 0.235\tF1 0.335\n",
      " * Precision 0.583 Recall 0.235 F1 0.335\n",
      "Epoch: [36][0/625]\tTime 0.883 (0.883)\tData 0.664 (0.664)\tLoss 0.0715 (0.0715)\tPrecision 0.535\tRecall 0.250\tF1 0.341\n",
      "Epoch: [36][100/625]\tTime 0.202 (0.212)\tData 0.000 (0.008)\tLoss 0.0656 (0.0759)\tPrecision 0.565\tRecall 0.279\tF1 0.373\n",
      "Epoch: [36][200/625]\tTime 0.204 (0.208)\tData 0.000 (0.005)\tLoss 0.0712 (0.0759)\tPrecision 0.570\tRecall 0.281\tF1 0.377\n",
      "Epoch: [36][300/625]\tTime 0.205 (0.207)\tData 0.000 (0.004)\tLoss 0.0760 (0.0758)\tPrecision 0.565\tRecall 0.283\tF1 0.377\n",
      "Epoch: [36][400/625]\tTime 0.201 (0.206)\tData 0.000 (0.003)\tLoss 0.0706 (0.0756)\tPrecision 0.563\tRecall 0.282\tF1 0.375\n",
      "Epoch: [36][500/625]\tTime 0.202 (0.205)\tData 0.000 (0.002)\tLoss 0.0659 (0.0758)\tPrecision 0.563\tRecall 0.281\tF1 0.375\n",
      "Epoch: [36][600/625]\tTime 0.203 (0.205)\tData 0.000 (0.002)\tLoss 0.0867 (0.0758)\tPrecision 0.561\tRecall 0.280\tF1 0.374\n",
      "Test: [0/619]\tTime 0.762 (0.762)\tLoss 0.1016 (0.1016)\tPrecision 0.508\tRecall 0.226\tF1 0.312\n",
      "Test: [100/619]\tTime 0.209 (0.110)\tLoss 0.0922 (0.1077)\tPrecision 0.593\tRecall 0.253\tF1 0.355\n",
      "Test: [200/619]\tTime 0.137 (0.107)\tLoss 0.1071 (0.1065)\tPrecision 0.596\tRecall 0.254\tF1 0.357\n",
      "Test: [300/619]\tTime 0.207 (0.107)\tLoss 0.1195 (0.1077)\tPrecision 0.594\tRecall 0.250\tF1 0.352\n",
      "Test: [400/619]\tTime 0.199 (0.107)\tLoss 0.1169 (0.1092)\tPrecision 0.589\tRecall 0.244\tF1 0.345\n",
      "Test: [500/619]\tTime 0.280 (0.108)\tLoss 0.1110 (0.1099)\tPrecision 0.583\tRecall 0.240\tF1 0.340\n",
      "Test: [600/619]\tTime 0.243 (0.109)\tLoss 0.1042 (0.1104)\tPrecision 0.581\tRecall 0.238\tF1 0.338\n",
      " * Precision 0.581 Recall 0.238 F1 0.338\n",
      "Epoch: [37][0/625]\tTime 0.827 (0.827)\tData 0.610 (0.610)\tLoss 0.0694 (0.0694)\tPrecision 0.382\tRecall 0.266\tF1 0.313\n",
      "Epoch: [37][100/625]\tTime 0.203 (0.219)\tData 0.000 (0.010)\tLoss 0.0773 (0.0765)\tPrecision 0.553\tRecall 0.276\tF1 0.368\n",
      "Epoch: [37][200/625]\tTime 0.201 (0.214)\tData 0.000 (0.006)\tLoss 0.0713 (0.0762)\tPrecision 0.552\tRecall 0.276\tF1 0.368\n"
     ]
    },
    {
     "name": "stderr",
     "output_type": "stream",
     "text": [
      "Process Process-300:\n",
      "Process Process-298:\n",
      "Process Process-297:\n",
      "Process Process-299:\n",
      "Traceback (most recent call last):\n",
      "  File \"/home/sourabhd/installs/miniconda3/envs/py3k/lib/python3.6/multiprocessing/process.py\", line 258, in _bootstrap\n",
      "    self.run()\n",
      "  File \"/home/sourabhd/installs/miniconda3/envs/py3k/lib/python3.6/multiprocessing/process.py\", line 93, in run\n",
      "    self._target(*self._args, **self._kwargs)\n",
      "  File \"/home/sourabhd/installs/miniconda3/envs/py3k/lib/python3.6/site-packages/torch/utils/data/dataloader.py\", line 57, in _worker_loop\n",
      "    samples = collate_fn([dataset[i] for i in batch_indices])\n",
      "  File \"/home/sourabhd/installs/miniconda3/envs/py3k/lib/python3.6/site-packages/torch/utils/data/dataloader.py\", line 57, in <listcomp>\n",
      "    samples = collate_fn([dataset[i] for i in batch_indices])\n",
      "  File \"<ipython-input-22-c5ba3fc9efe3>\", line 115, in __getitem__\n",
      "    sample = self.loader(path)\n",
      "  File \"<ipython-input-22-c5ba3fc9efe3>\", line 65, in default_loader\n",
      "    return pil_loader(path)\n",
      "  File \"<ipython-input-22-c5ba3fc9efe3>\", line 46, in pil_loader\n",
      "    with open(path, 'rb') as f:\n",
      "KeyboardInterrupt\n",
      "Traceback (most recent call last):\n",
      "Traceback (most recent call last):\n",
      "  File \"/home/sourabhd/installs/miniconda3/envs/py3k/lib/python3.6/multiprocessing/process.py\", line 258, in _bootstrap\n",
      "    self.run()\n",
      "  File \"/home/sourabhd/installs/miniconda3/envs/py3k/lib/python3.6/multiprocessing/process.py\", line 93, in run\n",
      "    self._target(*self._args, **self._kwargs)\n",
      "  File \"/home/sourabhd/installs/miniconda3/envs/py3k/lib/python3.6/multiprocessing/process.py\", line 258, in _bootstrap\n",
      "    self.run()\n",
      "  File \"/home/sourabhd/installs/miniconda3/envs/py3k/lib/python3.6/multiprocessing/process.py\", line 93, in run\n",
      "    self._target(*self._args, **self._kwargs)\n",
      "  File \"/home/sourabhd/installs/miniconda3/envs/py3k/lib/python3.6/site-packages/torch/utils/data/dataloader.py\", line 52, in _worker_loop\n",
      "    r = index_queue.get()\n",
      "  File \"/home/sourabhd/installs/miniconda3/envs/py3k/lib/python3.6/multiprocessing/queues.py\", line 335, in get\n",
      "    res = self._reader.recv_bytes()\n",
      "  File \"/home/sourabhd/installs/miniconda3/envs/py3k/lib/python3.6/site-packages/torch/utils/data/dataloader.py\", line 52, in _worker_loop\n",
      "    r = index_queue.get()\n",
      "  File \"/home/sourabhd/installs/miniconda3/envs/py3k/lib/python3.6/multiprocessing/connection.py\", line 216, in recv_bytes\n",
      "    buf = self._recv_bytes(maxlength)\n",
      "  File \"/home/sourabhd/installs/miniconda3/envs/py3k/lib/python3.6/multiprocessing/connection.py\", line 407, in _recv_bytes\n",
      "    buf = self._recv(4)\n",
      "  File \"/home/sourabhd/installs/miniconda3/envs/py3k/lib/python3.6/multiprocessing/connection.py\", line 379, in _recv\n",
      "    chunk = read(handle, remaining)\n",
      "  File \"/home/sourabhd/installs/miniconda3/envs/py3k/lib/python3.6/multiprocessing/queues.py\", line 335, in get\n",
      "    res = self._reader.recv_bytes()\n",
      "  File \"/home/sourabhd/installs/miniconda3/envs/py3k/lib/python3.6/multiprocessing/connection.py\", line 216, in recv_bytes\n",
      "    buf = self._recv_bytes(maxlength)\n",
      "KeyboardInterrupt\n",
      "  File \"/home/sourabhd/installs/miniconda3/envs/py3k/lib/python3.6/multiprocessing/connection.py\", line 407, in _recv_bytes\n",
      "    buf = self._recv(4)\n",
      "  File \"/home/sourabhd/installs/miniconda3/envs/py3k/lib/python3.6/multiprocessing/connection.py\", line 379, in _recv\n",
      "    chunk = read(handle, remaining)\n",
      "KeyboardInterrupt\n",
      "Traceback (most recent call last):\n",
      "  File \"/home/sourabhd/installs/miniconda3/envs/py3k/lib/python3.6/multiprocessing/process.py\", line 258, in _bootstrap\n",
      "    self.run()\n",
      "  File \"/home/sourabhd/installs/miniconda3/envs/py3k/lib/python3.6/multiprocessing/process.py\", line 93, in run\n",
      "    self._target(*self._args, **self._kwargs)\n",
      "  File \"/home/sourabhd/installs/miniconda3/envs/py3k/lib/python3.6/site-packages/torch/utils/data/dataloader.py\", line 57, in _worker_loop\n",
      "    samples = collate_fn([dataset[i] for i in batch_indices])\n",
      "  File \"/home/sourabhd/installs/miniconda3/envs/py3k/lib/python3.6/site-packages/torch/utils/data/dataloader.py\", line 57, in <listcomp>\n",
      "    samples = collate_fn([dataset[i] for i in batch_indices])\n",
      "  File \"<ipython-input-22-c5ba3fc9efe3>\", line 115, in __getitem__\n",
      "    sample = self.loader(path)\n",
      "  File \"<ipython-input-22-c5ba3fc9efe3>\", line 65, in default_loader\n",
      "    return pil_loader(path)\n",
      "  File \"<ipython-input-22-c5ba3fc9efe3>\", line 48, in pil_loader\n",
      "    return img.convert('RGB')\n",
      "  File \"/home/sourabhd/installs/miniconda3/envs/py3k/lib/python3.6/site-packages/PIL/Image.py\", line 879, in convert\n",
      "    self.load()\n",
      "  File \"/home/sourabhd/installs/miniconda3/envs/py3k/lib/python3.6/site-packages/PIL/ImageFile.py\", line 231, in load\n",
      "    n, err_code = decoder.decode(b)\n",
      "KeyboardInterrupt\n"
     ]
    },
    {
     "ename": "KeyboardInterrupt",
     "evalue": "",
     "output_type": "error",
     "traceback": [
      "\u001b[0;31m---------------------------------------------------------------------------\u001b[0m",
      "\u001b[0;31mKeyboardInterrupt\u001b[0m                         Traceback (most recent call last)",
      "\u001b[0;32m<ipython-input-47-17a1f5551671>\u001b[0m in \u001b[0;36m<module>\u001b[0;34m()\u001b[0m\n\u001b[1;32m      9\u001b[0m \u001b[0;34m\u001b[0m\u001b[0m\n\u001b[1;32m     10\u001b[0m         \u001b[0;31m# train for one epoch\u001b[0m\u001b[0;34m\u001b[0m\u001b[0;34m\u001b[0m\u001b[0m\n\u001b[0;32m---> 11\u001b[0;31m         \u001b[0mtrain\u001b[0m\u001b[0;34m(\u001b[0m\u001b[0mtrain_loader\u001b[0m\u001b[0;34m,\u001b[0m \u001b[0mmodel\u001b[0m\u001b[0;34m,\u001b[0m \u001b[0mcriterion\u001b[0m\u001b[0;34m,\u001b[0m \u001b[0moptimizer\u001b[0m\u001b[0;34m,\u001b[0m \u001b[0mepoch\u001b[0m\u001b[0;34m)\u001b[0m\u001b[0;34m\u001b[0m\u001b[0m\n\u001b[0m\u001b[1;32m     12\u001b[0m \u001b[0;34m\u001b[0m\u001b[0m\n\u001b[1;32m     13\u001b[0m         \u001b[0;31m# evaluate on validation set\u001b[0m\u001b[0;34m\u001b[0m\u001b[0;34m\u001b[0m\u001b[0m\n",
      "\u001b[0;32m<ipython-input-45-4b2778424f50>\u001b[0m in \u001b[0;36mtrain\u001b[0;34m(train_loader, model, criterion, optimizer, epoch)\u001b[0m\n\u001b[1;32m     26\u001b[0m         \u001b[0moptimizer\u001b[0m\u001b[0;34m.\u001b[0m\u001b[0mzero_grad\u001b[0m\u001b[0;34m(\u001b[0m\u001b[0;34m)\u001b[0m\u001b[0;34m\u001b[0m\u001b[0m\n\u001b[1;32m     27\u001b[0m         \u001b[0mloss\u001b[0m\u001b[0;34m.\u001b[0m\u001b[0mbackward\u001b[0m\u001b[0;34m(\u001b[0m\u001b[0;34m)\u001b[0m\u001b[0;34m\u001b[0m\u001b[0m\n\u001b[0;32m---> 28\u001b[0;31m         \u001b[0moptimizer\u001b[0m\u001b[0;34m.\u001b[0m\u001b[0mstep\u001b[0m\u001b[0;34m(\u001b[0m\u001b[0;34m)\u001b[0m\u001b[0;34m\u001b[0m\u001b[0m\n\u001b[0m\u001b[1;32m     29\u001b[0m \u001b[0;34m\u001b[0m\u001b[0m\n\u001b[1;32m     30\u001b[0m         \u001b[0;31m# measure elapsed time\u001b[0m\u001b[0;34m\u001b[0m\u001b[0;34m\u001b[0m\u001b[0m\n",
      "\u001b[0;32m~/installs/miniconda3/envs/py3k/lib/python3.6/site-packages/torch/optim/adam.py\u001b[0m in \u001b[0;36mstep\u001b[0;34m(self, closure)\u001b[0m\n\u001b[1;32m     91\u001b[0m                 \u001b[0;31m# Decay the first and second moment running average coefficient\u001b[0m\u001b[0;34m\u001b[0m\u001b[0;34m\u001b[0m\u001b[0m\n\u001b[1;32m     92\u001b[0m                 \u001b[0mexp_avg\u001b[0m\u001b[0;34m.\u001b[0m\u001b[0mmul_\u001b[0m\u001b[0;34m(\u001b[0m\u001b[0mbeta1\u001b[0m\u001b[0;34m)\u001b[0m\u001b[0;34m.\u001b[0m\u001b[0madd_\u001b[0m\u001b[0;34m(\u001b[0m\u001b[0;36m1\u001b[0m \u001b[0;34m-\u001b[0m \u001b[0mbeta1\u001b[0m\u001b[0;34m,\u001b[0m \u001b[0mgrad\u001b[0m\u001b[0;34m)\u001b[0m\u001b[0;34m\u001b[0m\u001b[0m\n\u001b[0;32m---> 93\u001b[0;31m                 \u001b[0mexp_avg_sq\u001b[0m\u001b[0;34m.\u001b[0m\u001b[0mmul_\u001b[0m\u001b[0;34m(\u001b[0m\u001b[0mbeta2\u001b[0m\u001b[0;34m)\u001b[0m\u001b[0;34m.\u001b[0m\u001b[0maddcmul_\u001b[0m\u001b[0;34m(\u001b[0m\u001b[0;36m1\u001b[0m \u001b[0;34m-\u001b[0m \u001b[0mbeta2\u001b[0m\u001b[0;34m,\u001b[0m \u001b[0mgrad\u001b[0m\u001b[0;34m,\u001b[0m \u001b[0mgrad\u001b[0m\u001b[0;34m)\u001b[0m\u001b[0;34m\u001b[0m\u001b[0m\n\u001b[0m\u001b[1;32m     94\u001b[0m                 \u001b[0;32mif\u001b[0m \u001b[0mamsgrad\u001b[0m\u001b[0;34m:\u001b[0m\u001b[0;34m\u001b[0m\u001b[0m\n\u001b[1;32m     95\u001b[0m                     \u001b[0;31m# Maintains the maximum of all 2nd moment running avg. till now\u001b[0m\u001b[0;34m\u001b[0m\u001b[0;34m\u001b[0m\u001b[0m\n",
      "\u001b[0;31mKeyboardInterrupt\u001b[0m: "
     ]
    }
   ],
   "source": [
    "if args.evaluate:\n",
    "    validate(val_loader, model, criterion)\n",
    "else:\n",
    "    model, optimizer, scheduler, args, best_f1 = load_checkpoint(model, optimizer, scheduler, args, resume=args.resume, ckpt=args.ckpt)\n",
    "    for epoch in range(args.start_epoch, args.epochs):\n",
    "        if args.distributed:\n",
    "            train_sampler.set_epoch(epoch)\n",
    "#         adjust_learning_rate(optimizer, epoch)\n",
    "\n",
    "        # train for one epoch\n",
    "        train(train_loader, model, criterion, optimizer, epoch)\n",
    "\n",
    "        # evaluate on validation set\n",
    "        f1 = validate(val_loader, model, criterion)\n",
    "\n",
    "        # remember best f1 and save checkpoint\n",
    "        is_best = f1 > best_f1\n",
    "        best_f1 = max(f1, best_f1)\n",
    "        save_checkpoint({\n",
    "            'epoch': epoch + 1,\n",
    "            'arch': args.arch,\n",
    "            'state_dict': model.state_dict(),\n",
    "            'best_f1': best_f1,\n",
    "            'optimizer' : optimizer.state_dict(),\n",
    "           # 'scheduler' : scheduler.state_dict(),\n",
    "        }, is_best)\n",
    "        \n",
    "        adjust_learning_rate(optimizer, scheduler, epoch, f1)\n",
    "        \n"
   ]
  },
  {
   "cell_type": "markdown",
   "metadata": {
    "colab_type": "text",
    "id": "gevaiXFORuTH"
   },
   "source": [
    "# Save Results"
   ]
  },
  {
   "cell_type": "markdown",
   "metadata": {
    "colab_type": "text",
    "id": "XlL1brDNRucP"
   },
   "source": []
  },
  {
   "cell_type": "code",
   "execution_count": null,
   "metadata": {
    "colab": {
     "autoexec": {
      "startup": false,
      "wait_interval": 0
     }
    },
    "colab_type": "code",
    "id": "PT9Shf_MRhui"
   },
   "outputs": [],
   "source": []
  }
 ],
 "metadata": {
  "accelerator": "GPU",
  "colab": {
   "collapsed_sections": [],
   "default_view": {},
   "name": "TrainLoop.ipynb",
   "provenance": [],
   "version": "0.3.2",
   "views": {}
  },
  "kernelspec": {
   "display_name": "Python 3",
   "language": "python",
   "name": "python3"
  },
  "language_info": {
   "codemirror_mode": {
    "name": "ipython",
    "version": 3
   },
   "file_extension": ".py",
   "mimetype": "text/x-python",
   "name": "python",
   "nbconvert_exporter": "python",
   "pygments_lexer": "ipython3",
   "version": "3.6.5"
  }
 },
 "nbformat": 4,
 "nbformat_minor": 1
}
